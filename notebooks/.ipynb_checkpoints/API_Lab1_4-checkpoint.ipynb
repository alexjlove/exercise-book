{
 "cells": [
  {
   "cell_type": "markdown",
   "metadata": {},
   "source": [
    "# APIs Lab\n",
    "In this lab we will practice using APIs to retrieve and store data."
   ]
  },
  {
   "cell_type": "code",
   "execution_count": 1,
   "metadata": {
    "collapsed": false
   },
   "outputs": [],
   "source": [
    "# Imports at the top\n",
    "import json\n",
    "import urllib\n",
    "import pandas as pd\n",
    "import numpy as np\n",
    "import requests\n",
    "import re"
   ]
  },
  {
   "cell_type": "markdown",
   "metadata": {},
   "source": [
    "## Exercise 1: Get Data From Sheetsu\n",
    "\n",
    "[Sheetsu](https://sheetsu.com/) is an online service that allows you to access any Google spreadsheet from an API. This can be a very powerful way to share a dataset with colleagues as well as to create a mini centralized data storage, that is simpler to edit than a database.\n",
    "\n",
    "A Google Spreadsheet with Wine data can be found [here]().\n",
    "\n",
    "It can be accessed through sheetsu API at this endpoint: https://sheetsu.com/apis/v1.0/dab55afd\n",
    "\n",
    "Questions:\n",
    "\n",
    "1. Use the requests library to access the document. Inspect the response text. What kind of data is it?\n",
    "> Answer: it's a JSON string\n",
    "- Check the status code of the response object. What code is it?\n",
    "> 200\n",
    "- Use the appropriate libraries and read functions to read the response into a Pandas Dataframe\n",
    "> Possible answers include: pd.read_json and json.loads + pd.Dataframe\n",
    "- Once you've imported the data into a dataframe, check the value of the 5th line: what's the price?\n",
    "> 6"
   ]
  },
  {
   "cell_type": "code",
   "execution_count": 2,
   "metadata": {
    "collapsed": false
   },
   "outputs": [
    {
     "name": "stdout",
     "output_type": "stream",
     "text": [
      "200\n"
     ]
    }
   ],
   "source": [
    "api_url = 'https://sheetsu.com/apis/v1.0/dab55afd'\n",
    "req = requests.get(api_url)\n",
    "print req.status_code"
   ]
  },
  {
   "cell_type": "code",
   "execution_count": 3,
   "metadata": {
    "collapsed": false
   },
   "outputs": [
    {
     "data": {
      "text/plain": [
       "u'6'"
      ]
     },
     "execution_count": 3,
     "metadata": {},
     "output_type": "execute_result"
    }
   ],
   "source": [
    "data = pd.read_json(api_url)\n",
    "data.Price[4]"
   ]
  },
  {
   "cell_type": "code",
   "execution_count": 4,
   "metadata": {
    "collapsed": false
   },
   "outputs": [
    {
     "data": {
      "text/plain": [
       "{u'Color': u'W',\n",
       " u'Consumed In': u'2015',\n",
       " u'Country': u'Portugal',\n",
       " u'Grape': u'',\n",
       " u'Name': u'',\n",
       " u'Price': u'',\n",
       " u'Region': u'Portugal',\n",
       " u'Score': u'4',\n",
       " u'Vintage': u'2013',\n",
       " u'Vinyard': u'Vinho Verde'}"
      ]
     },
     "execution_count": 4,
     "metadata": {},
     "output_type": "execute_result"
    }
   ],
   "source": [
    "response = json.loads(req.text)\n",
    "response[0]"
   ]
  },
  {
   "cell_type": "markdown",
   "metadata": {},
   "source": [
    "### Exercise 2: Post Data to Sheetsu\n",
    "Now that we've learned how to read data, it'd be great if we could also write data. For this we will need to use a _POST_ request.\n",
    "\n",
    "1. Use the post command to add the following data to the spreadsheet:"
   ]
  },
  {
   "cell_type": "code",
   "execution_count": 5,
   "metadata": {
    "collapsed": true
   },
   "outputs": [],
   "source": [
    "post_data = {\n",
    "'Grape' : ''\n",
    ", 'Name' : 'My wonderful wine'\n",
    ", 'Color' : 'R'\n",
    ", 'Country' : 'US'\n",
    ", 'Region' : 'Sonoma'\n",
    ", 'Vinyard' : ''\n",
    ", 'Score' : '10'\n",
    ", 'Consumed In' : '2015'\n",
    ", 'Vintage' : '1973'\n",
    ", 'Price' : '200'\n",
    "}"
   ]
  },
  {
   "cell_type": "code",
   "execution_count": 6,
   "metadata": {
    "collapsed": false
   },
   "outputs": [
    {
     "data": {
      "text/plain": [
       "<Response [201]>"
      ]
     },
     "execution_count": 6,
     "metadata": {},
     "output_type": "execute_result"
    }
   ],
   "source": [
    "requests.post(api_url, data=post_data)"
   ]
  },
  {
   "cell_type": "markdown",
   "metadata": {},
   "source": [
    "1. What status did you get? How can you check that you actually added the data correctly?\n",
    "- In this exercise, your classmates are adding data to the same spreadsheet. What happens because of this? Is it a problem? How could you mitigate it?"
   ]
  },
  {
   "cell_type": "code",
   "execution_count": null,
   "metadata": {
    "collapsed": false
   },
   "outputs": [],
   "source": []
  },
  {
   "cell_type": "markdown",
   "metadata": {},
   "source": [
    "## Exercise 3: Data munging\n",
    "\n",
    "Get back to the dataframe you've created in the beginning. Let's do some data munging:\n",
    "\n",
    "1. Search for missing data\n",
    "    - Is there any missing data? How do you deal with it?\n",
    "    - Is there any data you can just remove?\n",
    "- Summarize the data \n",
    "    - Try using describe, min, max, mean, var"
   ]
  },
  {
   "cell_type": "code",
   "execution_count": 7,
   "metadata": {
    "collapsed": false
   },
   "outputs": [],
   "source": [
    "data = data.replace('', np.nan)"
   ]
  },
  {
   "cell_type": "code",
   "execution_count": 8,
   "metadata": {
    "collapsed": false
   },
   "outputs": [
    {
     "data": {
      "text/html": [
       "<div>\n",
       "<table border=\"1\" class=\"dataframe\">\n",
       "  <thead>\n",
       "    <tr style=\"text-align: right;\">\n",
       "      <th></th>\n",
       "      <th>Color</th>\n",
       "      <th>Consumed In</th>\n",
       "      <th>Country</th>\n",
       "      <th>Grape</th>\n",
       "      <th>Name</th>\n",
       "      <th>Price</th>\n",
       "      <th>Region</th>\n",
       "      <th>Score</th>\n",
       "      <th>Vintage</th>\n",
       "      <th>Vinyard</th>\n",
       "    </tr>\n",
       "  </thead>\n",
       "  <tbody>\n",
       "    <tr>\n",
       "      <th>0</th>\n",
       "      <td>W</td>\n",
       "      <td>2015</td>\n",
       "      <td>Portugal</td>\n",
       "      <td>NaN</td>\n",
       "      <td>NaN</td>\n",
       "      <td>NaN</td>\n",
       "      <td>Portugal</td>\n",
       "      <td>4</td>\n",
       "      <td>2013</td>\n",
       "      <td>Vinho Verde</td>\n",
       "    </tr>\n",
       "    <tr>\n",
       "      <th>1</th>\n",
       "      <td>W</td>\n",
       "      <td>2015</td>\n",
       "      <td>France</td>\n",
       "      <td>NaN</td>\n",
       "      <td>NaN</td>\n",
       "      <td>17.8</td>\n",
       "      <td>France</td>\n",
       "      <td>3</td>\n",
       "      <td>2013</td>\n",
       "      <td>Peyruchet</td>\n",
       "    </tr>\n",
       "  </tbody>\n",
       "</table>\n",
       "</div>"
      ],
      "text/plain": [
       "  Color Consumed In   Country Grape Name Price    Region Score Vintage  \\\n",
       "0     W        2015  Portugal   NaN  NaN   NaN  Portugal     4    2013   \n",
       "1     W        2015    France   NaN  NaN  17.8    France     3    2013   \n",
       "\n",
       "       Vinyard  \n",
       "0  Vinho Verde  \n",
       "1    Peyruchet  "
      ]
     },
     "execution_count": 8,
     "metadata": {},
     "output_type": "execute_result"
    }
   ],
   "source": [
    "data.head(2)"
   ]
  },
  {
   "cell_type": "code",
   "execution_count": 9,
   "metadata": {
    "collapsed": false
   },
   "outputs": [
    {
     "name": "stdout",
     "output_type": "stream",
     "text": [
      "<class 'pandas.core.frame.DataFrame'>\n",
      "Int64Index: 189 entries, 0 to 188\n",
      "Data columns (total 10 columns):\n",
      "Color          189 non-null object\n",
      "Consumed In    189 non-null object\n",
      "Country        187 non-null object\n",
      "Grape          23 non-null object\n",
      "Name           180 non-null object\n",
      "Price          183 non-null object\n",
      "Region         188 non-null object\n",
      "Score          188 non-null object\n",
      "Vintage        189 non-null object\n",
      "Vinyard        36 non-null object\n",
      "dtypes: object(10)\n",
      "memory usage: 16.2+ KB\n"
     ]
    }
   ],
   "source": [
    "data.info()"
   ]
  },
  {
   "cell_type": "code",
   "execution_count": 10,
   "metadata": {
    "collapsed": false
   },
   "outputs": [
    {
     "data": {
      "text/html": [
       "<div>\n",
       "<table border=\"1\" class=\"dataframe\">\n",
       "  <thead>\n",
       "    <tr style=\"text-align: right;\">\n",
       "      <th></th>\n",
       "      <th>Color</th>\n",
       "      <th>Consumed In</th>\n",
       "      <th>Country</th>\n",
       "      <th>Grape</th>\n",
       "      <th>Name</th>\n",
       "      <th>Price</th>\n",
       "      <th>Region</th>\n",
       "      <th>Score</th>\n",
       "      <th>Vintage</th>\n",
       "      <th>Vinyard</th>\n",
       "    </tr>\n",
       "  </thead>\n",
       "  <tbody>\n",
       "    <tr>\n",
       "      <th>count</th>\n",
       "      <td>189</td>\n",
       "      <td>189</td>\n",
       "      <td>187</td>\n",
       "      <td>23</td>\n",
       "      <td>180</td>\n",
       "      <td>183</td>\n",
       "      <td>188</td>\n",
       "      <td>188</td>\n",
       "      <td>189</td>\n",
       "      <td>36</td>\n",
       "    </tr>\n",
       "    <tr>\n",
       "      <th>unique</th>\n",
       "      <td>5</td>\n",
       "      <td>12</td>\n",
       "      <td>9</td>\n",
       "      <td>17</td>\n",
       "      <td>44</td>\n",
       "      <td>23</td>\n",
       "      <td>23</td>\n",
       "      <td>11</td>\n",
       "      <td>12</td>\n",
       "      <td>31</td>\n",
       "    </tr>\n",
       "    <tr>\n",
       "      <th>top</th>\n",
       "      <td>R</td>\n",
       "      <td>2015</td>\n",
       "      <td>US</td>\n",
       "      <td>sauvignon blanc</td>\n",
       "      <td>My wonderful wine</td>\n",
       "      <td>200</td>\n",
       "      <td>Sonoma</td>\n",
       "      <td>10</td>\n",
       "      <td>1973</td>\n",
       "      <td>Top of the line wine</td>\n",
       "    </tr>\n",
       "    <tr>\n",
       "      <th>freq</th>\n",
       "      <td>169</td>\n",
       "      <td>165</td>\n",
       "      <td>167</td>\n",
       "      <td>4</td>\n",
       "      <td>121</td>\n",
       "      <td>151</td>\n",
       "      <td>150</td>\n",
       "      <td>153</td>\n",
       "      <td>148</td>\n",
       "      <td>3</td>\n",
       "    </tr>\n",
       "  </tbody>\n",
       "</table>\n",
       "</div>"
      ],
      "text/plain": [
       "       Color Consumed In Country            Grape               Name Price  \\\n",
       "count    189         189     187               23                180   183   \n",
       "unique     5          12       9               17                 44    23   \n",
       "top        R        2015      US  sauvignon blanc  My wonderful wine   200   \n",
       "freq     169         165     167                4                121   151   \n",
       "\n",
       "        Region Score Vintage               Vinyard  \n",
       "count      188   188     189                    36  \n",
       "unique      23    11      12                    31  \n",
       "top     Sonoma    10    1973  Top of the line wine  \n",
       "freq       150   153     148                     3  "
      ]
     },
     "execution_count": 10,
     "metadata": {},
     "output_type": "execute_result"
    }
   ],
   "source": [
    "data.describe()"
   ]
  },
  {
   "cell_type": "markdown",
   "metadata": {},
   "source": [
    "## Exercise 4: IMDB Movies\n",
    "\n",
    "Sometimes an API doesn't provide all the information we would like to get and we need to be creative.\n",
    "Here we will use a combination of scraping and API calls to investigate the ratings and gross earnings of famous movies."
   ]
  },
  {
   "cell_type": "markdown",
   "metadata": {
    "collapsed": true
   },
   "source": [
    "## 4.a Get top movies\n",
    "\n",
    "The Internet Movie Database contains data about movies. Unfortunately it does not have a public API.\n",
    "\n",
    "The page http://www.imdb.com/chart/top contains the list of the top 250 movies of all times. Retrieve the page using the requests library and then parse the html to obtain a list of the `movie_ids` for these movies. You can parse it with regular expression or using a library like `BeautifulSoup`.\n",
    "\n",
    "**Hint:** movie_ids look like this: `tt2582802`"
   ]
  },
  {
   "cell_type": "code",
   "execution_count": 14,
   "metadata": {
    "collapsed": false
   },
   "outputs": [],
   "source": [
    "import bs4\n",
    "url = 'http://www.imdb.com/chart/top'\n",
    "respon = requests.get(url)\n",
    "#bs = bs4.BeautifulSoup(respon.text, 'html')\n",
    "entries = re.findall(\"<a href.*?/title/(.*?)/\", respon.text)\n",
    "entries = list(set(entries))\n"
   ]
  },
  {
   "cell_type": "code",
   "execution_count": 15,
   "metadata": {
    "collapsed": false
   },
   "outputs": [
    {
     "data": {
      "text/plain": [
       "250"
      ]
     },
     "execution_count": 15,
     "metadata": {},
     "output_type": "execute_result"
    }
   ],
   "source": [
    "len(entries)"
   ]
  },
  {
   "cell_type": "code",
   "execution_count": 16,
   "metadata": {
    "collapsed": false,
    "scrolled": true
   },
   "outputs": [
    {
     "data": {
      "text/plain": [
       "[u'tt2582802',\n",
       " u'tt0047478',\n",
       " u'tt0082971',\n",
       " u'tt0050212',\n",
       " u'tt0848228',\n",
       " u'tt1663202',\n",
       " u'tt0338564',\n",
       " u'tt0046268',\n",
       " u'tt0055630',\n",
       " u'tt0266543',\n",
       " u'tt0042192',\n",
       " u'tt0198781',\n",
       " u'tt1979320',\n",
       " u'tt0405159',\n",
       " u'tt0057115',\n",
       " u'tt0253474',\n",
       " u'tt0071315',\n",
       " u'tt0114746',\n",
       " u'tt0363163',\n",
       " u'tt0119217',\n",
       " u'tt1865505',\n",
       " u'tt0074896',\n",
       " u'tt1895587',\n",
       " u'tt0347149',\n",
       " u'tt0021749',\n",
       " u'tt0119488',\n",
       " u'tt1187043',\n",
       " u'tt0050613',\n",
       " u'tt0053125',\n",
       " u'tt0268978',\n",
       " u'tt0112471',\n",
       " u'tt2084970',\n",
       " u'tt1220719',\n",
       " u'tt0025316',\n",
       " u'tt2015381',\n",
       " u'tt0118849',\n",
       " u'tt0083922',\n",
       " u'tt0088247',\n",
       " u'tt0468569',\n",
       " u'tt0087843',\n",
       " u'tt0072684',\n",
       " u'tt2024544',\n",
       " u'tt0074958',\n",
       " u'tt0325980',\n",
       " u'tt0052618',\n",
       " u'tt0364569',\n",
       " u'tt0081398',\n",
       " u'tt0036775',\n",
       " u'tt0120382',\n",
       " u'tt0110357',\n",
       " u'tt0079470',\n",
       " u'tt0071853',\n",
       " u'tt0095765',\n",
       " u'tt0075148',\n",
       " u'tt0978762',\n",
       " u'tt1255953',\n",
       " u'tt0036868',\n",
       " u'tt0080678',\n",
       " u'tt0093779',\n",
       " u'tt0108052',\n",
       " u'tt0056592',\n",
       " u'tt0088763',\n",
       " u'tt0095327',\n",
       " u'tt0482571',\n",
       " u'tt0053291',\n",
       " u'tt0245712',\n",
       " u'tt0407887',\n",
       " u'tt0044741',\n",
       " u'tt1130884',\n",
       " u'tt1201607',\n",
       " u'tt0120586',\n",
       " u'tt0114814',\n",
       " u'tt0046438',\n",
       " u'tt0107048',\n",
       " u'tt0015864',\n",
       " u'tt0107207',\n",
       " u'tt0045152',\n",
       " u'tt2948356',\n",
       " u'tt0167261',\n",
       " u'tt0167260',\n",
       " u'tt0095016',\n",
       " u'tt0046911',\n",
       " u'tt0172495',\n",
       " u'tt0050986',\n",
       " u'tt0046912',\n",
       " u'tt0091251',\n",
       " u'tt0993846',\n",
       " u'tt0078748',\n",
       " u'tt2106476',\n",
       " u'tt0012349',\n",
       " u'tt0372784',\n",
       " u'tt0101414',\n",
       " u'tt0113247',\n",
       " u'tt0107290',\n",
       " u'tt0469494',\n",
       " u'tt0070735',\n",
       " u'tt0032553',\n",
       " u'tt0032551',\n",
       " u'tt0052357',\n",
       " u'tt0361748',\n",
       " u'tt0440963',\n",
       " u'tt0435761',\n",
       " u'tt0317248',\n",
       " u'tt1049413',\n",
       " u'tt0060827',\n",
       " u'tt0266697',\n",
       " u'tt0264464',\n",
       " u'tt0211915',\n",
       " u'tt0031679',\n",
       " u'tt0080684',\n",
       " u'tt0892769',\n",
       " u'tt0401792',\n",
       " u'tt3659388',\n",
       " u'tt0056172',\n",
       " u'tt0102926',\n",
       " u'tt0053198',\n",
       " u'tt1853728',\n",
       " u'tt0032138',\n",
       " u'tt2096673',\n",
       " u'tt0050825',\n",
       " u'tt0042876',\n",
       " u'tt0083987',\n",
       " u'tt0245429',\n",
       " u'tt0086190',\n",
       " u'tt1832382',\n",
       " u'tt0044079',\n",
       " u'tt0041546',\n",
       " u'tt0180093',\n",
       " u'tt0114369',\n",
       " u'tt0133093',\n",
       " u'tt0091763',\n",
       " u'tt0246578',\n",
       " u'tt0167404',\n",
       " u'tt0092067',\n",
       " u'tt0090605',\n",
       " u'tt0120737',\n",
       " u'tt0120735',\n",
       " u'tt1205489',\n",
       " u'tt1954470',\n",
       " u'tt1305806',\n",
       " u'tt0083658',\n",
       " u'tt0110413',\n",
       " u'tt0058461',\n",
       " u'tt0119698',\n",
       " u'tt0068646',\n",
       " u'tt1392190',\n",
       " u'tt0120689',\n",
       " u'tt0057012',\n",
       " u'tt0096283',\n",
       " u'tt0086879',\n",
       " u'tt0064116',\n",
       " u'tt0114709',\n",
       " u'tt1431045',\n",
       " u'tt0022100',\n",
       " u'tt3011894',\n",
       " u'tt0105236',\n",
       " u'tt0081505',\n",
       " u'tt0038650',\n",
       " u'tt0041959',\n",
       " u'tt0034583',\n",
       " u'tt1345836',\n",
       " u'tt2488496',\n",
       " u'tt0058946',\n",
       " u'tt0054215',\n",
       " u'tt0816692',\n",
       " u'tt0046250',\n",
       " u'tt0078788',\n",
       " u'tt2267998',\n",
       " u'tt0033870',\n",
       " u'tt0112573',\n",
       " u'tt3170832',\n",
       " u'tt0097576',\n",
       " u'tt0040897',\n",
       " u'tt0062622',\n",
       " u'tt1291584',\n",
       " u'tt0019254',\n",
       " u'tt0066921',\n",
       " u'tt0061512',\n",
       " u'tt0033467',\n",
       " u'tt0050783',\n",
       " u'tt0169102',\n",
       " u'tt0017925',\n",
       " u'tt0137523',\n",
       " u'tt0405094',\n",
       " u'tt1504320',\n",
       " u'tt0064115',\n",
       " u'tt0055031',\n",
       " u'tt0084787',\n",
       " u'tt0087544',\n",
       " u'tt0113277',\n",
       " u'tt0105695',\n",
       " u'tt0353969',\n",
       " u'tt0050083',\n",
       " u'tt0758758',\n",
       " u'tt0110912',\n",
       " u'tt0018455',\n",
       " u'tt1675434',\n",
       " u'tt0082096',\n",
       " u'tt0434409',\n",
       " u'tt0117951',\n",
       " u'tt0077416',\n",
       " u'tt0910970',\n",
       " u'tt0027977',\n",
       " u'tt0338013',\n",
       " u'tt2278388',\n",
       " u'tt1454029',\n",
       " u'tt0099685',\n",
       " u'tt0457430',\n",
       " u'tt0060196',\n",
       " u'tt0112641',\n",
       " u'tt0050976',\n",
       " u'tt0092005',\n",
       " u'tt0017136',\n",
       " u'tt0111161',\n",
       " u'tt0040522',\n",
       " u'tt0071562',\n",
       " u'tt0118715',\n",
       " u'tt0052311',\n",
       " u'tt0116282',\n",
       " u'tt0047396',\n",
       " u'tt0043014',\n",
       " u'tt0079944',\n",
       " u'tt0093058',\n",
       " u'tt0053604',\n",
       " u'tt0109830',\n",
       " u'tt0118799',\n",
       " u'tt0073195',\n",
       " u'tt0169547',\n",
       " u'tt1392214',\n",
       " u'tt0051201',\n",
       " u'tt0075686',\n",
       " u'tt0032976',\n",
       " u'tt1375666',\n",
       " u'tt0059578',\n",
       " u'tt0072890',\n",
       " u'tt0076759',\n",
       " u'tt0103064',\n",
       " u'tt0056801',\n",
       " u'tt0395169',\n",
       " u'tt0031381',\n",
       " u'tt0477348',\n",
       " u'tt0047296',\n",
       " u'tt1028532',\n",
       " u'tt0120815',\n",
       " u'tt0086250',\n",
       " u'tt0073486',\n",
       " u'tt0209144',\n",
       " u'tt0208092',\n",
       " u'tt0089881',\n",
       " u'tt0075314']"
      ]
     },
     "execution_count": 16,
     "metadata": {},
     "output_type": "execute_result"
    }
   ],
   "source": [
    "entries"
   ]
  },
  {
   "cell_type": "markdown",
   "metadata": {},
   "source": [
    "## 4.b Get top movies data\n",
    "\n",
    "Although the Internet Movie Database does not have a public API, an open API exists at http://www.omdbapi.com.\n",
    "\n",
    "Use this API to retrieve information about each of the 250 movies you have extracted in the previous step.\n",
    "- Check the documentation of omdbapi.com to learn how to request movie data by id\n",
    "- Define a function that returns a python object with all the information for a given id\n",
    "- Iterate on all the IDs and store the results in a list of such objects\n",
    "- Create a Pandas Dataframe from the list"
   ]
  },
  {
   "cell_type": "code",
   "execution_count": 17,
   "metadata": {
    "collapsed": false
   },
   "outputs": [],
   "source": [
    "def get_entry(entry):\n",
    "    res = requests.get('http://www.omdbapi.com/?i=' + entry)\n",
    "    if res.status_code != 200:\n",
    "        print entry, res.status_code\n",
    "    else:\n",
    "        print '.',\n",
    "    try:\n",
    "        j = json.loads(res.text)\n",
    "    except ValueError:\n",
    "        j = None\n",
    "    return j"
   ]
  },
  {
   "cell_type": "code",
   "execution_count": 18,
   "metadata": {
    "collapsed": false
   },
   "outputs": [
    {
     "name": "stdout",
     "output_type": "stream",
     "text": [
      ". . . . . . . . . . . . . . . . . . . . . . . . . . . . . . . . . . . . . . . . . . . . . . . . . . . . . . . . . . . . . . . . . . . . . . . . . . . . . . . . . . . . . . . . . . . . . . . . . . . . . . . . . . . . . . . . . . . . . . . . . . . . . . . . . . . . . . . . . . . . . . . . . . . . . . . . . . . . . . . . . . . . . . . . . . . . . . . . . . . . . . . . . . . . . . . . . . . . . . . . . . . . . . . . . . . . . . . . . . . . . . . . . . . . . . . . . . . . . . . . . . . . . . . . . .\n"
     ]
    }
   ],
   "source": [
    "entries_dict_list = [get_entry(e) for e in entries]"
   ]
  },
  {
   "cell_type": "code",
   "execution_count": 19,
   "metadata": {
    "collapsed": false
   },
   "outputs": [
    {
     "data": {
      "text/plain": [
       "250"
      ]
     },
     "execution_count": 19,
     "metadata": {},
     "output_type": "execute_result"
    }
   ],
   "source": [
    "len(entries_dict_list)"
   ]
  },
  {
   "cell_type": "code",
   "execution_count": 20,
   "metadata": {
    "collapsed": true
   },
   "outputs": [],
   "source": [
    "df = pd.DataFrame(entries_dict_list)"
   ]
  },
  {
   "cell_type": "code",
   "execution_count": 26,
   "metadata": {
    "collapsed": false
   },
   "outputs": [
    {
     "data": {
      "text/html": [
       "<div>\n",
       "<table border=\"1\" class=\"dataframe\">\n",
       "  <thead>\n",
       "    <tr style=\"text-align: right;\">\n",
       "      <th></th>\n",
       "      <th>Actors</th>\n",
       "      <th>Awards</th>\n",
       "      <th>Country</th>\n",
       "      <th>Director</th>\n",
       "      <th>Genre</th>\n",
       "      <th>Language</th>\n",
       "      <th>Metascore</th>\n",
       "      <th>Plot</th>\n",
       "      <th>Poster</th>\n",
       "      <th>Rated</th>\n",
       "      <th>Released</th>\n",
       "      <th>Response</th>\n",
       "      <th>Runtime</th>\n",
       "      <th>Title</th>\n",
       "      <th>Type</th>\n",
       "      <th>Writer</th>\n",
       "      <th>Year</th>\n",
       "      <th>imdbID</th>\n",
       "      <th>imdbRating</th>\n",
       "      <th>imdbVotes</th>\n",
       "    </tr>\n",
       "  </thead>\n",
       "  <tbody>\n",
       "    <tr>\n",
       "      <th>0</th>\n",
       "      <td>Miles Teller, J.K. Simmons, Paul Reiser, Melis...</td>\n",
       "      <td>Won 3 Oscars. Another 87 wins &amp; 131 nominations.</td>\n",
       "      <td>USA</td>\n",
       "      <td>Damien Chazelle</td>\n",
       "      <td>Drama, Music</td>\n",
       "      <td>English</td>\n",
       "      <td>88</td>\n",
       "      <td>A promising young drummer enrolls at a cut-thr...</td>\n",
       "      <td>https://images-na.ssl-images-amazon.com/images...</td>\n",
       "      <td>R</td>\n",
       "      <td>15 Oct 2014</td>\n",
       "      <td>True</td>\n",
       "      <td>107 min</td>\n",
       "      <td>Whiplash</td>\n",
       "      <td>movie</td>\n",
       "      <td>Damien Chazelle</td>\n",
       "      <td>2014</td>\n",
       "      <td>tt2582802</td>\n",
       "      <td>8.5</td>\n",
       "      <td>413,720</td>\n",
       "    </tr>\n",
       "    <tr>\n",
       "      <th>1</th>\n",
       "      <td>Toshirô Mifune, Takashi Shimura, Keiko Tsushim...</td>\n",
       "      <td>Nominated for 2 Oscars. Another 5 wins &amp; 6 nom...</td>\n",
       "      <td>Japan</td>\n",
       "      <td>Akira Kurosawa</td>\n",
       "      <td>Action, Adventure, Drama</td>\n",
       "      <td>Japanese</td>\n",
       "      <td>98</td>\n",
       "      <td>A poor village under attack by bandits recruit...</td>\n",
       "      <td>https://images-na.ssl-images-amazon.com/images...</td>\n",
       "      <td>UNRATED</td>\n",
       "      <td>19 Nov 1956</td>\n",
       "      <td>True</td>\n",
       "      <td>207 min</td>\n",
       "      <td>Seven Samurai</td>\n",
       "      <td>movie</td>\n",
       "      <td>Akira Kurosawa (screenplay), Shinobu Hashimoto...</td>\n",
       "      <td>1954</td>\n",
       "      <td>tt0047478</td>\n",
       "      <td>8.7</td>\n",
       "      <td>232,249</td>\n",
       "    </tr>\n",
       "    <tr>\n",
       "      <th>2</th>\n",
       "      <td>Harrison Ford, Karen Allen, Paul Freeman, Rona...</td>\n",
       "      <td>Won 4 Oscars. Another 30 wins &amp; 23 nominations.</td>\n",
       "      <td>USA</td>\n",
       "      <td>Steven Spielberg</td>\n",
       "      <td>Action, Adventure</td>\n",
       "      <td>English, German, Hebrew, Spanish, Arabic, Nepali</td>\n",
       "      <td>85</td>\n",
       "      <td>Archaeologist and adventurer Indiana Jones is ...</td>\n",
       "      <td>http://ia.media-imdb.com/images/M/MV5BMjA0ODEz...</td>\n",
       "      <td>PG</td>\n",
       "      <td>12 Jun 1981</td>\n",
       "      <td>True</td>\n",
       "      <td>115 min</td>\n",
       "      <td>Raiders of the Lost Ark</td>\n",
       "      <td>movie</td>\n",
       "      <td>Lawrence Kasdan (screenplay), George Lucas (st...</td>\n",
       "      <td>1981</td>\n",
       "      <td>tt0082971</td>\n",
       "      <td>8.5</td>\n",
       "      <td>665,774</td>\n",
       "    </tr>\n",
       "    <tr>\n",
       "      <th>3</th>\n",
       "      <td>William Holden, Alec Guinness, Jack Hawkins, S...</td>\n",
       "      <td>Won 7 Oscars. Another 23 wins &amp; 7 nominations.</td>\n",
       "      <td>UK, USA</td>\n",
       "      <td>David Lean</td>\n",
       "      <td>Adventure, Drama, War</td>\n",
       "      <td>English, Japanese, Thai</td>\n",
       "      <td>N/A</td>\n",
       "      <td>After settling his differences with a Japanese...</td>\n",
       "      <td>https://images-na.ssl-images-amazon.com/images...</td>\n",
       "      <td>PG</td>\n",
       "      <td>14 Dec 1957</td>\n",
       "      <td>True</td>\n",
       "      <td>161 min</td>\n",
       "      <td>The Bridge on the River Kwai</td>\n",
       "      <td>movie</td>\n",
       "      <td>Pierre Boulle (novel), Carl Foreman (screenpla...</td>\n",
       "      <td>1957</td>\n",
       "      <td>tt0050212</td>\n",
       "      <td>8.2</td>\n",
       "      <td>151,604</td>\n",
       "    </tr>\n",
       "    <tr>\n",
       "      <th>4</th>\n",
       "      <td>Robert Downey Jr., Chris Evans, Mark Ruffalo, ...</td>\n",
       "      <td>Nominated for 1 Oscar. Another 34 wins &amp; 75 no...</td>\n",
       "      <td>USA</td>\n",
       "      <td>Joss Whedon</td>\n",
       "      <td>Action, Sci-Fi, Thriller</td>\n",
       "      <td>English, Russian</td>\n",
       "      <td>69</td>\n",
       "      <td>Earth's mightiest heroes must come together an...</td>\n",
       "      <td>http://ia.media-imdb.com/images/M/MV5BMTk2NTI1...</td>\n",
       "      <td>PG-13</td>\n",
       "      <td>04 May 2012</td>\n",
       "      <td>True</td>\n",
       "      <td>143 min</td>\n",
       "      <td>The Avengers</td>\n",
       "      <td>movie</td>\n",
       "      <td>Joss Whedon (screenplay), Zak Penn (story), Jo...</td>\n",
       "      <td>2012</td>\n",
       "      <td>tt0848228</td>\n",
       "      <td>8.1</td>\n",
       "      <td>1,003,301</td>\n",
       "    </tr>\n",
       "  </tbody>\n",
       "</table>\n",
       "</div>"
      ],
      "text/plain": [
       "                                              Actors  \\\n",
       "0  Miles Teller, J.K. Simmons, Paul Reiser, Melis...   \n",
       "1  Toshirô Mifune, Takashi Shimura, Keiko Tsushim...   \n",
       "2  Harrison Ford, Karen Allen, Paul Freeman, Rona...   \n",
       "3  William Holden, Alec Guinness, Jack Hawkins, S...   \n",
       "4  Robert Downey Jr., Chris Evans, Mark Ruffalo, ...   \n",
       "\n",
       "                                              Awards  Country  \\\n",
       "0   Won 3 Oscars. Another 87 wins & 131 nominations.      USA   \n",
       "1  Nominated for 2 Oscars. Another 5 wins & 6 nom...    Japan   \n",
       "2    Won 4 Oscars. Another 30 wins & 23 nominations.      USA   \n",
       "3     Won 7 Oscars. Another 23 wins & 7 nominations.  UK, USA   \n",
       "4  Nominated for 1 Oscar. Another 34 wins & 75 no...      USA   \n",
       "\n",
       "           Director                     Genre  \\\n",
       "0   Damien Chazelle              Drama, Music   \n",
       "1    Akira Kurosawa  Action, Adventure, Drama   \n",
       "2  Steven Spielberg         Action, Adventure   \n",
       "3        David Lean     Adventure, Drama, War   \n",
       "4       Joss Whedon  Action, Sci-Fi, Thriller   \n",
       "\n",
       "                                           Language Metascore  \\\n",
       "0                                           English        88   \n",
       "1                                          Japanese        98   \n",
       "2  English, German, Hebrew, Spanish, Arabic, Nepali        85   \n",
       "3                           English, Japanese, Thai       N/A   \n",
       "4                                  English, Russian        69   \n",
       "\n",
       "                                                Plot  \\\n",
       "0  A promising young drummer enrolls at a cut-thr...   \n",
       "1  A poor village under attack by bandits recruit...   \n",
       "2  Archaeologist and adventurer Indiana Jones is ...   \n",
       "3  After settling his differences with a Japanese...   \n",
       "4  Earth's mightiest heroes must come together an...   \n",
       "\n",
       "                                              Poster    Rated     Released  \\\n",
       "0  https://images-na.ssl-images-amazon.com/images...        R  15 Oct 2014   \n",
       "1  https://images-na.ssl-images-amazon.com/images...  UNRATED  19 Nov 1956   \n",
       "2  http://ia.media-imdb.com/images/M/MV5BMjA0ODEz...       PG  12 Jun 1981   \n",
       "3  https://images-na.ssl-images-amazon.com/images...       PG  14 Dec 1957   \n",
       "4  http://ia.media-imdb.com/images/M/MV5BMTk2NTI1...    PG-13  04 May 2012   \n",
       "\n",
       "  Response  Runtime                         Title   Type  \\\n",
       "0     True  107 min                      Whiplash  movie   \n",
       "1     True  207 min                 Seven Samurai  movie   \n",
       "2     True  115 min       Raiders of the Lost Ark  movie   \n",
       "3     True  161 min  The Bridge on the River Kwai  movie   \n",
       "4     True  143 min                  The Avengers  movie   \n",
       "\n",
       "                                              Writer  Year     imdbID  \\\n",
       "0                                    Damien Chazelle  2014  tt2582802   \n",
       "1  Akira Kurosawa (screenplay), Shinobu Hashimoto...  1954  tt0047478   \n",
       "2  Lawrence Kasdan (screenplay), George Lucas (st...  1981  tt0082971   \n",
       "3  Pierre Boulle (novel), Carl Foreman (screenpla...  1957  tt0050212   \n",
       "4  Joss Whedon (screenplay), Zak Penn (story), Jo...  2012  tt0848228   \n",
       "\n",
       "  imdbRating  imdbVotes  \n",
       "0        8.5    413,720  \n",
       "1        8.7    232,249  \n",
       "2        8.5    665,774  \n",
       "3        8.2    151,604  \n",
       "4        8.1  1,003,301  "
      ]
     },
     "execution_count": 26,
     "metadata": {},
     "output_type": "execute_result"
    }
   ],
   "source": [
    "df.head(5)"
   ]
  },
  {
   "cell_type": "markdown",
   "metadata": {},
   "source": [
    "## 4.c Data munging\n",
    "\n",
    "- Now that you have movie information and gross revenue information, let's clean the two datasets.\n",
    "- Check if there are null values. Be careful they may appear to be valid strings.\n",
    "- Convert the columns to the appropriate formats. In particular handle:\n",
    "    - Released\n",
    "    - Runtime\n",
    "    - year\n",
    "    - imdbRating\n",
    "    - imdbVotes\n",
    "- Merge the data from the two datasets into a single one"
   ]
  },
  {
   "cell_type": "code",
   "execution_count": 27,
   "metadata": {
    "collapsed": false
   },
   "outputs": [
    {
     "name": "stdout",
     "output_type": "stream",
     "text": [
      "<class 'pandas.core.frame.DataFrame'>\n",
      "RangeIndex: 250 entries, 0 to 249\n",
      "Data columns (total 20 columns):\n",
      "Actors        250 non-null object\n",
      "Awards        246 non-null object\n",
      "Country       250 non-null object\n",
      "Director      250 non-null object\n",
      "Genre         250 non-null object\n",
      "Language      249 non-null object\n",
      "Metascore     168 non-null object\n",
      "Plot          250 non-null object\n",
      "Poster        244 non-null object\n",
      "Rated         249 non-null object\n",
      "Released      249 non-null object\n",
      "Response      250 non-null object\n",
      "Runtime       250 non-null object\n",
      "Title         250 non-null object\n",
      "Type          250 non-null object\n",
      "Writer        250 non-null object\n",
      "Year          250 non-null object\n",
      "imdbID        250 non-null object\n",
      "imdbRating    250 non-null object\n",
      "imdbVotes     250 non-null object\n",
      "dtypes: object(20)\n",
      "memory usage: 39.1+ KB\n"
     ]
    }
   ],
   "source": [
    "df = df.replace('N/A', np.nan)\n",
    "df.info()"
   ]
  },
  {
   "cell_type": "code",
   "execution_count": 28,
   "metadata": {
    "collapsed": false
   },
   "outputs": [],
   "source": [
    "df.Released = pd.to_datetime(df.Released)"
   ]
  },
  {
   "cell_type": "code",
   "execution_count": 33,
   "metadata": {
    "collapsed": false
   },
   "outputs": [],
   "source": [
    "def no_min(x):\n",
    "    y = x.replace('min', '').strip()\n",
    "    return int(y)\n",
    "df.Runtime = df.Runtime.apply(no_min)"
   ]
  },
  {
   "cell_type": "code",
   "execution_count": 38,
   "metadata": {
    "collapsed": false
   },
   "outputs": [],
   "source": [
    "df.Year = df.Year.astype(int)\n",
    "df.imdbRating = df.imdbRating.astype(float)"
   ]
  },
  {
   "cell_type": "code",
   "execution_count": 39,
   "metadata": {
    "collapsed": true
   },
   "outputs": [],
   "source": [
    "def no_comma(x):\n",
    "    y = x.replace(',', '').strip()\n",
    "    return int(y)\n",
    "df.imdbVotes = df.imdbVotes.apply(no_comma)"
   ]
  },
  {
   "cell_type": "code",
   "execution_count": 40,
   "metadata": {
    "collapsed": false
   },
   "outputs": [
    {
     "name": "stdout",
     "output_type": "stream",
     "text": [
      "<class 'pandas.core.frame.DataFrame'>\n",
      "RangeIndex: 250 entries, 0 to 249\n",
      "Data columns (total 20 columns):\n",
      "Actors        250 non-null object\n",
      "Awards        246 non-null object\n",
      "Country       250 non-null object\n",
      "Director      250 non-null object\n",
      "Genre         250 non-null object\n",
      "Language      249 non-null object\n",
      "Metascore     168 non-null object\n",
      "Plot          250 non-null object\n",
      "Poster        244 non-null object\n",
      "Rated         249 non-null object\n",
      "Released      249 non-null datetime64[ns]\n",
      "Response      250 non-null object\n",
      "Runtime       250 non-null int64\n",
      "Title         250 non-null object\n",
      "Type          250 non-null object\n",
      "Writer        250 non-null object\n",
      "Year          250 non-null int64\n",
      "imdbID        250 non-null object\n",
      "imdbRating    250 non-null float64\n",
      "imdbVotes     250 non-null int64\n",
      "dtypes: datetime64[ns](1), float64(1), int64(3), object(15)\n",
      "memory usage: 39.1+ KB\n"
     ]
    }
   ],
   "source": [
    "df.info()"
   ]
  },
  {
   "cell_type": "markdown",
   "metadata": {},
   "source": [
    "## 4.d Text vectorization\n",
    "\n",
    "There are several columns in the data that contain a comma separated list of items, for example the Genre column and the Actors column. Let's transform those to binary columns using the count vectorizer from scikit learn.\n",
    "\n",
    "Append these columns to the merged dataframe.\n",
    "\n",
    "**Hint:** In order to get the actors name right, you'll have to modify the `token_pattern` in the `CountVectorizer`."
   ]
  },
  {
   "cell_type": "code",
   "execution_count": null,
   "metadata": {
    "collapsed": true
   },
   "outputs": [],
   "source": []
  },
  {
   "cell_type": "markdown",
   "metadata": {},
   "source": [
    "## Bonus:\n",
    "\n",
    "- What are the top 10 grossing movies?\n",
    "- Who are the 10 actors that appear in the most movies?\n",
    "- What genre is the oldest movie?\n"
   ]
  },
  {
   "cell_type": "code",
   "execution_count": null,
   "metadata": {
    "collapsed": false
   },
   "outputs": [],
   "source": []
  }
 ],
 "metadata": {
  "kernelspec": {
   "display_name": "Python [Root]",
   "language": "python",
   "name": "Python [Root]"
  },
  "language_info": {
   "codemirror_mode": {
    "name": "ipython",
    "version": 2
   },
   "file_extension": ".py",
   "mimetype": "text/x-python",
   "name": "python",
   "nbconvert_exporter": "python",
   "pygments_lexer": "ipython2",
   "version": "2.7.12"
  }
 },
 "nbformat": 4,
 "nbformat_minor": 0
}
