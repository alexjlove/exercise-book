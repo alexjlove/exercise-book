{
 "cells": [
  {
   "cell_type": "markdown",
   "metadata": {},
   "source": [
    "# Predicting Monopoly Hotel Prices\n",
    "\n",
    "If you've played the game\n",
    "[Monopoly](https://en.wikipedia.org/wiki/Monopoly_(game)\n",
    "you will know that some properties cost more than others, and \n",
    "the rent charged for a Hotel.\n",
    "\n",
    "There's a relationship between them. Let's find out what it is."
   ]
  },
  {
   "cell_type": "markdown",
   "metadata": {},
   "source": [
    "The set of properties is on an HTML table here:\n",
    "http://www.jdawiseman.com/papers/trivia/monopoly-rents.html"
   ]
  },
  {
   "cell_type": "code",
   "execution_count": 3,
   "metadata": {
    "collapsed": false
   },
   "outputs": [],
   "source": [
    "%matplotlib inline\n",
    "import pandas\n",
    "import matplotlib.pyplot\n",
    "url = 'http://www.jdawiseman.com/papers/trivia/monopoly-rents.html'\n",
    "dfs = pandas.read_html(url, header=1, index_col=0)"
   ]
  },
  {
   "cell_type": "code",
   "execution_count": 4,
   "metadata": {
    "collapsed": false
   },
   "outputs": [
    {
     "data": {
      "text/html": [
       "<div>\n",
       "<table border=\"1\" class=\"dataframe\">\n",
       "  <thead>\n",
       "    <tr style=\"text-align: right;\">\n",
       "      <th></th>\n",
       "      <th>Cost</th>\n",
       "      <th>M’tg</th>\n",
       "      <th>Site</th>\n",
       "      <th>1 hse</th>\n",
       "      <th>2 hses</th>\n",
       "      <th>3 hses</th>\n",
       "      <th>4 hses</th>\n",
       "      <th>Hotel</th>\n",
       "    </tr>\n",
       "    <tr>\n",
       "      <th>Property</th>\n",
       "      <th></th>\n",
       "      <th></th>\n",
       "      <th></th>\n",
       "      <th></th>\n",
       "      <th></th>\n",
       "      <th></th>\n",
       "      <th></th>\n",
       "      <th></th>\n",
       "    </tr>\n",
       "  </thead>\n",
       "  <tbody>\n",
       "    <tr>\n",
       "      <th>Old Kent Road</th>\n",
       "      <td>60</td>\n",
       "      <td>30</td>\n",
       "      <td>2</td>\n",
       "      <td>10.0</td>\n",
       "      <td>30.0</td>\n",
       "      <td>90.0</td>\n",
       "      <td>160.0</td>\n",
       "      <td>250.0</td>\n",
       "    </tr>\n",
       "    <tr>\n",
       "      <th>Whitechapel Road</th>\n",
       "      <td>60</td>\n",
       "      <td>30</td>\n",
       "      <td>4</td>\n",
       "      <td>20.0</td>\n",
       "      <td>60.0</td>\n",
       "      <td>180.0</td>\n",
       "      <td>320.0</td>\n",
       "      <td>450.0</td>\n",
       "    </tr>\n",
       "    <tr>\n",
       "      <th>The Angel Islington</th>\n",
       "      <td>100</td>\n",
       "      <td>50</td>\n",
       "      <td>6</td>\n",
       "      <td>30.0</td>\n",
       "      <td>90.0</td>\n",
       "      <td>270.0</td>\n",
       "      <td>400.0</td>\n",
       "      <td>550.0</td>\n",
       "    </tr>\n",
       "    <tr>\n",
       "      <th>Euston Road</th>\n",
       "      <td>100</td>\n",
       "      <td>50</td>\n",
       "      <td>6</td>\n",
       "      <td>30.0</td>\n",
       "      <td>90.0</td>\n",
       "      <td>270.0</td>\n",
       "      <td>400.0</td>\n",
       "      <td>550.0</td>\n",
       "    </tr>\n",
       "    <tr>\n",
       "      <th>Pentonville Road</th>\n",
       "      <td>120</td>\n",
       "      <td>60</td>\n",
       "      <td>8</td>\n",
       "      <td>40.0</td>\n",
       "      <td>100.0</td>\n",
       "      <td>300.0</td>\n",
       "      <td>450.0</td>\n",
       "      <td>600.0</td>\n",
       "    </tr>\n",
       "    <tr>\n",
       "      <th>Pall Mall</th>\n",
       "      <td>140</td>\n",
       "      <td>70</td>\n",
       "      <td>10</td>\n",
       "      <td>50.0</td>\n",
       "      <td>150.0</td>\n",
       "      <td>450.0</td>\n",
       "      <td>625.0</td>\n",
       "      <td>750.0</td>\n",
       "    </tr>\n",
       "    <tr>\n",
       "      <th>Whitehall</th>\n",
       "      <td>140</td>\n",
       "      <td>70</td>\n",
       "      <td>10</td>\n",
       "      <td>50.0</td>\n",
       "      <td>150.0</td>\n",
       "      <td>450.0</td>\n",
       "      <td>625.0</td>\n",
       "      <td>750.0</td>\n",
       "    </tr>\n",
       "    <tr>\n",
       "      <th>Northumberland Avenue</th>\n",
       "      <td>160</td>\n",
       "      <td>80</td>\n",
       "      <td>12</td>\n",
       "      <td>60.0</td>\n",
       "      <td>180.0</td>\n",
       "      <td>500.0</td>\n",
       "      <td>700.0</td>\n",
       "      <td>900.0</td>\n",
       "    </tr>\n",
       "    <tr>\n",
       "      <th>Bow Street</th>\n",
       "      <td>180</td>\n",
       "      <td>90</td>\n",
       "      <td>14</td>\n",
       "      <td>70.0</td>\n",
       "      <td>200.0</td>\n",
       "      <td>550.0</td>\n",
       "      <td>750.0</td>\n",
       "      <td>950.0</td>\n",
       "    </tr>\n",
       "    <tr>\n",
       "      <th>Marlborough Street</th>\n",
       "      <td>180</td>\n",
       "      <td>90</td>\n",
       "      <td>14</td>\n",
       "      <td>70.0</td>\n",
       "      <td>200.0</td>\n",
       "      <td>550.0</td>\n",
       "      <td>750.0</td>\n",
       "      <td>950.0</td>\n",
       "    </tr>\n",
       "    <tr>\n",
       "      <th>Vine Street</th>\n",
       "      <td>200</td>\n",
       "      <td>100</td>\n",
       "      <td>16</td>\n",
       "      <td>80.0</td>\n",
       "      <td>220.0</td>\n",
       "      <td>600.0</td>\n",
       "      <td>800.0</td>\n",
       "      <td>1000.0</td>\n",
       "    </tr>\n",
       "    <tr>\n",
       "      <th>The Strand</th>\n",
       "      <td>220</td>\n",
       "      <td>110</td>\n",
       "      <td>18</td>\n",
       "      <td>90.0</td>\n",
       "      <td>250.0</td>\n",
       "      <td>700.0</td>\n",
       "      <td>875.0</td>\n",
       "      <td>1050.0</td>\n",
       "    </tr>\n",
       "    <tr>\n",
       "      <th>Fleet Street</th>\n",
       "      <td>220</td>\n",
       "      <td>110</td>\n",
       "      <td>18</td>\n",
       "      <td>90.0</td>\n",
       "      <td>250.0</td>\n",
       "      <td>700.0</td>\n",
       "      <td>875.0</td>\n",
       "      <td>1050.0</td>\n",
       "    </tr>\n",
       "    <tr>\n",
       "      <th>Trafalgar Square</th>\n",
       "      <td>240</td>\n",
       "      <td>120</td>\n",
       "      <td>20</td>\n",
       "      <td>100.0</td>\n",
       "      <td>300.0</td>\n",
       "      <td>750.0</td>\n",
       "      <td>925.0</td>\n",
       "      <td>1100.0</td>\n",
       "    </tr>\n",
       "    <tr>\n",
       "      <th>Leicester Square</th>\n",
       "      <td>260</td>\n",
       "      <td>130</td>\n",
       "      <td>22</td>\n",
       "      <td>110.0</td>\n",
       "      <td>330.0</td>\n",
       "      <td>800.0</td>\n",
       "      <td>975.0</td>\n",
       "      <td>1150.0</td>\n",
       "    </tr>\n",
       "    <tr>\n",
       "      <th>Coventry Street</th>\n",
       "      <td>260</td>\n",
       "      <td>130</td>\n",
       "      <td>22</td>\n",
       "      <td>110.0</td>\n",
       "      <td>330.0</td>\n",
       "      <td>800.0</td>\n",
       "      <td>975.0</td>\n",
       "      <td>1150.0</td>\n",
       "    </tr>\n",
       "    <tr>\n",
       "      <th>Piccadilly</th>\n",
       "      <td>280</td>\n",
       "      <td>140</td>\n",
       "      <td>22</td>\n",
       "      <td>120.0</td>\n",
       "      <td>360.0</td>\n",
       "      <td>850.0</td>\n",
       "      <td>1025.0</td>\n",
       "      <td>1200.0</td>\n",
       "    </tr>\n",
       "    <tr>\n",
       "      <th>Regent Street</th>\n",
       "      <td>300</td>\n",
       "      <td>150</td>\n",
       "      <td>26</td>\n",
       "      <td>130.0</td>\n",
       "      <td>390.0</td>\n",
       "      <td>900.0</td>\n",
       "      <td>1100.0</td>\n",
       "      <td>1275.0</td>\n",
       "    </tr>\n",
       "    <tr>\n",
       "      <th>Oxford Street</th>\n",
       "      <td>300</td>\n",
       "      <td>150</td>\n",
       "      <td>26</td>\n",
       "      <td>130.0</td>\n",
       "      <td>390.0</td>\n",
       "      <td>900.0</td>\n",
       "      <td>1100.0</td>\n",
       "      <td>1275.0</td>\n",
       "    </tr>\n",
       "    <tr>\n",
       "      <th>Bond Street</th>\n",
       "      <td>320</td>\n",
       "      <td>160</td>\n",
       "      <td>28</td>\n",
       "      <td>150.0</td>\n",
       "      <td>450.0</td>\n",
       "      <td>1000.0</td>\n",
       "      <td>1200.0</td>\n",
       "      <td>1400.0</td>\n",
       "    </tr>\n",
       "    <tr>\n",
       "      <th>Park Lane</th>\n",
       "      <td>350</td>\n",
       "      <td>175</td>\n",
       "      <td>35</td>\n",
       "      <td>175.0</td>\n",
       "      <td>500.0</td>\n",
       "      <td>1100.0</td>\n",
       "      <td>1300.0</td>\n",
       "      <td>1500.0</td>\n",
       "    </tr>\n",
       "    <tr>\n",
       "      <th>Mayfair</th>\n",
       "      <td>400</td>\n",
       "      <td>200</td>\n",
       "      <td>50</td>\n",
       "      <td>200.0</td>\n",
       "      <td>600.0</td>\n",
       "      <td>1400.0</td>\n",
       "      <td>1700.0</td>\n",
       "      <td>2000.0</td>\n",
       "    </tr>\n",
       "  </tbody>\n",
       "</table>\n",
       "</div>"
      ],
      "text/plain": [
       "                       Cost  M’tg Site  1 hse  2 hses  3 hses  4 hses   Hotel\n",
       "Property                                                                     \n",
       "Old Kent Road            60    30    2   10.0    30.0    90.0   160.0   250.0\n",
       "Whitechapel Road         60    30    4   20.0    60.0   180.0   320.0   450.0\n",
       "The Angel Islington     100    50    6   30.0    90.0   270.0   400.0   550.0\n",
       "Euston Road             100    50    6   30.0    90.0   270.0   400.0   550.0\n",
       "Pentonville Road        120    60    8   40.0   100.0   300.0   450.0   600.0\n",
       "Pall Mall               140    70   10   50.0   150.0   450.0   625.0   750.0\n",
       "Whitehall               140    70   10   50.0   150.0   450.0   625.0   750.0\n",
       "Northumberland Avenue   160    80   12   60.0   180.0   500.0   700.0   900.0\n",
       "Bow Street              180    90   14   70.0   200.0   550.0   750.0   950.0\n",
       "Marlborough Street      180    90   14   70.0   200.0   550.0   750.0   950.0\n",
       "Vine Street             200   100   16   80.0   220.0   600.0   800.0  1000.0\n",
       "The Strand              220   110   18   90.0   250.0   700.0   875.0  1050.0\n",
       "Fleet Street            220   110   18   90.0   250.0   700.0   875.0  1050.0\n",
       "Trafalgar Square        240   120   20  100.0   300.0   750.0   925.0  1100.0\n",
       "Leicester Square        260   130   22  110.0   330.0   800.0   975.0  1150.0\n",
       "Coventry Street         260   130   22  110.0   330.0   800.0   975.0  1150.0\n",
       "Piccadilly              280   140   22  120.0   360.0   850.0  1025.0  1200.0\n",
       "Regent Street           300   150   26  130.0   390.0   900.0  1100.0  1275.0\n",
       "Oxford Street           300   150   26  130.0   390.0   900.0  1100.0  1275.0\n",
       "Bond Street             320   160   28  150.0   450.0  1000.0  1200.0  1400.0\n",
       "Park Lane               350   175   35  175.0   500.0  1100.0  1300.0  1500.0\n",
       "Mayfair                 400   200   50  200.0   600.0  1400.0  1700.0  2000.0"
      ]
     },
     "execution_count": 4,
     "metadata": {},
     "output_type": "execute_result"
    }
   ],
   "source": [
    "# There should only be one DataFrame.\n",
    "# Make a copy of it and drop all the rows with NaN values (these\n",
    "# are the railway stations and the utilities)\n",
    "monopoly = dfs[0].copy().dropna()\n",
    "monopoly"
   ]
  },
  {
   "cell_type": "code",
   "execution_count": 9,
   "metadata": {
    "collapsed": false
   },
   "outputs": [
    {
     "data": {
      "text/plain": [
       "<matplotlib.collections.PathCollection at 0x7f797d4a4e10>"
      ]
     },
     "execution_count": 9,
     "metadata": {},
     "output_type": "execute_result"
    },
    {
     "data": {
      "image/png": "[encoded data removed]",
      "text/plain": [
       "<matplotlib.figure.Figure at 0x7f797fafcb50>"
      ]
     },
     "metadata": {},
     "output_type": "display_data"
    }
   ],
   "source": [
    "matplotlib.pyplot.scatter(monopoly.Site.astype(int), monopoly.Hotel)"
   ]
  },
  {
   "cell_type": "code",
   "execution_count": 14,
   "metadata": {
    "collapsed": false
   },
   "outputs": [
    {
     "data": {
      "text/plain": [
       "Index([u'Old Kent Road', u'Whitechapel Road', u'The Angel Islington',\n",
       "       u'Euston Road', u'Pentonville Road', u'Pall Mall', u'Whitehall',\n",
       "       u'Northumberland Avenue', u'Bow Street', u'Marlborough Street',\n",
       "       u'Vine Street', u'The Strand', u'Fleet Street', u'Trafalgar Square',\n",
       "       u'Leicester Square', u'Coventry Street', u'Piccadilly',\n",
       "       u'Regent Street', u'Oxford Street', u'Bond Street', u'Park Lane',\n",
       "       u'Mayfair'],\n",
       "      dtype='object', name=u'Property')"
      ]
     },
     "execution_count": 14,
     "metadata": {},
     "output_type": "execute_result"
    }
   ],
   "source": [
    "# The index is the name of the property.\n",
    "monopoly.index"
   ]
  },
  {
   "cell_type": "code",
   "execution_count": 15,
   "metadata": {
    "collapsed": false
   },
   "outputs": [
    {
     "data": {
      "text/plain": [
       "Index([u'Cost', u'M’tg', u'Site', u'1 hse', u'2 hses', u'3 hses', u'4 hses',\n",
       "       u'Hotel'],\n",
       "      dtype='object')"
      ]
     },
     "execution_count": 15,
     "metadata": {},
     "output_type": "execute_result"
    }
   ],
   "source": [
    "# Have a look at the column names\n",
    "#  - \"1 hse\" means the rent when there is one house on the property\n",
    "#  - \"M'tg\" means the price to mortgage the property\n",
    "monopoly.columns"
   ]
  },
  {
   "cell_type": "code",
   "execution_count": 11,
   "metadata": {
    "collapsed": false,
    "scrolled": true
   },
   "outputs": [],
   "source": [
    "# Make a dataframe X which contains the \"Site\" column\n",
    "X = monopoly[['Site']]"
   ]
  },
  {
   "cell_type": "code",
   "execution_count": 12,
   "metadata": {
    "collapsed": false
   },
   "outputs": [],
   "source": [
    "# Make a series Y which contains the \"Hotel\" column\n",
    "Y = monopoly.Hotel"
   ]
  },
  {
   "cell_type": "code",
   "execution_count": 13,
   "metadata": {
    "collapsed": false
   },
   "outputs": [],
   "source": [
    "# Use sklearn.cross_validation.train_test_split to split X and y\n",
    "# into train and test sets\n",
    "import sklearn.cross_validation\n",
    "(train_X, test_X, train_Y, test_Y) = sklearn.cross_validation.train_test_split(X, Y)"
   ]
  },
  {
   "cell_type": "code",
   "execution_count": 14,
   "metadata": {
    "collapsed": false
   },
   "outputs": [
    {
     "name": "stdout",
     "output_type": "stream",
     "text": [
      "Index([u'Pentonville Road', u'Trafalgar Square', u'Northumberland Avenue',\n",
      "       u'Old Kent Road', u'Coventry Street', u'Fleet Street',\n",
      "       u'The Angel Islington', u'Bow Street', u'Pall Mall', u'The Strand',\n",
      "       u'Oxford Street', u'Bond Street', u'Euston Road', u'Leicester Square',\n",
      "       u'Piccadilly', u'Mayfair'],\n",
      "      dtype='object', name=u'Property')\n"
     ]
    },
    {
     "data": {
      "text/plain": [
       "16"
      ]
     },
     "execution_count": 14,
     "metadata": {},
     "output_type": "execute_result"
    }
   ],
   "source": [
    "# Check the index of the X_training data to see what properties were\n",
    "# included. How many are there?\n",
    "print train_X.index\n",
    "len(train_X)"
   ]
  },
  {
   "cell_type": "code",
   "execution_count": 15,
   "metadata": {
    "collapsed": false
   },
   "outputs": [
    {
     "name": "stdout",
     "output_type": "stream",
     "text": [
      "Index([u'Marlborough Street', u'Whitehall', u'Whitechapel Road',\n",
      "       u'Regent Street', u'Park Lane', u'Vine Street'],\n",
      "      dtype='object', name=u'Property')\n"
     ]
    },
    {
     "data": {
      "text/plain": [
       "6"
      ]
     },
     "execution_count": 15,
     "metadata": {},
     "output_type": "execute_result"
    }
   ],
   "source": [
    "# Check the index of the X_test data to see what properties were\n",
    "# included. How many are there?\n",
    "print test_X.index\n",
    "len(test_X)"
   ]
  },
  {
   "cell_type": "code",
   "execution_count": 16,
   "metadata": {
    "collapsed": false
   },
   "outputs": [],
   "source": [
    "# Do a train_test_split again, but this time, specify test_size\n",
    "(train_X, test_X, train_Y, test_Y) = sklearn.cross_validation.train_test_split(X, Y, test_size=0.1)"
   ]
  },
  {
   "cell_type": "code",
   "execution_count": 17,
   "metadata": {
    "collapsed": false
   },
   "outputs": [
    {
     "data": {
      "text/plain": [
       "LinearRegression(copy_X=True, fit_intercept=True, n_jobs=1, normalize=False)"
      ]
     },
     "execution_count": 17,
     "metadata": {},
     "output_type": "execute_result"
    }
   ],
   "source": [
    "# Make a LinearRegression object, and try to fit the X_train data\n",
    "# to Y_train\n",
    "import sklearn.linear_model\n",
    "linreg = sklearn.linear_model.LinearRegression()\n",
    "linreg.fit(train_X, train_Y)"
   ]
  },
  {
   "cell_type": "code",
   "execution_count": 18,
   "metadata": {
    "collapsed": false
   },
   "outputs": [
    {
     "data": {
      "text/plain": [
       "0.96619612195832416"
      ]
     },
     "execution_count": 18,
     "metadata": {},
     "output_type": "execute_result"
    }
   ],
   "source": [
    "# Your LinearRegression object has a .score() method.\n",
    "# Try it on your X_train and Y_train data.\n",
    "# It will be good, but it will be overly confident about its accuracy\n",
    "linreg.score(train_X, train_Y)"
   ]
  },
  {
   "cell_type": "code",
   "execution_count": 19,
   "metadata": {
    "collapsed": false
   },
   "outputs": [],
   "source": [
    "# Make predictions for your X_test data\n",
    "linreg_predic = linreg.predict(test_X)"
   ]
  },
  {
   "cell_type": "code",
   "execution_count": 20,
   "metadata": {
    "collapsed": false
   },
   "outputs": [
    {
     "name": "stdout",
     "output_type": "stream",
     "text": [
      "[(1275.0, 1288.1464292479636), (950.0, 864.82761886720959), (1500.0, 1605.6355370335293)]\n"
     ]
    },
    {
     "data": {
      "text/plain": [
       "<matplotlib.collections.PathCollection at 0x7f79733dfb90>"
      ]
     },
     "execution_count": 20,
     "metadata": {},
     "output_type": "execute_result"
    },
    {
     "data": {
      "image/png": "[encoded data removed]",
      "text/plain": [
       "<matplotlib.figure.Figure at 0x7f797344cbd0>"
      ]
     },
     "metadata": {},
     "output_type": "display_data"
    }
   ],
   "source": [
    "# Zip these predictions with the correct answers (Y_test) and compare\n",
    "# them visually. You could graph them too if you want to.\n",
    "print zip(test_Y, linreg_predic)\n",
    "import matplotlib.pyplot\n",
    "matplotlib.pyplot.scatter(test_Y, linreg_predic)"
   ]
  },
  {
   "cell_type": "code",
   "execution_count": 21,
   "metadata": {
    "collapsed": false
   },
   "outputs": [
    {
     "data": {
      "text/plain": [
       "85.172381132790406"
      ]
     },
     "execution_count": 21,
     "metadata": {},
     "output_type": "execute_result"
    }
   ],
   "source": [
    "# sklearn.metrics.median_absolute_error to get a sense of how\n",
    "# far wrong it was\n",
    "from sklearn import metrics\n",
    "metrics.median_absolute_error(test_Y, linreg_predic)"
   ]
  },
  {
   "cell_type": "code",
   "execution_count": 22,
   "metadata": {
    "collapsed": false
   },
   "outputs": [
    {
     "name": "stdout",
     "output_type": "stream",
     "text": [
      "0.0\n",
      "[(1275.0, 953.9473684210526), (950.0, 953.9473684210526), (1500.0, 953.9473684210526)]\n"
     ]
    },
    {
     "data": {
      "text/plain": [
       "<matplotlib.collections.PathCollection at 0x7f79732b4090>"
      ]
     },
     "execution_count": 22,
     "metadata": {},
     "output_type": "execute_result"
    },
    {
     "data": {
      "image/png": "[encoded data removed]",
      "text/plain": [
       "<matplotlib.figure.Figure at 0x7f79734183d0>"
      ]
     },
     "metadata": {},
     "output_type": "display_data"
    }
   ],
   "source": [
    "# Try the same with a sklearn.dummy.DummyRegressor() and \n",
    "# sklearn.tree.DecisionTreeRegressor()\n",
    "import sklearn.dummy\n",
    "dummy = sklearn.dummy.DummyRegressor()\n",
    "dummy.fit(train_X, train_Y)\n",
    "print dummy.score(train_X, train_Y)\n",
    "dummy_predic = dummy.predict(test_X)\n",
    "print zip(test_Y, dummy_predic)\n",
    "matplotlib.pyplot.scatter(test_Y, dummy_predic)"
   ]
  },
  {
   "cell_type": "code",
   "execution_count": 23,
   "metadata": {
    "collapsed": false
   },
   "outputs": [
    {
     "name": "stdout",
     "output_type": "stream",
     "text": [
      "0.999417825271\n",
      "[(1275.0, 1275.0), (950.0, 950.0), (1500.0, 1400.0)]\n"
     ]
    },
    {
     "data": {
      "text/plain": [
       "<matplotlib.collections.PathCollection at 0x7f79729a1690>"
      ]
     },
     "execution_count": 23,
     "metadata": {},
     "output_type": "execute_result"
    },
    {
     "data": {
      "image/png": "[encoded data removed]",
      "text/plain": [
       "<matplotlib.figure.Figure at 0x7f7973361c10>"
      ]
     },
     "metadata": {},
     "output_type": "display_data"
    }
   ],
   "source": [
    "import sklearn.tree\n",
    "tree = sklearn.tree.DecisionTreeRegressor()\n",
    "tree.fit(train_X, train_Y)\n",
    "print tree.score(train_X, train_Y)\n",
    "tree_predic = tree.predict(test_X)\n",
    "print zip(test_Y, tree_predic)\n",
    "matplotlib.pyplot.scatter(test_Y, tree_predic)"
   ]
  },
  {
   "cell_type": "markdown",
   "metadata": {},
   "source": [
    "# Grid Search on DecisionTree params"
   ]
  },
  {
   "cell_type": "code",
   "execution_count": 111,
   "metadata": {
    "collapsed": false
   },
   "outputs": [
    {
     "data": {
      "text/plain": [
       "GridSearchCV(cv=10, error_score='raise',\n",
       "       estimator=DecisionTreeRegressor(criterion='mse', max_depth=None, max_features=None,\n",
       "           max_leaf_nodes=None, min_samples_leaf=1, min_samples_split=2,\n",
       "           min_weight_fraction_leaf=0.0, presort=False, random_state=None,\n",
       "           splitter='best'),\n",
       "       fit_params={}, iid=True, n_jobs=1,\n",
       "       param_grid={'max_features': [None, 1], 'max_depth': [1, 2, 3, 4, 5, 6, 7, 8, 9]},\n",
       "       pre_dispatch='2*n_jobs', refit=True, scoring=None, verbose=0)"
      ]
     },
     "execution_count": 111,
     "metadata": {},
     "output_type": "execute_result"
    }
   ],
   "source": [
    "params = {'max_features': [None, 1],\n",
    "          'max_depth': range(1,10)\n",
    "         }\n",
    "columns = ['Cost', 'Site', '1 hse']\n",
    "tree2 = sklearn.tree.DecisionTreeRegressor()\n",
    "searcher = sklearn.grid_search.GridSearchCV(\n",
    "    estimator=tree2,\n",
    "    param_grid=params,\n",
    "    cv=10)\n",
    "searcher.fit(monopoly[columns], monopoly.Hotel)\n"
   ]
  },
  {
   "cell_type": "code",
   "execution_count": 112,
   "metadata": {
    "collapsed": false
   },
   "outputs": [],
   "source": [
    "best_estimator = searcher.best_estimator_"
   ]
  },
  {
   "cell_type": "code",
   "execution_count": 113,
   "metadata": {
    "collapsed": false
   },
   "outputs": [
    {
     "data": {
      "text/plain": [
       "-0.56693195693195697"
      ]
     },
     "execution_count": 113,
     "metadata": {},
     "output_type": "execute_result"
    }
   ],
   "source": [
    "searcher.best_score_"
   ]
  },
  {
   "cell_type": "code",
   "execution_count": 114,
   "metadata": {
    "collapsed": false
   },
   "outputs": [
    {
     "data": {
      "text/plain": [
       "{'max_depth': 6, 'max_features': None}"
      ]
     },
     "execution_count": 114,
     "metadata": {},
     "output_type": "execute_result"
    }
   ],
   "source": [
    "searcher.best_params_"
   ]
  },
  {
   "cell_type": "markdown",
   "metadata": {},
   "source": [
    "# Grid Search on RANSAC params"
   ]
  },
  {
   "cell_type": "code",
   "execution_count": 147,
   "metadata": {
    "collapsed": false,
    "scrolled": true
   },
   "outputs": [
    {
     "data": {
      "text/plain": [
       "GridSearchCV(cv=10, error_score='raise',\n",
       "       estimator=RANSACRegressor(base_estimator=None, is_data_valid=None, is_model_valid=None,\n",
       "        max_trials=100, min_samples=None, random_state=None,\n",
       "        residual_metric=None, residual_threshold=None, stop_n_inliers=inf,\n",
       "        stop_probability=0.99, stop_score=inf),\n",
       "       fit_params={}, iid=True, n_jobs=1,\n",
       "       param_grid={'max_trials': [100, 1000, 2000], 'residual_threshold': [50, 60, 70, 80, 90, 100, 110, 120, 130, 140, 150, 160, 170, 180, 190, 200, 210, 220, 230, 240, 250, 260, 270, 280, 290, 300, 310, 320, 330, 340, 350, 360, 370, 380, 390, 400, 410, 420, 430, 440, 450, 460, 470, 480, 490]},\n",
       "       pre_dispatch='2*n_jobs', refit=True, scoring=None, verbose=0)"
      ]
     },
     "execution_count": 147,
     "metadata": {},
     "output_type": "execute_result"
    }
   ],
   "source": [
    "params2 = {'residual_threshold': range(50,500,10),\n",
    "          'max_trials': [100,1000,2000]\n",
    "         }\n",
    "columns = ['Cost', 'Site', '1 hse']\n",
    "ransac2 = sklearn.linear_model.RANSACRegressor()\n",
    "searcher2 = sklearn.grid_search.GridSearchCV(\n",
    "    estimator=ransac2,\n",
    "    param_grid=params2,\n",
    "    cv=10)\n",
    "searcher2.fit(monopoly[columns], monopoly.Hotel)"
   ]
  },
  {
   "cell_type": "code",
   "execution_count": 148,
   "metadata": {
    "collapsed": false
   },
   "outputs": [
    {
     "data": {
      "text/plain": [
       "0.09700052770228608"
      ]
     },
     "execution_count": 148,
     "metadata": {},
     "output_type": "execute_result"
    }
   ],
   "source": [
    "searcher2.best_score_"
   ]
  },
  {
   "cell_type": "code",
   "execution_count": 149,
   "metadata": {
    "collapsed": false
   },
   "outputs": [
    {
     "data": {
      "text/plain": [
       "{'max_trials': 100, 'residual_threshold': 110}"
      ]
     },
     "execution_count": 149,
     "metadata": {},
     "output_type": "execute_result"
    }
   ],
   "source": [
    "searcher2.best_params_"
   ]
  },
  {
   "cell_type": "code",
   "execution_count": 150,
   "metadata": {
    "collapsed": false
   },
   "outputs": [
    {
     "data": {
      "text/plain": [
       "array([ 2480.70435333])"
      ]
     },
     "execution_count": 150,
     "metadata": {},
     "output_type": "execute_result"
    }
   ],
   "source": [
    "searcher2.best_estimator_.predict([[600,60,240]])"
   ]
  },
  {
   "cell_type": "code",
   "execution_count": null,
   "metadata": {
    "collapsed": true
   },
   "outputs": [],
   "source": []
  }
 ],
 "metadata": {
  "kernelspec": {
   "display_name": "Python [Root]",
   "language": "python",
   "name": "Python [Root]"
  },
  "language_info": {
   "codemirror_mode": {
    "name": "ipython",
    "version": 2
   },
   "file_extension": ".py",
   "mimetype": "text/x-python",
   "name": "python",
   "nbconvert_exporter": "python",
   "pygments_lexer": "ipython2",
   "version": "2.7.12"
  }
 },
 "nbformat": 4,
 "nbformat_minor": 0
}
