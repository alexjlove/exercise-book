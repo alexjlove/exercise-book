{
 "cells": [
  {
   "cell_type": "markdown",
   "metadata": {},
   "source": [
    "## Lab 4.3"
   ]
  },
  {
   "cell_type": "markdown",
   "metadata": {},
   "source": [
    "#### Setup your imports"
   ]
  },
  {
   "cell_type": "code",
   "execution_count": 1,
   "metadata": {
    "collapsed": false
   },
   "outputs": [],
   "source": [
    "import pandas as pd \n",
    "from sklearn.datasets import fetch_20newsgroups\n",
    "from sklearn.feature_extraction.text import CountVectorizer\n",
    "import numpy as np\n",
    "from sklearn.preprocessing import StandardScaler\n",
    "from sklearn.decomposition import PCA, TruncatedSVD\n",
    "from sklearn.cluster import KMeans\n",
    "from sklearn import metrics\n",
    "import matplotlib.pyplot as plt"
   ]
  },
  {
   "cell_type": "markdown",
   "metadata": {},
   "source": [
    "#### 1. Pull the training set from the newsgroup data"
   ]
  },
  {
   "cell_type": "code",
   "execution_count": 2,
   "metadata": {
    "collapsed": true
   },
   "outputs": [],
   "source": [
    "newsgroups_train = fetch_20newsgroups(subset='train')"
   ]
  },
  {
   "cell_type": "code",
   "execution_count": 3,
   "metadata": {
    "collapsed": true
   },
   "outputs": [],
   "source": [
    "X = newsgroups_train.data\n",
    "y = newsgroups_train.target"
   ]
  },
  {
   "cell_type": "markdown",
   "metadata": {},
   "source": [
    "#### 2. Create the vectorizer "
   ]
  },
  {
   "cell_type": "code",
   "execution_count": 4,
   "metadata": {
    "collapsed": false
   },
   "outputs": [],
   "source": [
    "vectorizer = CountVectorizer(max_features = 1000,\n",
    "                             ngram_range=(1, 2),\n",
    "                             stop_words='english',\n",
    "                             binary=True)"
   ]
  },
  {
   "cell_type": "markdown",
   "metadata": {},
   "source": [
    "#### 3. Create the Truncated Singular Value Decomposition"
   ]
  },
  {
   "cell_type": "code",
   "execution_count": 5,
   "metadata": {
    "collapsed": true
   },
   "outputs": [],
   "source": [
    "svd = TruncatedSVD(n_components=50, random_state=42)"
   ]
  },
  {
   "cell_type": "markdown",
   "metadata": {},
   "source": [
    "#### 4. Setup your k-means clustering"
   ]
  },
  {
   "cell_type": "code",
   "execution_count": 6,
   "metadata": {
    "collapsed": true
   },
   "outputs": [],
   "source": [
    "kmeans = KMeans(n_clusters=10)"
   ]
  },
  {
   "cell_type": "code",
   "execution_count": null,
   "metadata": {
    "collapsed": true
   },
   "outputs": [],
   "source": []
  },
  {
   "cell_type": "markdown",
   "metadata": {},
   "source": [
    "#### 5. Fit the vectorizer and SVD"
   ]
  },
  {
   "cell_type": "code",
   "execution_count": 7,
   "metadata": {
    "collapsed": false
   },
   "outputs": [],
   "source": [
    "X = vectorizer.fit_transform(X)\n",
    "X2 = svd.fit_transform(X)"
   ]
  },
  {
   "cell_type": "markdown",
   "metadata": {},
   "source": [
    "#### 7. Fit the kmeans"
   ]
  },
  {
   "cell_type": "code",
   "execution_count": 8,
   "metadata": {
    "collapsed": false
   },
   "outputs": [
    {
     "data": {
      "text/plain": [
       "KMeans(algorithm='auto', copy_x=True, init='k-means++', max_iter=300,\n",
       "    n_clusters=10, n_init=10, n_jobs=1, precompute_distances='auto',\n",
       "    random_state=None, tol=0.0001, verbose=0)"
      ]
     },
     "execution_count": 8,
     "metadata": {},
     "output_type": "execute_result"
    }
   ],
   "source": [
    "kmeans.fit(X2)"
   ]
  },
  {
   "cell_type": "code",
   "execution_count": 9,
   "metadata": {
    "collapsed": false
   },
   "outputs": [],
   "source": [
    "labels = kmeans.labels_\n",
    "centroids = kmeans.cluster_centers_"
   ]
  },
  {
   "cell_type": "code",
   "execution_count": null,
   "metadata": {
    "collapsed": true
   },
   "outputs": [],
   "source": []
  },
  {
   "cell_type": "markdown",
   "metadata": {},
   "source": [
    "#### 8. Check the performance of our kmeans test"
   ]
  },
  {
   "cell_type": "code",
   "execution_count": 10,
   "metadata": {
    "collapsed": false
   },
   "outputs": [
    {
     "data": {
      "text/plain": [
       "0.049938129750751278"
      ]
     },
     "execution_count": 10,
     "metadata": {},
     "output_type": "execute_result"
    }
   ],
   "source": [
    "metrics.accuracy_score(y, labels)"
   ]
  },
  {
   "cell_type": "markdown",
   "metadata": {},
   "source": [
    "#### Classification Report"
   ]
  },
  {
   "cell_type": "code",
   "execution_count": 11,
   "metadata": {
    "collapsed": false
   },
   "outputs": [
    {
     "name": "stdout",
     "output_type": "stream",
     "text": [
      "             precision    recall  f1-score   support\n",
      "\n",
      "          0       0.00      0.00      0.00       480\n",
      "          1       0.01      0.02      0.01       584\n",
      "          2       0.03      0.00      0.01       591\n",
      "          3       0.04      0.13      0.06       590\n",
      "          4       0.00      0.00      0.00       578\n",
      "          5       0.03      0.10      0.05       593\n",
      "          6       0.10      0.37      0.16       585\n",
      "          7       0.05      0.05      0.05       594\n",
      "          8       0.04      0.11      0.06       598\n",
      "          9       0.07      0.18      0.10       597\n",
      "         10       0.00      0.00      0.00       600\n",
      "         11       0.00      0.00      0.00       595\n",
      "         12       0.00      0.00      0.00       591\n",
      "         13       0.00      0.00      0.00       594\n",
      "         14       0.00      0.00      0.00       593\n",
      "         15       0.00      0.00      0.00       599\n",
      "         16       0.00      0.00      0.00       546\n",
      "         17       0.00      0.00      0.00       564\n",
      "         18       0.00      0.00      0.00       465\n",
      "         19       0.00      0.00      0.00       377\n",
      "\n",
      "avg / total       0.02      0.05      0.03     11314\n",
      "\n"
     ]
    },
    {
     "name": "stderr",
     "output_type": "stream",
     "text": [
      "/home/useraj/anaconda2/lib/python2.7/site-packages/sklearn/metrics/classification.py:1113: UndefinedMetricWarning: Precision and F-score are ill-defined and being set to 0.0 in labels with no predicted samples.\n",
      "  'precision', 'predicted', average, warn_for)\n"
     ]
    }
   ],
   "source": [
    "print metrics.classification_report(y, labels)"
   ]
  },
  {
   "cell_type": "markdown",
   "metadata": {},
   "source": [
    "#### Confusion Matrix"
   ]
  },
  {
   "cell_type": "code",
   "execution_count": 12,
   "metadata": {
    "collapsed": false
   },
   "outputs": [
    {
     "name": "stdout",
     "output_type": "stream",
     "text": [
      "[[  0  66   4 124  29 116  68  39  14  20   0   0   0   0   0   0   0   0\n",
      "    0   0]\n",
      " [  2  12   4  72   5  52 158  57 103 119   0   0   0   0   0   0   0   0\n",
      "    0   0]\n",
      " [ 13  25   2  89   1  67 130  34  86 144   0   0   0   0   0   0   0   0\n",
      "    0   0]\n",
      " [  3  20   2  78   4  64 163  30 126 100   0   0   0   0   0   0   0   0\n",
      "    0   0]\n",
      " [  0  19   1  75   1  76 176  42  84 104   0   0   0   0   0   0   0   0\n",
      "    0   0]\n",
      " [  2  15  12  58   0  58 177  57 122  92   0   0   0   0   0   0   0   0\n",
      "    0   0]\n",
      " [ 11   8   0  17   0  18 215  22 124 170   0   0   0   0   0   0   0   0\n",
      "    0   0]\n",
      " [  0  58   1 119  11 119 117  30  64  75   0   0   0   0   0   0   0   0\n",
      "    0   0]\n",
      " [  2  37   1 149   3 119 150  32  63  42   0   0   0   0   0   0   0   0\n",
      "    0   0]\n",
      " [ 15  44   0 121  12 131 103  27  38 106   0   0   0   0   0   0   0   0\n",
      "    0   0]\n",
      " [ 43  33   1 135  11 107 116  21  29 104   0   0   0   0   0   0   0   0\n",
      "    0   0]\n",
      " [  4  80   9 111  32 142  59  24 101  33   0   0   0   0   0   0   0   0\n",
      "    0   0]\n",
      " [  1  46   1  73   1  83 146  36 115  89   0   0   0   0   0   0   0   0\n",
      "    0   0]\n",
      " [  2  62   8 171  17  79  72  35  76  72   0   0   0   0   0   0   0   0\n",
      "    0   0]\n",
      " [ 12  48   8 137  16 108  90  59  49  66   0   0   0   0   0   0   0   0\n",
      "    0   0]\n",
      " [  5 214   0 131  50   1   0   0  74 124   0   0   0   0   0   0   0   0\n",
      "    0   0]\n",
      " [  3  85   2  77  43 149  56  49  50  32   0   0   0   0   0   0   0   0\n",
      "    0   0]\n",
      " [  4  95   4 124  60  90  70  18  53  46   0   0   0   0   0   0   0   0\n",
      "    0   0]\n",
      " [  0  70  10 133  32 114  41  14  16  35   0   0   0   0   0   0   0   0\n",
      "    0   0]\n",
      " [  1  60   1  94  37  51  50  13  40  30   0   0   0   0   0   0   0   0\n",
      "    0   0]]\n"
     ]
    }
   ],
   "source": [
    "print(metrics.confusion_matrix(y, labels))"
   ]
  },
  {
   "cell_type": "markdown",
   "metadata": {},
   "source": [
    "#### Note: Repeat the kmeans test with varying values of \"k\" to determine the best performance"
   ]
  },
  {
   "cell_type": "code",
   "execution_count": null,
   "metadata": {
    "collapsed": true
   },
   "outputs": [],
   "source": []
  }
 ],
 "metadata": {
  "kernelspec": {
   "display_name": "Python [Root]",
   "language": "python",
   "name": "Python [Root]"
  },
  "language_info": {
   "codemirror_mode": {
    "name": "ipython",
    "version": 2
   },
   "file_extension": ".py",
   "mimetype": "text/x-python",
   "name": "python",
   "nbconvert_exporter": "python",
   "pygments_lexer": "ipython2",
   "version": "2.7.12"
  }
 },
 "nbformat": 4,
 "nbformat_minor": 0
}
