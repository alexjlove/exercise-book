{
 "cells": [
  {
   "cell_type": "code",
   "execution_count": 1,
   "metadata": {
    "collapsed": true
   },
   "outputs": [],
   "source": [
    "import numpy"
   ]
  },
  {
   "cell_type": "code",
   "execution_count": 3,
   "metadata": {
    "collapsed": false
   },
   "outputs": [
    {
     "data": {
      "text/plain": [
       "array([ 1. ,  1.5,  2. ,  2.5,  3. ,  3.5,  4. ,  4.5,  5. ,  5.5,  6. ,\n",
       "        6.5,  7. ,  7.5,  8. ,  8.5,  9. ,  9.5])"
      ]
     },
     "execution_count": 3,
     "metadata": {},
     "output_type": "execute_result"
    }
   ],
   "source": [
    "flat_array = numpy.arange(1,10,0.5)\n",
    "flat_array"
   ]
  },
  {
   "cell_type": "code",
   "execution_count": 4,
   "metadata": {
    "collapsed": false
   },
   "outputs": [
    {
     "data": {
      "text/plain": [
       "8.5"
      ]
     },
     "execution_count": 4,
     "metadata": {},
     "output_type": "execute_result"
    }
   ],
   "source": [
    "flat_array.ptp()"
   ]
  },
  {
   "cell_type": "code",
   "execution_count": 5,
   "metadata": {
    "collapsed": false
   },
   "outputs": [
    {
     "data": {
      "text/plain": [
       "5.25"
      ]
     },
     "execution_count": 5,
     "metadata": {},
     "output_type": "execute_result"
    }
   ],
   "source": [
    "flat_array.mean()"
   ]
  },
  {
   "cell_type": "code",
   "execution_count": 6,
   "metadata": {
    "collapsed": false
   },
   "outputs": [
    {
     "data": {
      "text/plain": [
       "94.5"
      ]
     },
     "execution_count": 6,
     "metadata": {},
     "output_type": "execute_result"
    }
   ],
   "source": [
    "flat_array.sum()"
   ]
  },
  {
   "cell_type": "code",
   "execution_count": 9,
   "metadata": {
    "collapsed": false
   },
   "outputs": [
    {
     "data": {
      "text/plain": [
       "5.25"
      ]
     },
     "execution_count": 9,
     "metadata": {},
     "output_type": "execute_result"
    }
   ],
   "source": [
    "numpy.median(flat_array)"
   ]
  },
  {
   "cell_type": "code",
   "execution_count": 10,
   "metadata": {
    "collapsed": false
   },
   "outputs": [
    {
     "data": {
      "text/plain": [
       "array([ 1,  2,  3,  4,  5, 10])"
      ]
     },
     "execution_count": 10,
     "metadata": {},
     "output_type": "execute_result"
    }
   ],
   "source": [
    "one_dimensional = numpy.array([1,2,3,4,5,10])\n",
    "one_dimensional"
   ]
  },
  {
   "cell_type": "code",
   "execution_count": 11,
   "metadata": {
    "collapsed": false
   },
   "outputs": [
    {
     "data": {
      "text/plain": [
       "array([[1, 2, 3],\n",
       "       [1, 4, 6],\n",
       "       [1, 6, 9],\n",
       "       [2, 1, 0]])"
      ]
     },
     "execution_count": 11,
     "metadata": {},
     "output_type": "execute_result"
    }
   ],
   "source": [
    "two_dimensional = numpy.array([\n",
    "        [1,2,3],\n",
    "        [1,4,6],\n",
    "        [1,6,9],\n",
    "        [2,1,0],\n",
    "])\n",
    "two_dimensional"
   ]
  },
  {
   "cell_type": "code",
   "execution_count": 12,
   "metadata": {
    "collapsed": false
   },
   "outputs": [
    {
     "data": {
      "text/plain": [
       "array([1, 6, 9])"
      ]
     },
     "execution_count": 12,
     "metadata": {},
     "output_type": "execute_result"
    }
   ],
   "source": [
    "two_dimensional[2]"
   ]
  },
  {
   "cell_type": "code",
   "execution_count": 13,
   "metadata": {
    "collapsed": false
   },
   "outputs": [
    {
     "data": {
      "text/plain": [
       "6"
      ]
     },
     "execution_count": 13,
     "metadata": {},
     "output_type": "execute_result"
    }
   ],
   "source": [
    "two_dimensional[2][1]"
   ]
  },
  {
   "cell_type": "code",
   "execution_count": 14,
   "metadata": {
    "collapsed": false
   },
   "outputs": [
    {
     "data": {
      "text/plain": [
       "6"
      ]
     },
     "execution_count": 14,
     "metadata": {},
     "output_type": "execute_result"
    }
   ],
   "source": [
    "two_dimensional[2,1]"
   ]
  },
  {
   "cell_type": "code",
   "execution_count": 15,
   "metadata": {
    "collapsed": false
   },
   "outputs": [
    {
     "data": {
      "text/plain": [
       "['T',\n",
       " '__abs__',\n",
       " '__add__',\n",
       " '__and__',\n",
       " '__array__',\n",
       " '__array_finalize__',\n",
       " '__array_interface__',\n",
       " '__array_prepare__',\n",
       " '__array_priority__',\n",
       " '__array_struct__',\n",
       " '__array_wrap__',\n",
       " '__class__',\n",
       " '__contains__',\n",
       " '__copy__',\n",
       " '__deepcopy__',\n",
       " '__delattr__',\n",
       " '__delitem__',\n",
       " '__delslice__',\n",
       " '__div__',\n",
       " '__divmod__',\n",
       " '__doc__',\n",
       " '__eq__',\n",
       " '__float__',\n",
       " '__floordiv__',\n",
       " '__format__',\n",
       " '__ge__',\n",
       " '__getattribute__',\n",
       " '__getitem__',\n",
       " '__getslice__',\n",
       " '__gt__',\n",
       " '__hash__',\n",
       " '__hex__',\n",
       " '__iadd__',\n",
       " '__iand__',\n",
       " '__idiv__',\n",
       " '__ifloordiv__',\n",
       " '__ilshift__',\n",
       " '__imod__',\n",
       " '__imul__',\n",
       " '__index__',\n",
       " '__init__',\n",
       " '__int__',\n",
       " '__invert__',\n",
       " '__ior__',\n",
       " '__ipow__',\n",
       " '__irshift__',\n",
       " '__isub__',\n",
       " '__iter__',\n",
       " '__itruediv__',\n",
       " '__ixor__',\n",
       " '__le__',\n",
       " '__len__',\n",
       " '__long__',\n",
       " '__lshift__',\n",
       " '__lt__',\n",
       " '__mod__',\n",
       " '__mul__',\n",
       " '__ne__',\n",
       " '__neg__',\n",
       " '__new__',\n",
       " '__nonzero__',\n",
       " '__oct__',\n",
       " '__or__',\n",
       " '__pos__',\n",
       " '__pow__',\n",
       " '__radd__',\n",
       " '__rand__',\n",
       " '__rdiv__',\n",
       " '__rdivmod__',\n",
       " '__reduce__',\n",
       " '__reduce_ex__',\n",
       " '__repr__',\n",
       " '__rfloordiv__',\n",
       " '__rlshift__',\n",
       " '__rmod__',\n",
       " '__rmul__',\n",
       " '__ror__',\n",
       " '__rpow__',\n",
       " '__rrshift__',\n",
       " '__rshift__',\n",
       " '__rsub__',\n",
       " '__rtruediv__',\n",
       " '__rxor__',\n",
       " '__setattr__',\n",
       " '__setitem__',\n",
       " '__setslice__',\n",
       " '__setstate__',\n",
       " '__sizeof__',\n",
       " '__str__',\n",
       " '__sub__',\n",
       " '__subclasshook__',\n",
       " '__truediv__',\n",
       " '__xor__',\n",
       " 'all',\n",
       " 'any',\n",
       " 'argmax',\n",
       " 'argmin',\n",
       " 'argpartition',\n",
       " 'argsort',\n",
       " 'astype',\n",
       " 'base',\n",
       " 'byteswap',\n",
       " 'choose',\n",
       " 'clip',\n",
       " 'compress',\n",
       " 'conj',\n",
       " 'conjugate',\n",
       " 'copy',\n",
       " 'ctypes',\n",
       " 'cumprod',\n",
       " 'cumsum',\n",
       " 'data',\n",
       " 'diagonal',\n",
       " 'dot',\n",
       " 'dtype',\n",
       " 'dump',\n",
       " 'dumps',\n",
       " 'fill',\n",
       " 'flags',\n",
       " 'flat',\n",
       " 'flatten',\n",
       " 'getfield',\n",
       " 'imag',\n",
       " 'item',\n",
       " 'itemset',\n",
       " 'itemsize',\n",
       " 'max',\n",
       " 'mean',\n",
       " 'min',\n",
       " 'nbytes',\n",
       " 'ndim',\n",
       " 'newbyteorder',\n",
       " 'nonzero',\n",
       " 'partition',\n",
       " 'prod',\n",
       " 'ptp',\n",
       " 'put',\n",
       " 'ravel',\n",
       " 'real',\n",
       " 'repeat',\n",
       " 'reshape',\n",
       " 'resize',\n",
       " 'round',\n",
       " 'searchsorted',\n",
       " 'setfield',\n",
       " 'setflags',\n",
       " 'shape',\n",
       " 'size',\n",
       " 'sort',\n",
       " 'squeeze',\n",
       " 'std',\n",
       " 'strides',\n",
       " 'sum',\n",
       " 'swapaxes',\n",
       " 'take',\n",
       " 'tobytes',\n",
       " 'tofile',\n",
       " 'tolist',\n",
       " 'tostring',\n",
       " 'trace',\n",
       " 'transpose',\n",
       " 'var',\n",
       " 'view']"
      ]
     },
     "execution_count": 15,
     "metadata": {},
     "output_type": "execute_result"
    }
   ],
   "source": [
    "dir(two_dimensional)"
   ]
  },
  {
   "cell_type": "code",
   "execution_count": 16,
   "metadata": {
    "collapsed": false
   },
   "outputs": [
    {
     "data": {
      "text/plain": [
       "array([ 3,  4,  5,  6,  7, 12])"
      ]
     },
     "execution_count": 16,
     "metadata": {},
     "output_type": "execute_result"
    }
   ],
   "source": [
    "one_dimensional + 2"
   ]
  },
  {
   "cell_type": "code",
   "execution_count": 18,
   "metadata": {
    "collapsed": false
   },
   "outputs": [
    {
     "data": {
      "text/plain": [
       "array([ 1,  2,  3,  4,  5, 10])"
      ]
     },
     "execution_count": 18,
     "metadata": {},
     "output_type": "execute_result"
    }
   ],
   "source": [
    "one_dimensional"
   ]
  },
  {
   "cell_type": "code",
   "execution_count": 19,
   "metadata": {
    "collapsed": true
   },
   "outputs": [],
   "source": [
    "plus_two = one_dimensional + 2"
   ]
  },
  {
   "cell_type": "code",
   "execution_count": 20,
   "metadata": {
    "collapsed": false
   },
   "outputs": [
    {
     "data": {
      "text/plain": [
       "array([ 4,  6,  8, 10, 12, 22])"
      ]
     },
     "execution_count": 20,
     "metadata": {},
     "output_type": "execute_result"
    }
   ],
   "source": [
    "plus_two + one_dimensional"
   ]
  },
  {
   "cell_type": "code",
   "execution_count": 21,
   "metadata": {
    "collapsed": false
   },
   "outputs": [
    {
     "data": {
      "text/plain": [
       "array([ 3,  6,  9, 12, 15, 30])"
      ]
     },
     "execution_count": 21,
     "metadata": {},
     "output_type": "execute_result"
    }
   ],
   "source": [
    "one_dimensional * 3"
   ]
  },
  {
   "cell_type": "code",
   "execution_count": 22,
   "metadata": {
    "collapsed": false
   },
   "outputs": [
    {
     "data": {
      "text/plain": [
       "array([  3,   8,  15,  24,  35, 120])"
      ]
     },
     "execution_count": 22,
     "metadata": {},
     "output_type": "execute_result"
    }
   ],
   "source": [
    "one_dimensional * plus_two"
   ]
  },
  {
   "cell_type": "code",
   "execution_count": 23,
   "metadata": {
    "collapsed": false
   },
   "outputs": [
    {
     "data": {
      "text/plain": [
       "205"
      ]
     },
     "execution_count": 23,
     "metadata": {},
     "output_type": "execute_result"
    }
   ],
   "source": [
    "(one_dimensional * plus_two).sum()"
   ]
  },
  {
   "cell_type": "code",
   "execution_count": 24,
   "metadata": {
    "collapsed": false
   },
   "outputs": [
    {
     "data": {
      "text/plain": [
       "205"
      ]
     },
     "execution_count": 24,
     "metadata": {},
     "output_type": "execute_result"
    }
   ],
   "source": [
    "one_dimensional.dot(plus_two)"
   ]
  },
  {
   "cell_type": "code",
   "execution_count": 33,
   "metadata": {
    "collapsed": false
   },
   "outputs": [],
   "source": [
    "one_million_data_points = numpy.random.randint(0,1000,10000000)"
   ]
  },
  {
   "cell_type": "code",
   "execution_count": 34,
   "metadata": {
    "collapsed": false
   },
   "outputs": [
    {
     "data": {
      "text/plain": [
       "array([823, 130, 471, ..., 625, 753,  41])"
      ]
     },
     "execution_count": 34,
     "metadata": {},
     "output_type": "execute_result"
    }
   ],
   "source": [
    "one_million_data_points"
   ]
  },
  {
   "cell_type": "code",
   "execution_count": 35,
   "metadata": {
    "collapsed": false
   },
   "outputs": [
    {
     "data": {
      "text/plain": [
       "(10000000,)"
      ]
     },
     "execution_count": 35,
     "metadata": {},
     "output_type": "execute_result"
    }
   ],
   "source": [
    "one_million_data_points.shape"
   ]
  },
  {
   "cell_type": "code",
   "execution_count": 36,
   "metadata": {
    "collapsed": false
   },
   "outputs": [
    {
     "data": {
      "text/plain": [
       "(4, 3)"
      ]
     },
     "execution_count": 36,
     "metadata": {},
     "output_type": "execute_result"
    }
   ],
   "source": [
    "two_dimensional.shape"
   ]
  },
  {
   "cell_type": "code",
   "execution_count": 37,
   "metadata": {
    "collapsed": false
   },
   "outputs": [
    {
     "data": {
      "text/plain": [
       "array([1646,  260,  942, ..., 1250, 1506,   82])"
      ]
     },
     "execution_count": 37,
     "metadata": {},
     "output_type": "execute_result"
    }
   ],
   "source": [
    "one_million_data_points * 2"
   ]
  },
  {
   "cell_type": "markdown",
   "metadata": {},
   "source": [
    "Let's compare the speed of doing that on a python list"
   ]
  },
  {
   "cell_type": "code",
   "execution_count": 38,
   "metadata": {
    "collapsed": true
   },
   "outputs": [],
   "source": [
    "one_million_list_points = list(one_million_data_points)"
   ]
  },
  {
   "cell_type": "code",
   "execution_count": 39,
   "metadata": {
    "collapsed": false
   },
   "outputs": [
    {
     "data": {
      "text/plain": [
       "[1646,\n",
       " 260,\n",
       " 942,\n",
       " 632,\n",
       " 1306,\n",
       " 1864,\n",
       " 230,\n",
       " 1278,\n",
       " 1868,\n",
       " 54,\n",
       " 1662,\n",
       " 662,\n",
       " 560,\n",
       " 166,\n",
       " 550,\n",
       " 50,\n",
       " 626,\n",
       " 114,\n",
       " 798,\n",
       " 1666,\n",
       " 856,\n",
       " 1798,\n",
       " 1104,\n",
       " 766,\n",
       " 1620,\n",
       " 690,\n",
       " 1336,\n",
       " 584,\n",
       " 1612,\n",
       " 98,\n",
       " 78,\n",
       " 1470,\n",
       " 1532,\n",
       " 1284,\n",
       " 1038,\n",
       " 1990,\n",
       " 756,\n",
       " 886,\n",
       " 1368,\n",
       " 630,\n",
       " 1288,\n",
       " 1666,\n",
       " 1068,\n",
       " 378,\n",
       " 1670,\n",
       " 1350,\n",
       " 1810,\n",
       " 1628,\n",
       " 1258,\n",
       " 496,\n",
       " 516,\n",
       " 946,\n",
       " 1394,\n",
       " 428,\n",
       " 716,\n",
       " 1540,\n",
       " 332,\n",
       " 1076,\n",
       " 1846,\n",
       " 1280,\n",
       " 1454,\n",
       " 636,\n",
       " 1638,\n",
       " 476,\n",
       " 1628,\n",
       " 1816,\n",
       " 778,\n",
       " 160,\n",
       " 1160,\n",
       " 1408,\n",
       " 1694,\n",
       " 1462,\n",
       " 586,\n",
       " 1322,\n",
       " 1890,\n",
       " 926,\n",
       " 1878,\n",
       " 860,\n",
       " 562,\n",
       " 768,\n",
       " 478,\n",
       " 1202,\n",
       " 960,\n",
       " 496,\n",
       " 1580,\n",
       " 950,\n",
       " 1418,\n",
       " 128,\n",
       " 1984,\n",
       " 606,\n",
       " 664,\n",
       " 1140,\n",
       " 648,\n",
       " 162,\n",
       " 652,\n",
       " 1978,\n",
       " 402,\n",
       " 552,\n",
       " 596,\n",
       " 1540,\n",
       " 128,\n",
       " 1480,\n",
       " 1546,\n",
       " 976,\n",
       " 128,\n",
       " 432,\n",
       " 534,\n",
       " 1052,\n",
       " 1292,\n",
       " 1540,\n",
       " 1690,\n",
       " 1000,\n",
       " 96,\n",
       " 1764,\n",
       " 894,\n",
       " 1938,\n",
       " 540,\n",
       " 530,\n",
       " 266,\n",
       " 56,\n",
       " 392,\n",
       " 1778,\n",
       " 134,\n",
       " 1328,\n",
       " 522,\n",
       " 1262,\n",
       " 34,\n",
       " 1562,\n",
       " 768,\n",
       " 504,\n",
       " 972,\n",
       " 1090,\n",
       " 1824,\n",
       " 1826,\n",
       " 1188,\n",
       " 96,\n",
       " 202,\n",
       " 1486,\n",
       " 370,\n",
       " 172,\n",
       " 272,\n",
       " 1546,\n",
       " 1178,\n",
       " 1416,\n",
       " 766,\n",
       " 1186,\n",
       " 742,\n",
       " 1940,\n",
       " 990,\n",
       " 1724,\n",
       " 506,\n",
       " 1554,\n",
       " 1664,\n",
       " 404,\n",
       " 1346,\n",
       " 92,\n",
       " 1356,\n",
       " 858,\n",
       " 314,\n",
       " 410,\n",
       " 458,\n",
       " 1664,\n",
       " 370,\n",
       " 1018,\n",
       " 190,\n",
       " 1464,\n",
       " 800,\n",
       " 1780,\n",
       " 268,\n",
       " 1776,\n",
       " 1596,\n",
       " 172,\n",
       " 1554,\n",
       " 1260,\n",
       " 1460,\n",
       " 1342,\n",
       " 768,\n",
       " 1410,\n",
       " 1338,\n",
       " 726,\n",
       " 1780,\n",
       " 1474,\n",
       " 980,\n",
       " 1958,\n",
       " 878,\n",
       " 644,\n",
       " 1858,\n",
       " 586,\n",
       " 1498,\n",
       " 240,\n",
       " 1112,\n",
       " 108,\n",
       " 1858,\n",
       " 196,\n",
       " 1516,\n",
       " 372,\n",
       " 1910,\n",
       " 814,\n",
       " 1670,\n",
       " 486,\n",
       " 336,\n",
       " 80,\n",
       " 1564,\n",
       " 1234,\n",
       " 1966,\n",
       " 1382,\n",
       " 1138,\n",
       " 48,\n",
       " 1904,\n",
       " 1372,\n",
       " 886,\n",
       " 1328,\n",
       " 568,\n",
       " 1074,\n",
       " 1312,\n",
       " 1210,\n",
       " 266,\n",
       " 714,\n",
       " 1472,\n",
       " 1298,\n",
       " 260,\n",
       " 1978,\n",
       " 1732,\n",
       " 1452,\n",
       " 1712,\n",
       " 410,\n",
       " 802,\n",
       " 1452,\n",
       " 1540,\n",
       " 968,\n",
       " 1608,\n",
       " 606,\n",
       " 454,\n",
       " 780,\n",
       " 1132,\n",
       " 246,\n",
       " 1070,\n",
       " 806,\n",
       " 552,\n",
       " 1088,\n",
       " 126,\n",
       " 1936,\n",
       " 850,\n",
       " 1184,\n",
       " 1092,\n",
       " 554,\n",
       " 1792,\n",
       " 572,\n",
       " 1516,\n",
       " 1474,\n",
       " 1512,\n",
       " 780,\n",
       " 1586,\n",
       " 1828,\n",
       " 1430,\n",
       " 466,\n",
       " 218,\n",
       " 1950,\n",
       " 504,\n",
       " 1882,\n",
       " 330,\n",
       " 1244,\n",
       " 1984,\n",
       " 298,\n",
       " 1460,\n",
       " 1762,\n",
       " 184,\n",
       " 974,\n",
       " 1398,\n",
       " 1008,\n",
       " 1246,\n",
       " 448,\n",
       " 480,\n",
       " 258,\n",
       " 754,\n",
       " 1920,\n",
       " 1874,\n",
       " 80,\n",
       " 1824,\n",
       " 1396,\n",
       " 1896,\n",
       " 80,\n",
       " 1990,\n",
       " 682,\n",
       " 834,\n",
       " 842,\n",
       " 1522,\n",
       " 778,\n",
       " 1320,\n",
       " 1312,\n",
       " 1242,\n",
       " 1296,\n",
       " 1536,\n",
       " 1474,\n",
       " 1122,\n",
       " 1116,\n",
       " 154,\n",
       " 48,\n",
       " 1452,\n",
       " 1430,\n",
       " 1630,\n",
       " 872,\n",
       " 1724,\n",
       " 1158,\n",
       " 1276,\n",
       " 48,\n",
       " 1740,\n",
       " 288,\n",
       " 300,\n",
       " 924,\n",
       " 514,\n",
       " 780,\n",
       " 30,\n",
       " 1472,\n",
       " 1658,\n",
       " 726,\n",
       " 200,\n",
       " 472,\n",
       " 138,\n",
       " 940,\n",
       " 368,\n",
       " 584,\n",
       " 1430,\n",
       " 1960,\n",
       " 1702,\n",
       " 1474,\n",
       " 564,\n",
       " 610,\n",
       " 6,\n",
       " 584,\n",
       " 350,\n",
       " 1508,\n",
       " 102,\n",
       " 1464,\n",
       " 240,\n",
       " 958,\n",
       " 644,\n",
       " 1518,\n",
       " 1822,\n",
       " 1154,\n",
       " 862,\n",
       " 820,\n",
       " 1968,\n",
       " 840,\n",
       " 1712,\n",
       " 682,\n",
       " 166,\n",
       " 256,\n",
       " 1850,\n",
       " 1218,\n",
       " 752,\n",
       " 64,\n",
       " 1990,\n",
       " 700,\n",
       " 398,\n",
       " 940,\n",
       " 494,\n",
       " 246,\n",
       " 766,\n",
       " 110,\n",
       " 1060,\n",
       " 978,\n",
       " 464,\n",
       " 916,\n",
       " 752,\n",
       " 318,\n",
       " 1228,\n",
       " 162,\n",
       " 524,\n",
       " 1030,\n",
       " 310,\n",
       " 234,\n",
       " 1888,\n",
       " 274,\n",
       " 1832,\n",
       " 1872,\n",
       " 864,\n",
       " 1674,\n",
       " 928,\n",
       " 1920,\n",
       " 1476,\n",
       " 1308,\n",
       " 1870,\n",
       " 606,\n",
       " 656,\n",
       " 1482,\n",
       " 1922,\n",
       " 1594,\n",
       " 1928,\n",
       " 450,\n",
       " 568,\n",
       " 1062,\n",
       " 968,\n",
       " 94,\n",
       " 730,\n",
       " 394,\n",
       " 808,\n",
       " 198,\n",
       " 1564,\n",
       " 1528,\n",
       " 298,\n",
       " 1972,\n",
       " 690,\n",
       " 1940,\n",
       " 1744,\n",
       " 218,\n",
       " 756,\n",
       " 860,\n",
       " 766,\n",
       " 1272,\n",
       " 1982,\n",
       " 860,\n",
       " 926,\n",
       " 1314,\n",
       " 1046,\n",
       " 824,\n",
       " 188,\n",
       " 524,\n",
       " 686,\n",
       " 1250,\n",
       " 1348,\n",
       " 200,\n",
       " 1878,\n",
       " 1980,\n",
       " 626,\n",
       " 54,\n",
       " 1752,\n",
       " 116,\n",
       " 166,\n",
       " 1606,\n",
       " 1560,\n",
       " 1176,\n",
       " 866,\n",
       " 1578,\n",
       " 688,\n",
       " 594,\n",
       " 1120,\n",
       " 992,\n",
       " 1298,\n",
       " 144,\n",
       " 766,\n",
       " 592,\n",
       " 1548,\n",
       " 1876,\n",
       " 212,\n",
       " 578,\n",
       " 464,\n",
       " 312,\n",
       " 1696,\n",
       " 204,\n",
       " 210,\n",
       " 1812,\n",
       " 1622,\n",
       " 856,\n",
       " 522,\n",
       " 844,\n",
       " 498,\n",
       " 92,\n",
       " 378,\n",
       " 296,\n",
       " 1092,\n",
       " 444,\n",
       " 1256,\n",
       " 506,\n",
       " 1186,\n",
       " 912,\n",
       " 1744,\n",
       " 672,\n",
       " 222,\n",
       " 1360,\n",
       " 952,\n",
       " 906,\n",
       " 1754,\n",
       " 1266,\n",
       " 1412,\n",
       " 1912,\n",
       " 1896,\n",
       " 790,\n",
       " 586,\n",
       " 252,\n",
       " 1658,\n",
       " 1842,\n",
       " 1846,\n",
       " 1460,\n",
       " 1176,\n",
       " 32,\n",
       " 1304,\n",
       " 828,\n",
       " 526,\n",
       " 1408,\n",
       " 74,\n",
       " 512,\n",
       " 404,\n",
       " 398,\n",
       " 1856,\n",
       " 1124,\n",
       " 1020,\n",
       " 1622,\n",
       " 1302,\n",
       " 212,\n",
       " 1778,\n",
       " 1820,\n",
       " 1196,\n",
       " 130,\n",
       " 986,\n",
       " 254,\n",
       " 134,\n",
       " 1694,\n",
       " 900,\n",
       " 1678,\n",
       " 1444,\n",
       " 392,\n",
       " 1594,\n",
       " 164,\n",
       " 466,\n",
       " 36,\n",
       " 510,\n",
       " 1974,\n",
       " 1196,\n",
       " 708,\n",
       " 524,\n",
       " 536,\n",
       " 1352,\n",
       " 1318,\n",
       " 1196,\n",
       " 500,\n",
       " 1940,\n",
       " 434,\n",
       " 1886,\n",
       " 1058,\n",
       " 1920,\n",
       " 1746,\n",
       " 1830,\n",
       " 1700,\n",
       " 1826,\n",
       " 1554,\n",
       " 586,\n",
       " 1690,\n",
       " 656,\n",
       " 430,\n",
       " 1486,\n",
       " 1768,\n",
       " 1552,\n",
       " 1436,\n",
       " 644,\n",
       " 1592,\n",
       " 1360,\n",
       " 1956,\n",
       " 1778,\n",
       " 1014,\n",
       " 1320,\n",
       " 1550,\n",
       " 168,\n",
       " 192,\n",
       " 922,\n",
       " 698,\n",
       " 1316,\n",
       " 1216,\n",
       " 1860,\n",
       " 752,\n",
       " 1734,\n",
       " 182,\n",
       " 1270,\n",
       " 444,\n",
       " 1472,\n",
       " 1586,\n",
       " 1604,\n",
       " 620,\n",
       " 1282,\n",
       " 1424,\n",
       " 1040,\n",
       " 1760,\n",
       " 1086,\n",
       " 1968,\n",
       " 1284,\n",
       " 1830,\n",
       " 1228,\n",
       " 838,\n",
       " 1844,\n",
       " 666,\n",
       " 706,\n",
       " 1054,\n",
       " 750,\n",
       " 94,\n",
       " 346,\n",
       " 486,\n",
       " 278,\n",
       " 252,\n",
       " 516,\n",
       " 1352,\n",
       " 394,\n",
       " 1280,\n",
       " 660,\n",
       " 1312,\n",
       " 1816,\n",
       " 1398,\n",
       " 974,\n",
       " 354,\n",
       " 58,\n",
       " 1390,\n",
       " 1118,\n",
       " 1558,\n",
       " 772,\n",
       " 822,\n",
       " 1048,\n",
       " 1248,\n",
       " 14,\n",
       " 1388,\n",
       " 822,\n",
       " 566,\n",
       " 1786,\n",
       " 8,\n",
       " 380,\n",
       " 1756,\n",
       " 1638,\n",
       " 1842,\n",
       " 1592,\n",
       " 852,\n",
       " 1808,\n",
       " 1406,\n",
       " 472,\n",
       " 264,\n",
       " 598,\n",
       " 502,\n",
       " 1498,\n",
       " 1688,\n",
       " 668,\n",
       " 1574,\n",
       " 1340,\n",
       " 1472,\n",
       " 448,\n",
       " 484,\n",
       " 258,\n",
       " 54,\n",
       " 48,\n",
       " 1010,\n",
       " 1466,\n",
       " 972,\n",
       " 470,\n",
       " 926,\n",
       " 720,\n",
       " 1544,\n",
       " 1410,\n",
       " 662,\n",
       " 124,\n",
       " 762,\n",
       " 1442,\n",
       " 1912,\n",
       " 244,\n",
       " 1260,\n",
       " 406,\n",
       " 12,\n",
       " 1032,\n",
       " 1922,\n",
       " 1072,\n",
       " 188,\n",
       " 664,\n",
       " 1912,\n",
       " 872,\n",
       " 630,\n",
       " 1578,\n",
       " 1140,\n",
       " 930,\n",
       " 1194,\n",
       " 492,\n",
       " 1914,\n",
       " 916,\n",
       " 1134,\n",
       " 246,\n",
       " 198,\n",
       " 20,\n",
       " 840,\n",
       " 964,\n",
       " 1478,\n",
       " 1492,\n",
       " 874,\n",
       " 1330,\n",
       " 298,\n",
       " 72,\n",
       " 1486,\n",
       " 462,\n",
       " 1806,\n",
       " 946,\n",
       " 1474,\n",
       " 1438,\n",
       " 1162,\n",
       " 1910,\n",
       " 1196,\n",
       " 644,\n",
       " 1640,\n",
       " 1064,\n",
       " 530,\n",
       " 1754,\n",
       " 1130,\n",
       " 1494,\n",
       " 458,\n",
       " 1396,\n",
       " 1352,\n",
       " 900,\n",
       " 1046,\n",
       " 1250,\n",
       " 66,\n",
       " 1418,\n",
       " 1422,\n",
       " 1570,\n",
       " 626,\n",
       " 744,\n",
       " 1790,\n",
       " 644,\n",
       " 1188,\n",
       " 1216,\n",
       " 810,\n",
       " 448,\n",
       " 294,\n",
       " 812,\n",
       " 364,\n",
       " 366,\n",
       " 314,\n",
       " 1508,\n",
       " 1976,\n",
       " 1160,\n",
       " 744,\n",
       " 1716,\n",
       " 56,\n",
       " 1080,\n",
       " 1502,\n",
       " 570,\n",
       " 968,\n",
       " 1136,\n",
       " 1980,\n",
       " 488,\n",
       " 932,\n",
       " 686,\n",
       " 1910,\n",
       " 628,\n",
       " 102,\n",
       " 1006,\n",
       " 1016,\n",
       " 1096,\n",
       " 60,\n",
       " 1542,\n",
       " 1230,\n",
       " 98,\n",
       " 1856,\n",
       " 1780,\n",
       " 1844,\n",
       " 1492,\n",
       " 184,\n",
       " 1958,\n",
       " 1642,\n",
       " 1388,\n",
       " 718,\n",
       " 406,\n",
       " 1168,\n",
       " 1418,\n",
       " 632,\n",
       " 1234,\n",
       " 1600,\n",
       " 402,\n",
       " 1640,\n",
       " 850,\n",
       " 810,\n",
       " 766,\n",
       " 1864,\n",
       " 718,\n",
       " 1254,\n",
       " 798,\n",
       " 862,\n",
       " 1616,\n",
       " 946,\n",
       " 1782,\n",
       " 658,\n",
       " 1296,\n",
       " 1954,\n",
       " 126,\n",
       " 402,\n",
       " 78,\n",
       " 1990,\n",
       " 1452,\n",
       " 852,\n",
       " 1918,\n",
       " 1454,\n",
       " 1938,\n",
       " 1014,\n",
       " 1372,\n",
       " 138,\n",
       " 986,\n",
       " 1974,\n",
       " 600,\n",
       " 892,\n",
       " 938,\n",
       " 556,\n",
       " 298,\n",
       " 654,\n",
       " 1836,\n",
       " 238,\n",
       " 1358,\n",
       " 1842,\n",
       " 1134,\n",
       " 808,\n",
       " 634,\n",
       " 1212,\n",
       " 16,\n",
       " 1370,\n",
       " 1044,\n",
       " 1476,\n",
       " 66,\n",
       " 1724,\n",
       " 30,\n",
       " 734,\n",
       " 1876,\n",
       " 1502,\n",
       " 1358,\n",
       " 490,\n",
       " 748,\n",
       " 614,\n",
       " 1622,\n",
       " 1522,\n",
       " 1602,\n",
       " 934,\n",
       " 1306,\n",
       " 182,\n",
       " 1806,\n",
       " 86,\n",
       " 1464,\n",
       " 736,\n",
       " 1780,\n",
       " 738,\n",
       " 1418,\n",
       " 28,\n",
       " 1690,\n",
       " 864,\n",
       " 264,\n",
       " 416,\n",
       " 1964,\n",
       " 500,\n",
       " 976,\n",
       " 726,\n",
       " 756,\n",
       " 1198,\n",
       " 1444,\n",
       " 830,\n",
       " 1132,\n",
       " 566,\n",
       " 752,\n",
       " 612,\n",
       " 628,\n",
       " 1298,\n",
       " 398,\n",
       " 542,\n",
       " 754,\n",
       " 1846,\n",
       " 1578,\n",
       " 1158,\n",
       " 1898,\n",
       " 228,\n",
       " 86,\n",
       " 942,\n",
       " 1824,\n",
       " 1998,\n",
       " 454,\n",
       " 1620,\n",
       " 60,\n",
       " 1578,\n",
       " 1630,\n",
       " 1460,\n",
       " 1678,\n",
       " 686,\n",
       " 872,\n",
       " 1286,\n",
       " 560,\n",
       " 1338,\n",
       " 1194,\n",
       " 1724,\n",
       " 858,\n",
       " 960,\n",
       " 224,\n",
       " 1050,\n",
       " 252,\n",
       " 840,\n",
       " 998,\n",
       " 1484,\n",
       " 894,\n",
       " 1436,\n",
       " 32,\n",
       " 1934,\n",
       " 1796,\n",
       " 1338,\n",
       " 1122,\n",
       " 966,\n",
       " 154,\n",
       " 1762,\n",
       " 808,\n",
       " 960,\n",
       " 1318,\n",
       " 736,\n",
       " 1176,\n",
       " 90,\n",
       " 946,\n",
       " 78,\n",
       " 1826,\n",
       " 542,\n",
       " 1326,\n",
       " 1452,\n",
       " 1404,\n",
       " 1038,\n",
       " 564,\n",
       " 282,\n",
       " 1670,\n",
       " 470,\n",
       " 256,\n",
       " 1030,\n",
       " 428,\n",
       " 1696,\n",
       " 486,\n",
       " 780,\n",
       " 1350,\n",
       " 1850,\n",
       " 1464,\n",
       " 1778,\n",
       " 1564,\n",
       " 1552,\n",
       " 522,\n",
       " 306,\n",
       " 780,\n",
       " 892,\n",
       " 1964,\n",
       " 116,\n",
       " 1090,\n",
       " 1910,\n",
       " 326,\n",
       " 936,\n",
       " 588,\n",
       " 894,\n",
       " 1144,\n",
       " 490,\n",
       " 312,\n",
       " 834,\n",
       " 1694,\n",
       " 114,\n",
       " 278,\n",
       " 642,\n",
       " 992,\n",
       " 1958,\n",
       " 866,\n",
       " 506,\n",
       " 988,\n",
       " 1518,\n",
       " 378,\n",
       " 448,\n",
       " 1874,\n",
       " 1392,\n",
       " 244,\n",
       " 78,\n",
       " 1194,\n",
       " 926,\n",
       " 1242,\n",
       " 970,\n",
       " 810,\n",
       " 1544,\n",
       " 518,\n",
       " 1984,\n",
       " 190,\n",
       " 1808,\n",
       " 1856,\n",
       " 818,\n",
       " 504,\n",
       " 1810,\n",
       " 1480,\n",
       " 478,\n",
       " 214,\n",
       " 1766,\n",
       " 1670,\n",
       " 148,\n",
       " 1134,\n",
       " 946,\n",
       " 452,\n",
       " 1212,\n",
       " 874,\n",
       " 1290,\n",
       " 778,\n",
       " 990,\n",
       " 526,\n",
       " 1214,\n",
       " 1652,\n",
       " 926,\n",
       " 1666,\n",
       " 1890,\n",
       " 1886,\n",
       " 1324,\n",
       " 1990,\n",
       " 1672,\n",
       " 1006,\n",
       " 298,\n",
       " 544,\n",
       " 128,\n",
       " 1416,\n",
       " 392,\n",
       " 990,\n",
       " 244,\n",
       " ...]"
      ]
     },
     "execution_count": 39,
     "metadata": {},
     "output_type": "execute_result"
    }
   ],
   "source": [
    "new_list = []\n",
    "for i in range(len(one_million_data_points)):\n",
    "    new_list.append(one_million_data_points[i]*2)\n",
    "new_list"
   ]
  },
  {
   "cell_type": "code",
   "execution_count": null,
   "metadata": {
    "collapsed": true
   },
   "outputs": [],
   "source": []
  }
 ],
 "metadata": {
  "kernelspec": {
   "display_name": "Python [Root]",
   "language": "python",
   "name": "Python [Root]"
  },
  "language_info": {
   "codemirror_mode": {
    "name": "ipython",
    "version": 2
   },
   "file_extension": ".py",
   "mimetype": "text/x-python",
   "name": "python",
   "nbconvert_exporter": "python",
   "pygments_lexer": "ipython2",
   "version": "2.7.12"
  }
 },
 "nbformat": 4,
 "nbformat_minor": 0
}
