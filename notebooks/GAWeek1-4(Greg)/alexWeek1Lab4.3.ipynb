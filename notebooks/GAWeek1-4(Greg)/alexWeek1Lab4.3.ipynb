{
 "cells": [
  {
   "cell_type": "code",
   "execution_count": 1,
   "metadata": {
    "collapsed": false
   },
   "outputs": [
    {
     "data": {
      "text/plain": [
       "array([41, 12, 79, 58, 59, 47, 37, 76, 34, 56,  9, 90, 87, 33, 31, 69, 82,\n",
       "       61, 20, 56, 12, 68, 46, 97, 80])"
      ]
     },
     "execution_count": 1,
     "metadata": {},
     "output_type": "execute_result"
    }
   ],
   "source": [
    "import numpy as np \n",
    "import math \n",
    "\n",
    "# create an array\n",
    "x = np.random.randint(1,100,25)\n",
    "x"
   ]
  },
  {
   "cell_type": "code",
   "execution_count": 2,
   "metadata": {
    "collapsed": false
   },
   "outputs": [
    {
     "name": "stdout",
     "output_type": "stream",
     "text": [
      "638.72\n",
      "638.72\n"
     ]
    }
   ],
   "source": [
    "# Write a function that computes the variance\n",
    "def alexvar(x):\n",
    "    avgx = np.mean(x)\n",
    "    sum = 0\n",
    "    for i in x:\n",
    "        sum += (i - avgx)**2\n",
    "    result = sum/(len(x))\n",
    "    return result\n",
    "print alexvar(x)\n",
    "# Compare your function results with numpy results\n",
    "print np.var(x)"
   ]
  },
  {
   "cell_type": "code",
   "execution_count": 4,
   "metadata": {
    "collapsed": false
   },
   "outputs": [
    {
     "name": "stdout",
     "output_type": "stream",
     "text": [
      "25.2729103983\n",
      "25.2729103983\n"
     ]
    }
   ],
   "source": [
    "# Write a function that computes the standard deviation and\n",
    "def alexstd(x):\n",
    "    result = (alexvar(x))**(0.5)\n",
    "    return result\n",
    "\n",
    "print alexstd(x)\n",
    "\n",
    "# compare your function results with numpy equivalents. \n",
    "print np.std(x)"
   ]
  },
  {
   "cell_type": "code",
   "execution_count": null,
   "metadata": {
    "collapsed": true
   },
   "outputs": [],
   "source": []
  }
 ],
 "metadata": {
  "kernelspec": {
   "display_name": "Python [Root]",
   "language": "python",
   "name": "Python [Root]"
  },
  "language_info": {
   "codemirror_mode": {
    "name": "ipython",
    "version": 2
   },
   "file_extension": ".py",
   "mimetype": "text/x-python",
   "name": "python",
   "nbconvert_exporter": "python",
   "pygments_lexer": "ipython2",
   "version": "2.7.12"
  }
 },
 "nbformat": 4,
 "nbformat_minor": 0
}
