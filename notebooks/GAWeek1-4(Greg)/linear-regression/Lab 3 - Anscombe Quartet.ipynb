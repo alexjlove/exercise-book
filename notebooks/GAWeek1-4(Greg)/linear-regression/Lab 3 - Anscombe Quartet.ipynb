{
 "cells": [
  {
   "cell_type": "markdown",
   "metadata": {},
   "source": [
    "# Lab 3 - Exploring Anscombe's Quartet\n",
    "\n",
    "Francis Anscombe was an English statistician who loved graphs and wanted to demonstrate how numerical precision and numerical exploration aren't always as useful as a well-drawn graph."
   ]
  },
  {
   "cell_type": "code",
   "execution_count": null,
   "metadata": {
    "collapsed": false
   },
   "outputs": [],
   "source": [
    "%matplotlib inline\n"
   ]
  },
  {
   "cell_type": "code",
   "execution_count": null,
   "metadata": {
    "collapsed": true
   },
   "outputs": [],
   "source": [
    "import pandas\n",
    "import matplotlib.pyplot\n",
    "import sklearn.linear_model\n",
    "import time"
   ]
  },
  {
   "cell_type": "code",
   "execution_count": null,
   "metadata": {
    "collapsed": true
   },
   "outputs": [],
   "source": [
    "df = pandas.read_csv('anscombe.csv', sep='\\t')\n"
   ]
  },
  {
   "cell_type": "code",
   "execution_count": null,
   "metadata": {
    "collapsed": false
   },
   "outputs": [],
   "source": [
    "df"
   ]
  },
  {
   "cell_type": "code",
   "execution_count": null,
   "metadata": {
    "collapsed": false
   },
   "outputs": [],
   "source": [
    "matplotlib.pyplot.scatter(df.one_x, df.one_y, color='red')"
   ]
  },
  {
   "cell_type": "markdown",
   "metadata": {},
   "source": [
    "**Anscombe's First Dataset** is a fairly straight-forward linear relationship.\n",
    "\n",
    "* Which regressors do you think will do a good job with this?"
   ]
  },
  {
   "cell_type": "code",
   "execution_count": null,
   "metadata": {
    "collapsed": false
   },
   "outputs": [],
   "source": [
    "clf = sklearn.linear_model.LinearRegression()\n",
    "clf.fit(df.loc[:,['one_x']], df.one_y)\n",
    "theil = sklearn.linear_model.TheilSenRegressor()\n",
    "theil.fit(df.loc[:,['one_x']], df.one_y)\n",
    "ransac = sklearn.linear_model.RANSACRegressor()\n",
    "ransac.fit(df.loc[:,['one_x']], df.one_y)\n",
    "matplotlib.pyplot.scatter(df.one_x, df.one_y)\n",
    "matplotlib.pyplot.plot(df.one_x, clf.predict(df.one_x.reshape(-1,1)), color='blue', linewidth=3)\n",
    "matplotlib.pyplot.plot(df.one_x, theil.predict(df.one_x.reshape(-1,1)), color='red', linewidth=1)\n",
    "matplotlib.pyplot.plot(df.one_x, ransac.predict(df.one_x.reshape(-1,1)), color='yellow', linewidth=1)"
   ]
  },
  {
   "cell_type": "code",
   "execution_count": null,
   "metadata": {
    "collapsed": true
   },
   "outputs": [],
   "source": [
    "matplotlib.pyplot.scatter(df.two_x, df.two_y, color='green')"
   ]
  },
  {
   "cell_type": "markdown",
   "metadata": {},
   "source": [
    "**Anscombe's Second Dataset** isn't linear at all.\n",
    "\n",
    "* What would you expect from a linear regressor?\n",
    "* (Hard) What could you regress against to expect a good result?"
   ]
  },
  {
   "cell_type": "code",
   "execution_count": null,
   "metadata": {
    "collapsed": false
   },
   "outputs": [],
   "source": [
    "import sklearn.linear_model\n",
    "import matplotlib.pyplot\n",
    "clf = sklearn.linear_model.LinearRegression()\n",
    "clf.fit(df.loc[:,['two_x']], df.two_y)\n",
    "theil = sklearn.linear_model.TheilSenRegressor()\n",
    "theil.fit(df.loc[:,['two_x']], df.two_y)\n",
    "ransac = sklearn.linear_model.RANSACRegressor()\n",
    "ransac.fit(df.loc[:,['two_x']], df.two_y)\n",
    "matplotlib.pyplot.scatter(df.two_x, df.two_y)\n",
    "matplotlib.pyplot.plot(df.two_x, clf.predict(df.two_x.reshape(-1,1)), color='blue', linewidth=3)\n",
    "matplotlib.pyplot.plot(df.two_x, theil.predict(df.two_x.reshape(-1,1)), color='red', linewidth=1)\n",
    "matplotlib.pyplot.plot(df.two_x, ransac.predict(df.two_x.reshape(-1,1)), color='yellow', linewidth=1)"
   ]
  },
  {
   "cell_type": "code",
   "execution_count": null,
   "metadata": {
    "collapsed": true
   },
   "outputs": [],
   "source": [
    "matplotlib.pyplot.scatter(df.three_x, df.three_y, color='blue')"
   ]
  },
  {
   "cell_type": "markdown",
   "metadata": {},
   "source": [
    "**Anscombe's Third Dataset** has an outlier.\n",
    "\n",
    "* Which regressors will cope with this?"
   ]
  },
  {
   "cell_type": "code",
   "execution_count": null,
   "metadata": {
    "collapsed": false
   },
   "outputs": [],
   "source": [
    "import sklearn.linear_model\n",
    "import matplotlib.pyplot\n",
    "clf = sklearn.linear_model.LinearRegression()\n",
    "clf.fit(df.loc[:,['three_x']], df.three_y)\n",
    "theil = sklearn.linear_model.TheilSenRegressor()\n",
    "theil.fit(df.loc[:,['three_x']], df.three_y)\n",
    "ransac = sklearn.linear_model.RANSACRegressor()\n",
    "ransac.fit(df.loc[:,[\"three_x\"]], df.three_y)\n",
    "matplotlib.pyplot.scatter(df.three_x, df.three_y)\n",
    "matplotlib.pyplot.plot(df.three_x, clf.predict(df.three_x.reshape(-1,1)), color='blue', linewidth=3)\n",
    "matplotlib.pyplot.plot(df.three_x, theil.predict(df.three_x.reshape(-1,1)), color='red', linewidth=1)\n",
    "matplotlib.pyplot.plot(df.three_x, ransac.predict(df.three_x.reshape(-1,1)), color='yellow', linewidth=1)"
   ]
  },
  {
   "cell_type": "code",
   "execution_count": null,
   "metadata": {
    "collapsed": true
   },
   "outputs": [],
   "source": [
    "matplotlib.pyplot.scatter(df.four_x, df.four_y, color='black')"
   ]
  },
  {
   "cell_type": "markdown",
   "metadata": {},
   "source": [
    "**Anscombe's Fourth Dataset** shows very little relationship at all between X and Y\n",
    "\n",
    "* Which regressors will cope with this?\n",
    "* What actually happens?\n",
    "\n",
    "(Hint: infinite gradients are considered NaN and ignored)"
   ]
  },
  {
   "cell_type": "code",
   "execution_count": null,
   "metadata": {
    "collapsed": false
   },
   "outputs": [],
   "source": [
    "import sklearn.linear_model\n",
    "import matplotlib.pyplot\n",
    "clf = sklearn.linear_model.LinearRegression()\n",
    "clf.fit(df.loc[:,['four_x']], df.four_y)\n",
    "theil = sklearn.linear_model.TheilSenRegressor()\n",
    "theil.fit(df.loc[:,['four_x']], df.four_y)\n",
    "ransac = sklearn.linear_model.RANSACRegressor()\n",
    "ransac.fit(df.loc[:,['four_x']], df.four_y)\n",
    "matplotlib.pyplot.scatter(df.four_x, df.four_y)\n",
    "matplotlib.pyplot.plot(df.four_x, clf.predict(df.four_x.reshape(-1,1)), color='blue', linewidth=3)\n",
    "matplotlib.pyplot.plot(df.four_x, theil.predict(df.four_x.reshape(-1,1)), color='red', linewidth=1)\n",
    "matplotlib.pyplot.plot(df.four_x, ransac.predict(df.four_x.reshape(-1,1)), color='yellow', linewidth=1)"
   ]
  },
  {
   "cell_type": "code",
   "execution_count": null,
   "metadata": {
    "collapsed": true
   },
   "outputs": [],
   "source": []
  }
 ],
 "metadata": {
  "kernelspec": {
   "display_name": "Python 2",
   "language": "python",
   "name": "python2"
  },
  "language_info": {
   "codemirror_mode": {
    "name": "ipython",
    "version": 2
   },
   "file_extension": ".py",
   "mimetype": "text/x-python",
   "name": "python",
   "nbconvert_exporter": "python",
   "pygments_lexer": "ipython2",
   "version": "2.7.11"
  }
 },
 "nbformat": 4,
 "nbformat_minor": 0
}
