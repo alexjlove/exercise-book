{
 "cells": [
  {
   "cell_type": "markdown",
   "metadata": {},
   "source": [
    "# Support Vector Machines Lab"
   ]
  },
  {
   "cell_type": "markdown",
   "metadata": {},
   "source": [
    "In this lab we will explore several datasets with SVMs. The assets folder contains several datasets (in order of complexity):\n",
    "\n",
    "1. Breast cancer\n",
    "- Spambase\n",
    "- Car evaluation\n",
    "- Mushroom\n",
    "\n",
    "For each of these a `.names` file is provided with details on the origin of data."
   ]
  },
  {
   "cell_type": "markdown",
   "metadata": {},
   "source": [
    "# Exercise 1: Breast Cancer\n",
    "\n",
    "\n",
    "\n",
    "## 1.a: Load the Data\n",
    "Use `pandas.read_csv` to load the data and assess the following:\n",
    "- Are there any missing values? (how are they encoded? do we impute them?)\n",
    "- Are the features categorical or numerical?\n",
    "- Are the values normalized?\n",
    "- How many classes are there in the target?\n",
    "\n",
    "Perform what's necessary to get to a point where you have a feature matrix `X` and a target vector `y`, both with only numerical entries."
   ]
  },
  {
   "cell_type": "code",
   "execution_count": 1,
   "metadata": {
    "collapsed": false,
    "scrolled": true
   },
   "outputs": [
    {
     "name": "stdout",
     "output_type": "stream",
     "text": [
      "<class 'pandas.core.frame.DataFrame'>\n",
      "RangeIndex: 699 entries, 0 to 698\n",
      "Data columns (total 11 columns):\n",
      "Sample_code_number             699 non-null int64\n",
      "Clump_Thickness                699 non-null int64\n",
      "Uniformity_of_Cell_Size        699 non-null int64\n",
      "Uniformity_of_Cell_Shape       699 non-null int64\n",
      "Marginal_Adhesion              699 non-null int64\n",
      "Single_Epithelial_Cell_Size    699 non-null int64\n",
      "Bare_Nuclei                    683 non-null float64\n",
      "Bland_Chromatin                699 non-null int64\n",
      "Normal_Nucleoli                699 non-null int64\n",
      "Mitoses                        699 non-null int64\n",
      "Class                          699 non-null int64\n",
      "dtypes: float64(1), int64(10)\n",
      "memory usage: 60.1 KB\n"
     ]
    }
   ],
   "source": [
    "import pandas as pd\n",
    "import numpy as np\n",
    "cancer = pd.read_csv('/home/useraj/Documents/exercise-book/notebooks/CSV/breast_cancer.csv', na_values='?')\n",
    "cancer.info()"
   ]
  },
  {
   "cell_type": "code",
   "execution_count": 2,
   "metadata": {
    "collapsed": false
   },
   "outputs": [
    {
     "data": {
      "text/plain": [
       "<matplotlib.axes._subplots.AxesSubplot at 0x7f2a01ba1690>"
      ]
     },
     "execution_count": 2,
     "metadata": {},
     "output_type": "execute_result"
    },
    {
     "data": {
      "image/png": "[encoded data removed]",
      "text/plain": [
       "<matplotlib.figure.Figure at 0x7f2a087c4250>"
      ]
     },
     "metadata": {},
     "output_type": "display_data"
    }
   ],
   "source": [
    "import matplotlib.pyplot as plt\n",
    "%matplotlib inline\n",
    "cancer['Bare_Nuclei'].hist()"
   ]
  },
  {
   "cell_type": "code",
   "execution_count": 3,
   "metadata": {
    "collapsed": false
   },
   "outputs": [
    {
     "data": {
      "text/plain": [
       "2    14\n",
       "4     2\n",
       "Name: Class, dtype: int64"
      ]
     },
     "execution_count": 3,
     "metadata": {},
     "output_type": "execute_result"
    }
   ],
   "source": [
    "cancer.ix[cancer['Bare_Nuclei'].isnull()]['Class'].value_counts()"
   ]
  },
  {
   "cell_type": "code",
   "execution_count": 4,
   "metadata": {
    "collapsed": false
   },
   "outputs": [
    {
     "name": "stdout",
     "output_type": "stream",
     "text": [
      "<class 'pandas.core.frame.DataFrame'>\n",
      "Int64Index: 683 entries, 0 to 698\n",
      "Data columns (total 11 columns):\n",
      "Sample_code_number             683 non-null int64\n",
      "Clump_Thickness                683 non-null int64\n",
      "Uniformity_of_Cell_Size        683 non-null int64\n",
      "Uniformity_of_Cell_Shape       683 non-null int64\n",
      "Marginal_Adhesion              683 non-null int64\n",
      "Single_Epithelial_Cell_Size    683 non-null int64\n",
      "Bare_Nuclei                    683 non-null float64\n",
      "Bland_Chromatin                683 non-null int64\n",
      "Normal_Nucleoli                683 non-null int64\n",
      "Mitoses                        683 non-null int64\n",
      "Class                          683 non-null int64\n",
      "dtypes: float64(1), int64(10)\n",
      "memory usage: 64.0 KB\n"
     ]
    }
   ],
   "source": [
    "cancer.dropna(inplace=True)\n",
    "cancer.info()"
   ]
  },
  {
   "cell_type": "code",
   "execution_count": 5,
   "metadata": {
    "collapsed": false
   },
   "outputs": [],
   "source": [
    "x_columns = ['Clump_Thickness', 'Uniformity_of_Cell_Size', 'Uniformity_of_Cell_Shape', 'Marginal_Adhesion',\n",
    "             'Single_Epithelial_Cell_Size', 'Bare_Nuclei', 'Bland_Chromatin', 'Normal_Nucleoli', 'Mitoses']\n",
    "X = cancer[x_columns]\n",
    "y = cancer.Class == 4"
   ]
  },
  {
   "cell_type": "markdown",
   "metadata": {},
   "source": [
    "## 1.b: Model Building\n",
    "\n",
    "- What's the baseline for the accuracy?\n",
    "- Initialize and train a linear svm. What's the average accuracy score with a 3-fold cross validation?\n",
    "- Repeat using an rbf classifier. Compare the scores. Which one is better?\n",
    "- Are your features normalized? if not, try normalizing and repeat the test. Does the score improve?\n",
    "- What's the best model?\n",
    "- Print a confusion matrix and classification report for your best model using:\n",
    "        train_test_split(X, y, stratify=y, test_size=0.33, random_state=42)\n",
    "\n",
    "**Check** to decide which model is best, look at the average cross validation score. Are the scores significantly different from one another?"
   ]
  },
  {
   "cell_type": "code",
   "execution_count": 6,
   "metadata": {
    "collapsed": false
   },
   "outputs": [
    {
     "data": {
      "text/plain": [
       "False    0.650073\n",
       "True     0.349927\n",
       "Name: Class, dtype: float64"
      ]
     },
     "execution_count": 6,
     "metadata": {},
     "output_type": "execute_result"
    }
   ],
   "source": [
    "y.value_counts() / len(y)"
   ]
  },
  {
   "cell_type": "code",
   "execution_count": 7,
   "metadata": {
    "collapsed": false
   },
   "outputs": [
    {
     "name": "stdout",
     "output_type": "stream",
     "text": [
      "SVC(C=1.0, cache_size=200, class_weight=None, coef0=0.0,\n",
      "  decision_function_shape=None, degree=3, gamma='auto', kernel='linear',\n",
      "  max_iter=-1, probability=False, random_state=None, shrinking=True,\n",
      "  tol=0.001, verbose=False)\n",
      "Score: 0.965 +/- 0.0179\n"
     ]
    }
   ],
   "source": [
    "from sklearn.svm import SVC\n",
    "from sklearn.model_selection import cross_val_score\n",
    "import numpy as np\n",
    "\n",
    "svm = SVC(kernel = 'linear')\n",
    "\n",
    "def val_score(model, X, y, cv):\n",
    "    print model\n",
    "    score = cross_val_score(model, X, y, cv=cv)\n",
    "    mean = score.mean()\n",
    "    std = score.std()\n",
    "    print \"Score: {:.3} +/- {:.3}\".format(mean, std)\n",
    "\n",
    "val_score(svm, X, y, 3)"
   ]
  },
  {
   "cell_type": "code",
   "execution_count": 8,
   "metadata": {
    "collapsed": false
   },
   "outputs": [
    {
     "name": "stdout",
     "output_type": "stream",
     "text": [
      "SVC(C=1.0, cache_size=200, class_weight=None, coef0=0.0,\n",
      "  decision_function_shape=None, degree=3, gamma='auto', kernel='rbf',\n",
      "  max_iter=-1, probability=False, random_state=None, shrinking=True,\n",
      "  tol=0.001, verbose=False)\n",
      "Score: 0.958 +/- 0.0251\n"
     ]
    }
   ],
   "source": [
    "rbf = SVC(kernel = 'rbf')\n",
    "\n",
    "val_score(rbf, X, y, 3)"
   ]
  },
  {
   "cell_type": "code",
   "execution_count": 9,
   "metadata": {
    "collapsed": false
   },
   "outputs": [
    {
     "name": "stdout",
     "output_type": "stream",
     "text": [
      "Pipeline(steps=[('standardscaler', StandardScaler(copy=True, with_mean=True, with_std=True)), ('svc', SVC(C=1.0, cache_size=200, class_weight=None, coef0=0.0,\n",
      "  decision_function_shape=None, degree=3, gamma='auto', kernel='linear',\n",
      "  max_iter=-1, probability=False, random_state=None, shrinking=True,\n",
      "  tol=0.001, verbose=False))])\n",
      "Score: 0.966 +/- 0.0161\n"
     ]
    }
   ],
   "source": [
    "from sklearn.preprocessing import StandardScaler\n",
    "from sklearn.pipeline import make_pipeline\n",
    "\n",
    "scaled_svm = make_pipeline(StandardScaler(), svm)\n",
    "val_score(scaled_svm, X, y, 3)"
   ]
  },
  {
   "cell_type": "code",
   "execution_count": 10,
   "metadata": {
    "collapsed": false
   },
   "outputs": [
    {
     "name": "stdout",
     "output_type": "stream",
     "text": [
      "Pipeline(steps=[('standardscaler', StandardScaler(copy=True, with_mean=True, with_std=True)), ('svc', SVC(C=1.0, cache_size=200, class_weight=None, coef0=0.0,\n",
      "  decision_function_shape=None, degree=3, gamma='auto', kernel='rbf',\n",
      "  max_iter=-1, probability=False, random_state=None, shrinking=True,\n",
      "  tol=0.001, verbose=False))])\n",
      "Score: 0.968 +/- 0.018\n"
     ]
    }
   ],
   "source": [
    "scaled_rbf = make_pipeline(StandardScaler(), rbf)\n",
    "val_score(scaled_rbf, X, y, 3)"
   ]
  },
  {
   "cell_type": "code",
   "execution_count": 11,
   "metadata": {
    "collapsed": false
   },
   "outputs": [
    {
     "name": "stdout",
     "output_type": "stream",
     "text": [
      "           Pred_Benign  Pred_Malignant\n",
      "Benign             142               5\n",
      "Malignant            3              76\n",
      "\n",
      "             precision    recall  f1-score   support\n",
      "\n",
      "      False       0.98      0.97      0.97       147\n",
      "       True       0.94      0.96      0.95        79\n",
      "\n",
      "avg / total       0.96      0.96      0.96       226\n",
      "\n"
     ]
    },
    {
     "name": "stderr",
     "output_type": "stream",
     "text": [
      "/home/useraj/anaconda2/lib/python2.7/site-packages/sklearn/cross_validation.py:44: DeprecationWarning: This module was deprecated in version 0.18 in favor of the model_selection module into which all the refactored classes and functions are moved. Also note that the interface of the new CV iterators are different from that of this module. This module will be removed in 0.20.\n",
      "  \"This module will be removed in 0.20.\", DeprecationWarning)\n"
     ]
    }
   ],
   "source": [
    "from sklearn.cross_validation import train_test_split\n",
    "from sklearn.metrics import confusion_matrix, classification_report\n",
    "\n",
    "X_train, X_test, y_train, y_test = train_test_split(X, y, stratify=y, test_size=0.33, random_state=42)\n",
    "scaled_rbf.fit(X_train, y_train)\n",
    "y_pred = scaled_rbf.predict(X_test)\n",
    "\n",
    "names = ['Benign', 'Malignant']\n",
    "cols = ['Pred_' + name for name in names]\n",
    "cm = confusion_matrix(y_test, y_pred)\n",
    "confusion_df = pd.DataFrame(cm, columns=cols, index=names)\n",
    "\n",
    "print confusion_df\n",
    "print\n",
    "print classification_report(y_test, y_pred)"
   ]
  },
  {
   "cell_type": "markdown",
   "metadata": {},
   "source": [
    "**Check:** Are there more false positives or false negatives? Is this good or bad?\n",
    "\n",
    "**Answer:** There are more false positives. Depends on what point of view: The patient thinks they have cancer when they actually don't and the insurance has to pay for unnecessary treatment."
   ]
  },
  {
   "cell_type": "markdown",
   "metadata": {},
   "source": [
    "## 1.c: Feature Selection\n",
    "\n",
    "Use any of the strategies offered by `sklearn` to select the most important features.\n",
    "\n",
    "Repeat the cross validation with only those 5 features. Does the score change?"
   ]
  },
  {
   "cell_type": "code",
   "execution_count": 12,
   "metadata": {
    "collapsed": false
   },
   "outputs": [
    {
     "name": "stdout",
     "output_type": "stream",
     "text": [
      "           Pred_Benign  Pred_Malignant\n",
      "Benign             142               5\n",
      "Malignant            4              75\n",
      "\n",
      "             precision    recall  f1-score   support\n",
      "\n",
      "      False       0.97      0.97      0.97       147\n",
      "       True       0.94      0.95      0.94        79\n",
      "\n",
      "avg / total       0.96      0.96      0.96       226\n",
      "\n"
     ]
    }
   ],
   "source": [
    "from sklearn.feature_selection import SelectKBest, chi2\n",
    "\n",
    "selector = SelectKBest(chi2, 5)\n",
    "new_data = selector.fit_transform(X, y)\n",
    "columns = X.columns[selector.get_support()]\n",
    "new_X = X[columns]\n",
    "\n",
    "X_train, X_test, y_train, y_test = train_test_split(new_X, y, stratify=y, test_size=0.33, random_state=42)\n",
    "\n",
    "scaled_rbf.fit(X_train, y_train)\n",
    "y_pred = scaled_rbf.predict(X_test)\n",
    "\n",
    "names = ['Benign', 'Malignant']\n",
    "cols = ['Pred_' + name for name in names]\n",
    "cm = confusion_matrix(y_test, y_pred)\n",
    "confusion_df = pd.DataFrame(cm, columns=cols, index=names)\n",
    "print confusion_df\n",
    "print\n",
    "print classification_report(y_test, y_pred)\n"
   ]
  },
  {
   "cell_type": "markdown",
   "metadata": {},
   "source": [
    "## 1.d: Learning Curves\n",
    "\n",
    "Learning curves are useful to study the behavior of training and test errors as a function of the number of datapoints available.\n",
    "\n",
    "- Plot learning curves for train sizes between 10% and 100% (use StratifiedKFold with 5 folds as cross validation)\n",
    "- What can you say about the dataset? do you need more data or do you need a better model?"
   ]
  },
  {
   "cell_type": "code",
   "execution_count": 13,
   "metadata": {
    "collapsed": false
   },
   "outputs": [
    {
     "data": {
      "image/png": "[encoded data removed]",
      "text/plain": [
       "<matplotlib.figure.Figure at 0x7f29f4910a10>"
      ]
     },
     "metadata": {},
     "output_type": "display_data"
    }
   ],
   "source": [
    "from sklearn.model_selection import learning_curve\n",
    "from sklearn.model_selection import StratifiedKFold\n",
    "\n",
    "def plot_learning_curve(estimator, title, X, y, ylim=None, cv=None,\n",
    "                        n_jobs=1, train_sizes=np.linspace(.1, 1.0, 5)):\n",
    "    \"\"\"\n",
    "    Generate a simple plot of the test and training learning curve.\n",
    "\n",
    "    Parameters\n",
    "    ----------\n",
    "    estimator : object type that implements the \"fit\" and \"predict\" methods\n",
    "        An object of that type which is cloned for each validation.\n",
    "\n",
    "    title : string\n",
    "        Title for the chart.\n",
    "\n",
    "    X : array-like, shape (n_samples, n_features)\n",
    "        Training vector, where n_samples is the number of samples and\n",
    "        n_features is the number of features.\n",
    "\n",
    "    y : array-like, shape (n_samples) or (n_samples, n_features), optional\n",
    "        Target relative to X for classification or regression;\n",
    "        None for unsupervised learning.\n",
    "\n",
    "    ylim : tuple, shape (ymin, ymax), optional\n",
    "        Defines minimum and maximum yvalues plotted.\n",
    "\n",
    "    cv : int, cross-validation generator or an iterable, optional\n",
    "        Determines the cross-validation splitting strategy.\n",
    "        Possible inputs for cv are:\n",
    "          - None, to use the default 3-fold cross-validation,\n",
    "          - integer, to specify the number of folds.\n",
    "          - An object to be used as a cross-validation generator.\n",
    "          - An iterable yielding train/test splits.\n",
    "\n",
    "        For integer/None inputs, if ``y`` is binary or multiclass,\n",
    "        :class:`StratifiedKFold` used. If the estimator is not a classifier\n",
    "        or if ``y`` is neither binary nor multiclass, :class:`KFold` is used.\n",
    "\n",
    "        Refer :ref:`User Guide <cross_validation>` for the various\n",
    "        cross-validators that can be used here.\n",
    "\n",
    "    n_jobs : integer, optional\n",
    "        Number of jobs to run in parallel (default 1).\n",
    "    \"\"\"\n",
    "    plt.figure()\n",
    "    plt.title(title)\n",
    "    if ylim is not None:\n",
    "        plt.ylim(*ylim)\n",
    "    plt.xlabel(\"Training examples\")\n",
    "    plt.ylabel(\"Score\")\n",
    "    train_sizes, train_scores, test_scores = learning_curve(\n",
    "        estimator, X, y, cv=cv, n_jobs=n_jobs, train_sizes=train_sizes)\n",
    "    train_scores_mean = np.mean(train_scores, axis=1)\n",
    "    train_scores_std = np.std(train_scores, axis=1)\n",
    "    test_scores_mean = np.mean(test_scores, axis=1)\n",
    "    test_scores_std = np.std(test_scores, axis=1)\n",
    "    plt.grid()\n",
    "\n",
    "    plt.fill_between(train_sizes, train_scores_mean - train_scores_std,\n",
    "                     train_scores_mean + train_scores_std, alpha=0.1,\n",
    "                     color=\"r\")\n",
    "    plt.fill_between(train_sizes, test_scores_mean - test_scores_std,\n",
    "                     test_scores_mean + test_scores_std, alpha=0.1, color=\"g\")\n",
    "    plt.plot(train_sizes, train_scores_mean, 'o-', color=\"r\",\n",
    "             label=\"Training score\")\n",
    "    plt.plot(train_sizes, test_scores_mean, 'o-', color=\"g\",\n",
    "             label=\"Cross-validation score\")\n",
    "\n",
    "    plt.legend(loc=\"best\")\n",
    "    return plt.show()\n",
    "\n",
    "title = \"Learning Curves (SVM, RBF kernel)\"\n",
    "cv = StratifiedKFold(n_splits=5)\n",
    "estimator = scaled_rbf\n",
    "plot_learning_curve(estimator, title, X_train, y_train, (0.7, 1.01), cv=cv, n_jobs=4)\n"
   ]
  },
  {
   "cell_type": "markdown",
   "metadata": {},
   "source": [
    "##  1.e: Grid Ssearch\n",
    "\n",
    "Use the grid_search function to explore different kernels and values for the C parameter.\n",
    "\n",
    "- Can you improve on your best previous score?\n",
    "- Print the best parameters and the best score"
   ]
  },
  {
   "cell_type": "code",
   "execution_count": 14,
   "metadata": {
    "collapsed": false
   },
   "outputs": [
    {
     "name": "stdout",
     "output_type": "stream",
     "text": [
      "{'kernel': 'linear', 'C': 0.5}\n",
      "0.966325036603\n"
     ]
    }
   ],
   "source": [
    "params = {'kernel': ['linear', 'rbf', 'poly', 'sigmoid'],\n",
    "          'C': [0.5, 1, 4, 6]}\n",
    "\n",
    "from sklearn.model_selection import GridSearchCV\n",
    "searcher = GridSearchCV(rbf, params, cv=5)\n",
    "searcher.fit(X, y)\n",
    "print searcher.best_params_\n",
    "print searcher.best_score_\n"
   ]
  },
  {
   "cell_type": "markdown",
   "metadata": {},
   "source": [
    "# Exercise 2\n",
    "Now that you've completed steps 1.a through 1.e it's time to tackle some harder datasets. But before we do that, let's encapsulate a few things into functions so that it's easier to repeat the analysis.\n",
    "\n",
    "## 2.a: Cross Validation\n",
    "Implement a function `do_cv(model, X, y, cv)` that does the following:\n",
    "- Calculates the cross validation scores\n",
    "- Prints the model\n",
    "- Prints and returns the mean and the standard deviation of the cross validation scores"
   ]
  },
  {
   "cell_type": "code",
   "execution_count": 15,
   "metadata": {
    "collapsed": true
   },
   "outputs": [],
   "source": [
    "def do_cv(model, X, y, cv):\n",
    "    score = cross_val_score(model, X, y, cv=cv)\n",
    "    print model\n",
    "    mean = score.mean()\n",
    "    std = score.std()\n",
    "    print \"Score: {:.3} +/- {:.3}\".format(mean, std)\n",
    "    "
   ]
  },
  {
   "cell_type": "markdown",
   "metadata": {},
   "source": [
    "## 2.b: Confusion Matrix and Classification report\n",
    "Implement a function `do_cm_cr(model, X, y, names)` that automates the following:\n",
    "- Split the data using `train_test_split(X, y, stratify=y, test_size=0.33, random_state=42)`\n",
    "- Fit the model\n",
    "- Prints confusion matrix and classification report in a nice format\n",
    "\n",
    "**Hint:** names is the list of target classes"
   ]
  },
  {
   "cell_type": "code",
   "execution_count": 16,
   "metadata": {
    "collapsed": false
   },
   "outputs": [],
   "source": [
    "def do_cm_cr(model, X, y, names):\n",
    "    train_X, test_X, train_y, test_y = train_test_split(X, y, stratify=y, test_size=0.33, random_state=42)\n",
    "    model.fit(train_X, train_y)\n",
    "    pred_y = model.predict(test_X)\n",
    "    columns = ['Pred_{}'.format(i) for i in names]\n",
    "    index = ['Actual_{}'.format(i) for i in names]\n",
    "    print pd.DataFrame(confusion_matrix(test_y, pred_y), columns=columns, index=index)\n",
    "    print classification_report(test_y, pred_y)\n",
    "    return train_X, test_X, train_y, test_y"
   ]
  },
  {
   "cell_type": "markdown",
   "metadata": {},
   "source": [
    "## 2.c: Learning Curves\n",
    "Implement a function `do_learning_curve(model, X, y, sizes)` that automates drawing the learning curves:\n",
    "- Allow for sizes input\n",
    "- Use 5-fold StratifiedKFold cross validation"
   ]
  },
  {
   "cell_type": "markdown",
   "metadata": {},
   "source": [
    "*See above*"
   ]
  },
  {
   "cell_type": "markdown",
   "metadata": {},
   "source": [
    "## 2.d: Grid Search\n",
    "Implement a function `do_grid_search(model, parameters)` that automates the grid search by doing:\n",
    "- Calculate grid search\n",
    "- Print best parameters\n",
    "- Print best score\n",
    "- Return best estimator\n"
   ]
  },
  {
   "cell_type": "code",
   "execution_count": 17,
   "metadata": {
    "collapsed": true
   },
   "outputs": [],
   "source": [
    "def do_grid_search(model, parameters, X, y):\n",
    "    grid = GridSearchCV(model, parameters, cv=5, n_jobs=-1)\n",
    "    grid.fit(X, y)\n",
    "    print grid.best_params_\n",
    "    print grid.best_score_\n",
    "    return grid.best_estimator_"
   ]
  },
  {
   "cell_type": "markdown",
   "metadata": {},
   "source": [
    "# Exercise 3\n",
    "Using the functions above, analyze the Spambase dataset.\n",
    "\n",
    "Notice that now you have many more features. Focus your attention on step C => feature selection\n",
    "\n",
    "- Load the data and get to X, y\n",
    "- Select the 15 best features\n",
    "- Perform grid search to determine best model\n",
    "- Display learning curves"
   ]
  },
  {
   "cell_type": "code",
   "execution_count": 18,
   "metadata": {
    "collapsed": false
   },
   "outputs": [
    {
     "data": {
      "text/html": [
       "<div>\n",
       "<table border=\"1\" class=\"dataframe\">\n",
       "  <thead>\n",
       "    <tr style=\"text-align: right;\">\n",
       "      <th></th>\n",
       "      <th>word_freq_make</th>\n",
       "      <th>word_freq_address</th>\n",
       "      <th>word_freq_all</th>\n",
       "      <th>word_freq_3d</th>\n",
       "      <th>word_freq_our</th>\n",
       "      <th>word_freq_over</th>\n",
       "      <th>word_freq_remove</th>\n",
       "      <th>word_freq_internet</th>\n",
       "      <th>word_freq_order</th>\n",
       "      <th>word_freq_mail</th>\n",
       "      <th>...</th>\n",
       "      <th>char_freq_;</th>\n",
       "      <th>char_freq_(</th>\n",
       "      <th>char_freq_[</th>\n",
       "      <th>char_freq_!</th>\n",
       "      <th>char_freq_$</th>\n",
       "      <th>char_freq_#</th>\n",
       "      <th>capital_run_length_average</th>\n",
       "      <th>capital_run_length_longest</th>\n",
       "      <th>capital_run_length_total</th>\n",
       "      <th>class</th>\n",
       "    </tr>\n",
       "  </thead>\n",
       "  <tbody>\n",
       "    <tr>\n",
       "      <th>0</th>\n",
       "      <td>0.00</td>\n",
       "      <td>0.64</td>\n",
       "      <td>0.64</td>\n",
       "      <td>0.0</td>\n",
       "      <td>0.32</td>\n",
       "      <td>0.00</td>\n",
       "      <td>0.00</td>\n",
       "      <td>0.00</td>\n",
       "      <td>0.00</td>\n",
       "      <td>0.00</td>\n",
       "      <td>...</td>\n",
       "      <td>0.00</td>\n",
       "      <td>0.000</td>\n",
       "      <td>0.0</td>\n",
       "      <td>0.778</td>\n",
       "      <td>0.000</td>\n",
       "      <td>0.000</td>\n",
       "      <td>3.756</td>\n",
       "      <td>61</td>\n",
       "      <td>278</td>\n",
       "      <td>1</td>\n",
       "    </tr>\n",
       "    <tr>\n",
       "      <th>1</th>\n",
       "      <td>0.21</td>\n",
       "      <td>0.28</td>\n",
       "      <td>0.50</td>\n",
       "      <td>0.0</td>\n",
       "      <td>0.14</td>\n",
       "      <td>0.28</td>\n",
       "      <td>0.21</td>\n",
       "      <td>0.07</td>\n",
       "      <td>0.00</td>\n",
       "      <td>0.94</td>\n",
       "      <td>...</td>\n",
       "      <td>0.00</td>\n",
       "      <td>0.132</td>\n",
       "      <td>0.0</td>\n",
       "      <td>0.372</td>\n",
       "      <td>0.180</td>\n",
       "      <td>0.048</td>\n",
       "      <td>5.114</td>\n",
       "      <td>101</td>\n",
       "      <td>1028</td>\n",
       "      <td>1</td>\n",
       "    </tr>\n",
       "    <tr>\n",
       "      <th>2</th>\n",
       "      <td>0.06</td>\n",
       "      <td>0.00</td>\n",
       "      <td>0.71</td>\n",
       "      <td>0.0</td>\n",
       "      <td>1.23</td>\n",
       "      <td>0.19</td>\n",
       "      <td>0.19</td>\n",
       "      <td>0.12</td>\n",
       "      <td>0.64</td>\n",
       "      <td>0.25</td>\n",
       "      <td>...</td>\n",
       "      <td>0.01</td>\n",
       "      <td>0.143</td>\n",
       "      <td>0.0</td>\n",
       "      <td>0.276</td>\n",
       "      <td>0.184</td>\n",
       "      <td>0.010</td>\n",
       "      <td>9.821</td>\n",
       "      <td>485</td>\n",
       "      <td>2259</td>\n",
       "      <td>1</td>\n",
       "    </tr>\n",
       "    <tr>\n",
       "      <th>3</th>\n",
       "      <td>0.00</td>\n",
       "      <td>0.00</td>\n",
       "      <td>0.00</td>\n",
       "      <td>0.0</td>\n",
       "      <td>0.63</td>\n",
       "      <td>0.00</td>\n",
       "      <td>0.31</td>\n",
       "      <td>0.63</td>\n",
       "      <td>0.31</td>\n",
       "      <td>0.63</td>\n",
       "      <td>...</td>\n",
       "      <td>0.00</td>\n",
       "      <td>0.137</td>\n",
       "      <td>0.0</td>\n",
       "      <td>0.137</td>\n",
       "      <td>0.000</td>\n",
       "      <td>0.000</td>\n",
       "      <td>3.537</td>\n",
       "      <td>40</td>\n",
       "      <td>191</td>\n",
       "      <td>1</td>\n",
       "    </tr>\n",
       "    <tr>\n",
       "      <th>4</th>\n",
       "      <td>0.00</td>\n",
       "      <td>0.00</td>\n",
       "      <td>0.00</td>\n",
       "      <td>0.0</td>\n",
       "      <td>0.63</td>\n",
       "      <td>0.00</td>\n",
       "      <td>0.31</td>\n",
       "      <td>0.63</td>\n",
       "      <td>0.31</td>\n",
       "      <td>0.63</td>\n",
       "      <td>...</td>\n",
       "      <td>0.00</td>\n",
       "      <td>0.135</td>\n",
       "      <td>0.0</td>\n",
       "      <td>0.135</td>\n",
       "      <td>0.000</td>\n",
       "      <td>0.000</td>\n",
       "      <td>3.537</td>\n",
       "      <td>40</td>\n",
       "      <td>191</td>\n",
       "      <td>1</td>\n",
       "    </tr>\n",
       "  </tbody>\n",
       "</table>\n",
       "<p>5 rows × 58 columns</p>\n",
       "</div>"
      ],
      "text/plain": [
       "   word_freq_make  word_freq_address  word_freq_all  word_freq_3d  \\\n",
       "0            0.00               0.64           0.64           0.0   \n",
       "1            0.21               0.28           0.50           0.0   \n",
       "2            0.06               0.00           0.71           0.0   \n",
       "3            0.00               0.00           0.00           0.0   \n",
       "4            0.00               0.00           0.00           0.0   \n",
       "\n",
       "   word_freq_our  word_freq_over  word_freq_remove  word_freq_internet  \\\n",
       "0           0.32            0.00              0.00                0.00   \n",
       "1           0.14            0.28              0.21                0.07   \n",
       "2           1.23            0.19              0.19                0.12   \n",
       "3           0.63            0.00              0.31                0.63   \n",
       "4           0.63            0.00              0.31                0.63   \n",
       "\n",
       "   word_freq_order  word_freq_mail  ...    char_freq_;  char_freq_(  \\\n",
       "0             0.00            0.00  ...           0.00        0.000   \n",
       "1             0.00            0.94  ...           0.00        0.132   \n",
       "2             0.64            0.25  ...           0.01        0.143   \n",
       "3             0.31            0.63  ...           0.00        0.137   \n",
       "4             0.31            0.63  ...           0.00        0.135   \n",
       "\n",
       "   char_freq_[  char_freq_!  char_freq_$  char_freq_#  \\\n",
       "0          0.0        0.778        0.000        0.000   \n",
       "1          0.0        0.372        0.180        0.048   \n",
       "2          0.0        0.276        0.184        0.010   \n",
       "3          0.0        0.137        0.000        0.000   \n",
       "4          0.0        0.135        0.000        0.000   \n",
       "\n",
       "   capital_run_length_average  capital_run_length_longest  \\\n",
       "0                       3.756                          61   \n",
       "1                       5.114                         101   \n",
       "2                       9.821                         485   \n",
       "3                       3.537                          40   \n",
       "4                       3.537                          40   \n",
       "\n",
       "   capital_run_length_total  class  \n",
       "0                       278      1  \n",
       "1                      1028      1  \n",
       "2                      2259      1  \n",
       "3                       191      1  \n",
       "4                       191      1  \n",
       "\n",
       "[5 rows x 58 columns]"
      ]
     },
     "execution_count": 18,
     "metadata": {},
     "output_type": "execute_result"
    }
   ],
   "source": [
    "spam = pd.read_csv('../CSV/spambase.csv')\n",
    "spam.head()"
   ]
  },
  {
   "cell_type": "code",
   "execution_count": 19,
   "metadata": {
    "collapsed": false
   },
   "outputs": [],
   "source": [
    "X = spam.drop('class', axis=1)\n",
    "y = spam['class']\n",
    "selector = SelectKBest(chi2, 15)\n",
    "new_data = selector.fit_transform(X, y)\n",
    "columns = X.columns[selector.get_support()]\n",
    "new_X = X[columns]"
   ]
  },
  {
   "cell_type": "code",
   "execution_count": null,
   "metadata": {
    "collapsed": false
   },
   "outputs": [],
   "source": [
    "svc = SVC()\n",
    "params = {'kernel': ['linear', 'rbf', 'poly'],\n",
    "          'C': [0.5, 1, 4, 6]}\n",
    "bestsvc = do_grid_search(svc, params, new_X, y)"
   ]
  },
  {
   "cell_type": "code",
   "execution_count": null,
   "metadata": {
    "collapsed": true
   },
   "outputs": [],
   "source": [
    "train_X, test_X, train_y, test_y = do_cm_cr(bestsvc, new_X, y, names)"
   ]
  },
  {
   "cell_type": "code",
   "execution_count": null,
   "metadata": {
    "collapsed": true
   },
   "outputs": [],
   "source": [
    "title = \"Learning Curves (SVM, RBF kernel)\"\n",
    "cv = StratifiedKFold(n_splits=5)\n",
    "estimator = bestsvc\n",
    "plot_learning_curve(estimator, title, X_train, y_train, (0.7, 1.01), cv=cv, n_jobs=4)"
   ]
  },
  {
   "cell_type": "markdown",
   "metadata": {},
   "source": [
    "# Exercise 4\n",
    "Repeat steps 1.a - 1.e for the car dataset. Notice that now features are categorical, not numerical.\n",
    "- Find a suitable way to encode them\n",
    "- How does this change our modeling strategy?\n",
    "\n",
    "Also notice that the target variable `acceptability` has 4 classes. How do we encode them?\n"
   ]
  },
  {
   "cell_type": "code",
   "execution_count": null,
   "metadata": {
    "collapsed": false
   },
   "outputs": [],
   "source": [
    "car = pd.read_csv('CSV/car.csv')\n"
   ]
  },
  {
   "cell_type": "markdown",
   "metadata": {},
   "source": [
    "# Bonus\n",
    "Repeat steps 1.a - 1.e for the mushroom dataset. Notice that now features are categorical, not numerical. This dataset is quite large.\n",
    "- How does this change our modeling strategy?\n",
    "- Can we use feature selection to improve this?\n"
   ]
  },
  {
   "cell_type": "code",
   "execution_count": null,
   "metadata": {
    "collapsed": true
   },
   "outputs": [],
   "source": [
    "mushroom = pd.read_csv('CSV/mushroom.csv')"
   ]
  }
 ],
 "metadata": {
  "kernelspec": {
   "display_name": "Python [Root]",
   "language": "python",
   "name": "Python [Root]"
  },
  "language_info": {
   "codemirror_mode": {
    "name": "ipython",
    "version": 2
   },
   "file_extension": ".py",
   "mimetype": "text/x-python",
   "name": "python",
   "nbconvert_exporter": "python",
   "pygments_lexer": "ipython2",
   "version": "2.7.12"
  }
 },
 "nbformat": 4,
 "nbformat_minor": 0
}
