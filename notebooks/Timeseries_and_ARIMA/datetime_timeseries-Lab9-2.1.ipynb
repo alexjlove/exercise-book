{
 "cells": [
  {
   "cell_type": "markdown",
   "metadata": {},
   "source": [
    "# Datetime"
   ]
  },
  {
   "cell_type": "code",
   "execution_count": 1,
   "metadata": {
    "collapsed": false
   },
   "outputs": [],
   "source": [
    "from datetime import datetime\n",
    "from datetime import timedelta\n",
    "\n",
    "# Time this lesson plan was written\n",
    "lesson_date = datetime(2016, 3, 5, 23, 31, 1, 844089)"
   ]
  },
  {
   "cell_type": "markdown",
   "metadata": {},
   "source": [
    "Exercise 1: Write a function to print the day of the week the lesson plan was written."
   ]
  },
  {
   "cell_type": "code",
   "execution_count": 2,
   "metadata": {
    "collapsed": false
   },
   "outputs": [
    {
     "data": {
      "text/plain": [
       "'Saturday'"
      ]
     },
     "execution_count": 2,
     "metadata": {},
     "output_type": "execute_result"
    }
   ],
   "source": [
    "def day_of_week(date):\n",
    "    days_of_week = {0: 'Monday', 1: 'Tuesday', 2: 'Wednesday', 3: 'Thursday', 4: 'Friday', 5: 'Saturday', 6: 'Sunday'}\n",
    "    return days_of_week[date.weekday()]\n",
    "\n",
    "day_of_week(lesson_date)"
   ]
  },
  {
   "cell_type": "markdown",
   "metadata": {},
   "source": [
    "Exercise 2: How do I get an object with the current time?"
   ]
  },
  {
   "cell_type": "code",
   "execution_count": 3,
   "metadata": {
    "collapsed": false
   },
   "outputs": [
    {
     "data": {
      "text/plain": [
       "datetime.datetime(2016, 11, 1, 10, 47, 13, 676433)"
      ]
     },
     "execution_count": 3,
     "metadata": {},
     "output_type": "execute_result"
    }
   ],
   "source": [
    "datetime.now()"
   ]
  },
  {
   "cell_type": "markdown",
   "metadata": {},
   "source": [
    "Exercise 3: What is the Gregorian ordinal representation of the date? Using this value, how many days ago was this lesson plan written?"
   ]
  },
  {
   "cell_type": "code",
   "execution_count": 5,
   "metadata": {
    "collapsed": false
   },
   "outputs": [
    {
     "data": {
      "text/plain": [
       "241"
      ]
     },
     "execution_count": 5,
     "metadata": {},
     "output_type": "execute_result"
    }
   ],
   "source": [
    "datetime.now().toordinal() - lesson_date.toordinal()"
   ]
  },
  {
   "cell_type": "markdown",
   "metadata": {},
   "source": [
    "Exercise 4: Try using `timedelta` to shift our DateTime object by the following intervals:\n",
    "- 1 hour ahead\n",
    "- 3 days ago\n",
    "- 1 year, 3 days, 2 seconds ahead"
   ]
  },
  {
   "cell_type": "code",
   "execution_count": 6,
   "metadata": {
    "collapsed": false
   },
   "outputs": [
    {
     "data": {
      "text/plain": [
       "datetime.datetime(2016, 3, 6, 0, 31, 1, 844089)"
      ]
     },
     "execution_count": 6,
     "metadata": {},
     "output_type": "execute_result"
    }
   ],
   "source": [
    "lesson_date + timedelta(hours=1)"
   ]
  },
  {
   "cell_type": "code",
   "execution_count": 7,
   "metadata": {
    "collapsed": false
   },
   "outputs": [
    {
     "data": {
      "text/plain": [
       "datetime.datetime(2016, 3, 2, 23, 31, 1, 844089)"
      ]
     },
     "execution_count": 7,
     "metadata": {},
     "output_type": "execute_result"
    }
   ],
   "source": [
    "lesson_date - timedelta(days=3)"
   ]
  },
  {
   "cell_type": "code",
   "execution_count": 10,
   "metadata": {
    "collapsed": false
   },
   "outputs": [
    {
     "data": {
      "text/plain": [
       "datetime.datetime(2017, 3, 8, 23, 31, 3, 844089)"
      ]
     },
     "execution_count": 10,
     "metadata": {},
     "output_type": "execute_result"
    }
   ],
   "source": [
    "lesson_date + timedelta(days=368, seconds=2)"
   ]
  },
  {
   "cell_type": "markdown",
   "metadata": {},
   "source": [
    "# Timeseries"
   ]
  },
  {
   "cell_type": "code",
   "execution_count": 23,
   "metadata": {
    "collapsed": false
   },
   "outputs": [
    {
     "name": "stdout",
     "output_type": "stream",
     "text": [
      "Populating the interactive namespace from numpy and matplotlib\n"
     ]
    }
   ],
   "source": [
    "import pandas as pd\n",
    "from datetime import timedelta\n",
    "%pylab inline\n",
    "\n",
    "df_goog = pd.read_csv('CSV/goog.csv')"
   ]
  },
  {
   "cell_type": "markdown",
   "metadata": {},
   "source": [
    "Take a high-level look at the data. Describe it. What are we looking at? Hint: We can use our `plot` function to provide a good visual."
   ]
  },
  {
   "cell_type": "code",
   "execution_count": 24,
   "metadata": {
    "collapsed": false
   },
   "outputs": [
    {
     "data": {
      "text/html": [
       "<div>\n",
       "<table border=\"1\" class=\"dataframe\">\n",
       "  <thead>\n",
       "    <tr style=\"text-align: right;\">\n",
       "      <th></th>\n",
       "      <th>Open</th>\n",
       "      <th>High</th>\n",
       "      <th>Low</th>\n",
       "      <th>Close</th>\n",
       "      <th>Volume</th>\n",
       "      <th>Adj Close</th>\n",
       "    </tr>\n",
       "  </thead>\n",
       "  <tbody>\n",
       "    <tr>\n",
       "      <th>count</th>\n",
       "      <td>22.000000</td>\n",
       "      <td>22.000000</td>\n",
       "      <td>22.000000</td>\n",
       "      <td>22.000000</td>\n",
       "      <td>2.200000e+01</td>\n",
       "      <td>22.000000</td>\n",
       "    </tr>\n",
       "    <tr>\n",
       "      <th>mean</th>\n",
       "      <td>575.890686</td>\n",
       "      <td>609.268155</td>\n",
       "      <td>552.366753</td>\n",
       "      <td>584.801935</td>\n",
       "      <td>2.019245e+06</td>\n",
       "      <td>584.801935</td>\n",
       "    </tr>\n",
       "    <tr>\n",
       "      <th>std</th>\n",
       "      <td>56.597440</td>\n",
       "      <td>71.429837</td>\n",
       "      <td>64.162213</td>\n",
       "      <td>69.206444</td>\n",
       "      <td>6.682940e+05</td>\n",
       "      <td>69.206444</td>\n",
       "    </tr>\n",
       "    <tr>\n",
       "      <th>min</th>\n",
       "      <td>524.729980</td>\n",
       "      <td>541.412415</td>\n",
       "      <td>487.562195</td>\n",
       "      <td>520.510010</td>\n",
       "      <td>2.530000e+04</td>\n",
       "      <td>520.510010</td>\n",
       "    </tr>\n",
       "    <tr>\n",
       "      <th>25%</th>\n",
       "      <td>538.548111</td>\n",
       "      <td>565.495086</td>\n",
       "      <td>516.023072</td>\n",
       "      <td>538.463135</td>\n",
       "      <td>1.685675e+06</td>\n",
       "      <td>538.463135</td>\n",
       "    </tr>\n",
       "    <tr>\n",
       "      <th>50%</th>\n",
       "      <td>560.617554</td>\n",
       "      <td>581.727631</td>\n",
       "      <td>534.417419</td>\n",
       "      <td>559.487549</td>\n",
       "      <td>1.856900e+06</td>\n",
       "      <td>559.487549</td>\n",
       "    </tr>\n",
       "    <tr>\n",
       "      <th>75%</th>\n",
       "      <td>577.745132</td>\n",
       "      <td>639.383209</td>\n",
       "      <td>565.040634</td>\n",
       "      <td>600.655640</td>\n",
       "      <td>2.387900e+06</td>\n",
       "      <td>600.655640</td>\n",
       "    </tr>\n",
       "    <tr>\n",
       "      <th>max</th>\n",
       "      <td>747.109985</td>\n",
       "      <td>775.955017</td>\n",
       "      <td>745.630005</td>\n",
       "      <td>762.369995</td>\n",
       "      <td>3.290800e+06</td>\n",
       "      <td>762.369995</td>\n",
       "    </tr>\n",
       "  </tbody>\n",
       "</table>\n",
       "</div>"
      ],
      "text/plain": [
       "             Open        High         Low       Close        Volume  \\\n",
       "count   22.000000   22.000000   22.000000   22.000000  2.200000e+01   \n",
       "mean   575.890686  609.268155  552.366753  584.801935  2.019245e+06   \n",
       "std     56.597440   71.429837   64.162213   69.206444  6.682940e+05   \n",
       "min    524.729980  541.412415  487.562195  520.510010  2.530000e+04   \n",
       "25%    538.548111  565.495086  516.023072  538.463135  1.685675e+06   \n",
       "50%    560.617554  581.727631  534.417419  559.487549  1.856900e+06   \n",
       "75%    577.745132  639.383209  565.040634  600.655640  2.387900e+06   \n",
       "max    747.109985  775.955017  745.630005  762.369995  3.290800e+06   \n",
       "\n",
       "        Adj Close  \n",
       "count   22.000000  \n",
       "mean   584.801935  \n",
       "std     69.206444  \n",
       "min    520.510010  \n",
       "25%    538.463135  \n",
       "50%    559.487549  \n",
       "75%    600.655640  \n",
       "max    762.369995  "
      ]
     },
     "execution_count": 24,
     "metadata": {},
     "output_type": "execute_result"
    }
   ],
   "source": [
    "df_goog.describe()"
   ]
  },
  {
   "cell_type": "code",
   "execution_count": 25,
   "metadata": {
    "collapsed": false
   },
   "outputs": [
    {
     "data": {
      "text/plain": [
       "<matplotlib.axes._subplots.AxesSubplot at 0x7f72104c4490>"
      ]
     },
     "execution_count": 25,
     "metadata": {},
     "output_type": "execute_result"
    },
    {
     "data": {
      "image/png": "[encoded data removed]",
      "text/plain": [
       "<matplotlib.figure.Figure at 0x7f721052cc10>"
      ]
     },
     "metadata": {},
     "output_type": "display_data"
    }
   ],
   "source": [
    "df_goog.plot()"
   ]
  },
  {
   "cell_type": "code",
   "execution_count": 26,
   "metadata": {
    "collapsed": false
   },
   "outputs": [
    {
     "data": {
      "text/plain": [
       "<matplotlib.axes._subplots.AxesSubplot at 0x7f72103c0ed0>"
      ]
     },
     "execution_count": 26,
     "metadata": {},
     "output_type": "execute_result"
    },
    {
     "data": {
      "image/png": "[encoded data removed]",
      "text/plain": [
       "<matplotlib.figure.Figure at 0x7f72103a2750>"
      ]
     },
     "metadata": {},
     "output_type": "display_data"
    }
   ],
   "source": [
    "df_goog[['Open','Close','High','Low','Adj Close']].plot()"
   ]
  },
  {
   "cell_type": "markdown",
   "metadata": {},
   "source": [
    "Looking a little deeper, let's gauge the integrity of our data. Is there any cleaning we can do? "
   ]
  },
  {
   "cell_type": "code",
   "execution_count": 27,
   "metadata": {
    "collapsed": false
   },
   "outputs": [
    {
     "data": {
      "text/plain": [
       "Date          object\n",
       "Open         float64\n",
       "High         float64\n",
       "Low          float64\n",
       "Close        float64\n",
       "Volume         int64\n",
       "Adj Close    float64\n",
       "dtype: object"
      ]
     },
     "execution_count": 27,
     "metadata": {},
     "output_type": "execute_result"
    }
   ],
   "source": [
    "df_goog.dtypes"
   ]
  },
  {
   "cell_type": "code",
   "execution_count": 28,
   "metadata": {
    "collapsed": false
   },
   "outputs": [
    {
     "data": {
      "text/html": [
       "<div>\n",
       "<table border=\"1\" class=\"dataframe\">\n",
       "  <thead>\n",
       "    <tr style=\"text-align: right;\">\n",
       "      <th></th>\n",
       "      <th>Date</th>\n",
       "      <th>Open</th>\n",
       "      <th>High</th>\n",
       "      <th>Low</th>\n",
       "      <th>Close</th>\n",
       "      <th>Volume</th>\n",
       "      <th>Adj Close</th>\n",
       "    </tr>\n",
       "  </thead>\n",
       "  <tbody>\n",
       "    <tr>\n",
       "      <th>0</th>\n",
       "      <td>2015-12-01</td>\n",
       "      <td>747.109985</td>\n",
       "      <td>775.955017</td>\n",
       "      <td>745.630005</td>\n",
       "      <td>762.369995</td>\n",
       "      <td>2519600</td>\n",
       "      <td>762.369995</td>\n",
       "    </tr>\n",
       "    <tr>\n",
       "      <th>1</th>\n",
       "      <td>2015-11-02</td>\n",
       "      <td>711.059998</td>\n",
       "      <td>762.708008</td>\n",
       "      <td>705.849976</td>\n",
       "      <td>742.599976</td>\n",
       "      <td>1795300</td>\n",
       "      <td>742.599976</td>\n",
       "    </tr>\n",
       "    <tr>\n",
       "      <th>2</th>\n",
       "      <td>2015-10-01</td>\n",
       "      <td>608.369995</td>\n",
       "      <td>730.000000</td>\n",
       "      <td>599.849976</td>\n",
       "      <td>710.809998</td>\n",
       "      <td>2337100</td>\n",
       "      <td>710.809998</td>\n",
       "    </tr>\n",
       "    <tr>\n",
       "      <th>3</th>\n",
       "      <td>2015-09-01</td>\n",
       "      <td>602.359985</td>\n",
       "      <td>650.900024</td>\n",
       "      <td>589.380005</td>\n",
       "      <td>608.419983</td>\n",
       "      <td>2398400</td>\n",
       "      <td>608.419983</td>\n",
       "    </tr>\n",
       "    <tr>\n",
       "      <th>4</th>\n",
       "      <td>2015-08-03</td>\n",
       "      <td>625.340027</td>\n",
       "      <td>674.900024</td>\n",
       "      <td>565.049988</td>\n",
       "      <td>618.250000</td>\n",
       "      <td>2661600</td>\n",
       "      <td>618.250000</td>\n",
       "    </tr>\n",
       "    <tr>\n",
       "      <th>5</th>\n",
       "      <td>2015-07-01</td>\n",
       "      <td>524.729980</td>\n",
       "      <td>678.640015</td>\n",
       "      <td>515.179993</td>\n",
       "      <td>625.609985</td>\n",
       "      <td>2955600</td>\n",
       "      <td>625.609985</td>\n",
       "    </tr>\n",
       "    <tr>\n",
       "      <th>6</th>\n",
       "      <td>2015-06-01</td>\n",
       "      <td>536.789978</td>\n",
       "      <td>543.739990</td>\n",
       "      <td>520.500000</td>\n",
       "      <td>520.510010</td>\n",
       "      <td>1662400</td>\n",
       "      <td>520.510010</td>\n",
       "    </tr>\n",
       "    <tr>\n",
       "      <th>7</th>\n",
       "      <td>2015-05-01</td>\n",
       "      <td>538.429993</td>\n",
       "      <td>544.190002</td>\n",
       "      <td>521.085022</td>\n",
       "      <td>532.109985</td>\n",
       "      <td>1723100</td>\n",
       "      <td>532.109985</td>\n",
       "    </tr>\n",
       "    <tr>\n",
       "      <th>8</th>\n",
       "      <td>2015-04-01</td>\n",
       "      <td>548.602417</td>\n",
       "      <td>571.142578</td>\n",
       "      <td>521.012390</td>\n",
       "      <td>537.340027</td>\n",
       "      <td>2116700</td>\n",
       "      <td>537.340027</td>\n",
       "    </tr>\n",
       "    <tr>\n",
       "      <th>9</th>\n",
       "      <td>2015-03-02</td>\n",
       "      <td>560.532532</td>\n",
       "      <td>577.912598</td>\n",
       "      <td>544.222473</td>\n",
       "      <td>548.002441</td>\n",
       "      <td>1828900</td>\n",
       "      <td>548.002441</td>\n",
       "    </tr>\n",
       "    <tr>\n",
       "      <th>10</th>\n",
       "      <td>2015-02-02</td>\n",
       "      <td>531.732361</td>\n",
       "      <td>564.712585</td>\n",
       "      <td>518.552307</td>\n",
       "      <td>558.402588</td>\n",
       "      <td>1841600</td>\n",
       "      <td>558.402588</td>\n",
       "    </tr>\n",
       "    <tr>\n",
       "      <th>11</th>\n",
       "      <td>2015-01-02</td>\n",
       "      <td>529.012390</td>\n",
       "      <td>542.172424</td>\n",
       "      <td>487.562195</td>\n",
       "      <td>534.522461</td>\n",
       "      <td>2791200</td>\n",
       "      <td>534.522461</td>\n",
       "    </tr>\n",
       "    <tr>\n",
       "      <th>12</th>\n",
       "      <td>2014-12-01</td>\n",
       "      <td>538.902466</td>\n",
       "      <td>541.412415</td>\n",
       "      <td>489.002228</td>\n",
       "      <td>526.402405</td>\n",
       "      <td>2146700</td>\n",
       "      <td>526.402405</td>\n",
       "    </tr>\n",
       "    <tr>\n",
       "      <th>13</th>\n",
       "      <td>2014-11-03</td>\n",
       "      <td>555.502502</td>\n",
       "      <td>557.902527</td>\n",
       "      <td>530.082397</td>\n",
       "      <td>541.832458</td>\n",
       "      <td>1561200</td>\n",
       "      <td>541.832458</td>\n",
       "    </tr>\n",
       "    <tr>\n",
       "      <th>14</th>\n",
       "      <td>2014-10-01</td>\n",
       "      <td>576.012634</td>\n",
       "      <td>581.002625</td>\n",
       "      <td>508.102295</td>\n",
       "      <td>559.082520</td>\n",
       "      <td>2356400</td>\n",
       "      <td>559.082520</td>\n",
       "    </tr>\n",
       "    <tr>\n",
       "      <th>15</th>\n",
       "      <td>2014-09-02</td>\n",
       "      <td>571.852539</td>\n",
       "      <td>596.482666</td>\n",
       "      <td>568.212646</td>\n",
       "      <td>577.362610</td>\n",
       "      <td>1673200</td>\n",
       "      <td>577.362610</td>\n",
       "    </tr>\n",
       "    <tr>\n",
       "      <th>16</th>\n",
       "      <td>2014-08-01</td>\n",
       "      <td>570.402588</td>\n",
       "      <td>587.342651</td>\n",
       "      <td>560.002563</td>\n",
       "      <td>571.602539</td>\n",
       "      <td>1368800</td>\n",
       "      <td>571.602539</td>\n",
       "    </tr>\n",
       "    <tr>\n",
       "      <th>17</th>\n",
       "      <td>2014-07-01</td>\n",
       "      <td>578.322632</td>\n",
       "      <td>599.652710</td>\n",
       "      <td>565.012573</td>\n",
       "      <td>571.602539</td>\n",
       "      <td>1668800</td>\n",
       "      <td>571.602539</td>\n",
       "    </tr>\n",
       "    <tr>\n",
       "      <th>18</th>\n",
       "      <td>2014-06-02</td>\n",
       "      <td>560.702576</td>\n",
       "      <td>582.452637</td>\n",
       "      <td>538.752441</td>\n",
       "      <td>575.282593</td>\n",
       "      <td>1872200</td>\n",
       "      <td>575.282593</td>\n",
       "    </tr>\n",
       "    <tr>\n",
       "      <th>19</th>\n",
       "      <td>2014-05-01</td>\n",
       "      <td>527.112366</td>\n",
       "      <td>567.842590</td>\n",
       "      <td>503.302277</td>\n",
       "      <td>559.892578</td>\n",
       "      <td>1828500</td>\n",
       "      <td>559.892578</td>\n",
       "    </tr>\n",
       "    <tr>\n",
       "      <th>20</th>\n",
       "      <td>2014-04-01</td>\n",
       "      <td>558.712585</td>\n",
       "      <td>604.832764</td>\n",
       "      <td>502.802277</td>\n",
       "      <td>526.662415</td>\n",
       "      <td>3290800</td>\n",
       "      <td>526.662415</td>\n",
       "    </tr>\n",
       "    <tr>\n",
       "      <th>21</th>\n",
       "      <td>2014-03-27</td>\n",
       "      <td>568.002563</td>\n",
       "      <td>568.002563</td>\n",
       "      <td>552.922546</td>\n",
       "      <td>556.972473</td>\n",
       "      <td>25300</td>\n",
       "      <td>556.972473</td>\n",
       "    </tr>\n",
       "  </tbody>\n",
       "</table>\n",
       "</div>"
      ],
      "text/plain": [
       "          Date        Open        High         Low       Close   Volume  \\\n",
       "0   2015-12-01  747.109985  775.955017  745.630005  762.369995  2519600   \n",
       "1   2015-11-02  711.059998  762.708008  705.849976  742.599976  1795300   \n",
       "2   2015-10-01  608.369995  730.000000  599.849976  710.809998  2337100   \n",
       "3   2015-09-01  602.359985  650.900024  589.380005  608.419983  2398400   \n",
       "4   2015-08-03  625.340027  674.900024  565.049988  618.250000  2661600   \n",
       "5   2015-07-01  524.729980  678.640015  515.179993  625.609985  2955600   \n",
       "6   2015-06-01  536.789978  543.739990  520.500000  520.510010  1662400   \n",
       "7   2015-05-01  538.429993  544.190002  521.085022  532.109985  1723100   \n",
       "8   2015-04-01  548.602417  571.142578  521.012390  537.340027  2116700   \n",
       "9   2015-03-02  560.532532  577.912598  544.222473  548.002441  1828900   \n",
       "10  2015-02-02  531.732361  564.712585  518.552307  558.402588  1841600   \n",
       "11  2015-01-02  529.012390  542.172424  487.562195  534.522461  2791200   \n",
       "12  2014-12-01  538.902466  541.412415  489.002228  526.402405  2146700   \n",
       "13  2014-11-03  555.502502  557.902527  530.082397  541.832458  1561200   \n",
       "14  2014-10-01  576.012634  581.002625  508.102295  559.082520  2356400   \n",
       "15  2014-09-02  571.852539  596.482666  568.212646  577.362610  1673200   \n",
       "16  2014-08-01  570.402588  587.342651  560.002563  571.602539  1368800   \n",
       "17  2014-07-01  578.322632  599.652710  565.012573  571.602539  1668800   \n",
       "18  2014-06-02  560.702576  582.452637  538.752441  575.282593  1872200   \n",
       "19  2014-05-01  527.112366  567.842590  503.302277  559.892578  1828500   \n",
       "20  2014-04-01  558.712585  604.832764  502.802277  526.662415  3290800   \n",
       "21  2014-03-27  568.002563  568.002563  552.922546  556.972473    25300   \n",
       "\n",
       "     Adj Close  \n",
       "0   762.369995  \n",
       "1   742.599976  \n",
       "2   710.809998  \n",
       "3   608.419983  \n",
       "4   618.250000  \n",
       "5   625.609985  \n",
       "6   520.510010  \n",
       "7   532.109985  \n",
       "8   537.340027  \n",
       "9   548.002441  \n",
       "10  558.402588  \n",
       "11  534.522461  \n",
       "12  526.402405  \n",
       "13  541.832458  \n",
       "14  559.082520  \n",
       "15  577.362610  \n",
       "16  571.602539  \n",
       "17  571.602539  \n",
       "18  575.282593  \n",
       "19  559.892578  \n",
       "20  526.662415  \n",
       "21  556.972473  "
      ]
     },
     "execution_count": 28,
     "metadata": {},
     "output_type": "execute_result"
    }
   ],
   "source": [
    "df_goog"
   ]
  },
  {
   "cell_type": "markdown",
   "metadata": {},
   "source": [
    "Let's examine the Date column. We should probably make it the index for our DataFrame, as we need to order the data by time. Doing this will result in 6 Series objects indexed by DateTime- literal Time Series!"
   ]
  },
  {
   "cell_type": "code",
   "execution_count": 29,
   "metadata": {
    "collapsed": false
   },
   "outputs": [],
   "source": [
    "df_goog.sort_values('Date', inplace=True)\n",
    "df_goog.set_index('Date', inplace=True)\n",
    "df_goog.index = df_goog.index.to_datetime()\n"
   ]
  },
  {
   "cell_type": "markdown",
   "metadata": {},
   "source": [
    "Let's add some more columns with useful data extracted from the DateTime index."
   ]
  },
  {
   "cell_type": "code",
   "execution_count": 30,
   "metadata": {
    "collapsed": false
   },
   "outputs": [
    {
     "data": {
      "text/html": [
       "<div>\n",
       "<table border=\"1\" class=\"dataframe\">\n",
       "  <thead>\n",
       "    <tr style=\"text-align: right;\">\n",
       "      <th></th>\n",
       "      <th>Open</th>\n",
       "      <th>High</th>\n",
       "      <th>Low</th>\n",
       "      <th>Close</th>\n",
       "      <th>Volume</th>\n",
       "      <th>Adj Close</th>\n",
       "    </tr>\n",
       "  </thead>\n",
       "  <tbody>\n",
       "    <tr>\n",
       "      <th>2014-03-27</th>\n",
       "      <td>568.002563</td>\n",
       "      <td>568.002563</td>\n",
       "      <td>552.922546</td>\n",
       "      <td>556.972473</td>\n",
       "      <td>25300</td>\n",
       "      <td>556.972473</td>\n",
       "    </tr>\n",
       "    <tr>\n",
       "      <th>2014-04-01</th>\n",
       "      <td>558.712585</td>\n",
       "      <td>604.832764</td>\n",
       "      <td>502.802277</td>\n",
       "      <td>526.662415</td>\n",
       "      <td>3290800</td>\n",
       "      <td>526.662415</td>\n",
       "    </tr>\n",
       "    <tr>\n",
       "      <th>2014-05-01</th>\n",
       "      <td>527.112366</td>\n",
       "      <td>567.842590</td>\n",
       "      <td>503.302277</td>\n",
       "      <td>559.892578</td>\n",
       "      <td>1828500</td>\n",
       "      <td>559.892578</td>\n",
       "    </tr>\n",
       "    <tr>\n",
       "      <th>2014-06-02</th>\n",
       "      <td>560.702576</td>\n",
       "      <td>582.452637</td>\n",
       "      <td>538.752441</td>\n",
       "      <td>575.282593</td>\n",
       "      <td>1872200</td>\n",
       "      <td>575.282593</td>\n",
       "    </tr>\n",
       "    <tr>\n",
       "      <th>2014-07-01</th>\n",
       "      <td>578.322632</td>\n",
       "      <td>599.652710</td>\n",
       "      <td>565.012573</td>\n",
       "      <td>571.602539</td>\n",
       "      <td>1668800</td>\n",
       "      <td>571.602539</td>\n",
       "    </tr>\n",
       "    <tr>\n",
       "      <th>2014-08-01</th>\n",
       "      <td>570.402588</td>\n",
       "      <td>587.342651</td>\n",
       "      <td>560.002563</td>\n",
       "      <td>571.602539</td>\n",
       "      <td>1368800</td>\n",
       "      <td>571.602539</td>\n",
       "    </tr>\n",
       "    <tr>\n",
       "      <th>2014-09-02</th>\n",
       "      <td>571.852539</td>\n",
       "      <td>596.482666</td>\n",
       "      <td>568.212646</td>\n",
       "      <td>577.362610</td>\n",
       "      <td>1673200</td>\n",
       "      <td>577.362610</td>\n",
       "    </tr>\n",
       "    <tr>\n",
       "      <th>2014-10-01</th>\n",
       "      <td>576.012634</td>\n",
       "      <td>581.002625</td>\n",
       "      <td>508.102295</td>\n",
       "      <td>559.082520</td>\n",
       "      <td>2356400</td>\n",
       "      <td>559.082520</td>\n",
       "    </tr>\n",
       "    <tr>\n",
       "      <th>2014-11-03</th>\n",
       "      <td>555.502502</td>\n",
       "      <td>557.902527</td>\n",
       "      <td>530.082397</td>\n",
       "      <td>541.832458</td>\n",
       "      <td>1561200</td>\n",
       "      <td>541.832458</td>\n",
       "    </tr>\n",
       "    <tr>\n",
       "      <th>2014-12-01</th>\n",
       "      <td>538.902466</td>\n",
       "      <td>541.412415</td>\n",
       "      <td>489.002228</td>\n",
       "      <td>526.402405</td>\n",
       "      <td>2146700</td>\n",
       "      <td>526.402405</td>\n",
       "    </tr>\n",
       "    <tr>\n",
       "      <th>2015-01-02</th>\n",
       "      <td>529.012390</td>\n",
       "      <td>542.172424</td>\n",
       "      <td>487.562195</td>\n",
       "      <td>534.522461</td>\n",
       "      <td>2791200</td>\n",
       "      <td>534.522461</td>\n",
       "    </tr>\n",
       "    <tr>\n",
       "      <th>2015-02-02</th>\n",
       "      <td>531.732361</td>\n",
       "      <td>564.712585</td>\n",
       "      <td>518.552307</td>\n",
       "      <td>558.402588</td>\n",
       "      <td>1841600</td>\n",
       "      <td>558.402588</td>\n",
       "    </tr>\n",
       "    <tr>\n",
       "      <th>2015-03-02</th>\n",
       "      <td>560.532532</td>\n",
       "      <td>577.912598</td>\n",
       "      <td>544.222473</td>\n",
       "      <td>548.002441</td>\n",
       "      <td>1828900</td>\n",
       "      <td>548.002441</td>\n",
       "    </tr>\n",
       "    <tr>\n",
       "      <th>2015-04-01</th>\n",
       "      <td>548.602417</td>\n",
       "      <td>571.142578</td>\n",
       "      <td>521.012390</td>\n",
       "      <td>537.340027</td>\n",
       "      <td>2116700</td>\n",
       "      <td>537.340027</td>\n",
       "    </tr>\n",
       "    <tr>\n",
       "      <th>2015-05-01</th>\n",
       "      <td>538.429993</td>\n",
       "      <td>544.190002</td>\n",
       "      <td>521.085022</td>\n",
       "      <td>532.109985</td>\n",
       "      <td>1723100</td>\n",
       "      <td>532.109985</td>\n",
       "    </tr>\n",
       "    <tr>\n",
       "      <th>2015-06-01</th>\n",
       "      <td>536.789978</td>\n",
       "      <td>543.739990</td>\n",
       "      <td>520.500000</td>\n",
       "      <td>520.510010</td>\n",
       "      <td>1662400</td>\n",
       "      <td>520.510010</td>\n",
       "    </tr>\n",
       "    <tr>\n",
       "      <th>2015-07-01</th>\n",
       "      <td>524.729980</td>\n",
       "      <td>678.640015</td>\n",
       "      <td>515.179993</td>\n",
       "      <td>625.609985</td>\n",
       "      <td>2955600</td>\n",
       "      <td>625.609985</td>\n",
       "    </tr>\n",
       "    <tr>\n",
       "      <th>2015-08-03</th>\n",
       "      <td>625.340027</td>\n",
       "      <td>674.900024</td>\n",
       "      <td>565.049988</td>\n",
       "      <td>618.250000</td>\n",
       "      <td>2661600</td>\n",
       "      <td>618.250000</td>\n",
       "    </tr>\n",
       "    <tr>\n",
       "      <th>2015-09-01</th>\n",
       "      <td>602.359985</td>\n",
       "      <td>650.900024</td>\n",
       "      <td>589.380005</td>\n",
       "      <td>608.419983</td>\n",
       "      <td>2398400</td>\n",
       "      <td>608.419983</td>\n",
       "    </tr>\n",
       "    <tr>\n",
       "      <th>2015-10-01</th>\n",
       "      <td>608.369995</td>\n",
       "      <td>730.000000</td>\n",
       "      <td>599.849976</td>\n",
       "      <td>710.809998</td>\n",
       "      <td>2337100</td>\n",
       "      <td>710.809998</td>\n",
       "    </tr>\n",
       "    <tr>\n",
       "      <th>2015-11-02</th>\n",
       "      <td>711.059998</td>\n",
       "      <td>762.708008</td>\n",
       "      <td>705.849976</td>\n",
       "      <td>742.599976</td>\n",
       "      <td>1795300</td>\n",
       "      <td>742.599976</td>\n",
       "    </tr>\n",
       "    <tr>\n",
       "      <th>2015-12-01</th>\n",
       "      <td>747.109985</td>\n",
       "      <td>775.955017</td>\n",
       "      <td>745.630005</td>\n",
       "      <td>762.369995</td>\n",
       "      <td>2519600</td>\n",
       "      <td>762.369995</td>\n",
       "    </tr>\n",
       "  </tbody>\n",
       "</table>\n",
       "</div>"
      ],
      "text/plain": [
       "                  Open        High         Low       Close   Volume  \\\n",
       "2014-03-27  568.002563  568.002563  552.922546  556.972473    25300   \n",
       "2014-04-01  558.712585  604.832764  502.802277  526.662415  3290800   \n",
       "2014-05-01  527.112366  567.842590  503.302277  559.892578  1828500   \n",
       "2014-06-02  560.702576  582.452637  538.752441  575.282593  1872200   \n",
       "2014-07-01  578.322632  599.652710  565.012573  571.602539  1668800   \n",
       "2014-08-01  570.402588  587.342651  560.002563  571.602539  1368800   \n",
       "2014-09-02  571.852539  596.482666  568.212646  577.362610  1673200   \n",
       "2014-10-01  576.012634  581.002625  508.102295  559.082520  2356400   \n",
       "2014-11-03  555.502502  557.902527  530.082397  541.832458  1561200   \n",
       "2014-12-01  538.902466  541.412415  489.002228  526.402405  2146700   \n",
       "2015-01-02  529.012390  542.172424  487.562195  534.522461  2791200   \n",
       "2015-02-02  531.732361  564.712585  518.552307  558.402588  1841600   \n",
       "2015-03-02  560.532532  577.912598  544.222473  548.002441  1828900   \n",
       "2015-04-01  548.602417  571.142578  521.012390  537.340027  2116700   \n",
       "2015-05-01  538.429993  544.190002  521.085022  532.109985  1723100   \n",
       "2015-06-01  536.789978  543.739990  520.500000  520.510010  1662400   \n",
       "2015-07-01  524.729980  678.640015  515.179993  625.609985  2955600   \n",
       "2015-08-03  625.340027  674.900024  565.049988  618.250000  2661600   \n",
       "2015-09-01  602.359985  650.900024  589.380005  608.419983  2398400   \n",
       "2015-10-01  608.369995  730.000000  599.849976  710.809998  2337100   \n",
       "2015-11-02  711.059998  762.708008  705.849976  742.599976  1795300   \n",
       "2015-12-01  747.109985  775.955017  745.630005  762.369995  2519600   \n",
       "\n",
       "             Adj Close  \n",
       "2014-03-27  556.972473  \n",
       "2014-04-01  526.662415  \n",
       "2014-05-01  559.892578  \n",
       "2014-06-02  575.282593  \n",
       "2014-07-01  571.602539  \n",
       "2014-08-01  571.602539  \n",
       "2014-09-02  577.362610  \n",
       "2014-10-01  559.082520  \n",
       "2014-11-03  541.832458  \n",
       "2014-12-01  526.402405  \n",
       "2015-01-02  534.522461  \n",
       "2015-02-02  558.402588  \n",
       "2015-03-02  548.002441  \n",
       "2015-04-01  537.340027  \n",
       "2015-05-01  532.109985  \n",
       "2015-06-01  520.510010  \n",
       "2015-07-01  625.609985  \n",
       "2015-08-03  618.250000  \n",
       "2015-09-01  608.419983  \n",
       "2015-10-01  710.809998  \n",
       "2015-11-02  742.599976  \n",
       "2015-12-01  762.369995  "
      ]
     },
     "execution_count": 30,
     "metadata": {},
     "output_type": "execute_result"
    }
   ],
   "source": [
    "df_goog"
   ]
  },
  {
   "cell_type": "code",
   "execution_count": 31,
   "metadata": {
    "collapsed": false
   },
   "outputs": [],
   "source": [
    "df_goog['Year'] = df_goog.index.year\n",
    "df_goog['Month'] = df_goog.index.month\n",
    "df_goog['Day'] = df_goog.index.day"
   ]
  },
  {
   "cell_type": "code",
   "execution_count": 32,
   "metadata": {
    "collapsed": false
   },
   "outputs": [
    {
     "data": {
      "text/html": [
       "<div>\n",
       "<table border=\"1\" class=\"dataframe\">\n",
       "  <thead>\n",
       "    <tr style=\"text-align: right;\">\n",
       "      <th></th>\n",
       "      <th>Open</th>\n",
       "      <th>High</th>\n",
       "      <th>Low</th>\n",
       "      <th>Close</th>\n",
       "      <th>Volume</th>\n",
       "      <th>Adj Close</th>\n",
       "      <th>Year</th>\n",
       "      <th>Month</th>\n",
       "      <th>Day</th>\n",
       "    </tr>\n",
       "  </thead>\n",
       "  <tbody>\n",
       "    <tr>\n",
       "      <th>2014-03-27</th>\n",
       "      <td>568.002563</td>\n",
       "      <td>568.002563</td>\n",
       "      <td>552.922546</td>\n",
       "      <td>556.972473</td>\n",
       "      <td>25300</td>\n",
       "      <td>556.972473</td>\n",
       "      <td>2014</td>\n",
       "      <td>3</td>\n",
       "      <td>27</td>\n",
       "    </tr>\n",
       "    <tr>\n",
       "      <th>2014-04-01</th>\n",
       "      <td>558.712585</td>\n",
       "      <td>604.832764</td>\n",
       "      <td>502.802277</td>\n",
       "      <td>526.662415</td>\n",
       "      <td>3290800</td>\n",
       "      <td>526.662415</td>\n",
       "      <td>2014</td>\n",
       "      <td>4</td>\n",
       "      <td>1</td>\n",
       "    </tr>\n",
       "    <tr>\n",
       "      <th>2014-05-01</th>\n",
       "      <td>527.112366</td>\n",
       "      <td>567.842590</td>\n",
       "      <td>503.302277</td>\n",
       "      <td>559.892578</td>\n",
       "      <td>1828500</td>\n",
       "      <td>559.892578</td>\n",
       "      <td>2014</td>\n",
       "      <td>5</td>\n",
       "      <td>1</td>\n",
       "    </tr>\n",
       "  </tbody>\n",
       "</table>\n",
       "</div>"
      ],
      "text/plain": [
       "                  Open        High         Low       Close   Volume  \\\n",
       "2014-03-27  568.002563  568.002563  552.922546  556.972473    25300   \n",
       "2014-04-01  558.712585  604.832764  502.802277  526.662415  3290800   \n",
       "2014-05-01  527.112366  567.842590  503.302277  559.892578  1828500   \n",
       "\n",
       "             Adj Close  Year  Month  Day  \n",
       "2014-03-27  556.972473  2014      3   27  \n",
       "2014-04-01  526.662415  2014      4    1  \n",
       "2014-05-01  559.892578  2014      5    1  "
      ]
     },
     "execution_count": 32,
     "metadata": {},
     "output_type": "execute_result"
    }
   ],
   "source": [
    "df_goog.head(3)"
   ]
  },
  {
   "cell_type": "markdown",
   "metadata": {},
   "source": [
    "Let's walk through adding a dummy variable to flag days where the Close price was higher than the Open price"
   ]
  },
  {
   "cell_type": "code",
   "execution_count": 33,
   "metadata": {
    "collapsed": true
   },
   "outputs": [],
   "source": [
    "df_goog['Closed_Higher'] = df_goog.Close > df_goog.Open"
   ]
  },
  {
   "cell_type": "markdown",
   "metadata": {},
   "source": [
    "We can use the DateTime object to access various different cuts of data using date attributes. For example, if we wanted to get all of the cuts from 2015, we would do as such:"
   ]
  },
  {
   "cell_type": "code",
   "execution_count": 34,
   "metadata": {
    "collapsed": false
   },
   "outputs": [
    {
     "data": {
      "text/html": [
       "<div>\n",
       "<table border=\"1\" class=\"dataframe\">\n",
       "  <thead>\n",
       "    <tr style=\"text-align: right;\">\n",
       "      <th></th>\n",
       "      <th>Open</th>\n",
       "      <th>High</th>\n",
       "      <th>Low</th>\n",
       "      <th>Close</th>\n",
       "      <th>Volume</th>\n",
       "      <th>Adj Close</th>\n",
       "      <th>Year</th>\n",
       "      <th>Month</th>\n",
       "      <th>Day</th>\n",
       "      <th>Closed_Higher</th>\n",
       "    </tr>\n",
       "  </thead>\n",
       "  <tbody>\n",
       "    <tr>\n",
       "      <th>2015-01-02</th>\n",
       "      <td>529.012390</td>\n",
       "      <td>542.172424</td>\n",
       "      <td>487.562195</td>\n",
       "      <td>534.522461</td>\n",
       "      <td>2791200</td>\n",
       "      <td>534.522461</td>\n",
       "      <td>2015</td>\n",
       "      <td>1</td>\n",
       "      <td>2</td>\n",
       "      <td>True</td>\n",
       "    </tr>\n",
       "    <tr>\n",
       "      <th>2015-02-02</th>\n",
       "      <td>531.732361</td>\n",
       "      <td>564.712585</td>\n",
       "      <td>518.552307</td>\n",
       "      <td>558.402588</td>\n",
       "      <td>1841600</td>\n",
       "      <td>558.402588</td>\n",
       "      <td>2015</td>\n",
       "      <td>2</td>\n",
       "      <td>2</td>\n",
       "      <td>True</td>\n",
       "    </tr>\n",
       "    <tr>\n",
       "      <th>2015-03-02</th>\n",
       "      <td>560.532532</td>\n",
       "      <td>577.912598</td>\n",
       "      <td>544.222473</td>\n",
       "      <td>548.002441</td>\n",
       "      <td>1828900</td>\n",
       "      <td>548.002441</td>\n",
       "      <td>2015</td>\n",
       "      <td>3</td>\n",
       "      <td>2</td>\n",
       "      <td>False</td>\n",
       "    </tr>\n",
       "    <tr>\n",
       "      <th>2015-04-01</th>\n",
       "      <td>548.602417</td>\n",
       "      <td>571.142578</td>\n",
       "      <td>521.012390</td>\n",
       "      <td>537.340027</td>\n",
       "      <td>2116700</td>\n",
       "      <td>537.340027</td>\n",
       "      <td>2015</td>\n",
       "      <td>4</td>\n",
       "      <td>1</td>\n",
       "      <td>False</td>\n",
       "    </tr>\n",
       "    <tr>\n",
       "      <th>2015-05-01</th>\n",
       "      <td>538.429993</td>\n",
       "      <td>544.190002</td>\n",
       "      <td>521.085022</td>\n",
       "      <td>532.109985</td>\n",
       "      <td>1723100</td>\n",
       "      <td>532.109985</td>\n",
       "      <td>2015</td>\n",
       "      <td>5</td>\n",
       "      <td>1</td>\n",
       "      <td>False</td>\n",
       "    </tr>\n",
       "    <tr>\n",
       "      <th>2015-06-01</th>\n",
       "      <td>536.789978</td>\n",
       "      <td>543.739990</td>\n",
       "      <td>520.500000</td>\n",
       "      <td>520.510010</td>\n",
       "      <td>1662400</td>\n",
       "      <td>520.510010</td>\n",
       "      <td>2015</td>\n",
       "      <td>6</td>\n",
       "      <td>1</td>\n",
       "      <td>False</td>\n",
       "    </tr>\n",
       "    <tr>\n",
       "      <th>2015-07-01</th>\n",
       "      <td>524.729980</td>\n",
       "      <td>678.640015</td>\n",
       "      <td>515.179993</td>\n",
       "      <td>625.609985</td>\n",
       "      <td>2955600</td>\n",
       "      <td>625.609985</td>\n",
       "      <td>2015</td>\n",
       "      <td>7</td>\n",
       "      <td>1</td>\n",
       "      <td>True</td>\n",
       "    </tr>\n",
       "    <tr>\n",
       "      <th>2015-08-03</th>\n",
       "      <td>625.340027</td>\n",
       "      <td>674.900024</td>\n",
       "      <td>565.049988</td>\n",
       "      <td>618.250000</td>\n",
       "      <td>2661600</td>\n",
       "      <td>618.250000</td>\n",
       "      <td>2015</td>\n",
       "      <td>8</td>\n",
       "      <td>3</td>\n",
       "      <td>False</td>\n",
       "    </tr>\n",
       "    <tr>\n",
       "      <th>2015-09-01</th>\n",
       "      <td>602.359985</td>\n",
       "      <td>650.900024</td>\n",
       "      <td>589.380005</td>\n",
       "      <td>608.419983</td>\n",
       "      <td>2398400</td>\n",
       "      <td>608.419983</td>\n",
       "      <td>2015</td>\n",
       "      <td>9</td>\n",
       "      <td>1</td>\n",
       "      <td>True</td>\n",
       "    </tr>\n",
       "    <tr>\n",
       "      <th>2015-10-01</th>\n",
       "      <td>608.369995</td>\n",
       "      <td>730.000000</td>\n",
       "      <td>599.849976</td>\n",
       "      <td>710.809998</td>\n",
       "      <td>2337100</td>\n",
       "      <td>710.809998</td>\n",
       "      <td>2015</td>\n",
       "      <td>10</td>\n",
       "      <td>1</td>\n",
       "      <td>True</td>\n",
       "    </tr>\n",
       "    <tr>\n",
       "      <th>2015-11-02</th>\n",
       "      <td>711.059998</td>\n",
       "      <td>762.708008</td>\n",
       "      <td>705.849976</td>\n",
       "      <td>742.599976</td>\n",
       "      <td>1795300</td>\n",
       "      <td>742.599976</td>\n",
       "      <td>2015</td>\n",
       "      <td>11</td>\n",
       "      <td>2</td>\n",
       "      <td>True</td>\n",
       "    </tr>\n",
       "    <tr>\n",
       "      <th>2015-12-01</th>\n",
       "      <td>747.109985</td>\n",
       "      <td>775.955017</td>\n",
       "      <td>745.630005</td>\n",
       "      <td>762.369995</td>\n",
       "      <td>2519600</td>\n",
       "      <td>762.369995</td>\n",
       "      <td>2015</td>\n",
       "      <td>12</td>\n",
       "      <td>1</td>\n",
       "      <td>True</td>\n",
       "    </tr>\n",
       "  </tbody>\n",
       "</table>\n",
       "</div>"
      ],
      "text/plain": [
       "                  Open        High         Low       Close   Volume  \\\n",
       "2015-01-02  529.012390  542.172424  487.562195  534.522461  2791200   \n",
       "2015-02-02  531.732361  564.712585  518.552307  558.402588  1841600   \n",
       "2015-03-02  560.532532  577.912598  544.222473  548.002441  1828900   \n",
       "2015-04-01  548.602417  571.142578  521.012390  537.340027  2116700   \n",
       "2015-05-01  538.429993  544.190002  521.085022  532.109985  1723100   \n",
       "2015-06-01  536.789978  543.739990  520.500000  520.510010  1662400   \n",
       "2015-07-01  524.729980  678.640015  515.179993  625.609985  2955600   \n",
       "2015-08-03  625.340027  674.900024  565.049988  618.250000  2661600   \n",
       "2015-09-01  602.359985  650.900024  589.380005  608.419983  2398400   \n",
       "2015-10-01  608.369995  730.000000  599.849976  710.809998  2337100   \n",
       "2015-11-02  711.059998  762.708008  705.849976  742.599976  1795300   \n",
       "2015-12-01  747.109985  775.955017  745.630005  762.369995  2519600   \n",
       "\n",
       "             Adj Close  Year  Month  Day Closed_Higher  \n",
       "2015-01-02  534.522461  2015      1    2          True  \n",
       "2015-02-02  558.402588  2015      2    2          True  \n",
       "2015-03-02  548.002441  2015      3    2         False  \n",
       "2015-04-01  537.340027  2015      4    1         False  \n",
       "2015-05-01  532.109985  2015      5    1         False  \n",
       "2015-06-01  520.510010  2015      6    1         False  \n",
       "2015-07-01  625.609985  2015      7    1          True  \n",
       "2015-08-03  618.250000  2015      8    3         False  \n",
       "2015-09-01  608.419983  2015      9    1          True  \n",
       "2015-10-01  710.809998  2015     10    1          True  \n",
       "2015-11-02  742.599976  2015     11    2          True  \n",
       "2015-12-01  762.369995  2015     12    1          True  "
      ]
     },
     "execution_count": 34,
     "metadata": {},
     "output_type": "execute_result"
    }
   ],
   "source": [
    "df_goog['2015']"
   ]
  },
  {
   "cell_type": "markdown",
   "metadata": {},
   "source": [
    "Let's recall the TimeDelta object. We can use this to shift our entire index by a given offset."
   ]
  },
  {
   "cell_type": "code",
   "execution_count": 35,
   "metadata": {
    "collapsed": false
   },
   "outputs": [
    {
     "data": {
      "text/plain": [
       "DatetimeIndex(['2014-03-28', '2014-04-02', '2014-05-02', '2014-06-03',\n",
       "               '2014-07-02', '2014-08-02', '2014-09-03', '2014-10-02',\n",
       "               '2014-11-04', '2014-12-02', '2015-01-03', '2015-02-03',\n",
       "               '2015-03-03', '2015-04-02', '2015-05-02', '2015-06-02',\n",
       "               '2015-07-02', '2015-08-04', '2015-09-02', '2015-10-02',\n",
       "               '2015-11-03', '2015-12-02'],\n",
       "              dtype='datetime64[ns]', freq=None)"
      ]
     },
     "execution_count": 35,
     "metadata": {},
     "output_type": "execute_result"
    }
   ],
   "source": [
    "df_goog.index + timedelta(days=1)"
   ]
  },
  {
   "cell_type": "markdown",
   "metadata": {},
   "source": [
    "On your own, try to shift the entire time series **both** forwards and backwards by the following intervals:\n",
    "- 1 hour\n",
    "- 3 days\n",
    "- 12 years, 1 hour, and 43 seconds"
   ]
  },
  {
   "cell_type": "code",
   "execution_count": 36,
   "metadata": {
    "collapsed": false
   },
   "outputs": [
    {
     "data": {
      "text/plain": [
       "DatetimeIndex(['2002-03-29 23:59:17', '2002-04-03 23:59:17',\n",
       "               '2002-05-03 23:59:17', '2002-06-04 23:59:17',\n",
       "               '2002-07-03 23:59:17', '2002-08-03 23:59:17',\n",
       "               '2002-09-04 23:59:17', '2002-10-03 23:59:17',\n",
       "               '2002-11-05 23:59:17', '2002-12-03 23:59:17',\n",
       "               '2003-01-04 23:59:17', '2003-02-04 23:59:17',\n",
       "               '2003-03-04 23:59:17', '2003-04-03 23:59:17',\n",
       "               '2003-05-03 23:59:17', '2003-06-03 23:59:17',\n",
       "               '2003-07-03 23:59:17', '2003-08-05 23:59:17',\n",
       "               '2003-09-03 23:59:17', '2003-10-03 23:59:17',\n",
       "               '2003-11-04 23:59:17', '2003-12-03 23:59:17'],\n",
       "              dtype='datetime64[ns]', freq=None)"
      ]
     },
     "execution_count": 36,
     "metadata": {},
     "output_type": "execute_result"
    }
   ],
   "source": [
    "df_goog.index + timedelta(hours=1)\n",
    "\n",
    "df_goog.index + timedelta(days=3)\n",
    "\n",
    "df_goog.index - timedelta(days=4380, seconds=43)"
   ]
  },
  {
   "cell_type": "markdown",
   "metadata": {},
   "source": [
    "## Discussion: Date ranges and Frequencies"
   ]
  },
  {
   "cell_type": "code",
   "execution_count": 37,
   "metadata": {
    "collapsed": false
   },
   "outputs": [
    {
     "name": "stderr",
     "output_type": "stream",
     "text": [
      "/home/useraj/anaconda2/lib/python2.7/site-packages/ipykernel/__main__.py:1: FutureWarning: .resample() is now a deferred operation\n",
      "use .resample(...).mean() instead of .resample(...)\n",
      "  if __name__ == '__main__':\n"
     ]
    },
    {
     "data": {
      "text/plain": [
       "<matplotlib.axes._subplots.AxesSubplot at 0x7f721032f410>"
      ]
     },
     "execution_count": 37,
     "metadata": {},
     "output_type": "execute_result"
    },
    {
     "data": {
      "image/png": "[encoded data removed]",
      "text/plain": [
       "<matplotlib.figure.Figure at 0x7f7210318b10>"
      ]
     },
     "metadata": {},
     "output_type": "display_data"
    }
   ],
   "source": [
    "df_goog.Open.resample('M').plot()"
   ]
  },
  {
   "cell_type": "code",
   "execution_count": 38,
   "metadata": {
    "collapsed": false
   },
   "outputs": [
    {
     "data": {
      "text/plain": [
       "<matplotlib.axes._subplots.AxesSubplot at 0x7f7210196590>"
      ]
     },
     "execution_count": 38,
     "metadata": {},
     "output_type": "execute_result"
    },
    {
     "data": {
      "image/png": "[encoded data removed]",
      "text/plain": [
       "<matplotlib.figure.Figure at 0x7f72104c4d90>"
      ]
     },
     "metadata": {},
     "output_type": "display_data"
    }
   ],
   "source": [
    "df_goog.Open.asfreq('D', method='backfill').plot()"
   ]
  },
  {
   "cell_type": "code",
   "execution_count": 39,
   "metadata": {
    "collapsed": false
   },
   "outputs": [
    {
     "name": "stderr",
     "output_type": "stream",
     "text": [
      "/home/useraj/anaconda2/lib/python2.7/site-packages/ipykernel/__main__.py:1: FutureWarning: .resample() is now a deferred operation\n",
      "use .resample(...).mean() instead of .resample(...)\n",
      "  if __name__ == '__main__':\n"
     ]
    },
    {
     "data": {
      "text/plain": [
       "<matplotlib.axes._subplots.AxesSubplot at 0x7f720ff86790>"
      ]
     },
     "execution_count": 39,
     "metadata": {},
     "output_type": "execute_result"
    },
    {
     "data": {
      "image/png": "[encoded data removed]",
      "text/plain": [
       "<matplotlib.figure.Figure at 0x7f72102e6f10>"
      ]
     },
     "metadata": {},
     "output_type": "display_data"
    }
   ],
   "source": [
    "df_goog.Open.resample('M').plot()\n",
    "df_goog.Open.asfreq('M', method='backfill').plot()"
   ]
  },
  {
   "cell_type": "markdown",
   "metadata": {},
   "source": [
    "Note that `asfreq` gives us a `method` keyword argument. Backfill, or bfill, will propogate the last valid observation forward. In other words, it will use the value preceding a range of unknown indices to fill in the unknowns. Inversely, pad, or ffill, will use the first value succeeding a range of unknown indices to fill in the unknowns.\n",
    "\n",
    "Now, let's discuss the following points:\n",
    "- What does `asfreq` do?\n",
    "- What does `resample` do?\n",
    "- What is the difference?\n",
    "- When would we want to use each?\n",
    "\n",
    "We can also create our own date ranges using a built in function, `date_range`. The `periods` and `freq` keyword arguments grant the user finegrained control over the resulting values. To reset the time data, use the `normalize=True` directive.\n",
    "\n",
    "**NOTE:** See Reference B in the lesson notes for all of the available offset aliases"
   ]
  },
  {
   "cell_type": "code",
   "execution_count": 40,
   "metadata": {
    "collapsed": true
   },
   "outputs": [],
   "source": [
    "index = pd.date_range('3/1/2016', '6/1/2016')"
   ]
  },
  {
   "cell_type": "code",
   "execution_count": 41,
   "metadata": {
    "collapsed": false
   },
   "outputs": [
    {
     "data": {
      "text/plain": [
       "DatetimeIndex(['2016-03-01', '2016-03-02', '2016-03-03', '2016-03-04',\n",
       "               '2016-03-05', '2016-03-06', '2016-03-07', '2016-03-08',\n",
       "               '2016-03-09', '2016-03-10', '2016-03-11', '2016-03-12',\n",
       "               '2016-03-13', '2016-03-14', '2016-03-15', '2016-03-16',\n",
       "               '2016-03-17', '2016-03-18', '2016-03-19', '2016-03-20'],\n",
       "              dtype='datetime64[ns]', freq='D')"
      ]
     },
     "execution_count": 41,
     "metadata": {},
     "output_type": "execute_result"
    }
   ],
   "source": [
    "pd.date_range(start='3/1/2016', periods=20)"
   ]
  },
  {
   "cell_type": "code",
   "execution_count": 42,
   "metadata": {
    "collapsed": false
   },
   "outputs": [
    {
     "data": {
      "text/plain": [
       "DatetimeIndex(['2016-05-13', '2016-05-14', '2016-05-15', '2016-05-16',\n",
       "               '2016-05-17', '2016-05-18', '2016-05-19', '2016-05-20',\n",
       "               '2016-05-21', '2016-05-22', '2016-05-23', '2016-05-24',\n",
       "               '2016-05-25', '2016-05-26', '2016-05-27', '2016-05-28',\n",
       "               '2016-05-29', '2016-05-30', '2016-05-31', '2016-06-01'],\n",
       "              dtype='datetime64[ns]', freq='D')"
      ]
     },
     "execution_count": 42,
     "metadata": {},
     "output_type": "execute_result"
    }
   ],
   "source": [
    "pd.date_range(end='6/1/2016', periods=20)"
   ]
  },
  {
   "cell_type": "code",
   "execution_count": 43,
   "metadata": {
    "collapsed": false
   },
   "outputs": [
    {
     "data": {
      "text/plain": [
       "DatetimeIndex(['2016-01-29', '2016-02-29', '2016-03-31', '2016-04-29',\n",
       "               '2016-05-31', '2016-06-30', '2016-07-29', '2016-08-31',\n",
       "               '2016-09-30', '2016-10-31', '2016-11-30'],\n",
       "              dtype='datetime64[ns]', freq='BM')"
      ]
     },
     "execution_count": 43,
     "metadata": {},
     "output_type": "execute_result"
    }
   ],
   "source": [
    "pd.date_range('1/1/2016', '12/1/2016', freq='BM')"
   ]
  },
  {
   "cell_type": "code",
   "execution_count": 44,
   "metadata": {
    "collapsed": false
   },
   "outputs": [
    {
     "data": {
      "text/plain": [
       "DatetimeIndex(['2016-03-07 12:56:31', '2016-03-08 12:56:31',\n",
       "               '2016-03-09 12:56:31', '2016-03-10 12:56:31',\n",
       "               '2016-03-11 12:56:31', '2016-03-12 12:56:31'],\n",
       "              dtype='datetime64[ns]', freq='D')"
      ]
     },
     "execution_count": 44,
     "metadata": {},
     "output_type": "execute_result"
    }
   ],
   "source": [
    "pd.date_range('3/7/2016 12:56:31', periods=6)"
   ]
  },
  {
   "cell_type": "code",
   "execution_count": 45,
   "metadata": {
    "collapsed": false
   },
   "outputs": [
    {
     "data": {
      "text/plain": [
       "DatetimeIndex(['2012-03-07', '2012-03-08', '2012-03-09', '2012-03-10',\n",
       "               '2012-03-11', '2012-03-12'],\n",
       "              dtype='datetime64[ns]', freq='D')"
      ]
     },
     "execution_count": 45,
     "metadata": {},
     "output_type": "execute_result"
    }
   ],
   "source": [
    "pd.date_range('3/7/2012 12:56:31', periods=6, normalize=True)"
   ]
  },
  {
   "cell_type": "markdown",
   "metadata": {},
   "source": [
    "We are also given a Period object, which can be used to represent a time interval. The Period object consists of a start time and an end time, and can be created by providing a start time and a given frequency."
   ]
  },
  {
   "cell_type": "code",
   "execution_count": 46,
   "metadata": {
    "collapsed": true
   },
   "outputs": [],
   "source": [
    "march_2016 = pd.Period('2016-03', freq='M')"
   ]
  },
  {
   "cell_type": "code",
   "execution_count": 47,
   "metadata": {
    "collapsed": false
   },
   "outputs": [
    {
     "data": {
      "text/plain": [
       "Timestamp('2016-03-01 00:00:00')"
      ]
     },
     "execution_count": 47,
     "metadata": {},
     "output_type": "execute_result"
    }
   ],
   "source": [
    "march_2016.start_time"
   ]
  },
  {
   "cell_type": "code",
   "execution_count": 48,
   "metadata": {
    "collapsed": false
   },
   "outputs": [
    {
     "data": {
      "text/plain": [
       "Timestamp('2016-03-31 23:59:59.999999999')"
      ]
     },
     "execution_count": 48,
     "metadata": {},
     "output_type": "execute_result"
    }
   ],
   "source": [
    "march_2016.end_time"
   ]
  },
  {
   "cell_type": "markdown",
   "metadata": {},
   "source": [
    "Each of these objects can be used to alter and access data from our DataFrames. We'll try those out in our Independent Practice in a moment."
   ]
  }
 ],
 "metadata": {
  "kernelspec": {
   "display_name": "Python [Root]",
   "language": "python",
   "name": "Python [Root]"
  },
  "language_info": {
   "codemirror_mode": {
    "name": "ipython",
    "version": 2
   },
   "file_extension": ".py",
   "mimetype": "text/x-python",
   "name": "python",
   "nbconvert_exporter": "python",
   "pygments_lexer": "ipython2",
   "version": "2.7.12"
  }
 },
 "nbformat": 4,
 "nbformat_minor": 0
}
