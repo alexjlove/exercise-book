{
 "cells": [
  {
   "cell_type": "markdown",
   "metadata": {},
   "source": [
    "## Exploring Stock Price Data"
   ]
  },
  {
   "cell_type": "code",
   "execution_count": 1,
   "metadata": {
    "collapsed": true
   },
   "outputs": [],
   "source": [
    "import pandas as pd\n"
   ]
  },
  {
   "cell_type": "code",
   "execution_count": 2,
   "metadata": {
    "collapsed": false
   },
   "outputs": [
    {
     "data": {
      "text/html": [
       "<div>\n",
       "<table border=\"1\" class=\"dataframe\">\n",
       "  <thead>\n",
       "    <tr style=\"text-align: right;\">\n",
       "      <th></th>\n",
       "      <th>Date</th>\n",
       "      <th>Open</th>\n",
       "      <th>High</th>\n",
       "      <th>Low</th>\n",
       "      <th>Close</th>\n",
       "      <th>Volume</th>\n",
       "    </tr>\n",
       "  </thead>\n",
       "  <tbody>\n",
       "    <tr>\n",
       "      <th>0</th>\n",
       "      <td>19-Aug-16</td>\n",
       "      <td>108.77</td>\n",
       "      <td>109.69</td>\n",
       "      <td>108.36</td>\n",
       "      <td>109.36</td>\n",
       "      <td>25368072</td>\n",
       "    </tr>\n",
       "    <tr>\n",
       "      <th>1</th>\n",
       "      <td>18-Aug-16</td>\n",
       "      <td>109.23</td>\n",
       "      <td>109.60</td>\n",
       "      <td>109.02</td>\n",
       "      <td>109.08</td>\n",
       "      <td>21984703</td>\n",
       "    </tr>\n",
       "    <tr>\n",
       "      <th>2</th>\n",
       "      <td>17-Aug-16</td>\n",
       "      <td>109.10</td>\n",
       "      <td>109.37</td>\n",
       "      <td>108.34</td>\n",
       "      <td>109.22</td>\n",
       "      <td>25355976</td>\n",
       "    </tr>\n",
       "    <tr>\n",
       "      <th>3</th>\n",
       "      <td>16-Aug-16</td>\n",
       "      <td>109.63</td>\n",
       "      <td>110.23</td>\n",
       "      <td>109.21</td>\n",
       "      <td>109.38</td>\n",
       "      <td>33794448</td>\n",
       "    </tr>\n",
       "    <tr>\n",
       "      <th>4</th>\n",
       "      <td>15-Aug-16</td>\n",
       "      <td>108.14</td>\n",
       "      <td>109.54</td>\n",
       "      <td>108.08</td>\n",
       "      <td>109.48</td>\n",
       "      <td>25868209</td>\n",
       "    </tr>\n",
       "  </tbody>\n",
       "</table>\n",
       "</div>"
      ],
      "text/plain": [
       "        Date    Open    High     Low   Close    Volume\n",
       "0  19-Aug-16  108.77  109.69  108.36  109.36  25368072\n",
       "1  18-Aug-16  109.23  109.60  109.02  109.08  21984703\n",
       "2  17-Aug-16  109.10  109.37  108.34  109.22  25355976\n",
       "3  16-Aug-16  109.63  110.23  109.21  109.38  33794448\n",
       "4  15-Aug-16  108.14  109.54  108.08  109.48  25868209"
      ]
     },
     "execution_count": 2,
     "metadata": {},
     "output_type": "execute_result"
    }
   ],
   "source": [
    "data_apple = pd.read_csv('../CSV/aapl.csv')\n",
    "data_apple.head()"
   ]
  },
  {
   "cell_type": "code",
   "execution_count": 3,
   "metadata": {
    "collapsed": false
   },
   "outputs": [
    {
     "data": {
      "text/html": [
       "<div>\n",
       "<table border=\"1\" class=\"dataframe\">\n",
       "  <thead>\n",
       "    <tr style=\"text-align: right;\">\n",
       "      <th></th>\n",
       "      <th>Date</th>\n",
       "      <th>Open</th>\n",
       "      <th>High</th>\n",
       "      <th>Low</th>\n",
       "      <th>Close</th>\n",
       "      <th>Volume</th>\n",
       "    </tr>\n",
       "  </thead>\n",
       "  <tbody>\n",
       "    <tr>\n",
       "      <th>0</th>\n",
       "      <td>19-Aug-16</td>\n",
       "      <td>108.77</td>\n",
       "      <td>109.69</td>\n",
       "      <td>108.36</td>\n",
       "      <td>109.36</td>\n",
       "      <td>25368072</td>\n",
       "    </tr>\n",
       "    <tr>\n",
       "      <th>1</th>\n",
       "      <td>18-Aug-16</td>\n",
       "      <td>109.23</td>\n",
       "      <td>109.60</td>\n",
       "      <td>109.02</td>\n",
       "      <td>109.08</td>\n",
       "      <td>21984703</td>\n",
       "    </tr>\n",
       "    <tr>\n",
       "      <th>2</th>\n",
       "      <td>17-Aug-16</td>\n",
       "      <td>109.10</td>\n",
       "      <td>109.37</td>\n",
       "      <td>108.34</td>\n",
       "      <td>109.22</td>\n",
       "      <td>25355976</td>\n",
       "    </tr>\n",
       "    <tr>\n",
       "      <th>3</th>\n",
       "      <td>16-Aug-16</td>\n",
       "      <td>109.63</td>\n",
       "      <td>110.23</td>\n",
       "      <td>109.21</td>\n",
       "      <td>109.38</td>\n",
       "      <td>33794448</td>\n",
       "    </tr>\n",
       "    <tr>\n",
       "      <th>4</th>\n",
       "      <td>15-Aug-16</td>\n",
       "      <td>108.14</td>\n",
       "      <td>109.54</td>\n",
       "      <td>108.08</td>\n",
       "      <td>109.48</td>\n",
       "      <td>25868209</td>\n",
       "    </tr>\n",
       "  </tbody>\n",
       "</table>\n",
       "</div>"
      ],
      "text/plain": [
       "        Date    Open    High     Low   Close    Volume\n",
       "0  19-Aug-16  108.77  109.69  108.36  109.36  25368072\n",
       "1  18-Aug-16  109.23  109.60  109.02  109.08  21984703\n",
       "2  17-Aug-16  109.10  109.37  108.34  109.22  25355976\n",
       "3  16-Aug-16  109.63  110.23  109.21  109.38  33794448\n",
       "4  15-Aug-16  108.14  109.54  108.08  109.48  25868209"
      ]
     },
     "execution_count": 3,
     "metadata": {},
     "output_type": "execute_result"
    }
   ],
   "source": [
    "col_name = data_apple.columns[0]\n",
    "data_apple = data_apple.rename(columns = {col_name:'Date'})\n",
    "data_apple.head()"
   ]
  },
  {
   "cell_type": "code",
   "execution_count": 4,
   "metadata": {
    "collapsed": false
   },
   "outputs": [],
   "source": [
    "data_apple['Date'] = pd.to_datetime(data_apple['Date'])"
   ]
  },
  {
   "cell_type": "code",
   "execution_count": 5,
   "metadata": {
    "collapsed": false
   },
   "outputs": [
    {
     "data": {
      "text/html": [
       "<div>\n",
       "<table border=\"1\" class=\"dataframe\">\n",
       "  <thead>\n",
       "    <tr style=\"text-align: right;\">\n",
       "      <th></th>\n",
       "      <th>Open</th>\n",
       "      <th>High</th>\n",
       "      <th>Low</th>\n",
       "      <th>Close</th>\n",
       "      <th>Volume</th>\n",
       "    </tr>\n",
       "    <tr>\n",
       "      <th>Date</th>\n",
       "      <th></th>\n",
       "      <th></th>\n",
       "      <th></th>\n",
       "      <th></th>\n",
       "      <th></th>\n",
       "    </tr>\n",
       "  </thead>\n",
       "  <tbody>\n",
       "    <tr>\n",
       "      <th>2016-08-19</th>\n",
       "      <td>108.77</td>\n",
       "      <td>109.69</td>\n",
       "      <td>108.36</td>\n",
       "      <td>109.36</td>\n",
       "      <td>25368072</td>\n",
       "    </tr>\n",
       "    <tr>\n",
       "      <th>2016-08-18</th>\n",
       "      <td>109.23</td>\n",
       "      <td>109.60</td>\n",
       "      <td>109.02</td>\n",
       "      <td>109.08</td>\n",
       "      <td>21984703</td>\n",
       "    </tr>\n",
       "    <tr>\n",
       "      <th>2016-08-17</th>\n",
       "      <td>109.10</td>\n",
       "      <td>109.37</td>\n",
       "      <td>108.34</td>\n",
       "      <td>109.22</td>\n",
       "      <td>25355976</td>\n",
       "    </tr>\n",
       "    <tr>\n",
       "      <th>2016-08-16</th>\n",
       "      <td>109.63</td>\n",
       "      <td>110.23</td>\n",
       "      <td>109.21</td>\n",
       "      <td>109.38</td>\n",
       "      <td>33794448</td>\n",
       "    </tr>\n",
       "    <tr>\n",
       "      <th>2016-08-15</th>\n",
       "      <td>108.14</td>\n",
       "      <td>109.54</td>\n",
       "      <td>108.08</td>\n",
       "      <td>109.48</td>\n",
       "      <td>25868209</td>\n",
       "    </tr>\n",
       "  </tbody>\n",
       "</table>\n",
       "</div>"
      ],
      "text/plain": [
       "              Open    High     Low   Close    Volume\n",
       "Date                                                \n",
       "2016-08-19  108.77  109.69  108.36  109.36  25368072\n",
       "2016-08-18  109.23  109.60  109.02  109.08  21984703\n",
       "2016-08-17  109.10  109.37  108.34  109.22  25355976\n",
       "2016-08-16  109.63  110.23  109.21  109.38  33794448\n",
       "2016-08-15  108.14  109.54  108.08  109.48  25868209"
      ]
     },
     "execution_count": 5,
     "metadata": {},
     "output_type": "execute_result"
    }
   ],
   "source": [
    "data_apple.set_index('Date', inplace=True)\n",
    "data_apple.head()"
   ]
  },
  {
   "cell_type": "code",
   "execution_count": 6,
   "metadata": {
    "collapsed": false
   },
   "outputs": [
    {
     "data": {
      "text/html": [
       "<div>\n",
       "<table border=\"1\" class=\"dataframe\">\n",
       "  <thead>\n",
       "    <tr style=\"text-align: right;\">\n",
       "      <th></th>\n",
       "      <th>Open</th>\n",
       "      <th>High</th>\n",
       "      <th>Low</th>\n",
       "      <th>Close</th>\n",
       "      <th>Volume</th>\n",
       "      <th>Year</th>\n",
       "      <th>Month</th>\n",
       "    </tr>\n",
       "    <tr>\n",
       "      <th>Date</th>\n",
       "      <th></th>\n",
       "      <th></th>\n",
       "      <th></th>\n",
       "      <th></th>\n",
       "      <th></th>\n",
       "      <th></th>\n",
       "      <th></th>\n",
       "    </tr>\n",
       "  </thead>\n",
       "  <tbody>\n",
       "    <tr>\n",
       "      <th>2016-08-19</th>\n",
       "      <td>108.77</td>\n",
       "      <td>109.69</td>\n",
       "      <td>108.36</td>\n",
       "      <td>109.36</td>\n",
       "      <td>25368072</td>\n",
       "      <td>2016</td>\n",
       "      <td>8</td>\n",
       "    </tr>\n",
       "    <tr>\n",
       "      <th>2016-08-18</th>\n",
       "      <td>109.23</td>\n",
       "      <td>109.60</td>\n",
       "      <td>109.02</td>\n",
       "      <td>109.08</td>\n",
       "      <td>21984703</td>\n",
       "      <td>2016</td>\n",
       "      <td>8</td>\n",
       "    </tr>\n",
       "    <tr>\n",
       "      <th>2016-08-17</th>\n",
       "      <td>109.10</td>\n",
       "      <td>109.37</td>\n",
       "      <td>108.34</td>\n",
       "      <td>109.22</td>\n",
       "      <td>25355976</td>\n",
       "      <td>2016</td>\n",
       "      <td>8</td>\n",
       "    </tr>\n",
       "    <tr>\n",
       "      <th>2016-08-16</th>\n",
       "      <td>109.63</td>\n",
       "      <td>110.23</td>\n",
       "      <td>109.21</td>\n",
       "      <td>109.38</td>\n",
       "      <td>33794448</td>\n",
       "      <td>2016</td>\n",
       "      <td>8</td>\n",
       "    </tr>\n",
       "    <tr>\n",
       "      <th>2016-08-15</th>\n",
       "      <td>108.14</td>\n",
       "      <td>109.54</td>\n",
       "      <td>108.08</td>\n",
       "      <td>109.48</td>\n",
       "      <td>25868209</td>\n",
       "      <td>2016</td>\n",
       "      <td>8</td>\n",
       "    </tr>\n",
       "  </tbody>\n",
       "</table>\n",
       "</div>"
      ],
      "text/plain": [
       "              Open    High     Low   Close    Volume  Year  Month\n",
       "Date                                                             \n",
       "2016-08-19  108.77  109.69  108.36  109.36  25368072  2016      8\n",
       "2016-08-18  109.23  109.60  109.02  109.08  21984703  2016      8\n",
       "2016-08-17  109.10  109.37  108.34  109.22  25355976  2016      8\n",
       "2016-08-16  109.63  110.23  109.21  109.38  33794448  2016      8\n",
       "2016-08-15  108.14  109.54  108.08  109.48  25868209  2016      8"
      ]
     },
     "execution_count": 6,
     "metadata": {},
     "output_type": "execute_result"
    }
   ],
   "source": [
    "data_apple['Year'] = data_apple.index.year\n",
    "data_apple['Month'] = data_apple.index.month\n",
    "data_apple.head()"
   ]
  },
  {
   "cell_type": "markdown",
   "metadata": {},
   "source": [
    "## Exploring the data"
   ]
  },
  {
   "cell_type": "code",
   "execution_count": 7,
   "metadata": {
    "collapsed": false
   },
   "outputs": [
    {
     "data": {
      "text/plain": [
       "<seaborn.axisgrid.FacetGrid at 0x7f7cc7f15650>"
      ]
     },
     "execution_count": 7,
     "metadata": {},
     "output_type": "execute_result"
    },
    {
     "data": {
      "image/png": "[encoded data removed]",
      "text/plain": [
       "<matplotlib.figure.Figure at 0x7f7cc7f157d0>"
      ]
     },
     "metadata": {},
     "output_type": "display_data"
    }
   ],
   "source": [
    "import seaborn as sb\n",
    "%matplotlib inline\n",
    "\n",
    "sb.factorplot(\n",
    "    x='Month',\n",
    "    y='Close',\n",
    "    data=data_apple, \n",
    "    kind='box'\n",
    ")"
   ]
  },
  {
   "cell_type": "code",
   "execution_count": 8,
   "metadata": {
    "collapsed": false
   },
   "outputs": [
    {
     "data": {
      "text/plain": [
       "<seaborn.axisgrid.FacetGrid at 0x7f7cf8df3910>"
      ]
     },
     "execution_count": 8,
     "metadata": {},
     "output_type": "execute_result"
    },
    {
     "data": {
      "image/png": "[encoded data removed]",
      "text/plain": [
       "<matplotlib.figure.Figure at 0x7f7cc5472bd0>"
      ]
     },
     "metadata": {},
     "output_type": "display_data"
    }
   ],
   "source": [
    "import seaborn as sb\n",
    "%matplotlib inline\n",
    "\n",
    "sb.factorplot(\n",
    "    x='Month',\n",
    "    y='Volume',\n",
    "    data=data_apple, \n",
    "    kind='box'\n",
    ")"
   ]
  },
  {
   "cell_type": "code",
   "execution_count": 9,
   "metadata": {
    "collapsed": false
   },
   "outputs": [
    {
     "data": {
      "text/plain": [
       "<matplotlib.axes._subplots.AxesSubplot at 0x7f7cc5218490>"
      ]
     },
     "execution_count": 9,
     "metadata": {},
     "output_type": "execute_result"
    },
    {
     "data": {
      "image/png": "[encoded data removed]",
      "text/plain": [
       "<matplotlib.figure.Figure at 0x7f7cc5390fd0>"
      ]
     },
     "metadata": {},
     "output_type": "display_data"
    }
   ],
   "source": [
    "data_apple[['Close']].plot()"
   ]
  },
  {
   "cell_type": "code",
   "execution_count": 10,
   "metadata": {
    "collapsed": false
   },
   "outputs": [
    {
     "data": {
      "text/plain": [
       "<matplotlib.axes._subplots.AxesSubplot at 0x7f7cc51376d0>"
      ]
     },
     "execution_count": 10,
     "metadata": {},
     "output_type": "execute_result"
    },
    {
     "data": {
      "image/png": "[encoded data removed]",
      "text/plain": [
       "<matplotlib.figure.Figure at 0x7f7cc50d36d0>"
      ]
     },
     "metadata": {},
     "output_type": "display_data"
    }
   ],
   "source": [
    "data_apple[['Volume']].plot()"
   ]
  },
  {
   "cell_type": "markdown",
   "metadata": {},
   "source": [
    "## Autocorrelation"
   ]
  },
  {
   "cell_type": "code",
   "execution_count": 11,
   "metadata": {
    "collapsed": false
   },
   "outputs": [
    {
     "data": {
      "text/plain": [
       "0.8981442503358853"
      ]
     },
     "execution_count": 11,
     "metadata": {},
     "output_type": "execute_result"
    }
   ],
   "source": [
    "data_apple['Close'].resample('D').mean().autocorr(lag=7)"
   ]
  },
  {
   "cell_type": "code",
   "execution_count": 12,
   "metadata": {
    "collapsed": false
   },
   "outputs": [
    {
     "data": {
      "text/plain": [
       "0.44832364668956531"
      ]
     },
     "execution_count": 12,
     "metadata": {},
     "output_type": "execute_result"
    }
   ],
   "source": [
    "data_apple['Close'].resample('D').mean().autocorr(lag=30)"
   ]
  },
  {
   "cell_type": "code",
   "execution_count": 13,
   "metadata": {
    "collapsed": false
   },
   "outputs": [
    {
     "data": {
      "text/plain": [
       "-0.059221082430108297"
      ]
     },
     "execution_count": 13,
     "metadata": {},
     "output_type": "execute_result"
    }
   ],
   "source": [
    "data_apple['Volume'].resample('D').mean().autocorr(lag=180)"
   ]
  },
  {
   "cell_type": "code",
   "execution_count": 14,
   "metadata": {
    "collapsed": false
   },
   "outputs": [
    {
     "data": {
      "text/plain": [
       "-0.99999999999999978"
      ]
     },
     "execution_count": 14,
     "metadata": {},
     "output_type": "execute_result"
    }
   ],
   "source": [
    "data_apple['Volume'].resample('D').mean().autocorr(lag=360)"
   ]
  },
  {
   "cell_type": "markdown",
   "metadata": {},
   "source": [
    "## Averaging"
   ]
  },
  {
   "cell_type": "code",
   "execution_count": 15,
   "metadata": {
    "collapsed": false
   },
   "outputs": [
    {
     "data": {
      "text/html": [
       "<div>\n",
       "<table border=\"1\" class=\"dataframe\">\n",
       "  <thead>\n",
       "    <tr style=\"text-align: right;\">\n",
       "      <th></th>\n",
       "      <th>Close</th>\n",
       "    </tr>\n",
       "    <tr>\n",
       "      <th>Date</th>\n",
       "      <th></th>\n",
       "    </tr>\n",
       "  </thead>\n",
       "  <tbody>\n",
       "    <tr>\n",
       "      <th>2015-08-31</th>\n",
       "      <td>109.253333</td>\n",
       "    </tr>\n",
       "    <tr>\n",
       "      <th>2015-09-30</th>\n",
       "      <td>112.797619</td>\n",
       "    </tr>\n",
       "    <tr>\n",
       "      <th>2015-10-31</th>\n",
       "      <td>113.360000</td>\n",
       "    </tr>\n",
       "    <tr>\n",
       "      <th>2015-11-30</th>\n",
       "      <td>118.162500</td>\n",
       "    </tr>\n",
       "    <tr>\n",
       "      <th>2015-12-31</th>\n",
       "      <td>111.726818</td>\n",
       "    </tr>\n",
       "    <tr>\n",
       "      <th>2016-01-31</th>\n",
       "      <td>98.428947</td>\n",
       "    </tr>\n",
       "    <tr>\n",
       "      <th>2016-02-29</th>\n",
       "      <td>95.746500</td>\n",
       "    </tr>\n",
       "    <tr>\n",
       "      <th>2016-03-31</th>\n",
       "      <td>104.267273</td>\n",
       "    </tr>\n",
       "    <tr>\n",
       "      <th>2016-04-30</th>\n",
       "      <td>106.739048</td>\n",
       "    </tr>\n",
       "    <tr>\n",
       "      <th>2016-05-31</th>\n",
       "      <td>94.974762</td>\n",
       "    </tr>\n",
       "    <tr>\n",
       "      <th>2016-06-30</th>\n",
       "      <td>96.622273</td>\n",
       "    </tr>\n",
       "    <tr>\n",
       "      <th>2016-07-31</th>\n",
       "      <td>98.556500</td>\n",
       "    </tr>\n",
       "    <tr>\n",
       "      <th>2016-08-31</th>\n",
       "      <td>107.832000</td>\n",
       "    </tr>\n",
       "  </tbody>\n",
       "</table>\n",
       "</div>"
      ],
      "text/plain": [
       "                 Close\n",
       "Date                  \n",
       "2015-08-31  109.253333\n",
       "2015-09-30  112.797619\n",
       "2015-10-31  113.360000\n",
       "2015-11-30  118.162500\n",
       "2015-12-31  111.726818\n",
       "2016-01-31   98.428947\n",
       "2016-02-29   95.746500\n",
       "2016-03-31  104.267273\n",
       "2016-04-30  106.739048\n",
       "2016-05-31   94.974762\n",
       "2016-06-30   96.622273\n",
       "2016-07-31   98.556500\n",
       "2016-08-31  107.832000"
      ]
     },
     "execution_count": 15,
     "metadata": {},
     "output_type": "execute_result"
    }
   ],
   "source": [
    "# Resample to have the monthly average \n",
    "monthly_mean_close = data_apple[['Close']].resample('M').mean()\n",
    "monthly_mean_close"
   ]
  },
  {
   "cell_type": "code",
   "execution_count": 16,
   "metadata": {
    "collapsed": false
   },
   "outputs": [
    {
     "data": {
      "text/plain": [
       "<matplotlib.axes._subplots.AxesSubplot at 0x7f7cc5037790>"
      ]
     },
     "execution_count": 16,
     "metadata": {},
     "output_type": "execute_result"
    },
    {
     "data": {
      "image/png": "[encoded data removed]",
      "text/plain": [
       "<matplotlib.figure.Figure at 0x7f7cc7f239d0>"
      ]
     },
     "metadata": {},
     "output_type": "display_data"
    }
   ],
   "source": [
    "monthly_mean_close.plot()"
   ]
  },
  {
   "cell_type": "code",
   "execution_count": 17,
   "metadata": {
    "collapsed": false
   },
   "outputs": [
    {
     "data": {
      "text/plain": [
       "<matplotlib.axes._subplots.AxesSubplot at 0x7f7cc4f2e550>"
      ]
     },
     "execution_count": 17,
     "metadata": {},
     "output_type": "execute_result"
    },
    {
     "data": {
      "image/png": "[encoded data removed]",
      "text/plain": [
       "<matplotlib.figure.Figure at 0x7f7cc4f42190>"
      ]
     },
     "metadata": {},
     "output_type": "display_data"
    }
   ],
   "source": [
    "monthly_mean_close.rolling(window=3,center=True).mean().plot()"
   ]
  },
  {
   "cell_type": "code",
   "execution_count": 18,
   "metadata": {
    "collapsed": false
   },
   "outputs": [
    {
     "data": {
      "text/html": [
       "<div>\n",
       "<table border=\"1\" class=\"dataframe\">\n",
       "  <thead>\n",
       "    <tr style=\"text-align: right;\">\n",
       "      <th></th>\n",
       "      <th>Date</th>\n",
       "      <th>Open</th>\n",
       "      <th>High</th>\n",
       "      <th>Low</th>\n",
       "      <th>Close</th>\n",
       "      <th>Volume</th>\n",
       "    </tr>\n",
       "  </thead>\n",
       "  <tbody>\n",
       "    <tr>\n",
       "      <th>0</th>\n",
       "      <td>19-Aug-16</td>\n",
       "      <td>175.26</td>\n",
       "      <td>178.88</td>\n",
       "      <td>174.86</td>\n",
       "      <td>177.53</td>\n",
       "      <td>2906705</td>\n",
       "    </tr>\n",
       "    <tr>\n",
       "      <th>1</th>\n",
       "      <td>18-Aug-16</td>\n",
       "      <td>173.03</td>\n",
       "      <td>175.80</td>\n",
       "      <td>172.68</td>\n",
       "      <td>175.40</td>\n",
       "      <td>2535554</td>\n",
       "    </tr>\n",
       "    <tr>\n",
       "      <th>2</th>\n",
       "      <td>17-Aug-16</td>\n",
       "      <td>173.98</td>\n",
       "      <td>174.00</td>\n",
       "      <td>172.01</td>\n",
       "      <td>172.73</td>\n",
       "      <td>2426920</td>\n",
       "    </tr>\n",
       "    <tr>\n",
       "      <th>3</th>\n",
       "      <td>16-Aug-16</td>\n",
       "      <td>173.00</td>\n",
       "      <td>174.42</td>\n",
       "      <td>170.90</td>\n",
       "      <td>173.30</td>\n",
       "      <td>2642183</td>\n",
       "    </tr>\n",
       "    <tr>\n",
       "      <th>4</th>\n",
       "      <td>15-Aug-16</td>\n",
       "      <td>169.22</td>\n",
       "      <td>174.96</td>\n",
       "      <td>169.00</td>\n",
       "      <td>172.95</td>\n",
       "      <td>3448610</td>\n",
       "    </tr>\n",
       "  </tbody>\n",
       "</table>\n",
       "</div>"
      ],
      "text/plain": [
       "        Date    Open    High     Low   Close   Volume\n",
       "0  19-Aug-16  175.26  178.88  174.86  177.53  2906705\n",
       "1  18-Aug-16  173.03  175.80  172.68  175.40  2535554\n",
       "2  17-Aug-16  173.98  174.00  172.01  172.73  2426920\n",
       "3  16-Aug-16  173.00  174.42  170.90  173.30  2642183\n",
       "4  15-Aug-16  169.22  174.96  169.00  172.95  3448610"
      ]
     },
     "execution_count": 18,
     "metadata": {},
     "output_type": "execute_result"
    }
   ],
   "source": [
    "data_baidu = pd.read_csv('../CSV/bidu.csv', skipinitialspace=True, low_memory=False)\n",
    "data_baidu.head()"
   ]
  },
  {
   "cell_type": "code",
   "execution_count": 19,
   "metadata": {
    "collapsed": false
   },
   "outputs": [
    {
     "data": {
      "text/html": [
       "<div>\n",
       "<table border=\"1\" class=\"dataframe\">\n",
       "  <thead>\n",
       "    <tr style=\"text-align: right;\">\n",
       "      <th></th>\n",
       "      <th>Open</th>\n",
       "      <th>High</th>\n",
       "      <th>Low</th>\n",
       "      <th>Close</th>\n",
       "      <th>Volume</th>\n",
       "    </tr>\n",
       "    <tr>\n",
       "      <th>Date</th>\n",
       "      <th></th>\n",
       "      <th></th>\n",
       "      <th></th>\n",
       "      <th></th>\n",
       "      <th></th>\n",
       "    </tr>\n",
       "  </thead>\n",
       "  <tbody>\n",
       "    <tr>\n",
       "      <th>19-Aug-16</th>\n",
       "      <td>175.26</td>\n",
       "      <td>178.88</td>\n",
       "      <td>174.86</td>\n",
       "      <td>177.53</td>\n",
       "      <td>2906705</td>\n",
       "    </tr>\n",
       "    <tr>\n",
       "      <th>18-Aug-16</th>\n",
       "      <td>173.03</td>\n",
       "      <td>175.80</td>\n",
       "      <td>172.68</td>\n",
       "      <td>175.40</td>\n",
       "      <td>2535554</td>\n",
       "    </tr>\n",
       "    <tr>\n",
       "      <th>17-Aug-16</th>\n",
       "      <td>173.98</td>\n",
       "      <td>174.00</td>\n",
       "      <td>172.01</td>\n",
       "      <td>172.73</td>\n",
       "      <td>2426920</td>\n",
       "    </tr>\n",
       "    <tr>\n",
       "      <th>16-Aug-16</th>\n",
       "      <td>173.00</td>\n",
       "      <td>174.42</td>\n",
       "      <td>170.90</td>\n",
       "      <td>173.30</td>\n",
       "      <td>2642183</td>\n",
       "    </tr>\n",
       "    <tr>\n",
       "      <th>15-Aug-16</th>\n",
       "      <td>169.22</td>\n",
       "      <td>174.96</td>\n",
       "      <td>169.00</td>\n",
       "      <td>172.95</td>\n",
       "      <td>3448610</td>\n",
       "    </tr>\n",
       "  </tbody>\n",
       "</table>\n",
       "</div>"
      ],
      "text/plain": [
       "             Open    High     Low   Close   Volume\n",
       "Date                                              \n",
       "19-Aug-16  175.26  178.88  174.86  177.53  2906705\n",
       "18-Aug-16  173.03  175.80  172.68  175.40  2535554\n",
       "17-Aug-16  173.98  174.00  172.01  172.73  2426920\n",
       "16-Aug-16  173.00  174.42  170.90  173.30  2642183\n",
       "15-Aug-16  169.22  174.96  169.00  172.95  3448610"
      ]
     },
     "execution_count": 19,
     "metadata": {},
     "output_type": "execute_result"
    }
   ],
   "source": [
    "data_baidu.set_index('Date', inplace=True)\n",
    "data_baidu.head()"
   ]
  },
  {
   "cell_type": "code",
   "execution_count": 22,
   "metadata": {
    "collapsed": false
   },
   "outputs": [
    {
     "data": {
      "text/html": [
       "<div>\n",
       "<table border=\"1\" class=\"dataframe\">\n",
       "  <thead>\n",
       "    <tr style=\"text-align: right;\">\n",
       "      <th></th>\n",
       "      <th>Date</th>\n",
       "      <th>Open</th>\n",
       "      <th>High</th>\n",
       "      <th>Low</th>\n",
       "      <th>Close</th>\n",
       "      <th>Volume</th>\n",
       "    </tr>\n",
       "  </thead>\n",
       "  <tbody>\n",
       "    <tr>\n",
       "      <th>0</th>\n",
       "      <td>19-Aug-16</td>\n",
       "      <td>775.00</td>\n",
       "      <td>777.10</td>\n",
       "      <td>773.13</td>\n",
       "      <td>775.42</td>\n",
       "      <td>861546</td>\n",
       "    </tr>\n",
       "    <tr>\n",
       "      <th>1</th>\n",
       "      <td>18-Aug-16</td>\n",
       "      <td>780.01</td>\n",
       "      <td>782.86</td>\n",
       "      <td>777.00</td>\n",
       "      <td>777.50</td>\n",
       "      <td>719429</td>\n",
       "    </tr>\n",
       "    <tr>\n",
       "      <th>2</th>\n",
       "      <td>17-Aug-16</td>\n",
       "      <td>777.32</td>\n",
       "      <td>780.81</td>\n",
       "      <td>773.53</td>\n",
       "      <td>779.91</td>\n",
       "      <td>924226</td>\n",
       "    </tr>\n",
       "    <tr>\n",
       "      <th>3</th>\n",
       "      <td>16-Aug-16</td>\n",
       "      <td>780.30</td>\n",
       "      <td>780.98</td>\n",
       "      <td>773.44</td>\n",
       "      <td>777.14</td>\n",
       "      <td>1028047</td>\n",
       "    </tr>\n",
       "    <tr>\n",
       "      <th>4</th>\n",
       "      <td>15-Aug-16</td>\n",
       "      <td>783.75</td>\n",
       "      <td>787.49</td>\n",
       "      <td>780.11</td>\n",
       "      <td>782.44</td>\n",
       "      <td>938186</td>\n",
       "    </tr>\n",
       "  </tbody>\n",
       "</table>\n",
       "</div>"
      ],
      "text/plain": [
       "        Date    Open    High     Low   Close   Volume\n",
       "0  19-Aug-16  775.00  777.10  773.13  775.42   861546\n",
       "1  18-Aug-16  780.01  782.86  777.00  777.50   719429\n",
       "2  17-Aug-16  777.32  780.81  773.53  779.91   924226\n",
       "3  16-Aug-16  780.30  780.98  773.44  777.14  1028047\n",
       "4  15-Aug-16  783.75  787.49  780.11  782.44   938186"
      ]
     },
     "execution_count": 22,
     "metadata": {},
     "output_type": "execute_result"
    }
   ],
   "source": [
    "data_google = pd.read_csv('../CSV/goog.csv', skipinitialspace=True, low_memory=False)\n",
    "data_google.head()"
   ]
  },
  {
   "cell_type": "code",
   "execution_count": 23,
   "metadata": {
    "collapsed": false
   },
   "outputs": [
    {
     "data": {
      "text/html": [
       "<div>\n",
       "<table border=\"1\" class=\"dataframe\">\n",
       "  <thead>\n",
       "    <tr style=\"text-align: right;\">\n",
       "      <th></th>\n",
       "      <th>Open</th>\n",
       "      <th>High</th>\n",
       "      <th>Low</th>\n",
       "      <th>Close</th>\n",
       "      <th>Volume</th>\n",
       "    </tr>\n",
       "    <tr>\n",
       "      <th>Date</th>\n",
       "      <th></th>\n",
       "      <th></th>\n",
       "      <th></th>\n",
       "      <th></th>\n",
       "      <th></th>\n",
       "    </tr>\n",
       "  </thead>\n",
       "  <tbody>\n",
       "    <tr>\n",
       "      <th>19-Aug-16</th>\n",
       "      <td>775.00</td>\n",
       "      <td>777.10</td>\n",
       "      <td>773.13</td>\n",
       "      <td>775.42</td>\n",
       "      <td>861546</td>\n",
       "    </tr>\n",
       "    <tr>\n",
       "      <th>18-Aug-16</th>\n",
       "      <td>780.01</td>\n",
       "      <td>782.86</td>\n",
       "      <td>777.00</td>\n",
       "      <td>777.50</td>\n",
       "      <td>719429</td>\n",
       "    </tr>\n",
       "    <tr>\n",
       "      <th>17-Aug-16</th>\n",
       "      <td>777.32</td>\n",
       "      <td>780.81</td>\n",
       "      <td>773.53</td>\n",
       "      <td>779.91</td>\n",
       "      <td>924226</td>\n",
       "    </tr>\n",
       "    <tr>\n",
       "      <th>16-Aug-16</th>\n",
       "      <td>780.30</td>\n",
       "      <td>780.98</td>\n",
       "      <td>773.44</td>\n",
       "      <td>777.14</td>\n",
       "      <td>1028047</td>\n",
       "    </tr>\n",
       "    <tr>\n",
       "      <th>15-Aug-16</th>\n",
       "      <td>783.75</td>\n",
       "      <td>787.49</td>\n",
       "      <td>780.11</td>\n",
       "      <td>782.44</td>\n",
       "      <td>938186</td>\n",
       "    </tr>\n",
       "  </tbody>\n",
       "</table>\n",
       "</div>"
      ],
      "text/plain": [
       "             Open    High     Low   Close   Volume\n",
       "Date                                              \n",
       "19-Aug-16  775.00  777.10  773.13  775.42   861546\n",
       "18-Aug-16  780.01  782.86  777.00  777.50   719429\n",
       "17-Aug-16  777.32  780.81  773.53  779.91   924226\n",
       "16-Aug-16  780.30  780.98  773.44  777.14  1028047\n",
       "15-Aug-16  783.75  787.49  780.11  782.44   938186"
      ]
     },
     "execution_count": 23,
     "metadata": {},
     "output_type": "execute_result"
    }
   ],
   "source": [
    "data_google.set_index('Date', inplace=True)\n",
    "data_google.head()"
   ]
  },
  {
   "cell_type": "code",
   "execution_count": 24,
   "metadata": {
    "collapsed": false
   },
   "outputs": [
    {
     "data": {
      "text/html": [
       "<div>\n",
       "<table border=\"1\" class=\"dataframe\">\n",
       "  <thead>\n",
       "    <tr style=\"text-align: right;\">\n",
       "      <th></th>\n",
       "      <th>Date</th>\n",
       "      <th>Open</th>\n",
       "      <th>High</th>\n",
       "      <th>Low</th>\n",
       "      <th>Close</th>\n",
       "      <th>Volume</th>\n",
       "    </tr>\n",
       "  </thead>\n",
       "  <tbody>\n",
       "    <tr>\n",
       "      <th>0</th>\n",
       "      <td>19-Aug-16</td>\n",
       "      <td>160.84</td>\n",
       "      <td>160.91</td>\n",
       "      <td>159.52</td>\n",
       "      <td>160.04</td>\n",
       "      <td>2815184</td>\n",
       "    </tr>\n",
       "    <tr>\n",
       "      <th>1</th>\n",
       "      <td>18-Aug-16</td>\n",
       "      <td>160.89</td>\n",
       "      <td>162.00</td>\n",
       "      <td>160.44</td>\n",
       "      <td>161.36</td>\n",
       "      <td>3652013</td>\n",
       "    </tr>\n",
       "    <tr>\n",
       "      <th>2</th>\n",
       "      <td>17-Aug-16</td>\n",
       "      <td>160.97</td>\n",
       "      <td>161.16</td>\n",
       "      <td>159.84</td>\n",
       "      <td>160.44</td>\n",
       "      <td>3225919</td>\n",
       "    </tr>\n",
       "    <tr>\n",
       "      <th>3</th>\n",
       "      <td>16-Aug-16</td>\n",
       "      <td>161.11</td>\n",
       "      <td>161.93</td>\n",
       "      <td>160.69</td>\n",
       "      <td>160.70</td>\n",
       "      <td>2210229</td>\n",
       "    </tr>\n",
       "    <tr>\n",
       "      <th>4</th>\n",
       "      <td>15-Aug-16</td>\n",
       "      <td>162.40</td>\n",
       "      <td>162.97</td>\n",
       "      <td>161.78</td>\n",
       "      <td>161.88</td>\n",
       "      <td>2970415</td>\n",
       "    </tr>\n",
       "  </tbody>\n",
       "</table>\n",
       "</div>"
      ],
      "text/plain": [
       "        Date    Open    High     Low   Close   Volume\n",
       "0  19-Aug-16  160.84  160.91  159.52  160.04  2815184\n",
       "1  18-Aug-16  160.89  162.00  160.44  161.36  3652013\n",
       "2  17-Aug-16  160.97  161.16  159.84  160.44  3225919\n",
       "3  16-Aug-16  161.11  161.93  160.69  160.70  2210229\n",
       "4  15-Aug-16  162.40  162.97  161.78  161.88  2970415"
      ]
     },
     "execution_count": 24,
     "metadata": {},
     "output_type": "execute_result"
    }
   ],
   "source": [
    "data_ibm = pd.read_csv('../CSV/ibm.csv', skipinitialspace=True, low_memory=False)\n",
    "data_ibm.head()"
   ]
  },
  {
   "cell_type": "code",
   "execution_count": 25,
   "metadata": {
    "collapsed": false
   },
   "outputs": [
    {
     "data": {
      "text/html": [
       "<div>\n",
       "<table border=\"1\" class=\"dataframe\">\n",
       "  <thead>\n",
       "    <tr style=\"text-align: right;\">\n",
       "      <th></th>\n",
       "      <th>Open</th>\n",
       "      <th>High</th>\n",
       "      <th>Low</th>\n",
       "      <th>Close</th>\n",
       "      <th>Volume</th>\n",
       "    </tr>\n",
       "    <tr>\n",
       "      <th>Date</th>\n",
       "      <th></th>\n",
       "      <th></th>\n",
       "      <th></th>\n",
       "      <th></th>\n",
       "      <th></th>\n",
       "    </tr>\n",
       "  </thead>\n",
       "  <tbody>\n",
       "    <tr>\n",
       "      <th>19-Aug-16</th>\n",
       "      <td>160.84</td>\n",
       "      <td>160.91</td>\n",
       "      <td>159.52</td>\n",
       "      <td>160.04</td>\n",
       "      <td>2815184</td>\n",
       "    </tr>\n",
       "    <tr>\n",
       "      <th>18-Aug-16</th>\n",
       "      <td>160.89</td>\n",
       "      <td>162.00</td>\n",
       "      <td>160.44</td>\n",
       "      <td>161.36</td>\n",
       "      <td>3652013</td>\n",
       "    </tr>\n",
       "    <tr>\n",
       "      <th>17-Aug-16</th>\n",
       "      <td>160.97</td>\n",
       "      <td>161.16</td>\n",
       "      <td>159.84</td>\n",
       "      <td>160.44</td>\n",
       "      <td>3225919</td>\n",
       "    </tr>\n",
       "    <tr>\n",
       "      <th>16-Aug-16</th>\n",
       "      <td>161.11</td>\n",
       "      <td>161.93</td>\n",
       "      <td>160.69</td>\n",
       "      <td>160.70</td>\n",
       "      <td>2210229</td>\n",
       "    </tr>\n",
       "    <tr>\n",
       "      <th>15-Aug-16</th>\n",
       "      <td>162.40</td>\n",
       "      <td>162.97</td>\n",
       "      <td>161.78</td>\n",
       "      <td>161.88</td>\n",
       "      <td>2970415</td>\n",
       "    </tr>\n",
       "  </tbody>\n",
       "</table>\n",
       "</div>"
      ],
      "text/plain": [
       "             Open    High     Low   Close   Volume\n",
       "Date                                              \n",
       "19-Aug-16  160.84  160.91  159.52  160.04  2815184\n",
       "18-Aug-16  160.89  162.00  160.44  161.36  3652013\n",
       "17-Aug-16  160.97  161.16  159.84  160.44  3225919\n",
       "16-Aug-16  161.11  161.93  160.69  160.70  2210229\n",
       "15-Aug-16  162.40  162.97  161.78  161.88  2970415"
      ]
     },
     "execution_count": 25,
     "metadata": {},
     "output_type": "execute_result"
    }
   ],
   "source": [
    "data_ibm.set_index('Date', inplace=True)\n",
    "data_ibm.head()"
   ]
  },
  {
   "cell_type": "code",
   "execution_count": 26,
   "metadata": {
    "collapsed": false
   },
   "outputs": [
    {
     "data": {
      "text/html": [
       "<div>\n",
       "<table border=\"1\" class=\"dataframe\">\n",
       "  <thead>\n",
       "    <tr style=\"text-align: right;\">\n",
       "      <th></th>\n",
       "      <th>Date</th>\n",
       "      <th>Open</th>\n",
       "      <th>High</th>\n",
       "      <th>Low</th>\n",
       "      <th>Close</th>\n",
       "      <th>Volume</th>\n",
       "    </tr>\n",
       "  </thead>\n",
       "  <tbody>\n",
       "    <tr>\n",
       "      <th>0</th>\n",
       "      <td>19-Aug-16</td>\n",
       "      <td>42.80</td>\n",
       "      <td>43.12</td>\n",
       "      <td>42.64</td>\n",
       "      <td>43.02</td>\n",
       "      <td>9460753</td>\n",
       "    </tr>\n",
       "    <tr>\n",
       "      <th>1</th>\n",
       "      <td>18-Aug-16</td>\n",
       "      <td>42.69</td>\n",
       "      <td>42.97</td>\n",
       "      <td>42.58</td>\n",
       "      <td>42.90</td>\n",
       "      <td>11294419</td>\n",
       "    </tr>\n",
       "    <tr>\n",
       "      <th>2</th>\n",
       "      <td>17-Aug-16</td>\n",
       "      <td>42.39</td>\n",
       "      <td>42.75</td>\n",
       "      <td>42.39</td>\n",
       "      <td>42.70</td>\n",
       "      <td>8571927</td>\n",
       "    </tr>\n",
       "    <tr>\n",
       "      <th>3</th>\n",
       "      <td>16-Aug-16</td>\n",
       "      <td>42.30</td>\n",
       "      <td>42.79</td>\n",
       "      <td>41.95</td>\n",
       "      <td>42.49</td>\n",
       "      <td>13793794</td>\n",
       "    </tr>\n",
       "    <tr>\n",
       "      <th>4</th>\n",
       "      <td>15-Aug-16</td>\n",
       "      <td>43.18</td>\n",
       "      <td>43.29</td>\n",
       "      <td>42.43</td>\n",
       "      <td>42.67</td>\n",
       "      <td>14441784</td>\n",
       "    </tr>\n",
       "  </tbody>\n",
       "</table>\n",
       "</div>"
      ],
      "text/plain": [
       "        Date   Open   High    Low  Close    Volume\n",
       "0  19-Aug-16  42.80  43.12  42.64  43.02   9460753\n",
       "1  18-Aug-16  42.69  42.97  42.58  42.90  11294419\n",
       "2  17-Aug-16  42.39  42.75  42.39  42.70   8571927\n",
       "3  16-Aug-16  42.30  42.79  41.95  42.49  13793794\n",
       "4  15-Aug-16  43.18  43.29  42.43  42.67  14441784"
      ]
     },
     "execution_count": 26,
     "metadata": {},
     "output_type": "execute_result"
    }
   ],
   "source": [
    "data_yahoo = pd.read_csv('../CSV/yhoo.csv', skipinitialspace=True, low_memory=False)\n",
    "data_yahoo.head()"
   ]
  },
  {
   "cell_type": "code",
   "execution_count": 27,
   "metadata": {
    "collapsed": false
   },
   "outputs": [
    {
     "data": {
      "text/html": [
       "<div>\n",
       "<table border=\"1\" class=\"dataframe\">\n",
       "  <thead>\n",
       "    <tr style=\"text-align: right;\">\n",
       "      <th></th>\n",
       "      <th>Open</th>\n",
       "      <th>High</th>\n",
       "      <th>Low</th>\n",
       "      <th>Close</th>\n",
       "      <th>Volume</th>\n",
       "    </tr>\n",
       "    <tr>\n",
       "      <th>Date</th>\n",
       "      <th></th>\n",
       "      <th></th>\n",
       "      <th></th>\n",
       "      <th></th>\n",
       "      <th></th>\n",
       "    </tr>\n",
       "  </thead>\n",
       "  <tbody>\n",
       "    <tr>\n",
       "      <th>19-Aug-16</th>\n",
       "      <td>42.80</td>\n",
       "      <td>43.12</td>\n",
       "      <td>42.64</td>\n",
       "      <td>43.02</td>\n",
       "      <td>9460753</td>\n",
       "    </tr>\n",
       "    <tr>\n",
       "      <th>18-Aug-16</th>\n",
       "      <td>42.69</td>\n",
       "      <td>42.97</td>\n",
       "      <td>42.58</td>\n",
       "      <td>42.90</td>\n",
       "      <td>11294419</td>\n",
       "    </tr>\n",
       "    <tr>\n",
       "      <th>17-Aug-16</th>\n",
       "      <td>42.39</td>\n",
       "      <td>42.75</td>\n",
       "      <td>42.39</td>\n",
       "      <td>42.70</td>\n",
       "      <td>8571927</td>\n",
       "    </tr>\n",
       "    <tr>\n",
       "      <th>16-Aug-16</th>\n",
       "      <td>42.30</td>\n",
       "      <td>42.79</td>\n",
       "      <td>41.95</td>\n",
       "      <td>42.49</td>\n",
       "      <td>13793794</td>\n",
       "    </tr>\n",
       "    <tr>\n",
       "      <th>15-Aug-16</th>\n",
       "      <td>43.18</td>\n",
       "      <td>43.29</td>\n",
       "      <td>42.43</td>\n",
       "      <td>42.67</td>\n",
       "      <td>14441784</td>\n",
       "    </tr>\n",
       "  </tbody>\n",
       "</table>\n",
       "</div>"
      ],
      "text/plain": [
       "            Open   High    Low  Close    Volume\n",
       "Date                                           \n",
       "19-Aug-16  42.80  43.12  42.64  43.02   9460753\n",
       "18-Aug-16  42.69  42.97  42.58  42.90  11294419\n",
       "17-Aug-16  42.39  42.75  42.39  42.70   8571927\n",
       "16-Aug-16  42.30  42.79  41.95  42.49  13793794\n",
       "15-Aug-16  43.18  43.29  42.43  42.67  14441784"
      ]
     },
     "execution_count": 27,
     "metadata": {},
     "output_type": "execute_result"
    }
   ],
   "source": [
    "data_yahoo.set_index('Date', inplace=True)\n",
    "data_yahoo.head()"
   ]
  },
  {
   "cell_type": "code",
   "execution_count": null,
   "metadata": {
    "collapsed": true
   },
   "outputs": [],
   "source": []
  }
 ],
 "metadata": {
  "kernelspec": {
   "display_name": "Python [Root]",
   "language": "python",
   "name": "Python [Root]"
  },
  "language_info": {
   "codemirror_mode": {
    "name": "ipython",
    "version": 2
   },
   "file_extension": ".py",
   "mimetype": "text/x-python",
   "name": "python",
   "nbconvert_exporter": "python",
   "pygments_lexer": "ipython2",
   "version": "2.7.12"
  }
 },
 "nbformat": 4,
 "nbformat_minor": 0
}
