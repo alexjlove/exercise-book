{
 "cells": [
  {
   "cell_type": "code",
   "execution_count": 1,
   "metadata": {
    "collapsed": false
   },
   "outputs": [],
   "source": [
    "from bs4 import BeautifulSoup\n",
    "import requests\n",
    "import pandas as pd\n",
    "import numpy as np"
   ]
  },
  {
   "cell_type": "markdown",
   "metadata": {},
   "source": [
    "# Function to create DataFrame from search"
   ]
  },
  {
   "cell_type": "code",
   "execution_count": 2,
   "metadata": {
    "collapsed": false
   },
   "outputs": [],
   "source": [
    "def search_df(location, salary):\n",
    "    '''Scrapes indeed.com search results into a dataframe'''\n",
    "    df = pd.DataFrame()\n",
    "    pd.set_option('max_colwidth', 500)\n",
    "    \n",
    "    base_url = 'http://www.indeed.com/jobs?q=data+scientist'\n",
    "    sal_url = '&salary=' + salary\n",
    "    loc_url = '&l=' + location\n",
    "    end_url = '&jt=fulltime&sort=date&start='\n",
    "    for page in range(1,41):\n",
    "        page = (page-1) * 10\n",
    "        url = \"%s%s%s%s%d\" % (base_url, sal_url, loc_url, end_url, page)\n",
    "\n",
    "        contents = BeautifulSoup(requests.get(url).text, 'lxml')    \n",
    "\n",
    "        contentsElements = contents.find_all('div', attrs={'class' : '  row  result'}) \n",
    "\n",
    "        for elem in contentsElements: \n",
    "            try:\n",
    "                company = elem.find('span', attrs={'itemprop':'name'}).getText().strip()\n",
    "            except AttributeError:\n",
    "                company = '-'\n",
    "            job_title = elem.find('a', attrs={'class':'turnstileLink'}).attrs['title']\n",
    "            home_url = \"http://www.indeed.com\"\n",
    "            job_link = \"%s%s\" % (home_url,elem.find('a').get('href'))\n",
    "            job_addr = elem.find('span', attrs={'itemprop':'addressLocality'}).getText()\n",
    "            job_posted = elem.find('span', attrs={'class': 'date'}).getText()\n",
    "            description = elem.find('span', attrs={'class': 'summary'}).getText().strip()\n",
    "            #try:\n",
    "            #    salary = elem.find('nobr').getText()\n",
    "            #except AttributeError:\n",
    "            #    salary = None\n",
    "\n",
    "            df = df.append({'company': company, \n",
    "                            'job_title': job_title, \n",
    "                            'job_link': job_link, \n",
    "                            #'job_posted': job_posted,\n",
    "                            'job_location': job_addr,\n",
    "                            #'salary': salary,\n",
    "                            'description': description\n",
    "                           }, ignore_index=True)\n",
    "\n",
    "        lastElement = contents.find('div', attrs={'class' : 'lastRow  row  result'})\n",
    "        try:\n",
    "            company = lastElement.find('span', attrs={'itemprop':'name'}).getText().strip()\n",
    "        except AttributeError:\n",
    "            company = '-'\n",
    "        job_title = lastElement.find('a', attrs={'class':'turnstileLink'}).attrs['title']\n",
    "        home_url = \"http://www.indeed.com\"\n",
    "        job_link = \"%s%s\" % (home_url,lastElement.find('a').get('href'))\n",
    "        job_addr = lastElement.find('span', attrs={'itemprop':'addressLocality'}).getText()\n",
    "        job_posted = lastElement.find('span', attrs={'class': 'date'}).getText()\n",
    "        description = lastElement.find('span', attrs={'class': 'summary'}).getText().strip()\n",
    "        #try:\n",
    "        #    salary = lastElement.find('nobr').getText()\n",
    "        #except AttributeError:\n",
    "        #    salary = None\n",
    "\n",
    "        df = df.append({'company': company, \n",
    "                        'job_title': job_title, \n",
    "                        'job_link': job_link, \n",
    "                        #'job_posted': job_posted,\n",
    "                        'job_location': job_addr,\n",
    "                        #'salary': salary,\n",
    "                        'description': description\n",
    "                        }, ignore_index=True)\n",
    "    df['salary'] = salary\n",
    "    return df.drop_duplicates()\n"
   ]
  },
  {
   "cell_type": "markdown",
   "metadata": {},
   "source": [
    "# Function to search by salary bins and concat to larger dataframe"
   ]
  },
  {
   "cell_type": "code",
   "execution_count": 3,
   "metadata": {
    "collapsed": false,
    "scrolled": true
   },
   "outputs": [],
   "source": [
    "def make_bins(location):\n",
    "    '''Creates a dataframe for each salary bin and concats into one big dataframe'''\n",
    "    salary_bins = {1: '$65,000-$90,000',\n",
    "                   2: '$90,000-$110,000',\n",
    "                   3: '$110,000-$130,000',\n",
    "                   4: '$130,000'}\n",
    "\n",
    "    df1 = search_df(location, salary_bins[1])\n",
    "    df2 = search_df(location, salary_bins[2])\n",
    "    df3 = search_df(location, salary_bins[3])\n",
    "    df4 = search_df(location, salary_bins[4])\n",
    "\n",
    "    bigdf = pd.concat([df1,df2,df3,df4])\n",
    "    \n",
    "    inv_map = {v: k for k, v in salary_bins.items()}\n",
    "    bigdf['salary_bins'] = bigdf.salary.map(inv_map)\n",
    "    \n",
    "    return bigdf\n",
    "    bigdf.salary.value_counts()\n",
    "\n",
    "sanfran_df = make_bins('san francisco')"
   ]
  },
  {
   "cell_type": "code",
   "execution_count": 4,
   "metadata": {
    "collapsed": false,
    "scrolled": false
   },
   "outputs": [
    {
     "data": {
      "text/html": [
       "<div>\n",
       "<table border=\"1\" class=\"dataframe\">\n",
       "  <thead>\n",
       "    <tr style=\"text-align: right;\">\n",
       "      <th></th>\n",
       "      <th>company</th>\n",
       "      <th>description</th>\n",
       "      <th>job_link</th>\n",
       "      <th>job_location</th>\n",
       "      <th>job_title</th>\n",
       "      <th>salary</th>\n",
       "      <th>salary_bins</th>\n",
       "    </tr>\n",
       "  </thead>\n",
       "  <tbody>\n",
       "    <tr>\n",
       "      <th>0</th>\n",
       "      <td>Pacific BioLabs</td>\n",
       "      <td>PBL is committed to being the “Service Leader in Bioscience Testing.” Studies at PBL are conducted in accordance with current Good Manufacturing Practice (cGMP)...</td>\n",
       "      <td>http://www.indeed.com/rc/clk?jk=b325617f6176a2f8&amp;fccid=e00fb388cc5ec3ee</td>\n",
       "      <td>Hercules, CA 94547</td>\n",
       "      <td>Scientist (Toxicology)</td>\n",
       "      <td>$65,000-$90,000</td>\n",
       "      <td>1</td>\n",
       "    </tr>\n",
       "    <tr>\n",
       "      <th>1</th>\n",
       "      <td>Boutique Air</td>\n",
       "      <td>Excellent data collection and analysis skills. Conduct industry-specific data analyses and present findings in a clear and concise manner....</td>\n",
       "      <td>http://www.indeed.com/rc/clk?jk=cd120d13324a0807&amp;fccid=7024cfb624b4025e</td>\n",
       "      <td>San Francisco, CA</td>\n",
       "      <td>Research Analyst</td>\n",
       "      <td>$65,000-$90,000</td>\n",
       "      <td>1</td>\n",
       "    </tr>\n",
       "    <tr>\n",
       "      <th>2</th>\n",
       "      <td>Peralta Community College District</td>\n",
       "      <td>Analyses data to develop reports; Work with District to ensure that training materials are maintained and updated, and that regular and ongoing training is...</td>\n",
       "      <td>http://www.indeed.com/rc/clk?jk=446619c7b5b8e25a&amp;fccid=22830019c2a93e1d</td>\n",
       "      <td>Oakland, CA</td>\n",
       "      <td>Research and Systems Technology Analyst</td>\n",
       "      <td>$65,000-$90,000</td>\n",
       "      <td>1</td>\n",
       "    </tr>\n",
       "    <tr>\n",
       "      <th>3</th>\n",
       "      <td>csg</td>\n",
       "      <td>Experience writing and/or integrating Runtime for R/SAS for statistic services to provide predictive analytics....</td>\n",
       "      <td>http://www.indeed.com/rc/clk?jk=081ef43d40adc043&amp;fccid=a56aa6958ed63da1</td>\n",
       "      <td>San Francisco, CA</td>\n",
       "      <td>Statistical Programmer III (SpotFire)</td>\n",
       "      <td>$65,000-$90,000</td>\n",
       "      <td>1</td>\n",
       "    </tr>\n",
       "    <tr>\n",
       "      <th>4</th>\n",
       "      <td>Omniox Inc.</td>\n",
       "      <td>We are seeking an individual for an Associate Scientist / Scientist position in our Oncology Research group....</td>\n",
       "      <td>http://www.indeed.com/rc/clk?jk=1c77995163dbd445&amp;fccid=c7ca781f5383c441</td>\n",
       "      <td>San Carlos, CA 94070</td>\n",
       "      <td>Associate Scientist / Scientist</td>\n",
       "      <td>$65,000-$90,000</td>\n",
       "      <td>1</td>\n",
       "    </tr>\n",
       "    <tr>\n",
       "      <th>5</th>\n",
       "      <td>Ascent Services Group</td>\n",
       "      <td>Responsibilities will also include data processing, statistical analysis, and dissemination of results to project teams in support of drug discovery and...</td>\n",
       "      <td>http://www.indeed.com/rc/clk?jk=7ce4762d41c784cf&amp;fccid=55051b7d98da371e</td>\n",
       "      <td>South San Francisco, CA 94080</td>\n",
       "      <td>DMPK-BA Scientist</td>\n",
       "      <td>$65,000-$90,000</td>\n",
       "      <td>1</td>\n",
       "    </tr>\n",
       "    <tr>\n",
       "      <th>6</th>\n",
       "      <td>Veracyte, Inc.</td>\n",
       "      <td>We are seeking a new Clinical Laboratory Scientist (CLS) to perform cutting-edge diagnostic testing on patient specimens in our collaborative, high-energy work...</td>\n",
       "      <td>http://www.indeed.com/rc/clk?jk=3bcf34b4bff9d910&amp;fccid=ef82ab85e15d8df3</td>\n",
       "      <td>South San Francisco, CA 94080</td>\n",
       "      <td>Clinical Lab Scientist (CLS)</td>\n",
       "      <td>$65,000-$90,000</td>\n",
       "      <td>1</td>\n",
       "    </tr>\n",
       "    <tr>\n",
       "      <th>7</th>\n",
       "      <td>Gilead Sciences</td>\n",
       "      <td>Works under supervision of more senior scientists or scientific directors to identify and validate targets, advance the development of economical, state-of-the...</td>\n",
       "      <td>http://www.indeed.com/rc/clk?jk=72e83129e901ef46&amp;fccid=e4b075354d7c2865</td>\n",
       "      <td>Foster City, CA</td>\n",
       "      <td>Research Scientist I, Medicinal Chemistry</td>\n",
       "      <td>$65,000-$90,000</td>\n",
       "      <td>1</td>\n",
       "    </tr>\n",
       "    <tr>\n",
       "      <th>8</th>\n",
       "      <td>Gilead</td>\n",
       "      <td>Works under supervision of more senior scientists or scientific directors to identify and validate targets, advance the development of economical, state-of-the...</td>\n",
       "      <td>http://www.indeed.com/rc/clk?jk=58878406cc8cbf08&amp;fccid=0aed3f67f6a631df</td>\n",
       "      <td>Foster City, CA</td>\n",
       "      <td>Research Scientist I, Medicinal Chemistry</td>\n",
       "      <td>$65,000-$90,000</td>\n",
       "      <td>1</td>\n",
       "    </tr>\n",
       "    <tr>\n",
       "      <th>9</th>\n",
       "      <td>Gilead Sciences</td>\n",
       "      <td>Independently plans and executes assigned experiments that support non-routine research activities and project goals....</td>\n",
       "      <td>http://www.indeed.com/rc/clk?jk=4e8bea0ab08f1879&amp;fccid=e4b075354d7c2865</td>\n",
       "      <td>Foster City, CA</td>\n",
       "      <td>Associate Scientist II, Immunology</td>\n",
       "      <td>$65,000-$90,000</td>\n",
       "      <td>1</td>\n",
       "    </tr>\n",
       "    <tr>\n",
       "      <th>10</th>\n",
       "      <td>Gilead</td>\n",
       "      <td>Independently plans and executes assigned experiments that support non-routine research activities and project goals....</td>\n",
       "      <td>http://www.indeed.com/rc/clk?jk=f1e6e3b93dfffb72&amp;fccid=0aed3f67f6a631df</td>\n",
       "      <td>Foster City, CA</td>\n",
       "      <td>Associate Scientist II, Immunology</td>\n",
       "      <td>$65,000-$90,000</td>\n",
       "      <td>1</td>\n",
       "    </tr>\n",
       "    <tr>\n",
       "      <th>11</th>\n",
       "      <td>Oakland Unified School District</td>\n",
       "      <td>E Work with the District's technical staff to obtain, maintain, clean, and process data retrieved from the student information system, data contained on the...</td>\n",
       "      <td>http://www.indeed.com/rc/clk?jk=572b7990f7417dd1&amp;fccid=38e6a0772b8d4d5b</td>\n",
       "      <td>Oakland, CA 94607 (Acorn-Acorn Industrial area)</td>\n",
       "      <td>Data Analyst II (Department: Research, Assessment &amp; Data)</td>\n",
       "      <td>$65,000-$90,000</td>\n",
       "      <td>1</td>\n",
       "    </tr>\n",
       "    <tr>\n",
       "      <th>12</th>\n",
       "      <td>InClin</td>\n",
       "      <td>The right candidate will have at least 4 years of SAS programming with a minimum of 3 years’ experience with clinical study data in either a contract research...</td>\n",
       "      <td>http://www.indeed.com/rc/clk?jk=aec0f05f4c81564f&amp;fccid=7000ddc339a9ccf8</td>\n",
       "      <td>San Mateo, CA</td>\n",
       "      <td>Senior Statistical Programmer</td>\n",
       "      <td>$65,000-$90,000</td>\n",
       "      <td>1</td>\n",
       "    </tr>\n",
       "    <tr>\n",
       "      <th>13</th>\n",
       "      <td>PerkinElmer</td>\n",
       "      <td>Clinical techniques with a strong knowledge of the. Proven ability to build a sales pipeline, manage. Work with application scientist team for customer....</td>\n",
       "      <td>http://www.indeed.com/rc/clk?jk=eabb5f25bf850d58&amp;fccid=dedb01f1a81e63e6</td>\n",
       "      <td>San Francisco, CA</td>\n",
       "      <td>Field Application Specialist Representative</td>\n",
       "      <td>$65,000-$90,000</td>\n",
       "      <td>1</td>\n",
       "    </tr>\n",
       "    <tr>\n",
       "      <th>14</th>\n",
       "      <td>Lawrence Berkeley National Laboratory</td>\n",
       "      <td>Berkeley Lab’s Climate &amp; Ecosystems Division has an opening for a Environmental Microbes Project Scientist. Work with multidisciplinary collaborators on a large...</td>\n",
       "      <td>http://www.indeed.com/rc/clk?jk=463e4b804706363f&amp;fccid=5bee64c47451d1c2</td>\n",
       "      <td>Berkeley, CA 94720</td>\n",
       "      <td>Environmental Microbes Project Scientist (Climate &amp; Ecosystems)</td>\n",
       "      <td>$65,000-$90,000</td>\n",
       "      <td>1</td>\n",
       "    </tr>\n",
       "    <tr>\n",
       "      <th>15</th>\n",
       "      <td>Elevate Recruiting Group</td>\n",
       "      <td>MS or PhD in statistics, engineering, mathematics or physics Demonstrate a strong background in statistics and/or probability theory via professional experience...</td>\n",
       "      <td>http://www.indeed.com/rc/clk?jk=b7d0341364b11b02&amp;fccid=ea0afd5c2a813ac2</td>\n",
       "      <td>Redwood City, CA</td>\n",
       "      <td>Sr. Statistician</td>\n",
       "      <td>$65,000-$90,000</td>\n",
       "      <td>1</td>\n",
       "    </tr>\n",
       "    <tr>\n",
       "      <th>16</th>\n",
       "      <td>Miroculus</td>\n",
       "      <td>To apply please send a full CV together with a brief cover letter to jobs@miroculus.com by September 30th. This position reports to the Lead Research Scientist....</td>\n",
       "      <td>http://www.indeed.com/rc/clk?jk=f227345a5ec64e55&amp;fccid=09138bccc4dec153</td>\n",
       "      <td>San Francisco, CA</td>\n",
       "      <td>Scientist</td>\n",
       "      <td>$65,000-$90,000</td>\n",
       "      <td>1</td>\n",
       "    </tr>\n",
       "    <tr>\n",
       "      <th>17</th>\n",
       "      <td>Ninjob | Employment Marketing</td>\n",
       "      <td>You must have several years of close, detailed review and analysis of insurance data, including predictive analytics applications....</td>\n",
       "      <td>http://www.indeed.com/rc/clk?jk=63c3de3d485ff134&amp;fccid=100e6043a33e57bf</td>\n",
       "      <td>San Francisco, CA</td>\n",
       "      <td>Actuary with Statistical Modeling Skills #71404</td>\n",
       "      <td>$65,000-$90,000</td>\n",
       "      <td>1</td>\n",
       "    </tr>\n",
       "    <tr>\n",
       "      <th>18</th>\n",
       "      <td>10X Genomics</td>\n",
       "      <td>Work with key scientists to develop new applications that take advantage of 10X technology. The scientist must have a passion for innovating new applications...</td>\n",
       "      <td>http://www.indeed.com/rc/clk?jk=c30381ab201d7587&amp;fccid=b77c27a9d900998b</td>\n",
       "      <td>San Francisco Bay Area, CA</td>\n",
       "      <td>Applications Data Analyst</td>\n",
       "      <td>$65,000-$90,000</td>\n",
       "      <td>1</td>\n",
       "    </tr>\n",
       "    <tr>\n",
       "      <th>19</th>\n",
       "      <td>Gilead</td>\n",
       "      <td>Works collaboratively with Clinical Development staff to meet project deliverables and timelines for statistical data analysis and reporting....</td>\n",
       "      <td>http://www.indeed.com/rc/clk?jk=0ce2df382de9e116&amp;fccid=0aed3f67f6a631df</td>\n",
       "      <td>Foster City, CA</td>\n",
       "      <td>Manager, Statistical Programming</td>\n",
       "      <td>$65,000-$90,000</td>\n",
       "      <td>1</td>\n",
       "    </tr>\n",
       "  </tbody>\n",
       "</table>\n",
       "</div>"
      ],
      "text/plain": [
       "                                  company  \\\n",
       "0                         Pacific BioLabs   \n",
       "1                            Boutique Air   \n",
       "2      Peralta Community College District   \n",
       "3                                     csg   \n",
       "4                             Omniox Inc.   \n",
       "5                   Ascent Services Group   \n",
       "6                          Veracyte, Inc.   \n",
       "7                         Gilead Sciences   \n",
       "8                                  Gilead   \n",
       "9                         Gilead Sciences   \n",
       "10                                 Gilead   \n",
       "11        Oakland Unified School District   \n",
       "12                                 InClin   \n",
       "13                            PerkinElmer   \n",
       "14  Lawrence Berkeley National Laboratory   \n",
       "15               Elevate Recruiting Group   \n",
       "16                              Miroculus   \n",
       "17          Ninjob | Employment Marketing   \n",
       "18                           10X Genomics   \n",
       "19                                 Gilead   \n",
       "\n",
       "                                                                                                                                                            description  \\\n",
       "0   PBL is committed to being the “Service Leader in Bioscience Testing.” Studies at PBL are conducted in accordance with current Good Manufacturing Practice (cGMP)...   \n",
       "1                         Excellent data collection and analysis skills. Conduct industry-specific data analyses and present findings in a clear and concise manner....   \n",
       "2        Analyses data to develop reports; Work with District to ensure that training materials are maintained and updated, and that regular and ongoing training is...   \n",
       "3                                                    Experience writing and/or integrating Runtime for R/SAS for statistic services to provide predictive analytics....   \n",
       "4                                                       We are seeking an individual for an Associate Scientist / Scientist position in our Oncology Research group....   \n",
       "5           Responsibilities will also include data processing, statistical analysis, and dissemination of results to project teams in support of drug discovery and...   \n",
       "6    We are seeking a new Clinical Laboratory Scientist (CLS) to perform cutting-edge diagnostic testing on patient specimens in our collaborative, high-energy work...   \n",
       "7    Works under supervision of more senior scientists or scientific directors to identify and validate targets, advance the development of economical, state-of-the...   \n",
       "8    Works under supervision of more senior scientists or scientific directors to identify and validate targets, advance the development of economical, state-of-the...   \n",
       "9                                              Independently plans and executes assigned experiments that support non-routine research activities and project goals....   \n",
       "10                                             Independently plans and executes assigned experiments that support non-routine research activities and project goals....   \n",
       "11      E Work with the District's technical staff to obtain, maintain, clean, and process data retrieved from the student information system, data contained on the...   \n",
       "12    The right candidate will have at least 4 years of SAS programming with a minimum of 3 years’ experience with clinical study data in either a contract research...   \n",
       "13          Clinical techniques with a strong knowledge of the. Proven ability to build a sales pipeline, manage. Work with application scientist team for customer....   \n",
       "14  Berkeley Lab’s Climate & Ecosystems Division has an opening for a Environmental Microbes Project Scientist. Work with multidisciplinary collaborators on a large...   \n",
       "15  MS or PhD in statistics, engineering, mathematics or physics Demonstrate a strong background in statistics and/or probability theory via professional experience...   \n",
       "16  To apply please send a full CV together with a brief cover letter to jobs@miroculus.com by September 30th. This position reports to the Lead Research Scientist....   \n",
       "17                                You must have several years of close, detailed review and analysis of insurance data, including predictive analytics applications....   \n",
       "18     Work with key scientists to develop new applications that take advantage of 10X technology. The scientist must have a passion for innovating new applications...   \n",
       "19                     Works collaboratively with Clinical Development staff to meet project deliverables and timelines for statistical data analysis and reporting....   \n",
       "\n",
       "                                                                   job_link  \\\n",
       "0   http://www.indeed.com/rc/clk?jk=b325617f6176a2f8&fccid=e00fb388cc5ec3ee   \n",
       "1   http://www.indeed.com/rc/clk?jk=cd120d13324a0807&fccid=7024cfb624b4025e   \n",
       "2   http://www.indeed.com/rc/clk?jk=446619c7b5b8e25a&fccid=22830019c2a93e1d   \n",
       "3   http://www.indeed.com/rc/clk?jk=081ef43d40adc043&fccid=a56aa6958ed63da1   \n",
       "4   http://www.indeed.com/rc/clk?jk=1c77995163dbd445&fccid=c7ca781f5383c441   \n",
       "5   http://www.indeed.com/rc/clk?jk=7ce4762d41c784cf&fccid=55051b7d98da371e   \n",
       "6   http://www.indeed.com/rc/clk?jk=3bcf34b4bff9d910&fccid=ef82ab85e15d8df3   \n",
       "7   http://www.indeed.com/rc/clk?jk=72e83129e901ef46&fccid=e4b075354d7c2865   \n",
       "8   http://www.indeed.com/rc/clk?jk=58878406cc8cbf08&fccid=0aed3f67f6a631df   \n",
       "9   http://www.indeed.com/rc/clk?jk=4e8bea0ab08f1879&fccid=e4b075354d7c2865   \n",
       "10  http://www.indeed.com/rc/clk?jk=f1e6e3b93dfffb72&fccid=0aed3f67f6a631df   \n",
       "11  http://www.indeed.com/rc/clk?jk=572b7990f7417dd1&fccid=38e6a0772b8d4d5b   \n",
       "12  http://www.indeed.com/rc/clk?jk=aec0f05f4c81564f&fccid=7000ddc339a9ccf8   \n",
       "13  http://www.indeed.com/rc/clk?jk=eabb5f25bf850d58&fccid=dedb01f1a81e63e6   \n",
       "14  http://www.indeed.com/rc/clk?jk=463e4b804706363f&fccid=5bee64c47451d1c2   \n",
       "15  http://www.indeed.com/rc/clk?jk=b7d0341364b11b02&fccid=ea0afd5c2a813ac2   \n",
       "16  http://www.indeed.com/rc/clk?jk=f227345a5ec64e55&fccid=09138bccc4dec153   \n",
       "17  http://www.indeed.com/rc/clk?jk=63c3de3d485ff134&fccid=100e6043a33e57bf   \n",
       "18  http://www.indeed.com/rc/clk?jk=c30381ab201d7587&fccid=b77c27a9d900998b   \n",
       "19  http://www.indeed.com/rc/clk?jk=0ce2df382de9e116&fccid=0aed3f67f6a631df   \n",
       "\n",
       "                                       job_location  \\\n",
       "0                                Hercules, CA 94547   \n",
       "1                                 San Francisco, CA   \n",
       "2                                       Oakland, CA   \n",
       "3                                 San Francisco, CA   \n",
       "4                              San Carlos, CA 94070   \n",
       "5                     South San Francisco, CA 94080   \n",
       "6                     South San Francisco, CA 94080   \n",
       "7                                   Foster City, CA   \n",
       "8                                   Foster City, CA   \n",
       "9                                   Foster City, CA   \n",
       "10                                  Foster City, CA   \n",
       "11  Oakland, CA 94607 (Acorn-Acorn Industrial area)   \n",
       "12                                    San Mateo, CA   \n",
       "13                                San Francisco, CA   \n",
       "14                               Berkeley, CA 94720   \n",
       "15                                 Redwood City, CA   \n",
       "16                                San Francisco, CA   \n",
       "17                                San Francisco, CA   \n",
       "18                       San Francisco Bay Area, CA   \n",
       "19                                  Foster City, CA   \n",
       "\n",
       "                                                          job_title  \\\n",
       "0                                            Scientist (Toxicology)   \n",
       "1                                                  Research Analyst   \n",
       "2                           Research and Systems Technology Analyst   \n",
       "3                             Statistical Programmer III (SpotFire)   \n",
       "4                                   Associate Scientist / Scientist   \n",
       "5                                                 DMPK-BA Scientist   \n",
       "6                                      Clinical Lab Scientist (CLS)   \n",
       "7                         Research Scientist I, Medicinal Chemistry   \n",
       "8                         Research Scientist I, Medicinal Chemistry   \n",
       "9                                Associate Scientist II, Immunology   \n",
       "10                               Associate Scientist II, Immunology   \n",
       "11        Data Analyst II (Department: Research, Assessment & Data)   \n",
       "12                                    Senior Statistical Programmer   \n",
       "13                      Field Application Specialist Representative   \n",
       "14  Environmental Microbes Project Scientist (Climate & Ecosystems)   \n",
       "15                                                 Sr. Statistician   \n",
       "16                                                        Scientist   \n",
       "17                  Actuary with Statistical Modeling Skills #71404   \n",
       "18                                        Applications Data Analyst   \n",
       "19                                 Manager, Statistical Programming   \n",
       "\n",
       "             salary  salary_bins  \n",
       "0   $65,000-$90,000            1  \n",
       "1   $65,000-$90,000            1  \n",
       "2   $65,000-$90,000            1  \n",
       "3   $65,000-$90,000            1  \n",
       "4   $65,000-$90,000            1  \n",
       "5   $65,000-$90,000            1  \n",
       "6   $65,000-$90,000            1  \n",
       "7   $65,000-$90,000            1  \n",
       "8   $65,000-$90,000            1  \n",
       "9   $65,000-$90,000            1  \n",
       "10  $65,000-$90,000            1  \n",
       "11  $65,000-$90,000            1  \n",
       "12  $65,000-$90,000            1  \n",
       "13  $65,000-$90,000            1  \n",
       "14  $65,000-$90,000            1  \n",
       "15  $65,000-$90,000            1  \n",
       "16  $65,000-$90,000            1  \n",
       "17  $65,000-$90,000            1  \n",
       "18  $65,000-$90,000            1  \n",
       "19  $65,000-$90,000            1  "
      ]
     },
     "execution_count": 4,
     "metadata": {},
     "output_type": "execute_result"
    }
   ],
   "source": [
    "sanfran_df.head(20)"
   ]
  },
  {
   "cell_type": "code",
   "execution_count": 5,
   "metadata": {
    "collapsed": false
   },
   "outputs": [
    {
     "data": {
      "text/plain": [
       "False    1353\n",
       "dtype: int64"
      ]
     },
     "execution_count": 5,
     "metadata": {},
     "output_type": "execute_result"
    }
   ],
   "source": [
    "sanfran_df.duplicated(subset=['company', 'job_title', 'job_link', 'job_location', 'description']).value_counts()"
   ]
  },
  {
   "cell_type": "code",
   "execution_count": 6,
   "metadata": {
    "collapsed": false,
    "scrolled": true
   },
   "outputs": [
    {
     "data": {
      "text/plain": [
       "San Francisco, CA                                    468\n",
       "Foster City, CA                                       71\n",
       "Redwood City, CA                                      66\n",
       "South San Francisco, CA                               64\n",
       "San Francisco, CA 94105 (Financial District area)     52\n",
       "South San Francisco, CA 94080                         47\n",
       "San Francisco, CA 94103 (South Of Market area)        45\n",
       "Emeryville, CA                                        34\n",
       "Berkeley, CA 94720                                    34\n",
       "San Mateo, CA                                         33\n",
       "San Ramon, CA                                         31\n",
       "San Francisco, CA 94107 (South Of Market area)        27\n",
       "San Bruno, CA 94066                                   27\n",
       "Emeryville, CA 94608                                  26\n",
       "Novato, CA                                            25\n",
       "Name: job_location, dtype: int64"
      ]
     },
     "execution_count": 6,
     "metadata": {},
     "output_type": "execute_result"
    }
   ],
   "source": [
    "sanfran_df.job_location.value_counts()[:15]"
   ]
  },
  {
   "cell_type": "markdown",
   "metadata": {},
   "source": [
    "# Logistic Regression on Job Title words"
   ]
  },
  {
   "cell_type": "code",
   "execution_count": 32,
   "metadata": {
    "collapsed": false,
    "scrolled": true
   },
   "outputs": [],
   "source": [
    "import sklearn.feature_extraction\n",
    "import sklearn.linear_model\n",
    "import sklearn.preprocessing\n",
    "import nltk\n",
    "\n",
    "def vectorize_words_low(df, column):\n",
    "    '''\n",
    "    Runs a logistic regressor on the tfidf-vectorized words of a column\n",
    "    and returns coefficients corresponding to a low salary\n",
    "    '''\n",
    "    tfidf = sklearn.feature_extraction.text.TfidfVectorizer()\n",
    "    X = tfidf.fit_transform(list(df[column]))\n",
    "\n",
    "    logreg = sklearn.linear_model.LogisticRegression()\n",
    "    logreg.fit(X,list(df.salary_bins))\n",
    "    word_list_stopped = zip(tfidf.get_feature_names(), logreg.coef_[0])\n",
    "\n",
    "    stopwords = nltk.corpus.stopwords.words('english')\n",
    "    word_list = []\n",
    "    for i in range(len(word_list_stopped)):\n",
    "        if word_list_stopped[i][0] not in stopwords:\n",
    "            word_list.append(word_list_stopped[i])\n",
    "    return word_list\n",
    "\n",
    "def vectorize_words_high(df, column):\n",
    "    '''\n",
    "    Runs a logistic regressor on the tfidf-vectorized words of a column\n",
    "    and returns coefficients corresponding to a high salary\n",
    "    '''\n",
    "    tfidf = sklearn.feature_extraction.text.TfidfVectorizer()\n",
    "    X = tfidf.fit_transform(list(df[column]))\n",
    "\n",
    "    logreg = sklearn.linear_model.LogisticRegression()\n",
    "    logreg.fit(X,list(df.salary_bins))\n",
    "    word_list_stopped = zip(tfidf.get_feature_names(), logreg.coef_[3])\n",
    "\n",
    "    stopwords = nltk.corpus.stopwords.words('english')\n",
    "    word_list = []\n",
    "    for i in range(len(word_list_stopped)):\n",
    "        if word_list_stopped[i][0] not in stopwords:\n",
    "            word_list.append(word_list_stopped[i])\n",
    "    return word_list\n"
   ]
  },
  {
   "cell_type": "markdown",
   "metadata": {},
   "source": [
    "** Good Words **"
   ]
  },
  {
   "cell_type": "code",
   "execution_count": 47,
   "metadata": {
    "collapsed": false
   },
   "outputs": [
    {
     "data": {
      "text/plain": [
       "[(u'architect', 2.3481145855585956),\n",
       " (u'data', 2.2915480179214538),\n",
       " (u'director', 2.2366911218569232),\n",
       " (u'platform', 1.9903144762241087),\n",
       " (u'analytics', 1.8945751503772297),\n",
       " (u'product', 1.618211759933506),\n",
       " (u'lead', 1.5342554737845895),\n",
       " (u'staff', 1.5228286392207844),\n",
       " (u'head', 1.5007845876861634),\n",
       " (u'learning', 1.445500774679207),\n",
       " (u'java', 1.3829570682457117),\n",
       " (u'security', 1.164382238828773),\n",
       " (u'vp', 1.1311914573303106),\n",
       " (u'principal', 1.0521888598056151),\n",
       " (u'management', 1.0506238786871354),\n",
       " (u'capital', 1.0471532197830991),\n",
       " (u'senior', 1.0276100400256041),\n",
       " (u'software', 1.0258622287908556),\n",
       " (u'sciences', 1.0009573139925727),\n",
       " (u'services', 0.97884617459852596),\n",
       " (u'solutions', 0.95842768060184891)]"
      ]
     },
     "execution_count": 47,
     "metadata": {},
     "output_type": "execute_result"
    }
   ],
   "source": [
    "sorted(vectorize_words_high(sanfran_df, 'job_title'), key=lambda word: word[1], reverse=True)[:21]"
   ]
  },
  {
   "cell_type": "code",
   "execution_count": 48,
   "metadata": {
    "collapsed": false
   },
   "outputs": [
    {
     "data": {
      "text/plain": [
       "[(u'director', -2.6373506341414257),\n",
       " (u'sr', -2.1777330855629069),\n",
       " (u'software', -2.022404217001244),\n",
       " (u'data', -2.0111081942096272),\n",
       " (u'lead', -1.6745714391011606),\n",
       " (u'product', -1.673233011003364),\n",
       " (u'senior', -1.5971119187176119),\n",
       " (u'manager', -1.5473032186260576),\n",
       " (u'principal', -1.5435881737535635),\n",
       " (u'engineer', -1.4381074612942941),\n",
       " (u'quantitative', -1.3780510194459068),\n",
       " (u'job', -1.1242459783738565),\n",
       " (u'learning', -1.0630688283733889),\n",
       " (u'machine', -1.0014920874632727),\n",
       " (u'analytics', -0.97229787866463069),\n",
       " (u'platform', -0.95851137881851289),\n",
       " (u'architect', -0.95833452822996645),\n",
       " (u'intelligence', -0.95495408731984432),\n",
       " (u'end', -0.89438452013308367),\n",
       " (u'biologist', -0.8207232462319235),\n",
       " (u'backend', -0.79897175389967179)]"
      ]
     },
     "execution_count": 48,
     "metadata": {},
     "output_type": "execute_result"
    }
   ],
   "source": [
    "sorted(vectorize_words_low(sanfran_df, 'job_title'), key=lambda word: word[1], reverse=False)[:21]"
   ]
  },
  {
   "cell_type": "markdown",
   "metadata": {},
   "source": [
    "** Bad Words **"
   ]
  },
  {
   "cell_type": "code",
   "execution_count": 50,
   "metadata": {
    "collapsed": false
   },
   "outputs": [
    {
     "data": {
      "text/plain": [
       "[(u'associate', 2.0514095250308748),\n",
       " (u'environmental', 1.7750225217667561),\n",
       " (u'research', 1.6419130987013015),\n",
       " (u'postdoctoral', 1.6084053501687956),\n",
       " (u'statistical', 1.4645938003118719),\n",
       " (u'ii', 1.1724837164637154),\n",
       " (u'laboratory', 1.1453565138481627),\n",
       " (u'support', 1.0257042077260865),\n",
       " (u'development', 1.0141699539915066),\n",
       " (u'bioanalytical', 0.99691765205236282),\n",
       " (u'analytical', 0.93684526061355611),\n",
       " (u'scientist', 0.92965631703377971),\n",
       " (u'recruiter', 0.91562078374395872),\n",
       " (u'scholar', 0.90734580395634989),\n",
       " (u'lab', 0.90577518220229103),\n",
       " (u'chemistry', 0.89406034404573442),\n",
       " (u'fermentation', 0.88746322662642352),\n",
       " (u'fpd', 0.85086090829754579),\n",
       " (u'quality', 0.79708734011498517),\n",
       " (u'biostatistician', 0.77885991507643704),\n",
       " (u'growth', 0.77035309120466866)]"
      ]
     },
     "execution_count": 50,
     "metadata": {},
     "output_type": "execute_result"
    }
   ],
   "source": [
    "sorted(vectorize_words_low(sanfran_df, 'job_title'), key=lambda word: word[1], reverse=True)[:21]"
   ]
  },
  {
   "cell_type": "code",
   "execution_count": 51,
   "metadata": {
    "collapsed": false
   },
   "outputs": [
    {
     "data": {
      "text/plain": [
       "[(u'analyst', -2.491917886485147),\n",
       " (u'development', -1.4661334773144976),\n",
       " (u'scientist', -1.3356461231860448),\n",
       " (u'research', -1.2653415202959388),\n",
       " (u'statistical', -1.140257066979641),\n",
       " (u'clinical', -1.0895403654501699),\n",
       " (u'biology', -0.90551609902247743),\n",
       " (u'associate', -0.84764979688592823),\n",
       " (u'ii', -0.82491715248545827),\n",
       " (u'chemistry', -0.80732708941409403),\n",
       " (u'analytical', -0.77321827924561981),\n",
       " (u'postdoctoral', -0.73661604742491227),\n",
       " (u'specialist', -0.68937323650220861),\n",
       " (u'designer', -0.67758907021325787),\n",
       " (u'customer', -0.65354182957699725),\n",
       " (u'statistician', -0.62525002857053691),\n",
       " (u'quality', -0.58898420701744258),\n",
       " (u'quantitative', -0.58341834889302202),\n",
       " (u'fellow', -0.5673604883736546),\n",
       " (u'ad', -0.56153652083542305),\n",
       " (u'applications', -0.52897410986446936)]"
      ]
     },
     "execution_count": 51,
     "metadata": {},
     "output_type": "execute_result"
    }
   ],
   "source": [
    "sorted(vectorize_words_high(sanfran_df, 'job_title'), key=lambda word: word[1], reverse=False)[:21]"
   ]
  },
  {
   "cell_type": "code",
   "execution_count": 46,
   "metadata": {
    "collapsed": false
   },
   "outputs": [
    {
     "data": {
      "text/plain": [
       "array([[ 0.08851787,  0.14414371,  0.45273961,  0.31459881]])"
      ]
     },
     "execution_count": 46,
     "metadata": {},
     "output_type": "execute_result"
    }
   ],
   "source": [
    "tfidf = sklearn.feature_extraction.text.TfidfVectorizer()\n",
    "X = tfidf.fit_transform(list(sanfran_df['job_title']))\n",
    "\n",
    "logreg = sklearn.linear_model.LogisticRegression()\n",
    "logreg.fit(X,list(sanfran_df.salary_bins))\n",
    "logreg.predict_proba(tfidf.transform(['senior']))"
   ]
  },
  {
   "cell_type": "code",
   "execution_count": 10,
   "metadata": {
    "collapsed": true
   },
   "outputs": [],
   "source": [
    "#df.to_csv('./indeed_companies.csv', encoding='utf-8')"
   ]
  },
  {
   "cell_type": "code",
   "execution_count": 11,
   "metadata": {
    "collapsed": true
   },
   "outputs": [],
   "source": [
    "sanjose_df = make_bins('san jose')\n",
    "seattle_df = make_bins('seattle')"
   ]
  },
  {
   "cell_type": "code",
   "execution_count": 62,
   "metadata": {
    "collapsed": false
   },
   "outputs": [
    {
     "data": {
      "text/plain": [
       "[(u'data', -2.1768714815723436),\n",
       " (u'machine', -1.9175904726360491),\n",
       " (u'scientists', -1.7294372928252328),\n",
       " (u'learning', -1.6450902176785878),\n",
       " (u'health', -1.2125637570789356),\n",
       " (u'analytics', -1.1940417631998441),\n",
       " (u'science', -1.0839394766574897),\n",
       " (u'designers', -0.87252785736429994),\n",
       " (u'business', -0.86187934149362755),\n",
       " (u'product', -0.85910481957866647),\n",
       " (u'managers', -0.84753144090308208),\n",
       " (u'user', -0.7744654920752585),\n",
       " (u'advanced', -0.73715112133838967),\n",
       " (u'working', -0.73478133318464134),\n",
       " (u'solutions', -0.72395261971789548),\n",
       " (u'closely', -0.71304251681304132),\n",
       " (u'build', -0.692100975456446),\n",
       " (u'deep', -0.67885517286215991),\n",
       " (u'analysts', -0.66384575057991058),\n",
       " (u'engineer', -0.66075335759018239),\n",
       " (u'drive', -0.65720299033979834)]"
      ]
     },
     "execution_count": 62,
     "metadata": {},
     "output_type": "execute_result"
    }
   ],
   "source": [
    "sorted(vectorize_words_low(sanfran_df, 'description'), key=lambda word: word[1], reverse=False)[:21]"
   ]
  },
  {
   "cell_type": "code",
   "execution_count": null,
   "metadata": {
    "collapsed": true
   },
   "outputs": [],
   "source": []
  }
 ],
 "metadata": {
  "kernelspec": {
   "display_name": "Python [Root]",
   "language": "python",
   "name": "Python [Root]"
  },
  "language_info": {
   "codemirror_mode": {
    "name": "ipython",
    "version": 2
   },
   "file_extension": ".py",
   "mimetype": "text/x-python",
   "name": "python",
   "nbconvert_exporter": "python",
   "pygments_lexer": "ipython2",
   "version": "2.7.12"
  }
 },
 "nbformat": 4,
 "nbformat_minor": 0
}
