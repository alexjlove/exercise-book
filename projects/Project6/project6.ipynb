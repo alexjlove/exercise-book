{
 "cells": [
  {
   "cell_type": "markdown",
   "metadata": {},
   "source": [
    "## Project 6"
   ]
  },
  {
   "cell_type": "code",
   "execution_count": 1,
   "metadata": {
    "collapsed": false
   },
   "outputs": [],
   "source": [
    "import os\n",
    "import subprocess\n",
    "import pandas as pd\n",
    "import numpy as np\n",
    "from sklearn.ensemble import RandomForestClassifier, RandomForestRegressor, BaggingRegressor\n",
    "from sklearn.tree import DecisionTreeRegressor\n",
    "from sklearn.feature_extraction.text import CountVectorizer, TfidfVectorizer\n",
    "from sklearn.model_selection import train_test_split, cross_val_score, GridSearchCV\n",
    "from sklearn.linear_model import LogisticRegression\n",
    "import scipy\n",
    "import sklearn.metrics\n",
    "import requests\n",
    "from imdbpie import Imdb\n",
    "import nltk\n",
    "import matplotlib.pyplot as plt\n",
    "from scipy.stats import expon\n",
    "import matplotlib.mlab as mlab\n",
    "import scipy.special\n",
    "from bokeh.layouts import gridplot\n",
    "from bokeh.plotting import figure, show\n",
    "import urllib\n",
    "from bs4 import BeautifulSoup\n",
    "import collections\n",
    "import re\n",
    "import csv\n",
    "import psycopg2\n",
    "\n",
    "%matplotlib inline"
   ]
  },
  {
   "cell_type": "markdown",
   "metadata": {},
   "source": [
    "### Pre-Work: Write a problem statement "
   ]
  },
  {
   "cell_type": "markdown",
   "metadata": {},
   "source": [
    "What factors of a movie contribute to a good rating?"
   ]
  },
  {
   "cell_type": "markdown",
   "metadata": {},
   "source": [
    "## Part 1: Acquire the Data"
   ]
  },
  {
   "cell_type": "markdown",
   "metadata": {},
   "source": [
    "#### 1. Connect to the IMDB API"
   ]
  },
  {
   "cell_type": "code",
   "execution_count": 2,
   "metadata": {
    "collapsed": false
   },
   "outputs": [],
   "source": [
    "imdb = Imdb(anonymize=True)\n"
   ]
  },
  {
   "cell_type": "markdown",
   "metadata": {},
   "source": [
    "#### 2. Query the top 250 rated movies in the database"
   ]
  },
  {
   "cell_type": "code",
   "execution_count": 3,
   "metadata": {
    "collapsed": false
   },
   "outputs": [],
   "source": [
    "top250 = imdb.top_250()"
   ]
  },
  {
   "cell_type": "code",
   "execution_count": 4,
   "metadata": {
    "collapsed": false
   },
   "outputs": [],
   "source": [
    "top_250 = pd.DataFrame(top250)\n",
    "years = top_250.year.astype('int')\n",
    "\n",
    "p1 = figure(title=\"Distribution of Year in Top Movies\", background_fill_color=\"#E8DDCB\")\n",
    "measured = years\n",
    "hist, edges = np.histogram(measured, density=False, bins=20)\n",
    "\n",
    "\n",
    "p1.quad(top=hist, bottom=0, left=edges[:-1], right=edges[1:],\n",
    "        fill_color=\"#036564\", line_color=\"#033649\")\n",
    "\n",
    "p1.xaxis.axis_label = 'x'\n",
    "p1.yaxis.axis_label = 'Pr(x)'\n",
    "\n",
    "show(p1)"
   ]
  },
  {
   "cell_type": "markdown",
   "metadata": {},
   "source": [
    "#### 3. Only select the top 25 movies and delete the uncessary rows"
   ]
  },
  {
   "cell_type": "code",
   "execution_count": 5,
   "metadata": {
    "collapsed": false,
    "scrolled": true
   },
   "outputs": [
    {
     "data": {
      "text/html": [
       "<div>\n",
       "<table border=\"1\" class=\"dataframe\">\n",
       "  <thead>\n",
       "    <tr style=\"text-align: right;\">\n",
       "      <th></th>\n",
       "      <th>can_rate</th>\n",
       "      <th>num_votes</th>\n",
       "      <th>rating</th>\n",
       "      <th>tconst</th>\n",
       "      <th>title</th>\n",
       "      <th>type</th>\n",
       "      <th>year</th>\n",
       "    </tr>\n",
       "  </thead>\n",
       "  <tbody>\n",
       "    <tr>\n",
       "      <th>0</th>\n",
       "      <td>True</td>\n",
       "      <td>1720006</td>\n",
       "      <td>9.3</td>\n",
       "      <td>tt0111161</td>\n",
       "      <td>The Shawshank Redemption</td>\n",
       "      <td>feature</td>\n",
       "      <td>1994</td>\n",
       "    </tr>\n",
       "    <tr>\n",
       "      <th>1</th>\n",
       "      <td>True</td>\n",
       "      <td>1175594</td>\n",
       "      <td>9.2</td>\n",
       "      <td>tt0068646</td>\n",
       "      <td>The Godfather</td>\n",
       "      <td>feature</td>\n",
       "      <td>1972</td>\n",
       "    </tr>\n",
       "    <tr>\n",
       "      <th>2</th>\n",
       "      <td>True</td>\n",
       "      <td>805725</td>\n",
       "      <td>9.0</td>\n",
       "      <td>tt0071562</td>\n",
       "      <td>The Godfather: Part II</td>\n",
       "      <td>feature</td>\n",
       "      <td>1974</td>\n",
       "    </tr>\n",
       "    <tr>\n",
       "      <th>3</th>\n",
       "      <td>True</td>\n",
       "      <td>1706048</td>\n",
       "      <td>9.0</td>\n",
       "      <td>tt0468569</td>\n",
       "      <td>The Dark Knight</td>\n",
       "      <td>feature</td>\n",
       "      <td>2008</td>\n",
       "    </tr>\n",
       "    <tr>\n",
       "      <th>4</th>\n",
       "      <td>True</td>\n",
       "      <td>458162</td>\n",
       "      <td>8.9</td>\n",
       "      <td>tt0050083</td>\n",
       "      <td>12 Angry Men</td>\n",
       "      <td>feature</td>\n",
       "      <td>1957</td>\n",
       "    </tr>\n",
       "    <tr>\n",
       "      <th>5</th>\n",
       "      <td>True</td>\n",
       "      <td>880875</td>\n",
       "      <td>8.9</td>\n",
       "      <td>tt0108052</td>\n",
       "      <td>Schindler's List</td>\n",
       "      <td>feature</td>\n",
       "      <td>1993</td>\n",
       "    </tr>\n",
       "    <tr>\n",
       "      <th>6</th>\n",
       "      <td>True</td>\n",
       "      <td>1347581</td>\n",
       "      <td>8.9</td>\n",
       "      <td>tt0110912</td>\n",
       "      <td>Pulp Fiction</td>\n",
       "      <td>feature</td>\n",
       "      <td>1994</td>\n",
       "    </tr>\n",
       "    <tr>\n",
       "      <th>7</th>\n",
       "      <td>True</td>\n",
       "      <td>1235884</td>\n",
       "      <td>8.9</td>\n",
       "      <td>tt0167260</td>\n",
       "      <td>The Lord of the Rings: The Return of the King</td>\n",
       "      <td>feature</td>\n",
       "      <td>2003</td>\n",
       "    </tr>\n",
       "    <tr>\n",
       "      <th>8</th>\n",
       "      <td>True</td>\n",
       "      <td>512031</td>\n",
       "      <td>8.9</td>\n",
       "      <td>tt0060196</td>\n",
       "      <td>The Good, the Bad and the Ugly</td>\n",
       "      <td>feature</td>\n",
       "      <td>1966</td>\n",
       "    </tr>\n",
       "    <tr>\n",
       "      <th>9</th>\n",
       "      <td>True</td>\n",
       "      <td>1372859</td>\n",
       "      <td>8.8</td>\n",
       "      <td>tt0137523</td>\n",
       "      <td>Fight Club</td>\n",
       "      <td>feature</td>\n",
       "      <td>1999</td>\n",
       "    </tr>\n",
       "    <tr>\n",
       "      <th>10</th>\n",
       "      <td>True</td>\n",
       "      <td>1258536</td>\n",
       "      <td>8.8</td>\n",
       "      <td>tt0120737</td>\n",
       "      <td>The Lord of the Rings: The Fellowship of the Ring</td>\n",
       "      <td>feature</td>\n",
       "      <td>2001</td>\n",
       "    </tr>\n",
       "    <tr>\n",
       "      <th>11</th>\n",
       "      <td>True</td>\n",
       "      <td>853279</td>\n",
       "      <td>8.8</td>\n",
       "      <td>tt0080684</td>\n",
       "      <td>Star Wars: Episode V - The Empire Strikes Back</td>\n",
       "      <td>feature</td>\n",
       "      <td>1980</td>\n",
       "    </tr>\n",
       "    <tr>\n",
       "      <th>12</th>\n",
       "      <td>True</td>\n",
       "      <td>1277539</td>\n",
       "      <td>8.8</td>\n",
       "      <td>tt0109830</td>\n",
       "      <td>Forrest Gump</td>\n",
       "      <td>feature</td>\n",
       "      <td>1994</td>\n",
       "    </tr>\n",
       "    <tr>\n",
       "      <th>13</th>\n",
       "      <td>True</td>\n",
       "      <td>1496604</td>\n",
       "      <td>8.8</td>\n",
       "      <td>tt1375666</td>\n",
       "      <td>Inception</td>\n",
       "      <td>feature</td>\n",
       "      <td>2010</td>\n",
       "    </tr>\n",
       "    <tr>\n",
       "      <th>14</th>\n",
       "      <td>True</td>\n",
       "      <td>1119156</td>\n",
       "      <td>8.7</td>\n",
       "      <td>tt0167261</td>\n",
       "      <td>The Lord of the Rings: The Two Towers</td>\n",
       "      <td>feature</td>\n",
       "      <td>2002</td>\n",
       "    </tr>\n",
       "    <tr>\n",
       "      <th>15</th>\n",
       "      <td>True</td>\n",
       "      <td>691134</td>\n",
       "      <td>8.7</td>\n",
       "      <td>tt0073486</td>\n",
       "      <td>One Flew Over the Cuckoo's Nest</td>\n",
       "      <td>feature</td>\n",
       "      <td>1975</td>\n",
       "    </tr>\n",
       "    <tr>\n",
       "      <th>16</th>\n",
       "      <td>True</td>\n",
       "      <td>741815</td>\n",
       "      <td>8.7</td>\n",
       "      <td>tt0099685</td>\n",
       "      <td>Goodfellas</td>\n",
       "      <td>feature</td>\n",
       "      <td>1990</td>\n",
       "    </tr>\n",
       "    <tr>\n",
       "      <th>17</th>\n",
       "      <td>True</td>\n",
       "      <td>1238826</td>\n",
       "      <td>8.7</td>\n",
       "      <td>tt0133093</td>\n",
       "      <td>The Matrix</td>\n",
       "      <td>feature</td>\n",
       "      <td>1999</td>\n",
       "    </tr>\n",
       "    <tr>\n",
       "      <th>18</th>\n",
       "      <td>True</td>\n",
       "      <td>233154</td>\n",
       "      <td>8.7</td>\n",
       "      <td>tt0047478</td>\n",
       "      <td>Seven Samurai</td>\n",
       "      <td>feature</td>\n",
       "      <td>1954</td>\n",
       "    </tr>\n",
       "    <tr>\n",
       "      <th>19</th>\n",
       "      <td>True</td>\n",
       "      <td>926291</td>\n",
       "      <td>8.7</td>\n",
       "      <td>tt0076759</td>\n",
       "      <td>Star Wars: Episode IV - A New Hope</td>\n",
       "      <td>feature</td>\n",
       "      <td>1977</td>\n",
       "    </tr>\n",
       "    <tr>\n",
       "      <th>20</th>\n",
       "      <td>True</td>\n",
       "      <td>541855</td>\n",
       "      <td>8.7</td>\n",
       "      <td>tt0317248</td>\n",
       "      <td>City of God</td>\n",
       "      <td>feature</td>\n",
       "      <td>2002</td>\n",
       "    </tr>\n",
       "    <tr>\n",
       "      <th>21</th>\n",
       "      <td>True</td>\n",
       "      <td>1043838</td>\n",
       "      <td>8.6</td>\n",
       "      <td>tt0114369</td>\n",
       "      <td>Se7en</td>\n",
       "      <td>feature</td>\n",
       "      <td>1995</td>\n",
       "    </tr>\n",
       "    <tr>\n",
       "      <th>22</th>\n",
       "      <td>True</td>\n",
       "      <td>905213</td>\n",
       "      <td>8.6</td>\n",
       "      <td>tt0102926</td>\n",
       "      <td>The Silence of the Lambs</td>\n",
       "      <td>feature</td>\n",
       "      <td>1991</td>\n",
       "    </tr>\n",
       "    <tr>\n",
       "      <th>23</th>\n",
       "      <td>True</td>\n",
       "      <td>280409</td>\n",
       "      <td>8.6</td>\n",
       "      <td>tt0038650</td>\n",
       "      <td>It's a Wonderful Life</td>\n",
       "      <td>feature</td>\n",
       "      <td>1946</td>\n",
       "    </tr>\n",
       "  </tbody>\n",
       "</table>\n",
       "</div>"
      ],
      "text/plain": [
       "   can_rate  num_votes  rating     tconst  \\\n",
       "0      True    1720006     9.3  tt0111161   \n",
       "1      True    1175594     9.2  tt0068646   \n",
       "2      True     805725     9.0  tt0071562   \n",
       "3      True    1706048     9.0  tt0468569   \n",
       "4      True     458162     8.9  tt0050083   \n",
       "5      True     880875     8.9  tt0108052   \n",
       "6      True    1347581     8.9  tt0110912   \n",
       "7      True    1235884     8.9  tt0167260   \n",
       "8      True     512031     8.9  tt0060196   \n",
       "9      True    1372859     8.8  tt0137523   \n",
       "10     True    1258536     8.8  tt0120737   \n",
       "11     True     853279     8.8  tt0080684   \n",
       "12     True    1277539     8.8  tt0109830   \n",
       "13     True    1496604     8.8  tt1375666   \n",
       "14     True    1119156     8.7  tt0167261   \n",
       "15     True     691134     8.7  tt0073486   \n",
       "16     True     741815     8.7  tt0099685   \n",
       "17     True    1238826     8.7  tt0133093   \n",
       "18     True     233154     8.7  tt0047478   \n",
       "19     True     926291     8.7  tt0076759   \n",
       "20     True     541855     8.7  tt0317248   \n",
       "21     True    1043838     8.6  tt0114369   \n",
       "22     True     905213     8.6  tt0102926   \n",
       "23     True     280409     8.6  tt0038650   \n",
       "\n",
       "                                                title     type  year  \n",
       "0                            The Shawshank Redemption  feature  1994  \n",
       "1                                       The Godfather  feature  1972  \n",
       "2                              The Godfather: Part II  feature  1974  \n",
       "3                                     The Dark Knight  feature  2008  \n",
       "4                                        12 Angry Men  feature  1957  \n",
       "5                                    Schindler's List  feature  1993  \n",
       "6                                        Pulp Fiction  feature  1994  \n",
       "7       The Lord of the Rings: The Return of the King  feature  2003  \n",
       "8                      The Good, the Bad and the Ugly  feature  1966  \n",
       "9                                          Fight Club  feature  1999  \n",
       "10  The Lord of the Rings: The Fellowship of the Ring  feature  2001  \n",
       "11     Star Wars: Episode V - The Empire Strikes Back  feature  1980  \n",
       "12                                       Forrest Gump  feature  1994  \n",
       "13                                          Inception  feature  2010  \n",
       "14              The Lord of the Rings: The Two Towers  feature  2002  \n",
       "15                    One Flew Over the Cuckoo's Nest  feature  1975  \n",
       "16                                         Goodfellas  feature  1990  \n",
       "17                                         The Matrix  feature  1999  \n",
       "18                                      Seven Samurai  feature  1954  \n",
       "19                 Star Wars: Episode IV - A New Hope  feature  1977  \n",
       "20                                        City of God  feature  2002  \n",
       "21                                              Se7en  feature  1995  \n",
       "22                           The Silence of the Lambs  feature  1991  \n",
       "23                              It's a Wonderful Life  feature  1946  "
      ]
     },
     "execution_count": 5,
     "metadata": {},
     "output_type": "execute_result"
    }
   ],
   "source": [
    "top25 = pd.DataFrame(top250[0:24])\n",
    "top25 = top25.drop('image', axis=1)\n",
    "top25"
   ]
  },
  {
   "cell_type": "markdown",
   "metadata": {},
   "source": [
    "#### 4. Write the Results to a csv"
   ]
  },
  {
   "cell_type": "code",
   "execution_count": 6,
   "metadata": {
    "collapsed": false
   },
   "outputs": [],
   "source": [
    "top25.to_csv('top25.csv')"
   ]
  },
  {
   "cell_type": "markdown",
   "metadata": {},
   "source": [
    "## Part 2: Wrangle the text data"
   ]
  },
  {
   "cell_type": "markdown",
   "metadata": {},
   "source": [
    "#### 1. Convert the listing identification numbers (tconst) from the first dataframe to a list"
   ]
  },
  {
   "cell_type": "code",
   "execution_count": 7,
   "metadata": {
    "collapsed": false
   },
   "outputs": [],
   "source": [
    "listing_id = list(top25['tconst'])"
   ]
  },
  {
   "cell_type": "markdown",
   "metadata": {},
   "source": [
    "#### 2. Scrape the reviews for the top 25 movies"
   ]
  },
  {
   "cell_type": "markdown",
   "metadata": {},
   "source": [
    "*Hint*: Use a loop to scrape each page at once"
   ]
  },
  {
   "cell_type": "code",
   "execution_count": 8,
   "metadata": {
    "collapsed": false
   },
   "outputs": [],
   "source": [
    "#df = pd.DataFrame(columns=['movie_title', 'review_title', 'stars', 'review_text'])\n",
    "#for title in listing_id:\n",
    "#    url = 'http://www.imdb.com/title/{}/reviews?count=5000&start=0'.format(title)\n",
    "#    r = requests.get(url)\n",
    "#    soup = BeautifulSoup(r.text, 'lxml')\n",
    "#    df.review_title = soup.find_all('div', 'h2')\n",
    "#    df.stars = soup.find_all('img', 'alt=')\n",
    "#    df.review_main = soup.find_all('p', text)\n",
    "#    df.movie_title = title"
   ]
  },
  {
   "cell_type": "code",
   "execution_count": 9,
   "metadata": {
    "collapsed": false
   },
   "outputs": [
    {
     "data": {
      "text/html": [
       "<div>\n",
       "<table border=\"1\" class=\"dataframe\">\n",
       "  <thead>\n",
       "    <tr style=\"text-align: right;\">\n",
       "      <th></th>\n",
       "      <th>movie_title</th>\n",
       "      <th>review_title</th>\n",
       "      <th>stars</th>\n",
       "      <th>review_text</th>\n",
       "    </tr>\n",
       "  </thead>\n",
       "  <tbody>\n",
       "    <tr>\n",
       "      <th>0</th>\n",
       "      <td>The Shawshank Redemption</td>\n",
       "      <td>Tied for the best movie I have ever seen</td>\n",
       "      <td>10.0</td>\n",
       "      <td>Why do I want to write the 234th comment on Th...</td>\n",
       "    </tr>\n",
       "    <tr>\n",
       "      <th>1</th>\n",
       "      <td>The Shawshank Redemption</td>\n",
       "      <td>Shawshank Redeems Hollywood</td>\n",
       "      <td>10.0</td>\n",
       "      <td>\\nCan Hollywood, usually creating things for e...</td>\n",
       "    </tr>\n",
       "    <tr>\n",
       "      <th>2</th>\n",
       "      <td>The Shawshank Redemption</td>\n",
       "      <td>Prepare to be moved</td>\n",
       "      <td>NaN</td>\n",
       "      <td>\\nI have never seen such an amazing film since...</td>\n",
       "    </tr>\n",
       "    <tr>\n",
       "      <th>3</th>\n",
       "      <td>The Shawshank Redemption</td>\n",
       "      <td>A classic piece of unforgettable film-making.</td>\n",
       "      <td>10.0</td>\n",
       "      <td>In its Oscar year, Shawshank Redemption (writt...</td>\n",
       "    </tr>\n",
       "    <tr>\n",
       "      <th>4</th>\n",
       "      <td>The Shawshank Redemption</td>\n",
       "      <td>Two movies in one</td>\n",
       "      <td>NaN</td>\n",
       "      <td>The reason I became a member of this database ...</td>\n",
       "    </tr>\n",
       "  </tbody>\n",
       "</table>\n",
       "</div>"
      ],
      "text/plain": [
       "                movie_title                                   review_title  \\\n",
       "0  The Shawshank Redemption       Tied for the best movie I have ever seen   \n",
       "1  The Shawshank Redemption                    Shawshank Redeems Hollywood   \n",
       "2  The Shawshank Redemption                            Prepare to be moved   \n",
       "3  The Shawshank Redemption  A classic piece of unforgettable film-making.   \n",
       "4  The Shawshank Redemption                              Two movies in one   \n",
       "\n",
       "   stars                                        review_text  \n",
       "0   10.0  Why do I want to write the 234th comment on Th...  \n",
       "1   10.0  \\nCan Hollywood, usually creating things for e...  \n",
       "2    NaN  \\nI have never seen such an amazing film since...  \n",
       "3   10.0  In its Oscar year, Shawshank Redemption (writt...  \n",
       "4    NaN  The reason I became a member of this database ...  "
      ]
     },
     "execution_count": 9,
     "metadata": {},
     "output_type": "execute_result"
    }
   ],
   "source": [
    "df = pd.DataFrame(data = [], columns=['movie_title', 'review_title', 'stars', 'review_text'])\n",
    "\n",
    "for title in listing_id:\n",
    "    new_df = pd.DataFrame(data = [], columns=['movie_title', 'review_title', 'stars', 'review_text'])\n",
    "    reviews = imdb.get_title_reviews(title, max_results=4000)\n",
    "    rev_titles = []\n",
    "    rev_stars = []\n",
    "    rev_text = []\n",
    "    for rev in reviews:\n",
    "        rev_titles.append(rev.summary)\n",
    "        rev_stars.append(rev.rating)\n",
    "        rev_text.append(rev.text)\n",
    "    new_df.review_title = rev_titles\n",
    "    new_df.stars = rev_stars\n",
    "    new_df.review_text = rev_text\n",
    "    new_df.movie_title = top25.set_index('tconst').title[title]\n",
    "    df = pd.concat([df, new_df])\n",
    "    del new_df\n",
    "\n",
    "df.head()"
   ]
  },
  {
   "cell_type": "markdown",
   "metadata": {},
   "source": [
    "#### 3. Work through each title and find the most common descriptors"
   ]
  },
  {
   "cell_type": "markdown",
   "metadata": {},
   "source": [
    "*Hint*: \"soup\" from BeautifulSoup is the html returned from all 25 pages. You'll need to either address each page individually or break them down by elements"
   ]
  },
  {
   "cell_type": "code",
   "execution_count": 10,
   "metadata": {
    "collapsed": false
   },
   "outputs": [
    {
     "data": {
      "text/plain": [
       "[(u'Amazing', 113),\n",
       " (u'Excellent', 93),\n",
       " (u'Great Movie', 91),\n",
       " (u'Masterpiece', 83),\n",
       " (u'Awesome', 78),\n",
       " (u'Brilliant', 77),\n",
       " (u'Great movie', 64),\n",
       " (u'Overrated', 52),\n",
       " (u'Fantastic', 49),\n",
       " (u'Great', 41),\n",
       " (u'Wow', 40),\n",
       " (u'great movie', 39),\n",
       " (u'A Masterpiece', 37),\n",
       " (u'Best movie ever', 35),\n",
       " (u'Perfect', 34)]"
      ]
     },
     "execution_count": 10,
     "metadata": {},
     "output_type": "execute_result"
    }
   ],
   "source": [
    "collections.Counter(df.review_title.dropna()).most_common(15)"
   ]
  },
  {
   "cell_type": "markdown",
   "metadata": {},
   "source": [
    "#### 4. Convert to a string and remove the non AlphaNumeric characters"
   ]
  },
  {
   "cell_type": "markdown",
   "metadata": {},
   "source": [
    "*Hint*: Use regular expressions!"
   ]
  },
  {
   "cell_type": "code",
   "execution_count": null,
   "metadata": {
    "collapsed": false
   },
   "outputs": [],
   "source": []
  },
  {
   "cell_type": "markdown",
   "metadata": {},
   "source": [
    "#### 5. Tokenize the Output"
   ]
  },
  {
   "cell_type": "code",
   "execution_count": null,
   "metadata": {
    "collapsed": false
   },
   "outputs": [],
   "source": []
  },
  {
   "cell_type": "markdown",
   "metadata": {},
   "source": [
    "#### 6. Convert to a Dataframe for Easy Viewing"
   ]
  },
  {
   "cell_type": "code",
   "execution_count": null,
   "metadata": {
    "collapsed": true
   },
   "outputs": [],
   "source": []
  },
  {
   "cell_type": "markdown",
   "metadata": {},
   "source": [
    "####  7. Find the rows with the top five descriptive words"
   ]
  },
  {
   "cell_type": "code",
   "execution_count": 11,
   "metadata": {
    "collapsed": true
   },
   "outputs": [],
   "source": [
    "words = ('best', 'hope', 'love', 'beautiful', 'great')"
   ]
  },
  {
   "cell_type": "code",
   "execution_count": null,
   "metadata": {
    "collapsed": true
   },
   "outputs": [],
   "source": []
  },
  {
   "cell_type": "markdown",
   "metadata": {},
   "source": [
    "#### 8. Write the results to a csv"
   ]
  },
  {
   "cell_type": "code",
   "execution_count": 12,
   "metadata": {
    "collapsed": false
   },
   "outputs": [],
   "source": [
    "df.to_csv('movie_reviews.csv', encoding='utf-8')"
   ]
  },
  {
   "cell_type": "markdown",
   "metadata": {},
   "source": [
    "## Part 3: Combine Tables in PostgreSQL"
   ]
  },
  {
   "cell_type": "markdown",
   "metadata": {},
   "source": [
    "#### 1. Import your two .csv data files into your Postgre Database as two different tables"
   ]
  },
  {
   "cell_type": "markdown",
   "metadata": {},
   "source": [
    "For ease, we can call these table1 and table2"
   ]
  },
  {
   "cell_type": "code",
   "execution_count": 13,
   "metadata": {
    "collapsed": false,
    "scrolled": true
   },
   "outputs": [],
   "source": [
    "from sqlalchemy import create_engine\n",
    "engine = create_engine('postgresql://useraj@localhost:5432/project6_db')\n",
    "\n",
    "try:\n",
    "    conn=psycopg2.connect(\"dbname='project6_db' user='useraj' host='localhost'\")\n",
    "except:\n",
    "    print \"I am unable to connect to the database.\"\n",
    "\n",
    "cur = conn.cursor()\n",
    "#df.to_sql(\"table1\", engine)"
   ]
  },
  {
   "cell_type": "code",
   "execution_count": 14,
   "metadata": {
    "collapsed": false
   },
   "outputs": [],
   "source": [
    "#top25.to_sql(\"table2\", engine)"
   ]
  },
  {
   "cell_type": "markdown",
   "metadata": {},
   "source": [
    "#### 2. Connect to database and query the joined set"
   ]
  },
  {
   "cell_type": "code",
   "execution_count": 15,
   "metadata": {
    "collapsed": false
   },
   "outputs": [],
   "source": [
    "cur.execute(\"\"\"SELECT DISTINCT movie_title FROM table1\"\"\")\n",
    "\n",
    "test = cur.fetchall()"
   ]
  },
  {
   "cell_type": "code",
   "execution_count": 16,
   "metadata": {
    "collapsed": false
   },
   "outputs": [
    {
     "data": {
      "text/plain": [
       "[('Star Wars: Episode V - The Empire Strikes Back',),\n",
       " ('The Matrix',),\n",
       " ('The Silence of the Lambs',),\n",
       " ('Pulp Fiction',),\n",
       " (\"Schindler's List\",),\n",
       " ('The Good, the Bad and the Ugly',),\n",
       " ('City of God',),\n",
       " ('Forrest Gump',),\n",
       " ('Star Wars: Episode IV - A New Hope',),\n",
       " ('The Dark Knight',),\n",
       " ('The Lord of the Rings: The Two Towers',),\n",
       " ('The Godfather',),\n",
       " ('The Lord of the Rings: The Return of the King',),\n",
       " ('The Godfather: Part II',),\n",
       " ('Inception',),\n",
       " ('Se7en',),\n",
       " ('12 Angry Men',),\n",
       " ('Goodfellas',),\n",
       " ('Fight Club',),\n",
       " (\"One Flew Over the Cuckoo's Nest\",),\n",
       " (\"It's a Wonderful Life\",),\n",
       " ('The Shawshank Redemption',),\n",
       " ('The Lord of the Rings: The Fellowship of the Ring',),\n",
       " ('Seven Samurai',)]"
      ]
     },
     "execution_count": 16,
     "metadata": {},
     "output_type": "execute_result"
    }
   ],
   "source": [
    "test"
   ]
  },
  {
   "cell_type": "markdown",
   "metadata": {},
   "source": [
    "#### 3. Join the two tables "
   ]
  },
  {
   "cell_type": "code",
   "execution_count": 17,
   "metadata": {
    "collapsed": false
   },
   "outputs": [],
   "source": [
    "cur.execute(\"\"\"SELECT * FROM table1\n",
    "                JOIN table2 ON table2.title = table1.movie_title\"\"\")\n",
    "big_df = pd.DataFrame(cur.fetchall())"
   ]
  },
  {
   "cell_type": "markdown",
   "metadata": {},
   "source": [
    "#### 4. Select the newly joined table and save two copies of the into dataframes"
   ]
  },
  {
   "cell_type": "code",
   "execution_count": 18,
   "metadata": {
    "collapsed": false
   },
   "outputs": [
    {
     "data": {
      "text/html": [
       "<div>\n",
       "<table border=\"1\" class=\"dataframe\">\n",
       "  <thead>\n",
       "    <tr style=\"text-align: right;\">\n",
       "      <th></th>\n",
       "      <th>0</th>\n",
       "      <th>1</th>\n",
       "      <th>2</th>\n",
       "      <th>3</th>\n",
       "      <th>4</th>\n",
       "      <th>5</th>\n",
       "      <th>6</th>\n",
       "      <th>7</th>\n",
       "      <th>8</th>\n",
       "      <th>9</th>\n",
       "      <th>10</th>\n",
       "      <th>11</th>\n",
       "      <th>12</th>\n",
       "    </tr>\n",
       "  </thead>\n",
       "  <tbody>\n",
       "    <tr>\n",
       "      <th>0</th>\n",
       "      <td>0</td>\n",
       "      <td>The Shawshank Redemption</td>\n",
       "      <td>Tied for the best movie I have ever seen</td>\n",
       "      <td>10.0</td>\n",
       "      <td>Why do I want to write the 234th comment on Th...</td>\n",
       "      <td>0</td>\n",
       "      <td>True</td>\n",
       "      <td>1718456</td>\n",
       "      <td>9.3</td>\n",
       "      <td>tt0111161</td>\n",
       "      <td>The Shawshank Redemption</td>\n",
       "      <td>feature</td>\n",
       "      <td>1994</td>\n",
       "    </tr>\n",
       "    <tr>\n",
       "      <th>1</th>\n",
       "      <td>1</td>\n",
       "      <td>The Shawshank Redemption</td>\n",
       "      <td>Shawshank Redeems Hollywood</td>\n",
       "      <td>10.0</td>\n",
       "      <td>\\nCan Hollywood, usually creating things for e...</td>\n",
       "      <td>0</td>\n",
       "      <td>True</td>\n",
       "      <td>1718456</td>\n",
       "      <td>9.3</td>\n",
       "      <td>tt0111161</td>\n",
       "      <td>The Shawshank Redemption</td>\n",
       "      <td>feature</td>\n",
       "      <td>1994</td>\n",
       "    </tr>\n",
       "    <tr>\n",
       "      <th>2</th>\n",
       "      <td>2</td>\n",
       "      <td>The Shawshank Redemption</td>\n",
       "      <td>Prepare to be moved</td>\n",
       "      <td>NaN</td>\n",
       "      <td>\\nI have never seen such an amazing film since...</td>\n",
       "      <td>0</td>\n",
       "      <td>True</td>\n",
       "      <td>1718456</td>\n",
       "      <td>9.3</td>\n",
       "      <td>tt0111161</td>\n",
       "      <td>The Shawshank Redemption</td>\n",
       "      <td>feature</td>\n",
       "      <td>1994</td>\n",
       "    </tr>\n",
       "  </tbody>\n",
       "</table>\n",
       "</div>"
      ],
      "text/plain": [
       "   0                         1                                         2   \\\n",
       "0   0  The Shawshank Redemption  Tied for the best movie I have ever seen   \n",
       "1   1  The Shawshank Redemption               Shawshank Redeems Hollywood   \n",
       "2   2  The Shawshank Redemption                       Prepare to be moved   \n",
       "\n",
       "     3                                                  4   5     6        7   \\\n",
       "0  10.0  Why do I want to write the 234th comment on Th...   0  True  1718456   \n",
       "1  10.0  \\nCan Hollywood, usually creating things for e...   0  True  1718456   \n",
       "2   NaN  \\nI have never seen such an amazing film since...   0  True  1718456   \n",
       "\n",
       "    8          9                         10       11    12  \n",
       "0  9.3  tt0111161  The Shawshank Redemption  feature  1994  \n",
       "1  9.3  tt0111161  The Shawshank Redemption  feature  1994  \n",
       "2  9.3  tt0111161  The Shawshank Redemption  feature  1994  "
      ]
     },
     "execution_count": 18,
     "metadata": {},
     "output_type": "execute_result"
    }
   ],
   "source": [
    "big_df.head(3)"
   ]
  },
  {
   "cell_type": "code",
   "execution_count": 19,
   "metadata": {
    "collapsed": false
   },
   "outputs": [
    {
     "data": {
      "text/plain": [
       "(44907, 13)"
      ]
     },
     "execution_count": 19,
     "metadata": {},
     "output_type": "execute_result"
    }
   ],
   "source": [
    "big_df.shape"
   ]
  },
  {
   "cell_type": "markdown",
   "metadata": {},
   "source": [
    "## Part 4: Parsing and Exploratory Data Analysis"
   ]
  },
  {
   "cell_type": "markdown",
   "metadata": {},
   "source": [
    "#### 1. Rename the column headings"
   ]
  },
  {
   "cell_type": "code",
   "execution_count": 20,
   "metadata": {
    "collapsed": false
   },
   "outputs": [],
   "source": [
    "big_df.columns = ['kill', 'movie_title', 'review_title', 'rating', 'review_text', 'kill',\n",
    "                  'kill', 'number_of_ratings', 'average_rating', 'imdb_code', 'kill', 'kill', 'release_date']"
   ]
  },
  {
   "cell_type": "code",
   "execution_count": 21,
   "metadata": {
    "collapsed": false
   },
   "outputs": [
    {
     "data": {
      "text/html": [
       "<div>\n",
       "<table border=\"1\" class=\"dataframe\">\n",
       "  <thead>\n",
       "    <tr style=\"text-align: right;\">\n",
       "      <th></th>\n",
       "      <th>kill</th>\n",
       "      <th>movie_title</th>\n",
       "      <th>review_title</th>\n",
       "      <th>rating</th>\n",
       "      <th>review_text</th>\n",
       "      <th>kill</th>\n",
       "      <th>kill</th>\n",
       "      <th>number_of_ratings</th>\n",
       "      <th>average_rating</th>\n",
       "      <th>imdb_code</th>\n",
       "      <th>kill</th>\n",
       "      <th>kill</th>\n",
       "      <th>release_date</th>\n",
       "    </tr>\n",
       "  </thead>\n",
       "  <tbody>\n",
       "    <tr>\n",
       "      <th>0</th>\n",
       "      <td>0</td>\n",
       "      <td>The Shawshank Redemption</td>\n",
       "      <td>Tied for the best movie I have ever seen</td>\n",
       "      <td>10.0</td>\n",
       "      <td>Why do I want to write the 234th comment on Th...</td>\n",
       "      <td>0</td>\n",
       "      <td>True</td>\n",
       "      <td>1718456</td>\n",
       "      <td>9.3</td>\n",
       "      <td>tt0111161</td>\n",
       "      <td>The Shawshank Redemption</td>\n",
       "      <td>feature</td>\n",
       "      <td>1994</td>\n",
       "    </tr>\n",
       "    <tr>\n",
       "      <th>1</th>\n",
       "      <td>1</td>\n",
       "      <td>The Shawshank Redemption</td>\n",
       "      <td>Shawshank Redeems Hollywood</td>\n",
       "      <td>10.0</td>\n",
       "      <td>\\nCan Hollywood, usually creating things for e...</td>\n",
       "      <td>0</td>\n",
       "      <td>True</td>\n",
       "      <td>1718456</td>\n",
       "      <td>9.3</td>\n",
       "      <td>tt0111161</td>\n",
       "      <td>The Shawshank Redemption</td>\n",
       "      <td>feature</td>\n",
       "      <td>1994</td>\n",
       "    </tr>\n",
       "    <tr>\n",
       "      <th>2</th>\n",
       "      <td>2</td>\n",
       "      <td>The Shawshank Redemption</td>\n",
       "      <td>Prepare to be moved</td>\n",
       "      <td>NaN</td>\n",
       "      <td>\\nI have never seen such an amazing film since...</td>\n",
       "      <td>0</td>\n",
       "      <td>True</td>\n",
       "      <td>1718456</td>\n",
       "      <td>9.3</td>\n",
       "      <td>tt0111161</td>\n",
       "      <td>The Shawshank Redemption</td>\n",
       "      <td>feature</td>\n",
       "      <td>1994</td>\n",
       "    </tr>\n",
       "  </tbody>\n",
       "</table>\n",
       "</div>"
      ],
      "text/plain": [
       "  kill               movie_title                              review_title  \\\n",
       "0    0  The Shawshank Redemption  Tied for the best movie I have ever seen   \n",
       "1    1  The Shawshank Redemption               Shawshank Redeems Hollywood   \n",
       "2    2  The Shawshank Redemption                       Prepare to be moved   \n",
       "\n",
       "   rating                                        review_text kill  kill  \\\n",
       "0    10.0  Why do I want to write the 234th comment on Th...    0  True   \n",
       "1    10.0  \\nCan Hollywood, usually creating things for e...    0  True   \n",
       "2     NaN  \\nI have never seen such an amazing film since...    0  True   \n",
       "\n",
       "   number_of_ratings  average_rating  imdb_code                      kill  \\\n",
       "0            1718456             9.3  tt0111161  The Shawshank Redemption   \n",
       "1            1718456             9.3  tt0111161  The Shawshank Redemption   \n",
       "2            1718456             9.3  tt0111161  The Shawshank Redemption   \n",
       "\n",
       "      kill release_date  \n",
       "0  feature         1994  \n",
       "1  feature         1994  \n",
       "2  feature         1994  "
      ]
     },
     "execution_count": 21,
     "metadata": {},
     "output_type": "execute_result"
    }
   ],
   "source": [
    "big_df.head(3)"
   ]
  },
  {
   "cell_type": "code",
   "execution_count": 23,
   "metadata": {
    "collapsed": false
   },
   "outputs": [],
   "source": [
    "for col in big_df.columns:\n",
    "    if col == 'kill':\n",
    "        big_df = big_df.drop(col, axis=1)"
   ]
  },
  {
   "cell_type": "code",
   "execution_count": 24,
   "metadata": {
    "collapsed": false
   },
   "outputs": [
    {
     "data": {
      "text/html": [
       "<div>\n",
       "<table border=\"1\" class=\"dataframe\">\n",
       "  <thead>\n",
       "    <tr style=\"text-align: right;\">\n",
       "      <th></th>\n",
       "      <th>movie_title</th>\n",
       "      <th>review_title</th>\n",
       "      <th>rating</th>\n",
       "      <th>review_text</th>\n",
       "      <th>number_of_ratings</th>\n",
       "      <th>average_rating</th>\n",
       "      <th>imdb_code</th>\n",
       "      <th>release_date</th>\n",
       "    </tr>\n",
       "  </thead>\n",
       "  <tbody>\n",
       "    <tr>\n",
       "      <th>0</th>\n",
       "      <td>The Shawshank Redemption</td>\n",
       "      <td>Tied for the best movie I have ever seen</td>\n",
       "      <td>10.0</td>\n",
       "      <td>Why do I want to write the 234th comment on Th...</td>\n",
       "      <td>1718456</td>\n",
       "      <td>9.3</td>\n",
       "      <td>tt0111161</td>\n",
       "      <td>1994</td>\n",
       "    </tr>\n",
       "    <tr>\n",
       "      <th>1</th>\n",
       "      <td>The Shawshank Redemption</td>\n",
       "      <td>Shawshank Redeems Hollywood</td>\n",
       "      <td>10.0</td>\n",
       "      <td>\\nCan Hollywood, usually creating things for e...</td>\n",
       "      <td>1718456</td>\n",
       "      <td>9.3</td>\n",
       "      <td>tt0111161</td>\n",
       "      <td>1994</td>\n",
       "    </tr>\n",
       "    <tr>\n",
       "      <th>2</th>\n",
       "      <td>The Shawshank Redemption</td>\n",
       "      <td>Prepare to be moved</td>\n",
       "      <td>NaN</td>\n",
       "      <td>\\nI have never seen such an amazing film since...</td>\n",
       "      <td>1718456</td>\n",
       "      <td>9.3</td>\n",
       "      <td>tt0111161</td>\n",
       "      <td>1994</td>\n",
       "    </tr>\n",
       "  </tbody>\n",
       "</table>\n",
       "</div>"
      ],
      "text/plain": [
       "                movie_title                              review_title  rating  \\\n",
       "0  The Shawshank Redemption  Tied for the best movie I have ever seen    10.0   \n",
       "1  The Shawshank Redemption               Shawshank Redeems Hollywood    10.0   \n",
       "2  The Shawshank Redemption                       Prepare to be moved     NaN   \n",
       "\n",
       "                                         review_text  number_of_ratings  \\\n",
       "0  Why do I want to write the 234th comment on Th...            1718456   \n",
       "1  \\nCan Hollywood, usually creating things for e...            1718456   \n",
       "2  \\nI have never seen such an amazing film since...            1718456   \n",
       "\n",
       "   average_rating  imdb_code release_date  \n",
       "0             9.3  tt0111161         1994  \n",
       "1             9.3  tt0111161         1994  \n",
       "2             9.3  tt0111161         1994  "
      ]
     },
     "execution_count": 24,
     "metadata": {},
     "output_type": "execute_result"
    }
   ],
   "source": [
    "big_df.release_date.astype('int', inplace=True)\n",
    "big_df.head(3)"
   ]
  },
  {
   "cell_type": "code",
   "execution_count": 25,
   "metadata": {
    "collapsed": false
   },
   "outputs": [
    {
     "name": "stdout",
     "output_type": "stream",
     "text": [
      "(44907, 8)\n",
      "(38547, 8)\n"
     ]
    }
   ],
   "source": [
    "print big_df.shape\n",
    "print big_df.dropna().shape"
   ]
  },
  {
   "cell_type": "markdown",
   "metadata": {},
   "source": [
    "#### 2. Run a description of the data"
   ]
  },
  {
   "cell_type": "code",
   "execution_count": 26,
   "metadata": {
    "collapsed": false
   },
   "outputs": [
    {
     "data": {
      "text/html": [
       "<div>\n",
       "<table border=\"1\" class=\"dataframe\">\n",
       "  <thead>\n",
       "    <tr style=\"text-align: right;\">\n",
       "      <th></th>\n",
       "      <th>rating</th>\n",
       "      <th>number_of_ratings</th>\n",
       "      <th>average_rating</th>\n",
       "    </tr>\n",
       "  </thead>\n",
       "  <tbody>\n",
       "    <tr>\n",
       "      <th>count</th>\n",
       "      <td>38547.000000</td>\n",
       "      <td>3.854700e+04</td>\n",
       "      <td>38547.000000</td>\n",
       "    </tr>\n",
       "    <tr>\n",
       "      <th>mean</th>\n",
       "      <td>8.780087</td>\n",
       "      <td>1.220263e+06</td>\n",
       "      <td>8.875209</td>\n",
       "    </tr>\n",
       "    <tr>\n",
       "      <th>std</th>\n",
       "      <td>2.241808</td>\n",
       "      <td>3.665769e+05</td>\n",
       "      <td>0.192182</td>\n",
       "    </tr>\n",
       "    <tr>\n",
       "      <th>min</th>\n",
       "      <td>1.000000</td>\n",
       "      <td>2.329460e+05</td>\n",
       "      <td>8.600000</td>\n",
       "    </tr>\n",
       "    <tr>\n",
       "      <th>25%</th>\n",
       "      <td>9.000000</td>\n",
       "      <td>1.042796e+06</td>\n",
       "      <td>8.700000</td>\n",
       "    </tr>\n",
       "    <tr>\n",
       "      <th>50%</th>\n",
       "      <td>10.000000</td>\n",
       "      <td>1.237777e+06</td>\n",
       "      <td>8.800000</td>\n",
       "    </tr>\n",
       "    <tr>\n",
       "      <th>75%</th>\n",
       "      <td>10.000000</td>\n",
       "      <td>1.495184e+06</td>\n",
       "      <td>9.000000</td>\n",
       "    </tr>\n",
       "    <tr>\n",
       "      <th>max</th>\n",
       "      <td>10.000000</td>\n",
       "      <td>1.718456e+06</td>\n",
       "      <td>9.300000</td>\n",
       "    </tr>\n",
       "  </tbody>\n",
       "</table>\n",
       "</div>"
      ],
      "text/plain": [
       "             rating  number_of_ratings  average_rating\n",
       "count  38547.000000       3.854700e+04    38547.000000\n",
       "mean       8.780087       1.220263e+06        8.875209\n",
       "std        2.241808       3.665769e+05        0.192182\n",
       "min        1.000000       2.329460e+05        8.600000\n",
       "25%        9.000000       1.042796e+06        8.700000\n",
       "50%       10.000000       1.237777e+06        8.800000\n",
       "75%       10.000000       1.495184e+06        9.000000\n",
       "max       10.000000       1.718456e+06        9.300000"
      ]
     },
     "execution_count": 26,
     "metadata": {},
     "output_type": "execute_result"
    }
   ],
   "source": [
    "big_df.dropna().describe()"
   ]
  },
  {
   "cell_type": "code",
   "execution_count": 27,
   "metadata": {
    "collapsed": false
   },
   "outputs": [
    {
     "name": "stdout",
     "output_type": "stream",
     "text": [
      "<class 'pandas.core.frame.DataFrame'>\n",
      "RangeIndex: 44907 entries, 0 to 44906\n",
      "Data columns (total 8 columns):\n",
      "movie_title          44907 non-null object\n",
      "review_title         44896 non-null object\n",
      "rating               38551 non-null float64\n",
      "review_text          44907 non-null object\n",
      "number_of_ratings    44907 non-null int64\n",
      "average_rating       44907 non-null float64\n",
      "imdb_code            44907 non-null object\n",
      "release_date         44907 non-null object\n",
      "dtypes: float64(2), int64(1), object(5)\n",
      "memory usage: 2.7+ MB\n"
     ]
    }
   ],
   "source": [
    "big_df.info()"
   ]
  },
  {
   "cell_type": "code",
   "execution_count": 28,
   "metadata": {
    "collapsed": true
   },
   "outputs": [],
   "source": [
    "big_df.release_date = big_df.release_date.astype('int')"
   ]
  },
  {
   "cell_type": "code",
   "execution_count": 29,
   "metadata": {
    "collapsed": false
   },
   "outputs": [
    {
     "name": "stderr",
     "output_type": "stream",
     "text": [
      "/home/useraj/anaconda2/lib/python2.7/site-packages/ipykernel/__main__.py:7: SettingWithCopyWarning: \n",
      "A value is trying to be set on a copy of a slice from a DataFrame.\n",
      "Try using .loc[row_indexer,col_indexer] = value instead\n",
      "\n",
      "See the caveats in the documentation: http://pandas.pydata.org/pandas-docs/stable/indexing.html#indexing-view-versus-copy\n",
      "/home/useraj/anaconda2/lib/python2.7/site-packages/ipykernel/__main__.py:13: SettingWithCopyWarning: \n",
      "A value is trying to be set on a copy of a slice from a DataFrame.\n",
      "Try using .loc[row_indexer,col_indexer] = value instead\n",
      "\n",
      "See the caveats in the documentation: http://pandas.pydata.org/pandas-docs/stable/indexing.html#indexing-view-versus-copy\n"
     ]
    }
   ],
   "source": [
    "tokens = []\n",
    "movies = big_df.dropna()\n",
    "\n",
    "for rev in movies.review_title:\n",
    "    count = len(rev)\n",
    "    tokens.append(count)\n",
    "movies['rev_title_len'] = tokens\n",
    "\n",
    "tokens = []\n",
    "for rev in movies.review_text:\n",
    "    count = len(rev)\n",
    "    tokens.append(count)\n",
    "movies['rev_text_len'] = tokens"
   ]
  },
  {
   "cell_type": "markdown",
   "metadata": {
    "collapsed": true
   },
   "source": [
    "#### 3. Visualize the Data"
   ]
  },
  {
   "cell_type": "code",
   "execution_count": 30,
   "metadata": {
    "collapsed": false
   },
   "outputs": [
    {
     "data": {
      "text/plain": [
       "(array([  1422.,    415.,    490.,    485.,    760.,   1040.,   1637.,\n",
       "          2903.,   5891.,  23508.]),\n",
       " array([  1. ,   1.9,   2.8,   3.7,   4.6,   5.5,   6.4,   7.3,   8.2,\n",
       "          9.1,  10. ]),\n",
       " <a list of 10 Patch objects>)"
      ]
     },
     "execution_count": 30,
     "metadata": {},
     "output_type": "execute_result"
    },
    {
     "data": {
      "image/png": "[encoded data removed]",
      "text/plain": [
       "<matplotlib.figure.Figure at 0x7f8367f4e310>"
      ]
     },
     "metadata": {},
     "output_type": "display_data"
    }
   ],
   "source": [
    "plt.hist(big_df.rating.dropna())"
   ]
  },
  {
   "cell_type": "code",
   "execution_count": 31,
   "metadata": {
    "collapsed": false
   },
   "outputs": [
    {
     "data": {
      "text/plain": [
       "<matplotlib.collections.PathCollection at 0x7f8365095b90>"
      ]
     },
     "execution_count": 31,
     "metadata": {},
     "output_type": "execute_result"
    },
    {
     "data": {
      "image/png": "[encoded data removed]",
      "text/plain": [
       "<matplotlib.figure.Figure at 0x7f8366800650>"
      ]
     },
     "metadata": {},
     "output_type": "display_data"
    }
   ],
   "source": [
    "plt.scatter(big_df[['release_date']], big_df.average_rating)"
   ]
  },
  {
   "cell_type": "code",
   "execution_count": 32,
   "metadata": {
    "collapsed": false
   },
   "outputs": [
    {
     "data": {
      "text/plain": [
       "<matplotlib.collections.PathCollection at 0x7f8365ca8910>"
      ]
     },
     "execution_count": 32,
     "metadata": {},
     "output_type": "execute_result"
    },
    {
     "data": {
      "image/png": "[encoded data removed]",
      "text/plain": [
       "<matplotlib.figure.Figure at 0x7f8367f4e2d0>"
      ]
     },
     "metadata": {},
     "output_type": "display_data"
    }
   ],
   "source": [
    "plt.scatter(big_df[['release_date']], big_df.number_of_ratings)"
   ]
  },
  {
   "cell_type": "markdown",
   "metadata": {},
   "source": [
    "## Part 3: Build the Random Forest"
   ]
  },
  {
   "cell_type": "markdown",
   "metadata": {
    "collapsed": true
   },
   "source": [
    "#### 1. What is our target attribute? "
   ]
  },
  {
   "cell_type": "markdown",
   "metadata": {},
   "source": [
    "Movie Ratings"
   ]
  },
  {
   "cell_type": "code",
   "execution_count": 33,
   "metadata": {
    "collapsed": false
   },
   "outputs": [
    {
     "data": {
      "text/plain": [
       "Index([u'movie_title', u'review_title', u'rating', u'review_text',\n",
       "       u'number_of_ratings', u'average_rating', u'imdb_code', u'release_date',\n",
       "       u'rev_title_len', u'rev_text_len'],\n",
       "      dtype='object')"
      ]
     },
     "execution_count": 33,
     "metadata": {},
     "output_type": "execute_result"
    }
   ],
   "source": [
    "movies.columns"
   ]
  },
  {
   "cell_type": "markdown",
   "metadata": {},
   "source": [
    "#### 2. Prepare the data and define the training set"
   ]
  },
  {
   "cell_type": "code",
   "execution_count": 34,
   "metadata": {
    "collapsed": false
   },
   "outputs": [],
   "source": [
    "X = movies[['number_of_ratings', 'release_date', 'rev_title_len', 'rev_text_len']]\n",
    "y = movies.rating\n",
    "\n",
    "X_train, X_test, y_train, y_test = train_test_split(X, y)"
   ]
  },
  {
   "cell_type": "markdown",
   "metadata": {},
   "source": [
    "#### 2. Train the Model"
   ]
  },
  {
   "cell_type": "code",
   "execution_count": 35,
   "metadata": {
    "collapsed": false
   },
   "outputs": [
    {
     "name": "stdout",
     "output_type": "stream",
     "text": [
      "0.0419298275589\n",
      "{'min_samples_split': 2, 'n_estimators': 20, 'max_depth': 6}\n"
     ]
    }
   ],
   "source": [
    "forest = RandomForestRegressor(n_jobs=-1)\n",
    "params = {'n_estimators': [12, 15, 20],\n",
    "          'max_depth': [None, 4, 6, 8, 10],\n",
    "          'min_samples_split': [1, 2, 3]}\n",
    "grid = GridSearchCV(forest, params)\n",
    "grid.fit(X_train, y_train)\n",
    "print grid.best_score_\n",
    "print grid.best_params_"
   ]
  },
  {
   "cell_type": "markdown",
   "metadata": {},
   "source": [
    "#### 3. Set up test data and test the model"
   ]
  },
  {
   "cell_type": "code",
   "execution_count": 36,
   "metadata": {
    "collapsed": true
   },
   "outputs": [],
   "source": [
    "best_forest = grid.best_estimator_\n",
    "y_pred_forest = best_forest.predict(X_test)"
   ]
  },
  {
   "cell_type": "code",
   "execution_count": 37,
   "metadata": {
    "collapsed": false
   },
   "outputs": [
    {
     "name": "stdout",
     "output_type": "stream",
     "text": [
      "-0.199303058638\n",
      "0.191287737139\n"
     ]
    }
   ],
   "source": [
    "score_forest = cross_val_score(best_forest, X, y)\n",
    "print score_forest.mean()\n",
    "print score_forest.std()"
   ]
  },
  {
   "cell_type": "markdown",
   "metadata": {},
   "source": [
    "#### 5. Check the results"
   ]
  },
  {
   "cell_type": "code",
   "execution_count": 38,
   "metadata": {
    "collapsed": false
   },
   "outputs": [
    {
     "data": {
      "text/plain": [
       "[('number_of_ratings', 0.29150459741180512),\n",
       " ('release_date', 0.42677265169993905),\n",
       " ('rev_title_len', 0.082913236888781994),\n",
       " ('rev_text_len', 0.19880951399947389)]"
      ]
     },
     "execution_count": 38,
     "metadata": {},
     "output_type": "execute_result"
    }
   ],
   "source": [
    "zip(X.columns, best_forest.feature_importances_)"
   ]
  },
  {
   "cell_type": "code",
   "execution_count": 39,
   "metadata": {
    "collapsed": false
   },
   "outputs": [
    {
     "data": {
      "text/plain": [
       "[('number_of_ratings', 0.049952540943367187),\n",
       " ('release_date', 0.058711341263476095),\n",
       " ('rev_title_len', 0.28239318589642615),\n",
       " ('rev_text_len', 0.60894293189673054)]"
      ]
     },
     "execution_count": 39,
     "metadata": {},
     "output_type": "execute_result"
    }
   ],
   "source": [
    "tree = DecisionTreeRegressor()\n",
    "#bag = BaggingRegressor(tree)\n",
    "#params = {'n_estimators': [12, 15, 20],\n",
    "#          'max_depth': [None, 4, 6, 8, 10],\n",
    "#          'min_samples_split': [1, 2, 3]}\n",
    "#grid = GridSearchCV(forest, params)\n",
    "#grid.fit(X_train, y_train)\n",
    "#print grid.best_score_\n",
    "#print grid.best_params_\n",
    "#best_forest = grid.best_estimator_\n",
    "#y_pred = best_forest.predict(X_test)\n",
    "tree.fit(X_train, y_train)\n",
    "zip(X.columns, tree.feature_importances_)"
   ]
  },
  {
   "cell_type": "code",
   "execution_count": 40,
   "metadata": {
    "collapsed": false
   },
   "outputs": [
    {
     "name": "stdout",
     "output_type": "stream",
     "text": [
      "-1.60078079448\n",
      "0.235273070747\n"
     ]
    }
   ],
   "source": [
    "y_pred_tree = tree.predict(X_test)\n",
    "score_tree = cross_val_score(tree, X, y)\n",
    "print score_tree.mean()\n",
    "print score_tree.std()"
   ]
  },
  {
   "cell_type": "markdown",
   "metadata": {},
   "source": []
  },
  {
   "cell_type": "markdown",
   "metadata": {},
   "source": [
    "#### TFIDF"
   ]
  },
  {
   "cell_type": "code",
   "execution_count": 41,
   "metadata": {
    "collapsed": false
   },
   "outputs": [
    {
     "data": {
      "text/html": [
       "<div>\n",
       "<table border=\"1\" class=\"dataframe\">\n",
       "  <thead>\n",
       "    <tr style=\"text-align: right;\">\n",
       "      <th></th>\n",
       "      <th>movie_title</th>\n",
       "      <th>review_title</th>\n",
       "      <th>rating</th>\n",
       "      <th>review_text</th>\n",
       "      <th>number_of_ratings</th>\n",
       "      <th>average_rating</th>\n",
       "      <th>imdb_code</th>\n",
       "      <th>release_date</th>\n",
       "    </tr>\n",
       "  </thead>\n",
       "  <tbody>\n",
       "    <tr>\n",
       "      <th>0</th>\n",
       "      <td>The Shawshank Redemption</td>\n",
       "      <td>Tied for the best movie I have ever seen</td>\n",
       "      <td>10.0</td>\n",
       "      <td>Why do I want to write the 234th comment on Th...</td>\n",
       "      <td>1718456</td>\n",
       "      <td>9.3</td>\n",
       "      <td>tt0111161</td>\n",
       "      <td>1994</td>\n",
       "    </tr>\n",
       "    <tr>\n",
       "      <th>1</th>\n",
       "      <td>The Shawshank Redemption</td>\n",
       "      <td>Shawshank Redeems Hollywood</td>\n",
       "      <td>10.0</td>\n",
       "      <td>\\nCan Hollywood, usually creating things for e...</td>\n",
       "      <td>1718456</td>\n",
       "      <td>9.3</td>\n",
       "      <td>tt0111161</td>\n",
       "      <td>1994</td>\n",
       "    </tr>\n",
       "    <tr>\n",
       "      <th>2</th>\n",
       "      <td>The Shawshank Redemption</td>\n",
       "      <td>Prepare to be moved</td>\n",
       "      <td>NaN</td>\n",
       "      <td>\\nI have never seen such an amazing film since...</td>\n",
       "      <td>1718456</td>\n",
       "      <td>9.3</td>\n",
       "      <td>tt0111161</td>\n",
       "      <td>1994</td>\n",
       "    </tr>\n",
       "  </tbody>\n",
       "</table>\n",
       "</div>"
      ],
      "text/plain": [
       "                movie_title                              review_title  rating  \\\n",
       "0  The Shawshank Redemption  Tied for the best movie I have ever seen    10.0   \n",
       "1  The Shawshank Redemption               Shawshank Redeems Hollywood    10.0   \n",
       "2  The Shawshank Redemption                       Prepare to be moved     NaN   \n",
       "\n",
       "                                         review_text  number_of_ratings  \\\n",
       "0  Why do I want to write the 234th comment on Th...            1718456   \n",
       "1  \\nCan Hollywood, usually creating things for e...            1718456   \n",
       "2  \\nI have never seen such an amazing film since...            1718456   \n",
       "\n",
       "   average_rating  imdb_code  release_date  \n",
       "0             9.3  tt0111161          1994  \n",
       "1             9.3  tt0111161          1994  \n",
       "2             9.3  tt0111161          1994  "
      ]
     },
     "execution_count": 41,
     "metadata": {},
     "output_type": "execute_result"
    }
   ],
   "source": [
    "big_df.head(3)"
   ]
  },
  {
   "cell_type": "code",
   "execution_count": 42,
   "metadata": {
    "collapsed": false
   },
   "outputs": [
    {
     "data": {
      "text/plain": [
       "LogisticRegression(C=1.0, class_weight=None, dual=False, fit_intercept=True,\n",
       "          intercept_scaling=1, max_iter=100, multi_class='ovr', n_jobs=1,\n",
       "          penalty='l2', random_state=None, solver='liblinear', tol=0.0001,\n",
       "          verbose=0, warm_start=False)"
      ]
     },
     "execution_count": 42,
     "metadata": {},
     "output_type": "execute_result"
    }
   ],
   "source": [
    "tfidf = TfidfVectorizer(stop_words='english')\n",
    "X2 = tfidf.fit_transform(movies.review_title)\n",
    "y = movies.rating\n",
    "logreg = LogisticRegression()\n",
    "logreg.fit(X2, y)"
   ]
  },
  {
   "cell_type": "code",
   "execution_count": 43,
   "metadata": {
    "collapsed": true
   },
   "outputs": [],
   "source": [
    "zipped = zip(tfidf.get_feature_names(), logreg.coef_[0])"
   ]
  },
  {
   "cell_type": "code",
   "execution_count": 44,
   "metadata": {
    "collapsed": false
   },
   "outputs": [
    {
     "data": {
      "text/plain": [
       "[(u'worst', 4.8223356468857945),\n",
       " (u'awful', 4.0398289559904699),\n",
       " (u'rubbish', 3.8976695211060042),\n",
       " (u'garbage', 3.3550364692655146),\n",
       " (u'worse', 3.2981474731849647),\n",
       " (u'terrible', 3.2066830770478583),\n",
       " (u'dumb', 3.1520508956879194),\n",
       " (u'waste', 3.09874242489964),\n",
       " (u'crap', 2.9627644710560994),\n",
       " (u'disgusting', 2.9065054516705127),\n",
       " (u'sucks', 2.8911627711692796),\n",
       " (u'boring', 2.8345528233271784),\n",
       " (u'nightmare', 2.7203589496083271),\n",
       " (u'mess', 2.6726426760395152),\n",
       " (u'trash', 2.6297253493838597),\n",
       " (u'stupid', 2.5629200252003708),\n",
       " (u'pointless', 2.55084970515815),\n",
       " (u'bad', 2.4194430481205682),\n",
       " (u'hated', 2.377128043711715),\n",
       " (u'pathetic', 2.3339833412399007),\n",
       " (u'deception', 2.3244365287698687),\n",
       " (u'thinking', 2.3050053713516925),\n",
       " (u'dreadful', 2.1044026319859772),\n",
       " (u'clothes', 2.098725438342584),\n",
       " (u'load', 2.0769786754208144),\n",
       " (u'overrated', 2.0405223950444435),\n",
       " (u'dumbest', 2.0282904840308058),\n",
       " (u'dull', 2.0071286047253425),\n",
       " (u'joke', 1.9643684370828849),\n",
       " (u'junk', 1.9442297313450465),\n",
       " (u'sucked', 1.924877605892142),\n",
       " (u'yawn', 1.9154769906036295),\n",
       " (u'offensive', 1.8915536157809003),\n",
       " (u'horrible', 1.8542441956997324),\n",
       " (u'pretentious', 1.8500027451309093),\n",
       " (u'ghastly', 1.8165164483980138),\n",
       " (u'sorry', 1.7954653720050791),\n",
       " (u'kidding', 1.7527367424892346),\n",
       " (u'insult', 1.6788430925786577),\n",
       " (u'ridiculous', 1.6359475606753608),\n",
       " (u'immature', 1.6169086835167112),\n",
       " (u'suck', 1.5933150205173383),\n",
       " (u'fest', 1.5787864331145918),\n",
       " (u'stinks', 1.5521946048781978),\n",
       " (u'uninspired', 1.5462485338607299),\n",
       " (u'terribly', 1.5186862738971023),\n",
       " (u'idiotic', 1.5091150500399684),\n",
       " (u'rated', 1.504490583696626),\n",
       " (u'avoid', 1.4858372091908143),\n",
       " (u'belong', 1.4688628657225227),\n",
       " (u'mindless', 1.3977242586335656),\n",
       " (u'shocking', 1.3920628585082613),\n",
       " (u'blah', 1.3771177205917322),\n",
       " (u'machine', 1.3770380601387093),\n",
       " (u'grossly', 1.3742327783093879),\n",
       " (u'boredom', 1.3603951747397449),\n",
       " (u'boys', 1.3547219395364161),\n",
       " (u'walked', 1.344171774892464),\n",
       " (u'silly', 1.3140177684876713),\n",
       " (u'useless', 1.3120963700709458),\n",
       " (u'hate', 1.3110041038846834),\n",
       " (u'stolen', 1.3082266094357351),\n",
       " (u'dreck', 1.3061182921318428),\n",
       " (u'disappointing', 1.3022898176165452),\n",
       " (u'poor', 1.2959538619645929),\n",
       " (u'stupidity', 1.2936268450003348),\n",
       " (u'overkill', 1.2857982238946655),\n",
       " (u'unengaging', 1.2828005179666866),\n",
       " (u'depressing', 1.2735012450558132),\n",
       " (u'plot', 1.27056420949783),\n",
       " (u'pseudo', 1.269675889539895),\n",
       " (u'tripe', 1.2688281992863213),\n",
       " (u'bias', 1.2658668799315622),\n",
       " (u'pass', 1.2657181747833814),\n",
       " (u'big', 1.2639122761870136),\n",
       " (u'senseless', 1.2594405644887743),\n",
       " (u'insipid', 1.2492313686462835),\n",
       " (u'major', 1.2459956450909877),\n",
       " (u'death', 1.2417731904409808),\n",
       " (u'violence', 1.2417490930451847),\n",
       " (u'poorly', 1.2357344900925942),\n",
       " (u'painful', 1.2317908088737941),\n",
       " (u'massively', 1.231775778142518),\n",
       " (u'money', 1.2298821928409789),\n",
       " (u'don', 1.2136845896644379),\n",
       " (u'intellectual', 1.212407466057734),\n",
       " (u'annoying', 1.2107905166706174),\n",
       " (u'bored', 1.209141294371137),\n",
       " (u'uninteresting', 1.2071735721041421),\n",
       " (u'idiots', 1.2066187953953462),\n",
       " (u'imdb', 1.1961326522521549),\n",
       " (u'average', 1.1953038456582792),\n",
       " (u'noise', 1.1767775595409271),\n",
       " (u'mediocre', 1.1561101307906014),\n",
       " (u'heck', 1.1506735800926162),\n",
       " (u'sick', 1.1453718127828421),\n",
       " (u'fails', 1.1426895581782694),\n",
       " (u'wannabe', 1.1411713954123812),\n",
       " (u'ugh', 1.1274290106988818),\n",
       " (u'bunch', 1.1254461551456592),\n",
       " (u'commercialism', 1.1182099658327656),\n",
       " (u'save', 1.1164398178927883),\n",
       " (u'snooze', 1.1123350055164258),\n",
       " (u'ego', 1.1036210012468683),\n",
       " (u'rose', 1.0945111797915812),\n",
       " (u'disappointment', 1.093723474703082),\n",
       " (u'nauseating', 1.092350764887267),\n",
       " (u'killed', 1.0720340533287966),\n",
       " (u'cheap', 1.067263785367345),\n",
       " (u'gave', 1.0637324396797976),\n",
       " (u'irresponsible', 1.0592060356137563),\n",
       " (u'overly', 1.0539599009409892),\n",
       " (u'happened', 1.0448246842013631),\n",
       " (u'godawful', 1.0436405659793477),\n",
       " (u'gay', 1.0421404810621209),\n",
       " (u'snorefest', 1.0236727570137687),\n",
       " (u'event', 1.0210711409669921),\n",
       " (u'bore', 1.019463350770957),\n",
       " (u'sfx', 1.0194006158327553),\n",
       " (u'violent', 1.0172640930358938),\n",
       " (u'video', 1.0168010977264705),\n",
       " (u'em', 1.0165652871773083),\n",
       " (u'asleep', 1.0155698033381098),\n",
       " (u'travesty', 1.0155070603082248),\n",
       " (u'sound', 1.0144617219177554),\n",
       " (u'sentimentality', 1.0127816329385071),\n",
       " (u'plug', 1.0119112523595604),\n",
       " (u'puke', 1.0102836472161936),\n",
       " (u'fell', 1.0048207187309159),\n",
       " (u'disguised', 0.99561280264823004),\n",
       " (u'cinemas', 0.99506700703086148),\n",
       " (u'difference', 0.99086571605574003),\n",
       " (u'disgrace', 0.98915434913446221),\n",
       " (u'beat', 0.98766850747374746),\n",
       " (u'muppet', 0.97481537879469282),\n",
       " (u'frustrating', 0.97354549498291121),\n",
       " (u'porn', 0.97179382788043456),\n",
       " (u'emperor', 0.96903556839993188),\n",
       " (u'aids', 0.96288552209688505),\n",
       " (u'retards', 0.9494820170794448),\n",
       " (u'sh', 0.94442637639898153),\n",
       " (u'total', 0.93446808721488817),\n",
       " (u'effects', 0.93374406815818045),\n",
       " (u'person', 0.93288639178485477),\n",
       " (u'40', 0.93191816623433432),\n",
       " (u'insulting', 0.92616600435521279),\n",
       " (u'absurdity', 0.92204379233803746),\n",
       " (u'copy', 0.92022587105083598),\n",
       " (u'kill', 0.91612790507890052),\n",
       " (u'utter', 0.90630283833977432),\n",
       " (u'faux', 0.90439169119152985),\n",
       " (u'eventually', 0.9038353474152454),\n",
       " (u'white', 0.89458268249779072),\n",
       " (u'appalling', 0.89198558321545529),\n",
       " (u'ahahahahaha', 0.89061597546426075),\n",
       " (u'contrary', 0.88972538299586157),\n",
       " (u'couldn', 0.8894546248809333),\n",
       " (u'abomination', 0.88789552864721077),\n",
       " (u'ahhahahahahahahahahaha', 0.88789552864721077),\n",
       " (u'awfull', 0.88789552864721077),\n",
       " (u'boo', 0.88789552864721077),\n",
       " (u'boooooooooooring', 0.88789552864721077),\n",
       " (u'boooooring', 0.88789552864721077),\n",
       " (u'braindead', 0.88789552864721077),\n",
       " (u'crapcrapcrap', 0.88789552864721077),\n",
       " (u'cringe', 0.88789552864721077),\n",
       " (u'delusional', 0.88789552864721077),\n",
       " (u'disasters', 0.88789552864721077),\n",
       " (u'drinking', 0.88789552864721077),\n",
       " (u'eeeeeeeeeeeeeeeeeeeeeeewwwwwwwww', 0.88789552864721077),\n",
       " (u'filth', 0.88789552864721077),\n",
       " (u'gimics', 0.88789552864721077),\n",
       " (u'godawfulfather', 0.88789552864721077),\n",
       " (u'hogwash', 0.88789552864721077),\n",
       " (u'nap', 0.88789552864721077),\n",
       " (u'plotless', 0.88789552864721077),\n",
       " (u'sediment', 0.88789552864721077),\n",
       " (u'slush', 0.88789552864721077),\n",
       " (u'unwatcheable', 0.88789552864721077),\n",
       " (u'zzzzzzzzzzz', 0.88789552864721077),\n",
       " (u'black', 0.88765314869797118),\n",
       " (u'wants', 0.88589432299174931),\n",
       " (u'people', 0.88574994252976302),\n",
       " (u'blind', 0.88268868200426254),\n",
       " (u'bull', 0.8747057537798727),\n",
       " (u'zero', 0.87259502935954814),\n",
       " (u'despised', 0.87249381330473363),\n",
       " (u'disliked', 0.87249381330473363),\n",
       " (u'h8', 0.87249381330473363),\n",
       " (u'loathe', 0.87249381330473363),\n",
       " (u'fake', 0.86965650441773334),\n",
       " (u'despise', 0.86925455858615019),\n",
       " (u'horrid', 0.86925455858615019),\n",
       " (u'terrbile', 0.86925455858615019),\n",
       " (u'ham', 0.86299680368142262),\n",
       " (u'smells', 0.86288025059308537),\n",
       " (u'primitive', 0.86184402674513028),\n",
       " (u'substance', 0.86044620332252764),\n",
       " (u'dribble', 0.85825830030252492),\n",
       " (u'neverending', 0.8574776377471115),\n",
       " (u'turkey', 0.85561874522692027),\n",
       " (u'ado', 0.85236839625042216),\n",
       " (u'dishonest', 0.8488403953948267),\n",
       " (u'stupidest', 0.83999274810901625),\n",
       " (u'imbecilic', 0.83643762073904415),\n",
       " (u'blunderful', 0.83352567927832122),\n",
       " (u'uncredible', 0.83205389918340134),\n",
       " (u'common', 0.828746480201073),\n",
       " (u'pill', 0.82723523312907865),\n",
       " (u'bummer', 0.82494010726948896),\n",
       " (u'hypepotamus', 0.82362388510880347),\n",
       " (u'schmaltzy', 0.82217649428674833),\n",
       " (u'pillow', 0.81999879202069348),\n",
       " (u'unloaded', 0.81871806359476229),\n",
       " (u'hyped', 0.81574047216457268),\n",
       " (u'vintage', 0.81329915830447586),\n",
       " (u'popularity', 0.81310864006161254),\n",
       " (u'betrayal', 0.81163177467315439),\n",
       " (u'incomprehension', 0.81041939855296352),\n",
       " (u'marketing', 0.8091505162789483),\n",
       " (u'hideous', 0.80261771211929911),\n",
       " (u'articulation', 0.80072716153288459),\n",
       " (u'failure', 0.80033345617513996),\n",
       " (u'smokin', 0.79957746747228053),\n",
       " (u'dated', 0.79932318431724092),\n",
       " (u'fascist', 0.79831459774214619),\n",
       " (u'dude', 0.79817610478774315),\n",
       " (u'horrendous', 0.79771128028100069),\n",
       " (u'boooooooooring', 0.79617880746030778),\n",
       " (u'intelligence', 0.79541635716036607),\n",
       " (u'headache', 0.79456005538342345),\n",
       " (u'ehhhhh', 0.79444064671280568),\n",
       " (u'unbearable', 0.79309240494977007),\n",
       " (u'w0rst', 0.78912655262468334),\n",
       " (u'hey', 0.78580683379970462),\n",
       " (u'slick', 0.78558981423243224),\n",
       " (u'immoral', 0.78518290740637597),\n",
       " (u'holocaust', 0.78274192972433532),\n",
       " (u'joe', 0.78207129701524081),\n",
       " (u'stopped', 0.78165109854698145),\n",
       " (u'yucky', 0.78116985872911793),\n",
       " (u'schlock', 0.77878356503175883),\n",
       " (u'prevent', 0.77654973019794526),\n",
       " (u'break', 0.77300838147372153),\n",
       " (u'crass', 0.77258154617489527),\n",
       " (u'ok', 0.77091821123255011),\n",
       " (u'hype', 0.77072530413649731),\n",
       " (u'challenging', 0.77012368937764686),\n",
       " (u'cup', 0.76969830977777753),\n",
       " (u'propaganda', 0.76958580814115252),\n",
       " (u'fooled', 0.7675070098734369),\n",
       " (u'jokes', 0.76658761730225788),\n",
       " (u'morons', 0.76289372887293239),\n",
       " (u'product', 0.76253799119569221),\n",
       " (u'deviations', 0.76186948102504626),\n",
       " (u'excuse', 0.76115384136596398),\n",
       " (u'detritius', 0.76033216231535616),\n",
       " (u'vomit', 0.75908054185765261),\n",
       " (u'society', 0.75754635091047307),\n",
       " (u'chocolates', 0.75727545097232629),\n",
       " (u'unpopular', 0.75274129041771443),\n",
       " (u'snobbish', 0.75268782358983932),\n",
       " (u'willis', 0.75210890664446939),\n",
       " (u'horse', 0.75024466345736374),\n",
       " (u'fans', 0.74927584949327464),\n",
       " (u'hoax', 0.74907235424180529),\n",
       " (u'shallow', 0.74737376523145371),\n",
       " (u'disaster', 0.74704276974555883),\n",
       " (u'repulsive', 0.74691881808081961),\n",
       " (u'revulsion', 0.74617267755178551),\n",
       " (u'gratuitous', 0.74542229240889324),\n",
       " (u'ra', 0.74491912549048933),\n",
       " (u'doesn', 0.74476110856621547),\n",
       " (u'ended', 0.74413228741797044),\n",
       " (u'horribly', 0.74348571473492975),\n",
       " (u'hopeless', 0.7418274410273773),\n",
       " (u'ranking', 0.74095079104714512),\n",
       " (u'psychopathology', 0.73979965671224912),\n",
       " (u'potemkin', 0.73920229579750529),\n",
       " (u'ageing', 0.73906827398091957),\n",
       " (u'game', 0.73570278305321946),\n",
       " (u'biggest', 0.73297571335419553),\n",
       " (u'representation', 0.7316582463702177),\n",
       " (u'bag', 0.73147156587298379),\n",
       " (u'trashy', 0.73057051835387532),\n",
       " (u'demonic', 0.72864459177956642),\n",
       " (u'strongest', 0.72706442325352583),\n",
       " (u'payed', 0.72587354053633746),\n",
       " (u'uber', 0.72481647713031072),\n",
       " (u'unfathomably', 0.72481647713031072),\n",
       " (u'glad', 0.72440916681173262),\n",
       " (u'hams', 0.72354220588739304),\n",
       " (u'minds', 0.71623194957050773),\n",
       " (u'minutes', 0.71553726500495052),\n",
       " (u'spielberg', 0.71229456614330244),\n",
       " (u'obsolete', 0.71131504292214087),\n",
       " (u'regret', 0.71043404305273561),\n",
       " (u'head', 0.71002065136394632),\n",
       " (u'filmaking', 0.70961573901814345),\n",
       " (u'rating', 0.70813189978019908),\n",
       " (u'solipsism', 0.70787401989634802),\n",
       " (u'delivery', 0.7067892679434824),\n",
       " (u'mcdonald', 0.70643898773817937),\n",
       " (u'slightest', 0.70331506391253151),\n",
       " (u'hypocritical', 0.70315751658456582),\n",
       " (u'jaws', 0.70273539408665731),\n",
       " (u'budget', 0.7011817732378276),\n",
       " (u'totem', 0.69934037849694464),\n",
       " (u'sense', 0.69927542376508589),\n",
       " (u'highly', 0.69785152718316135),\n",
       " (u'fetched', 0.69699420507893428),\n",
       " (u'makes', 0.69508706246040886),\n",
       " (u'botched', 0.69497887257460356),\n",
       " (u'banal', 0.69309338481528882),\n",
       " (u'puerile', 0.69202638976777864),\n",
       " (u'history', 0.6902828858261133),\n",
       " (u'popular', 0.68731551871251462),\n",
       " (u'godless', 0.68600571845122948),\n",
       " (u'plagiarism', 0.68109632418433386),\n",
       " (u'obvious', 0.67937993375255468),\n",
       " (u'aragorn', 0.67847722241879183),\n",
       " (u'embarrassingly', 0.67658698843016574),\n",
       " (u'memorably', 0.67658698843016574),\n",
       " (u'logan', 0.67264452905840533),\n",
       " (u'inhaler', 0.67178970547162564),\n",
       " (u'misused', 0.67115482906800261),\n",
       " (u'nope', 0.66829612459900289),\n",
       " (u'nazis', 0.66772333197079292),\n",
       " (u'couple', 0.66732949016615906),\n",
       " (u'manipulative', 0.6669605765983041),\n",
       " (u'wish', 0.66625342076217298),\n",
       " (u'vileness', 0.66453927129124291),\n",
       " (u'overlong', 0.66440330474745213),\n",
       " (u'nasty', 0.66435818727126628),\n",
       " (u'knigh', 0.66431071470412006),\n",
       " (u'cacca', 0.66385475835110852),\n",
       " (u'player', 0.66175380604571932),\n",
       " (u'iq', 0.66138146907066542),\n",
       " (u'pointlessness', 0.66118294157974755),\n",
       " (u'upbeat', 0.65939851428129603),\n",
       " (u'tom', 0.65939815643007738),\n",
       " (u'brained', 0.65929588209211165),\n",
       " (u'dirt', 0.65667011351136872),\n",
       " (u'guess', 0.65612326767888762),\n",
       " (u'unforgivable', 0.65511919427118248),\n",
       " (u'illogical', 0.65496891648113764),\n",
       " (u'wouldn', 0.65322033841097293),\n",
       " (u'kelloggs', 0.65066794733315081),\n",
       " (u'premature', 0.65058599948314555),\n",
       " (u'loses', 0.64989128252143191),\n",
       " (u'slapstick', 0.64606931172246107),\n",
       " (u'uuh', 0.64455620356932541),\n",
       " (u'predictable', 0.64448445387996245),\n",
       " (u'snark', 0.6423015218248499),\n",
       " (u'pilgrim', 0.64061861806904319),\n",
       " (u'reed', 0.64031732026576893),\n",
       " (u'slap', 0.63979360114669237),\n",
       " (u'sporadically', 0.63721652711099441),\n",
       " (u'lousy', 0.63602403701032872),\n",
       " (u'spoil', 0.63467215343776617),\n",
       " (u'ha', 0.63412047106414604),\n",
       " (u'create', 0.63326532082438025),\n",
       " (u'hours', 0.6330273567947744),\n",
       " (u'bleech', 0.63287243901852142),\n",
       " (u'suave', 0.63197057053727013),\n",
       " (u'shaky', 0.63083070013637521),\n",
       " (u'weakest', 0.63009033216258403),\n",
       " (u'woke', 0.62919589693957279),\n",
       " (u'cactus', 0.62783694929165734),\n",
       " (u'cak', 0.62783694929165734),\n",
       " (u'masquerade', 0.62783694929165734),\n",
       " (u'rama', 0.62783694929165734),\n",
       " (u'raped', 0.62783694929165734),\n",
       " (u'sgi', 0.62783694929165734),\n",
       " (u'bland', 0.62746157874067288),\n",
       " (u'pants', 0.62422493724316519),\n",
       " (u'sledgehammer', 0.6240446838586341),\n",
       " (u'preaching', 0.62260525815051027),\n",
       " (u'huge', 0.62220659871180339),\n",
       " (u'cartoonish', 0.62098422863345548),\n",
       " (u'shorter', 0.62054014497785526),\n",
       " (u'fancied', 0.61968656402332523),\n",
       " (u'overdrawn', 0.61922572586123992),\n",
       " (u'inconsistent', 0.6180511531777616),\n",
       " (u'dreaming', 0.61797298312127469),\n",
       " (u'filler', 0.61720684670735548),\n",
       " (u'unintelligent', 0.61595897533820498),\n",
       " (u'piece', 0.61546846940667732),\n",
       " (u'adequate', 0.61518374497697725),\n",
       " (u'sickening', 0.61323880520839047),\n",
       " (u'meh', 0.61297283715027417),\n",
       " (u'winded', 0.61252621720825673),\n",
       " (u'basic', 0.61097426162917245),\n",
       " (u'males', 0.61025571129656486),\n",
       " (u'gore', 0.61015187932030124),\n",
       " (u'incomprehensible', 0.60808861571503037),\n",
       " (u'significance', 0.60785091382835277),\n",
       " (u'kills', 0.60769634736912048),\n",
       " (u'thumbs', 0.60756691924686312),\n",
       " (u'emperors', 0.6043300619240668),\n",
       " (u'sinister', 0.60346334166092375),\n",
       " (u'ratings', 0.6024108416202989),\n",
       " (u'reward', 0.60229715147867258),\n",
       " (u'friggin', 0.60178530482311532),\n",
       " (u'sugar', 0.60172451167449115),\n",
       " (u'rex', 0.60140017757899999),\n",
       " (u'tired', 0.59806803206195758),\n",
       " (u'mama', 0.59760716778306411),\n",
       " (u'antichrist', 0.59751893766572839),\n",
       " (u'cylinder', 0.59751893766572839),\n",
       " (u'crude', 0.59716678917002863),\n",
       " (u'unwatchable', 0.59583592002156116),\n",
       " (u'dullard', 0.59566079277848727),\n",
       " (u'lotr', 0.59473607567869524),\n",
       " (u'dump', 0.59466133166124324),\n",
       " (u'fostering', 0.59453545683945475),\n",
       " (u'afraid', 0.59444135523393582),\n",
       " (u'erm', 0.59396758963241225),\n",
       " (u'illuminated', 0.59270360766758035),\n",
       " (u'wast', 0.59235071132253569),\n",
       " (u'funniest', 0.59046456431871508),\n",
       " (u'stinging', 0.58949101213660215),\n",
       " (u'endure', 0.58937116120146471),\n",
       " (u'excessively', 0.58832250578079248),\n",
       " (u'insheeption', 0.58708288437640022),\n",
       " (u'loser', 0.58694916945274811),\n",
       " (u'sadly', 0.58692601632003227),\n",
       " (u'removed', 0.58609685865681904),\n",
       " (u'wake', 0.58555223778975041),\n",
       " (u'horses', 0.58440878670158636),\n",
       " (u'overdone', 0.58429365721386783),\n",
       " (u'clowns', 0.58427874942867386),\n",
       " (u'cowards', 0.58427874942867386),\n",
       " (u'version', 0.58280704157545782),\n",
       " (u'celebration', 0.58244128129399753),\n",
       " (u'silence', 0.58092735672703621),\n",
       " (u'dance', 0.58060534910921524),\n",
       " (u'egineering', 0.58029246969290438),\n",
       " (u'witness', 0.58027798627289928),\n",
       " (u'aftermath', 0.58012650894065532),\n",
       " (u'admired', 0.57831557456249238),\n",
       " (u'sentimental', 0.57762313232068541),\n",
       " (u'forced', 0.57719403698955241),\n",
       " (u'spoilerish', 0.57691344170902659),\n",
       " (u'pos', 0.57653410054358778),\n",
       " (u'fit', 0.57643832877615153),\n",
       " (u'waaaay', 0.57566464372767678),\n",
       " (u'accounting', 0.57565924162898796),\n",
       " (u'twilight', 0.5755529244686638),\n",
       " (u'dud', 0.57427186178687206),\n",
       " (u'droll', 0.57420340007352688),\n",
       " (u'feminism', 0.57407589967742823),\n",
       " (u'glamorises', 0.57390720292837383),\n",
       " (u'properly', 0.57273802067784663),\n",
       " (u'1989', 0.57271491920888662),\n",
       " (u'ugliest', 0.57249948904949055),\n",
       " (u'ambitious', 0.57184296853874739),\n",
       " (u'weather', 0.571517441384085),\n",
       " (u'defects', 0.57021253910446312),\n",
       " (u'unreliable', 0.56987464775787144),\n",
       " (u'directer', 0.56908284005872778),\n",
       " (u'vote', 0.56905888940874605),\n",
       " (u'credibility', 0.56896365010064565),\n",
       " (u'cartoon', 0.56865268298193683),\n",
       " (u'research', 0.56850667681732348),\n",
       " (u'exemplifies', 0.5685014920184418),\n",
       " (u'bullshit', 0.56792200019343231),\n",
       " (u'atempt', 0.56684335224168259),\n",
       " (u'ordinary', 0.56671056904608674),\n",
       " (u'sleeping', 0.56584331071067651),\n",
       " (u'kiddie', 0.56531724919123794),\n",
       " (u'kubrick', 0.56493200669631827),\n",
       " (u'tell', 0.56381361537736918),\n",
       " (u'juno', 0.56381160587426127),\n",
       " (u'mordor', 0.563431864295181),\n",
       " (u'unmitigated', 0.56321102215569008),\n",
       " (u'cost', 0.56177326386346704),\n",
       " (u'random', 0.56037543853559602),\n",
       " (u'nastiness', 0.56016518263903414),\n",
       " (u'vapid', 0.55832865916275076),\n",
       " (u'frown', 0.55706558180537435),\n",
       " (u'columbine', 0.55669105407103192),\n",
       " (u'blight', 0.55654173303101528),\n",
       " (u'wasting', 0.5559784774272174),\n",
       " (u'dreamy', 0.55494457058692892),\n",
       " (u'aka', 0.55493806393631517),\n",
       " (u'blanket', 0.55468124285333209),\n",
       " (u'disoriented', 0.5537702148783139),\n",
       " (u'brimming', 0.55284214597479164),\n",
       " (u'convenience', 0.55284214597479164),\n",
       " (u'laws', 0.55221857965514665),\n",
       " (u'claiming', 0.55210204964359888),\n",
       " (u'angry', 0.55205493971158115),\n",
       " (u'debacle', 0.55192511144859213),\n",
       " (u'snore', 0.55166451868311217),\n",
       " (u'corn', 0.55153173630995778),\n",
       " (u'boogaloo', 0.55067263056599758),\n",
       " (u'electric', 0.55067263056599758),\n",
       " (u'exceptionally', 0.54876942702529252),\n",
       " (u'soo', 0.54815786301202807),\n",
       " (u'numbing', 0.54664810133923192),\n",
       " (u'diaries', 0.54470557493149696),\n",
       " (u'considered', 0.54453896451090344),\n",
       " (u'bait', 0.54444600742021465),\n",
       " (u'switch', 0.54444600742021465),\n",
       " (u'max', 0.54412945063873486),\n",
       " (u'pose', 0.54365561426530318),\n",
       " (u'iexpected', 0.54212094360014862),\n",
       " (u'crappy', 0.54133189944567817),\n",
       " (u'hodge', 0.54012415626397736),\n",
       " (u'podge', 0.54012415626397736),\n",
       " (u'outer', 0.53657953436768313),\n",
       " (u'channel', 0.53657917713708148),\n",
       " (u'inflated', 0.53650350787074774),\n",
       " (u'ludicrously', 0.53650350787074774),\n",
       " (u'site', 0.53638056747707152),\n",
       " (u'methodical', 0.5363014725201245),\n",
       " (u'139', 0.53609608069134496),\n",
       " (u'lost', 0.53556404556594084),\n",
       " (u'face', 0.53545673335093857),\n",
       " (u'behave', 0.53524312763936899),\n",
       " (u'batcave', 0.53500671182341153),\n",
       " (u'hammy', 0.53317039324642157),\n",
       " (u'idea', 0.53311816018233449),\n",
       " (u'coal', 0.53277837375003634),\n",
       " (u'solution', 0.53277250131224185),\n",
       " (u'redeeming', 0.53241910523048186),\n",
       " (u'bombs', 0.53216237177024228),\n",
       " (u'spawned', 0.53099431539228881),\n",
       " (u'clue', 0.53012418724736643),\n",
       " (u'eject', 0.52962512458440103),\n",
       " (u'tries', 0.52957204616259346),\n",
       " (u'allot', 0.52948209245215172),\n",
       " (u'200', 0.52904789082927495),\n",
       " (u'edit', 0.52813760043201707),\n",
       " (u'jump', 0.52796551106667267),\n",
       " (u'hating', 0.52779373930065787),\n",
       " (u'dorks', 0.52747318801595444),\n",
       " (u'tarkovsky', 0.5274199337479808),\n",
       " (u'overated', 0.52734480512216186),\n",
       " (u'scifi', 0.52699895634609717),\n",
       " (u'gangrene', 0.5253979728307171),\n",
       " (u'views', 0.52508478193968289),\n",
       " (u'thankfully', 0.52481097458477521),\n",
       " (u'fairy', 0.52465385141813148),\n",
       " (u'implausible', 0.52436287123905923),\n",
       " (u'hearts', 0.52434736195733467),\n",
       " (u'sandwich', 0.52358852203785322),\n",
       " (u'extremely', 0.52350526999152958),\n",
       " (u'undeservingly', 0.5233547752022143),\n",
       " (u'votes', 0.52266439640173568),\n",
       " (u'novelist', 0.52115454599133559),\n",
       " (u'fuzz', 0.52067911567841774),\n",
       " (u'editing', 0.52063116625981365),\n",
       " (u'lower', 0.51942549474584909),\n",
       " (u'edgelord', 0.51938467136456656),\n",
       " (u'lsd', 0.51924200668584852),\n",
       " (u'baseless', 0.51846038766129499),\n",
       " (u'damn', 0.51816730263039301),\n",
       " (u'mediocrity', 0.51733163292466045),\n",
       " (u'voted', 0.51691780065267279),\n",
       " (u'pedantic', 0.51644767265582681),\n",
       " (u'sterile', 0.51644767265582681),\n",
       " (u'psudo', 0.51616049825840515),\n",
       " (u'tried', 0.51598383168549611),\n",
       " (u'spirit', 0.51553178694197022),\n",
       " (u'fanboy', 0.51443364395316393),\n",
       " (u'offend', 0.51437275531619131),\n",
       " (u'weed', 0.51367242582607875),\n",
       " (u'truth', 0.51289591075161034),\n",
       " (u'joys', 0.51262672247673235),\n",
       " (u'masochism', 0.51262672247673235),\n",
       " (u'sado', 0.51262672247673235),\n",
       " (u'shamefully', 0.51261359985857657),\n",
       " (u'sensation', 0.51139521137489763),\n",
       " (u'cracked', 0.51126753464182717),\n",
       " (u'underrate', 0.51107015632210129),\n",
       " (u'swallow', 0.51050846911771086),\n",
       " (u'intellectuals', 0.51048321126469143),\n",
       " (u'mean', 0.51034670006039617),\n",
       " (u'stretched', 0.51011637552585831),\n",
       " (u'prequels', 0.50970669465776663),\n",
       " (u'falters', 0.50948440693030406),\n",
       " (u'fundamentally', 0.50877691498738031),\n",
       " (u'unadulterated', 0.50654921750220461),\n",
       " (u'schmoe', 0.5057125238255139),\n",
       " (u'solaris', 0.50493030924615445),\n",
       " (u'candidate', 0.50471183002571574),\n",
       " (u'moves', 0.5045785288584903),\n",
       " (u'director', 0.50408364341324119),\n",
       " (u'clich\\xe9', 0.50386935284936474),\n",
       " (u'bridge', 0.50319314179706442),\n",
       " (u'conscious', 0.50298089938917701),\n",
       " (u'435', 0.50260552994464147),\n",
       " (u'fee', 0.50045975590098746),\n",
       " (u'regurgitated', 0.49850625603428028),\n",
       " (u'sopranos', 0.49845105947128371),\n",
       " (u'overbloated', 0.4980162216537074),\n",
       " (u'humanitarianism', 0.49658696220793697),\n",
       " (u'trifling', 0.49624348239959465),\n",
       " (u'madness', 0.49610118814386922),\n",
       " (u'begin', 0.49599223660021624),\n",
       " (u'anticlimactic', 0.49594430889823932),\n",
       " (u'soulless', 0.49594430889823932),\n",
       " (u'parody', 0.49512306577880494),\n",
       " (u'brits', 0.4947381672466894),\n",
       " (u'schamltz', 0.4947381672466894),\n",
       " (u'71', 0.49141392521757665),\n",
       " (u'140', 0.49075990229707278),\n",
       " (u'previous', 0.49055096168569612),\n",
       " (u'bet', 0.48939174726691975),\n",
       " (u'bush', 0.48886903009530147),\n",
       " (u'idiot', 0.48871422695830807),\n",
       " (u'massive', 0.48822545010501928),\n",
       " (u'unnoticed', 0.48802423835740855),\n",
       " (u'passion', 0.48641054521607224),\n",
       " (u'modernist', 0.48579265594474019),\n",
       " (u'britney', 0.48576985088673547),\n",
       " (u'spears', 0.48576985088673547),\n",
       " (u'insidious', 0.48471870131462147),\n",
       " (u'cares', 0.48426085961781851),\n",
       " (u'obscenity', 0.48402401143684454),\n",
       " (u'tt', 0.48402401143684454),\n",
       " (u'remade', 0.48377608949263395),\n",
       " (u'seriously', 0.48340704550261804),\n",
       " (u'vastly', 0.48281061236968237),\n",
       " (u'thinks', 0.48238657839627763),\n",
       " (u'spending', 0.48208515711460337),\n",
       " (u'following', 0.48189054897230421),\n",
       " (u'debut', 0.48187600223971044),\n",
       " (u'fantastically', 0.48151820828831926),\n",
       " (u'bread', 0.48037465466367468),\n",
       " (u'ughh', 0.47979631979327558),\n",
       " (u'laborious', 0.4797573401242185),\n",
       " (u'guilt', 0.47954817406436662),\n",
       " (u'passes', 0.47951904535274303),\n",
       " (u'slow', 0.47861948059630677),\n",
       " (u'boredum', 0.4780477132478127),\n",
       " (u'dare', 0.47753174201523457),\n",
       " (u'groundbreaking', 0.47681981853043715),\n",
       " (u'promised', 0.47622072327629517),\n",
       " (u'americans', 0.47598352950658673),\n",
       " (u'dazzle', 0.47580477045283631),\n",
       " (u'razzle', 0.47580477045283631),\n",
       " (u'dead', 0.47579964311524825),\n",
       " (u'fuel', 0.47546791687267892),\n",
       " (u'control', 0.47521828844242703),\n",
       " (u'badfather', 0.47478213832058103),\n",
       " (u'fives', 0.47478213832058103),\n",
       " (u'turner', 0.47474119722710023),\n",
       " (u'nonsense', 0.4747305616848202),\n",
       " (u'buffs', 0.47470402478487445),\n",
       " (u'denominator', 0.47461280737908246),\n",
       " (u'lowest', 0.47461280737908246),\n",
       " (u'ness', 0.47415995881802658),\n",
       " (u'project', 0.47381210838145582),\n",
       " (u'lame', 0.47325959935162426),\n",
       " (u'g_ddamns', 0.47317912595020123),\n",
       " (u'inured', 0.47317912595020123),\n",
       " (u'hermit', 0.47275388972404686),\n",
       " (u'secluded', 0.47275388972404686),\n",
       " (u'shameful', 0.47250631178469921),\n",
       " (u'burton', 0.47199517028808763),\n",
       " (u'stretch', 0.47157607632079135),\n",
       " (u'rejection', 0.47129830296726605),\n",
       " (u'meant', 0.47088368465526476),\n",
       " (u'letter', 0.47024896830570678),\n",
       " (u'freakin', 0.47013470037847704),\n",
       " (u'irritating', 0.46892328498789049),\n",
       " (u'fassbinder', 0.46858246987978291),\n",
       " (u'overladen', 0.46858246987978291),\n",
       " (u'overhype', 0.4685719880953767),\n",
       " (u'choices', 0.46813792039093993),\n",
       " (u'extent', 0.46777627482309819),\n",
       " (u'service', 0.46664620411596536),\n",
       " (u'rotk', 0.46581124393804924),\n",
       " (u'killers', 0.4639074137497074),\n",
       " (u'trojan', 0.46374736730657112),\n",
       " (u'booooo', 0.4628720544467213),\n",
       " (u'stank', 0.4628720544467213),\n",
       " (u'second', 0.46273875284769339),\n",
       " (u'sleep', 0.46212419017617079),\n",
       " (u'pull', 0.46209262696132769),\n",
       " (u'support', 0.46148135820405317),\n",
       " (u'gerne', 0.46109285144829393),\n",
       " (u'dizzying', 0.4610529126023627),\n",
       " (u'swordfish', 0.46035888299889915),\n",
       " (u'decision', 0.46005818494231987),\n",
       " (u'galaxy', 0.45979767515257902),\n",
       " (u'unoriginal', 0.45951327454275748),\n",
       " (u'stock', 0.45677933002462234),\n",
       " (u'whats', 0.45671753498884027),\n",
       " (u'pls', 0.45655829898561484),\n",
       " (u'publish', 0.45655829898561484),\n",
       " (u'loves', 0.45654246385683611),\n",
       " (u'virus', 0.45564181783015151),\n",
       " (u'entire', 0.45557671403261552),\n",
       " (u'america', 0.45447091904401921),\n",
       " (u'gods', 0.45330894947432343),\n",
       " (u'hateful', 0.4531289234531532),\n",
       " (u'civilized', 0.4528574761139077),\n",
       " (u'preaches', 0.4528574761139077),\n",
       " (u'thoroughly', 0.45251023140014535),\n",
       " (u'unanswered', 0.45238763479011901),\n",
       " (u'linger', 0.45208704634830182),\n",
       " (u'wrighting', 0.45208704634830182),\n",
       " (u'allert', 0.45134973584953597),\n",
       " (u'frat', 0.45081138687506095),\n",
       " (u'counts', 0.45060270642117656),\n",
       " (u'intergalactic', 0.4498561616683559),\n",
       " (u'patronising', 0.4498561616683559),\n",
       " (u'wretched', 0.44776588094127251),\n",
       " (u'abductions', 0.44754162046925167),\n",
       " (u'wasn', 0.44744154734305225),\n",
       " (u'butter', 0.44734293959684712),\n",
       " (u'amok', 0.44733725064011842),\n",
       " (u'runneth', 0.44733725064011842),\n",
       " (u'rpg', 0.44684670413612942),\n",
       " (u'horror', 0.44670446120720841),\n",
       " (u'aggression', 0.44639326321674028),\n",
       " (u'benes', 0.44489303163388838),\n",
       " (u'elaine', 0.44489303163388838),\n",
       " (u'disappointed', 0.44483572159475171),\n",
       " (u'brutality', 0.44367465494801739),\n",
       " (u'celebrates', 0.44367465494801739),\n",
       " (u'parodying', 0.44367465494801739),\n",
       " (u'supposedly', 0.44367465494801739),\n",
       " (u'conned', 0.44297883257987131),\n",
       " (u'turned', 0.4428989418470895),\n",
       " (u'default', 0.44267206168943529),\n",
       " (u'send', 0.44266630234853754),\n",
       " (u'hah', 0.44248682162386743),\n",
       " (u'spaceboy', 0.44248682162386743),\n",
       " (u'yee', 0.44248682162386743),\n",
       " (u'dimensional', 0.4414228318483322),\n",
       " (u'fx', 0.44106091836259137),\n",
       " (u'apex', 0.44088377363130093),\n",
       " (u'subtle', 0.44081611536109844),\n",
       " (u'unnecessarily', 0.43958379827574756),\n",
       " (u'disappears', 0.43902447497024688),\n",
       " (u'melting', 0.43891062782359047),\n",
       " (u'playstation', 0.43845786435991801),\n",
       " (u'lazy', 0.4383495886177779),\n",
       " (u'mom', 0.4381803307266432),\n",
       " (u'vicitimized', 0.43784476154955976),\n",
       " (u'45', 0.43780646469339318),\n",
       " (u'unprecedented', 0.4374925658624364),\n",
       " (u'deal', 0.43732903141380125),\n",
       " (u'smugness', 0.43705155863926598),\n",
       " (u'league', 0.43703093271393245),\n",
       " (u'adult', 0.43671665638642237),\n",
       " (u'throwing', 0.43635333892822181),\n",
       " (u'announcement', 0.43632398157650121),\n",
       " (u'actor', 0.43550325859760936),\n",
       " (u'happily', 0.43540210778064536),\n",
       " (u'rates', 0.43513656484147434),\n",
       " (u'overpraised', 0.43485943187197218),\n",
       " (u'depending', 0.43430631176458745),\n",
       " (u'actually', 0.4324167398646922),\n",
       " (u'fall', 0.43210487616669557),\n",
       " (u'lands', 0.43194440677404489),\n",
       " (u'uncharismatic', 0.43180064115385974),\n",
       " (u'pablum', 0.43156059288177417),\n",
       " (u'screenplay', 0.43153568643180379),\n",
       " (u'writing', 0.43144498713076823),\n",
       " (u'trek', 0.43105864588672371),\n",
       " (u'absurd', 0.43092381880098346),\n",
       " (u'crypto', 0.43036593291877218),\n",
       " (u'stripes', 0.43036593291877218),\n",
       " (u'useful', 0.42996793929959065),\n",
       " (u'hanks', 0.42966310231105198),\n",
       " (u'shockingly', 0.42874881260881259),\n",
       " (u'infantile', 0.4287321377038455),\n",
       " (u'gimmick', 0.42853257334591743),\n",
       " (u'tener', 0.42841996362106272),\n",
       " (u'merely', 0.42830617499488838),\n",
       " (u'sophisticated', 0.42795556271331037),\n",
       " (u'online', 0.4255111479890803),\n",
       " (u'shining', 0.42535448491782518),\n",
       " (u'kicked', 0.42410669219528213),\n",
       " (u'losing', 0.42349588706428803),\n",
       " (u'literal', 0.42331961778122978),\n",
       " (u'unimaginative', 0.42331961778122978),\n",
       " (u'select', 0.42323992814149008),\n",
       " (u'appetite', 0.42304379329146174),\n",
       " (u'symptom', 0.42304379329146174),\n",
       " (u'grocery', 0.42289333232271215),\n",
       " (u'korean', 0.42289333232271215),\n",
       " (u'north', 0.42289333232271215),\n",
       " (u'smelly', 0.42289333232271215),\n",
       " (u'prooves', 0.4228454801177694),\n",
       " (u'nought', 0.42278113104608012),\n",
       " (u'cats', 0.42213693266674851),\n",
       " (u'invasion', 0.42205416817641828),\n",
       " (u'bandwagon', 0.42155995603653407),\n",
       " (u'architect', 0.42010608681794642),\n",
       " (u'plastic', 0.42001211372256736),\n",
       " (u'belittled', 0.41897431104139776),\n",
       " (u'terrorists', 0.41897431104139776),\n",
       " (u'haters', 0.41847199052949985),\n",
       " (u'definatelly', 0.41844285821920207),\n",
       " (u'script', 0.41775050165585875),\n",
       " (u'claptrap', 0.41697695583583777),\n",
       " (u'pan', 0.41681072999520846),\n",
       " (u'thou', 0.41583899964154103),\n",
       " (u'weapon', 0.41565710599840716),\n",
       " (u'contrived', 0.41521872311785313),\n",
       " (u'patient', 0.41417248917093974),\n",
       " (u'omfg', 0.41357308576955776),\n",
       " (u'colosally', 0.41190287406024323),\n",
       " (u'ola', 0.41190287406024323),\n",
       " (u'1939', 0.41188154591988674),\n",
       " (u'edmond', 0.41188154591988674),\n",
       " (u'hamilton', 0.41188154591988674),\n",
       " (u'freaking', 0.41156111168592696),\n",
       " (u'television', 0.41143060735925546),\n",
       " (u'games', 0.41106778265658389),\n",
       " (u'dirk', 0.41053037122736369),\n",
       " (u'savers', 0.41053037122736369),\n",
       " (u'shytalker', 0.41053037122736369),\n",
       " (u'packaged', 0.41042814433586061),\n",
       " (u'signifying', 0.410228870039612),\n",
       " (u'poisonous', 0.41006572339731956),\n",
       " (u'estimated', 0.40968680746593178),\n",
       " (u'stunk', 0.40921017605872101),\n",
       " (u'maker', 0.40854890347951939),\n",
       " (u'drag', 0.40799286238832694),\n",
       " (u'hightech', 0.40752343268763264),\n",
       " (u'pies', 0.40752343268763264),\n",
       " (u'coudn', 0.40583579044754803),\n",
       " (u'tending', 0.40582656015810586),\n",
       " (u'carry', 0.40530807152455839),\n",
       " (u'endings', 0.40263709733988773),\n",
       " (u'exorcised', 0.40136477949062382),\n",
       " (u'theodin', 0.40136477949062382),\n",
       " (u'tokien', 0.40136477949062382),\n",
       " (u'criminally', 0.40133211768622346),\n",
       " (u'racist', 0.40133211768622346),\n",
       " (u'unfortunately', 0.40118519234715905),\n",
       " (u'godard', 0.40084078971184833),\n",
       " (u'batman', 0.39946512694909947),\n",
       " (u'100', 0.3978408042004799),\n",
       " (u'praised', 0.39753804482687299),\n",
       " (u'hipness', 0.39713364661324835),\n",
       " (u'convince', 0.39707237271741719),\n",
       " (u'sport', 0.39707237271741719),\n",
       " (u'hurtful', 0.39636882762473702),\n",
       " (u'putrid', 0.39636882762473702),\n",
       " (u'terror', 0.39625198835218334),\n",
       " (u'pal', 0.39576487561013735),\n",
       " (u'smoke', 0.39564437422493298),\n",
       " (u'filmmaker', 0.39562842471948056),\n",
       " (u'unrewarded', 0.39460884366075483),\n",
       " (u'plain', 0.39442091209636326),\n",
       " (u'monster', 0.39399520510956249),\n",
       " (u'atrociously', 0.39329334497605378),\n",
       " (u'passably', 0.39329334497605378),\n",
       " (u'wing', 0.39257214835567339),\n",
       " (u'monkey', 0.3917441640193835),\n",
       " (u'let', 0.39168837586258859),\n",
       " (u'epithet', 0.39067669266286759),\n",
       " (u'stinky', 0.39067669266286759),\n",
       " (u'upper', 0.39002887226242228),\n",
       " (u'mumble', 0.38941406554196151),\n",
       " (u'style', 0.38940794370416093),\n",
       " (u'met', 0.38908753283040232),\n",
       " (u'dog', 0.38785526532796272),\n",
       " (u'lucid', 0.38671504249733446),\n",
       " (u'supreme', 0.3856534915702407),\n",
       " (u'disturbed', 0.38497721441591398),\n",
       " (u'pulp', 0.3843617056865023),\n",
       " (u'elephant', 0.38282120513411605),\n",
       " (u'clauses', 0.3823693639582314),\n",
       " (u'relative', 0.3823693639582314),\n",
       " (u'explain', 0.38229640597885872),\n",
       " (u'conveying', 0.38207135202065901),\n",
       " (u'color', 0.3807690624769941),\n",
       " (u'cow', 0.38020771641944179),\n",
       " (u'shock', 0.38020683358119933),\n",
       " (u'contagious', 0.38000597533696578),\n",
       " (u'coated', 0.3793151045474929),\n",
       " (u'really', 0.37833712629719368),\n",
       " (u'downbeat', 0.37748770843349472),\n",
       " (u'inclusions', 0.37645076932143884),\n",
       " (u'ommissions', 0.37645076932143884),\n",
       " (u'talented', 0.3750405681442619),\n",
       " (u'takes', 0.37437555950477819),\n",
       " (u'retelling', 0.37307049251628971),\n",
       " (u'long', 0.37303608704880648),\n",
       " (u'soory', 0.37300573237559181),\n",
       " (u'fascism', 0.37217525856150641),\n",
       " (u'house', 0.3720122564868697),\n",
       " (u'sprawling', 0.37159896937205139),\n",
       " (u'strikes', 0.37055725571399695),\n",
       " (u'suit', 0.37022704559780112),\n",
       " (u'uninvolving', 0.37015949251193569),\n",
       " (u'250', 0.36837657687557157),\n",
       " (u'little', 0.3672844218654962),\n",
       " (u'introduce', 0.36691305170473137),\n",
       " (u'sleepy', 0.36595711385581797),\n",
       " (u'suits', 0.3653269439956835),\n",
       " (u'term', 0.36511099168504652),\n",
       " (u'historic', 0.36506709005756066),\n",
       " (u'lackluster', 0.36489571767893741),\n",
       " (u'conspiracy', 0.36414887865498746),\n",
       " (u'cover', 0.36363392665263899),\n",
       " (u'frankly', 0.3634294399660119),\n",
       " (u'fail', 0.36281213503730136),\n",
       " (u'typical', 0.36234273630605451),\n",
       " (u'farmboy', 0.36147866500341086),\n",
       " (u'mankind', 0.36106612860296078),\n",
       " (u'jimmy', 0.36030728789360222),\n",
       " (u'actress', 0.35848135214711196),\n",
       " (u'positive', 0.35825277132928246),\n",
       " (u'lightweight', 0.35701956482931296),\n",
       " (u'microsoft', 0.35662935942270169),\n",
       " (u'italians', 0.35539744511992011),\n",
       " (u'wanted', 0.3553686781228288),\n",
       " (u'write', 0.35476217816658168),\n",
       " (u'philosophical', 0.35466256417343489),\n",
       " (u'absolute', 0.35382488696118342),\n",
       " (u'forgettable', 0.35322718975318185),\n",
       " (u'millionaires', 0.3525351388626301),\n",
       " (u'log', 0.35224780459477489),\n",
       " (u'development', 0.34995116232704188),\n",
       " (u'eh', 0.34841487135321614),\n",
       " (u'concentrate', 0.34819912529586339),\n",
       " (u'moviegoers', 0.34819732821364985),\n",
       " (u'heaven', 0.34740465093601558),\n",
       " (u'challenge', 0.34729453183304182),\n",
       " (u'ones', 0.34707716521445525),\n",
       " (u'thumps', 0.34706706088481809),\n",
       " (u'recycled', 0.34652300438624145),\n",
       " (u'unconnected', 0.34640431683532158),\n",
       " (u'loads', 0.3458757294780605),\n",
       " (u'needless', 0.34516295471196839),\n",
       " (u'vulgar', 0.34493273821553877),\n",
       " (u'specific', 0.34432632779689276),\n",
       " (u'postmodern', 0.34422864525484331),\n",
       " (u'bloody', 0.3441701001065981),\n",
       " (u'lines', 0.34353412135321032),\n",
       " (u'rightly', 0.34310748987952133),\n",
       " (u'legolas', 0.34232403904482617),\n",
       " (u'wrapped', 0.34185465766022927),\n",
       " (u'hollow', 0.34159523388475532),\n",
       " (u'coating', 0.34079138889337324),\n",
       " (u'american', 0.34048215754113514),\n",
       " (u'testament', 0.34035246828387872),\n",
       " (u'eastwood', 0.33996268012368724),\n",
       " (u'gimme', 0.33983554434606517),\n",
       " (u'letting', 0.33943255272736367),\n",
       " (u'impressed', 0.33932778127158852),\n",
       " (u'insight', 0.33928526168609074),\n",
       " (u'stink', 0.33836967061861106),\n",
       " (u'stars', 0.33740858056762851),\n",
       " (u'nightmares', 0.33738795822993334),\n",
       " (u'refund', 0.33689718528203283),\n",
       " (u'requested', 0.33689718528203283),\n",
       " (u'alternate', 0.33678519241941285),\n",
       " (u'doesnt', 0.33630901199025848),\n",
       " (u'derivative', 0.33623121108403126),\n",
       " (u'plotted', 0.33546455695614269),\n",
       " (u'000', 0.33520690336048375),\n",
       " (u'mildly', 0.33487991995442301),\n",
       " (u'trinity', 0.33406102190500553),\n",
       " (u'read', 0.33355501626995804),\n",
       " (u'pacing', 0.3332452359722326),\n",
       " (u'phallic', 0.3321961285280684),\n",
       " (u'robots', 0.3321961285280684),\n",
       " (u'slugs', 0.3321961285280684),\n",
       " (u'letdown', 0.33213086531711838),\n",
       " (u'plenty', 0.33191313150904361),\n",
       " (u'passing', 0.33183266338192891),\n",
       " (u'talent', 0.33097576013899316),\n",
       " (u'allegory', 0.33093024076813676),\n",
       " (u'praise', 0.3308432501564223),\n",
       " (u'public', 0.33059395617532034),\n",
       " (u'saruman', 0.3300893681917213),\n",
       " (u'minute', 0.32995449931423498),\n",
       " (u'efforts', 0.32924317388157376),\n",
       " (u'message', 0.32810556503936333),\n",
       " (u'colorful', 0.32806708741706314),\n",
       " (u'excessive', 0.3256741798248321),\n",
       " (u'paprika', 0.3249439067066392),\n",
       " (u'mainstream', 0.32438117347576695),\n",
       " (u'intellectually', 0.32332397696076898),\n",
       " (u'returns', 0.3231645173934381),\n",
       " (u'hurts', 0.32278471538392062),\n",
       " (u'make', 0.32239754511310126),\n",
       " (u'absence', 0.32214072984269276),\n",
       " (u'clerk', 0.3215338988895331),\n",
       " (u'store', 0.3215338988895331),\n",
       " (u'hell', 0.32092401557419376),\n",
       " (u'utterly', 0.32064280917626442),\n",
       " (u'english', 0.32062028561890199),\n",
       " (u'directing', 0.32058237495108094),\n",
       " (u'mistake', 0.32055276366694918),\n",
       " (u'realise', 0.32054960313606884),\n",
       " (u'voice', 0.31979150657636807),\n",
       " (u'sink', 0.31909215885679282),\n",
       " ...]"
      ]
     },
     "execution_count": 44,
     "metadata": {},
     "output_type": "execute_result"
    }
   ],
   "source": [
    "sorted(zipped, key = lambda t: t[1], reverse=True)"
   ]
  },
  {
   "cell_type": "code",
   "execution_count": null,
   "metadata": {
    "collapsed": true
   },
   "outputs": [],
   "source": []
  }
 ],
 "metadata": {
  "kernelspec": {
   "display_name": "Python [Root]",
   "language": "python",
   "name": "Python [Root]"
  },
  "language_info": {
   "codemirror_mode": {
    "name": "ipython",
    "version": 2
   },
   "file_extension": ".py",
   "mimetype": "text/x-python",
   "name": "python",
   "nbconvert_exporter": "python",
   "pygments_lexer": "ipython2",
   "version": "2.7.12"
  }
 },
 "nbformat": 4,
 "nbformat_minor": 0
}
